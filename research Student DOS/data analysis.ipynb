{
 "cells": [
  {
   "cell_type": "code",
   "execution_count": 1,
   "metadata": {},
   "outputs": [],
   "source": [
    "import numpy as np\n",
    "import pandas as pd \n",
    "import matplotlib.pyplot as plt\n",
    "import seaborn as sns\n",
    "%matplotlib inline"
   ]
  },
  {
   "cell_type": "code",
   "execution_count": 2,
   "metadata": {},
   "outputs": [],
   "source": [
    "df=pd.read_csv('sdosfpadded.csv')"
   ]
  },
  {
   "cell_type": "code",
   "execution_count": 3,
   "metadata": {},
   "outputs": [
    {
     "data": {
      "text/plain": [
       "(251, 28)"
      ]
     },
     "execution_count": 3,
     "metadata": {},
     "output_type": "execute_result"
    }
   ],
   "source": [
    "df.shape"
   ]
  },
  {
   "cell_type": "code",
   "execution_count": 4,
   "metadata": {},
   "outputs": [
    {
     "data": {
      "text/html": [
       "<div>\n",
       "<style scoped>\n",
       "    .dataframe tbody tr th:only-of-type {\n",
       "        vertical-align: middle;\n",
       "    }\n",
       "\n",
       "    .dataframe tbody tr th {\n",
       "        vertical-align: top;\n",
       "    }\n",
       "\n",
       "    .dataframe thead th {\n",
       "        text-align: right;\n",
       "    }\n",
       "</style>\n",
       "<table border=\"1\" class=\"dataframe\">\n",
       "  <thead>\n",
       "    <tr style=\"text-align: right;\">\n",
       "      <th></th>\n",
       "      <th>Age</th>\n",
       "      <th>Gender</th>\n",
       "      <th>Home Language</th>\n",
       "      <th>Father Occupation</th>\n",
       "      <th>Mother Occupation</th>\n",
       "      <th>Number Of Siblings</th>\n",
       "      <th>Father Education</th>\n",
       "      <th>Mother Education</th>\n",
       "      <th>School Distance</th>\n",
       "      <th>Means to school</th>\n",
       "      <th>...</th>\n",
       "      <th>Math</th>\n",
       "      <th>Science</th>\n",
       "      <th>History</th>\n",
       "      <th>Social Science</th>\n",
       "      <th>Religious Study</th>\n",
       "      <th>Family Annual income</th>\n",
       "      <th>Extra Tution</th>\n",
       "      <th>Hours of study per day</th>\n",
       "      <th>Class Label</th>\n",
       "      <th>GPA</th>\n",
       "    </tr>\n",
       "  </thead>\n",
       "  <tbody>\n",
       "    <tr>\n",
       "      <th>0</th>\n",
       "      <td>13-15 years</td>\n",
       "      <td>female</td>\n",
       "      <td>Native Language</td>\n",
       "      <td>Immigrant</td>\n",
       "      <td>Home maker</td>\n",
       "      <td>Four or more</td>\n",
       "      <td>secondary</td>\n",
       "      <td>secondary</td>\n",
       "      <td>1-2 km</td>\n",
       "      <td>Rickshaw</td>\n",
       "      <td>...</td>\n",
       "      <td>35</td>\n",
       "      <td>42</td>\n",
       "      <td>35</td>\n",
       "      <td>25</td>\n",
       "      <td>29</td>\n",
       "      <td>300000</td>\n",
       "      <td>Yes</td>\n",
       "      <td>1 hours</td>\n",
       "      <td>Yes</td>\n",
       "      <td>2.01</td>\n",
       "    </tr>\n",
       "    <tr>\n",
       "      <th>1</th>\n",
       "      <td>10-13 years</td>\n",
       "      <td>male</td>\n",
       "      <td>Bangla</td>\n",
       "      <td>Freelancer</td>\n",
       "      <td>Home maker</td>\n",
       "      <td>Three Children</td>\n",
       "      <td>Honors/ Equivalent</td>\n",
       "      <td>secondary</td>\n",
       "      <td>0.5-1 km</td>\n",
       "      <td>Bicycle/motorbike</td>\n",
       "      <td>...</td>\n",
       "      <td>47</td>\n",
       "      <td>50</td>\n",
       "      <td>54</td>\n",
       "      <td>56</td>\n",
       "      <td>91</td>\n",
       "      <td>850000</td>\n",
       "      <td>Yes</td>\n",
       "      <td>3 hours</td>\n",
       "      <td>No</td>\n",
       "      <td>3.04</td>\n",
       "    </tr>\n",
       "    <tr>\n",
       "      <th>2</th>\n",
       "      <td>13-15 years</td>\n",
       "      <td>female</td>\n",
       "      <td>Native Language</td>\n",
       "      <td>Private sector</td>\n",
       "      <td>Home maker</td>\n",
       "      <td>Three Children</td>\n",
       "      <td>primary</td>\n",
       "      <td>secondary</td>\n",
       "      <td>&gt;7 km</td>\n",
       "      <td>Rickshaw</td>\n",
       "      <td>...</td>\n",
       "      <td>81</td>\n",
       "      <td>90</td>\n",
       "      <td>43</td>\n",
       "      <td>81</td>\n",
       "      <td>31</td>\n",
       "      <td>100000</td>\n",
       "      <td>No</td>\n",
       "      <td>3 hours</td>\n",
       "      <td>No</td>\n",
       "      <td>3.08</td>\n",
       "    </tr>\n",
       "    <tr>\n",
       "      <th>3</th>\n",
       "      <td>13-15 years</td>\n",
       "      <td>female</td>\n",
       "      <td>Bangla</td>\n",
       "      <td>Public sector</td>\n",
       "      <td>Freelancer</td>\n",
       "      <td>Three Children</td>\n",
       "      <td>primary</td>\n",
       "      <td>secondary</td>\n",
       "      <td>0-0.5 km</td>\n",
       "      <td>Walk</td>\n",
       "      <td>...</td>\n",
       "      <td>83</td>\n",
       "      <td>54</td>\n",
       "      <td>50</td>\n",
       "      <td>20</td>\n",
       "      <td>82</td>\n",
       "      <td>200000</td>\n",
       "      <td>Yes</td>\n",
       "      <td>1 hours</td>\n",
       "      <td>Yes</td>\n",
       "      <td>2.40</td>\n",
       "    </tr>\n",
       "    <tr>\n",
       "      <th>4</th>\n",
       "      <td>10-13 years</td>\n",
       "      <td>male</td>\n",
       "      <td>Native Language</td>\n",
       "      <td>Public sector</td>\n",
       "      <td>Home maker</td>\n",
       "      <td>None</td>\n",
       "      <td>Honors/ Equivalent</td>\n",
       "      <td>primary</td>\n",
       "      <td>1-2 km</td>\n",
       "      <td>Walk</td>\n",
       "      <td>...</td>\n",
       "      <td>52</td>\n",
       "      <td>32</td>\n",
       "      <td>33</td>\n",
       "      <td>28</td>\n",
       "      <td>81</td>\n",
       "      <td>150000</td>\n",
       "      <td>No</td>\n",
       "      <td>1 hours</td>\n",
       "      <td>Yes</td>\n",
       "      <td>2.19</td>\n",
       "    </tr>\n",
       "  </tbody>\n",
       "</table>\n",
       "<p>5 rows × 28 columns</p>\n",
       "</div>"
      ],
      "text/plain": [
       "           Age  Gender    Home Language Father Occupation Mother Occupation  \\\n",
       "0  13-15 years  female  Native Language         Immigrant        Home maker   \n",
       "1  10-13 years    male           Bangla       Freelancer         Home maker   \n",
       "2  13-15 years  female  Native Language    Private sector        Home maker   \n",
       "3  13-15 years  female           Bangla     Public sector        Freelancer   \n",
       "4  10-13 years    male  Native Language     Public sector        Home maker   \n",
       "\n",
       "  Number Of Siblings     Father Education Mother Education School Distance  \\\n",
       "0       Four or more            secondary        secondary          1-2 km   \n",
       "1     Three Children  Honors/ Equivalent         secondary        0.5-1 km   \n",
       "2     Three Children              primary        secondary           >7 km   \n",
       "3     Three Children              primary        secondary        0-0.5 km   \n",
       "4               None  Honors/ Equivalent           primary          1-2 km   \n",
       "\n",
       "     Means to school  ... Math Science History Social Science Religious Study  \\\n",
       "0           Rickshaw  ...   35      42      35             25              29   \n",
       "1  Bicycle/motorbike  ...   47      50      54             56              91   \n",
       "2           Rickshaw  ...   81      90      43             81              31   \n",
       "3               Walk  ...   83      54      50             20              82   \n",
       "4               Walk  ...   52      32      33             28              81   \n",
       "\n",
       "   Family Annual income  Extra Tution  Hours of study per day  Class Label  \\\n",
       "0                300000           Yes                 1 hours          Yes   \n",
       "1                850000           Yes                 3 hours           No   \n",
       "2                100000            No                 3 hours           No   \n",
       "3                200000           Yes                 1 hours          Yes   \n",
       "4                150000            No                 1 hours          Yes   \n",
       "\n",
       "    GPA  \n",
       "0  2.01  \n",
       "1  3.04  \n",
       "2  3.08  \n",
       "3  2.40  \n",
       "4  2.19  \n",
       "\n",
       "[5 rows x 28 columns]"
      ]
     },
     "execution_count": 4,
     "metadata": {},
     "output_type": "execute_result"
    }
   ],
   "source": [
    "df.head()"
   ]
  },
  {
   "cell_type": "code",
   "execution_count": 5,
   "metadata": {},
   "outputs": [
    {
     "name": "stdout",
     "output_type": "stream",
     "text": [
      "<class 'pandas.core.frame.DataFrame'>\n",
      "RangeIndex: 251 entries, 0 to 250\n",
      "Data columns (total 28 columns):\n",
      " #   Column                  Non-Null Count  Dtype  \n",
      "---  ------                  --------------  -----  \n",
      " 0   Age                     251 non-null    object \n",
      " 1   Gender                  251 non-null    object \n",
      " 2   Home Language           251 non-null    object \n",
      " 3   Father Occupation       251 non-null    object \n",
      " 4   Mother Occupation       251 non-null    object \n",
      " 5   Number Of Siblings      251 non-null    object \n",
      " 6   Father Education        251 non-null    object \n",
      " 7   Mother Education        251 non-null    object \n",
      " 8   School Distance         251 non-null    object \n",
      " 9   Means to school         251 non-null    object \n",
      " 10  House Lighting          251 non-null    object \n",
      " 11  School Infrustructure   251 non-null    object \n",
      " 12  School Meal per day     251 non-null    object \n",
      " 13  School Cost             251 non-null    object \n",
      " 14  Family income source    251 non-null    object \n",
      " 15  Unnamed: 15             0 non-null      float64\n",
      " 16  Bangla                  251 non-null    int64  \n",
      " 17  English                 251 non-null    int64  \n",
      " 18  Math                    251 non-null    int64  \n",
      " 19  Science                 251 non-null    int64  \n",
      " 20  History                 251 non-null    int64  \n",
      " 21  Social Science          251 non-null    int64  \n",
      " 22  Religious Study         251 non-null    int64  \n",
      " 23  Family Annual income    251 non-null    int64  \n",
      " 24  Extra Tution            251 non-null    object \n",
      " 25  Hours of study per day  251 non-null    object \n",
      " 26  Class Label             251 non-null    object \n",
      " 27  GPA                     251 non-null    float64\n",
      "dtypes: float64(2), int64(8), object(18)\n",
      "memory usage: 55.0+ KB\n"
     ]
    }
   ],
   "source": [
    "df.info()"
   ]
  },
  {
   "cell_type": "code",
   "execution_count": 6,
   "metadata": {},
   "outputs": [],
   "source": [
    "# df.drop(['Unnamed: 0','Unnamed: 0.1'],axis=1,inplace=True)\n",
    "df.drop('Unnamed: 15',axis=1,inplace=True)"
   ]
  },
  {
   "cell_type": "code",
   "execution_count": 7,
   "metadata": {},
   "outputs": [
    {
     "data": {
      "text/plain": [
       "Index(['Age', 'Gender', 'Home Language', 'Father Occupation',\n",
       "       'Mother Occupation', 'Number Of Siblings', 'Father Education',\n",
       "       'Mother Education', 'School Distance', 'Means to school',\n",
       "       'House Lighting', 'School Infrustructure', 'School Meal per day',\n",
       "       'School Cost', 'Family income source', 'Bangla', 'English', 'Math',\n",
       "       'Science', 'History', 'Social Science', 'Religious Study',\n",
       "       'Family Annual income', 'Extra Tution', 'Hours of study per day',\n",
       "       'Class Label', 'GPA'],\n",
       "      dtype='object')"
      ]
     },
     "execution_count": 7,
     "metadata": {},
     "output_type": "execute_result"
    }
   ],
   "source": [
    "df.columns"
   ]
  },
  {
   "cell_type": "code",
   "execution_count": 8,
   "metadata": {},
   "outputs": [],
   "source": [
    "from sklearn.preprocessing import LabelEncoder\n",
    "le=LabelEncoder()"
   ]
  },
  {
   "cell_type": "code",
   "execution_count": 9,
   "metadata": {},
   "outputs": [],
   "source": [
    "\n",
    "for col in df.columns:\n",
    "    if df[col].dtype==np.number:\n",
    "        continue\n",
    "    else:\n",
    "        df[col]=le.fit_transform(df[col])"
   ]
  },
  {
   "cell_type": "code",
   "execution_count": 10,
   "metadata": {},
   "outputs": [
    {
     "data": {
      "text/html": [
       "<div>\n",
       "<style scoped>\n",
       "    .dataframe tbody tr th:only-of-type {\n",
       "        vertical-align: middle;\n",
       "    }\n",
       "\n",
       "    .dataframe tbody tr th {\n",
       "        vertical-align: top;\n",
       "    }\n",
       "\n",
       "    .dataframe thead th {\n",
       "        text-align: right;\n",
       "    }\n",
       "</style>\n",
       "<table border=\"1\" class=\"dataframe\">\n",
       "  <thead>\n",
       "    <tr style=\"text-align: right;\">\n",
       "      <th></th>\n",
       "      <th>Age</th>\n",
       "      <th>Gender</th>\n",
       "      <th>Home Language</th>\n",
       "      <th>Father Occupation</th>\n",
       "      <th>Mother Occupation</th>\n",
       "      <th>Number Of Siblings</th>\n",
       "      <th>Father Education</th>\n",
       "      <th>Mother Education</th>\n",
       "      <th>School Distance</th>\n",
       "      <th>Means to school</th>\n",
       "      <th>...</th>\n",
       "      <th>Math</th>\n",
       "      <th>Science</th>\n",
       "      <th>History</th>\n",
       "      <th>Social Science</th>\n",
       "      <th>Religious Study</th>\n",
       "      <th>Family Annual income</th>\n",
       "      <th>Extra Tution</th>\n",
       "      <th>Hours of study per day</th>\n",
       "      <th>Class Label</th>\n",
       "      <th>GPA</th>\n",
       "    </tr>\n",
       "  </thead>\n",
       "  <tbody>\n",
       "    <tr>\n",
       "      <th>0</th>\n",
       "      <td>1</td>\n",
       "      <td>0</td>\n",
       "      <td>2</td>\n",
       "      <td>3</td>\n",
       "      <td>3</td>\n",
       "      <td>0</td>\n",
       "      <td>4</td>\n",
       "      <td>4</td>\n",
       "      <td>2</td>\n",
       "      <td>2</td>\n",
       "      <td>...</td>\n",
       "      <td>15</td>\n",
       "      <td>21</td>\n",
       "      <td>15</td>\n",
       "      <td>5</td>\n",
       "      <td>9</td>\n",
       "      <td>5</td>\n",
       "      <td>1</td>\n",
       "      <td>1</td>\n",
       "      <td>1</td>\n",
       "      <td>2.01</td>\n",
       "    </tr>\n",
       "    <tr>\n",
       "      <th>1</th>\n",
       "      <td>0</td>\n",
       "      <td>1</td>\n",
       "      <td>0</td>\n",
       "      <td>2</td>\n",
       "      <td>3</td>\n",
       "      <td>2</td>\n",
       "      <td>0</td>\n",
       "      <td>4</td>\n",
       "      <td>1</td>\n",
       "      <td>0</td>\n",
       "      <td>...</td>\n",
       "      <td>27</td>\n",
       "      <td>29</td>\n",
       "      <td>34</td>\n",
       "      <td>35</td>\n",
       "      <td>69</td>\n",
       "      <td>16</td>\n",
       "      <td>1</td>\n",
       "      <td>3</td>\n",
       "      <td>0</td>\n",
       "      <td>3.04</td>\n",
       "    </tr>\n",
       "    <tr>\n",
       "      <th>2</th>\n",
       "      <td>1</td>\n",
       "      <td>0</td>\n",
       "      <td>2</td>\n",
       "      <td>4</td>\n",
       "      <td>3</td>\n",
       "      <td>2</td>\n",
       "      <td>3</td>\n",
       "      <td>4</td>\n",
       "      <td>6</td>\n",
       "      <td>2</td>\n",
       "      <td>...</td>\n",
       "      <td>61</td>\n",
       "      <td>69</td>\n",
       "      <td>23</td>\n",
       "      <td>60</td>\n",
       "      <td>11</td>\n",
       "      <td>0</td>\n",
       "      <td>0</td>\n",
       "      <td>3</td>\n",
       "      <td>0</td>\n",
       "      <td>3.08</td>\n",
       "    </tr>\n",
       "    <tr>\n",
       "      <th>3</th>\n",
       "      <td>1</td>\n",
       "      <td>0</td>\n",
       "      <td>0</td>\n",
       "      <td>5</td>\n",
       "      <td>2</td>\n",
       "      <td>2</td>\n",
       "      <td>3</td>\n",
       "      <td>4</td>\n",
       "      <td>0</td>\n",
       "      <td>4</td>\n",
       "      <td>...</td>\n",
       "      <td>63</td>\n",
       "      <td>33</td>\n",
       "      <td>30</td>\n",
       "      <td>0</td>\n",
       "      <td>61</td>\n",
       "      <td>3</td>\n",
       "      <td>1</td>\n",
       "      <td>1</td>\n",
       "      <td>1</td>\n",
       "      <td>2.40</td>\n",
       "    </tr>\n",
       "    <tr>\n",
       "      <th>4</th>\n",
       "      <td>0</td>\n",
       "      <td>1</td>\n",
       "      <td>2</td>\n",
       "      <td>5</td>\n",
       "      <td>3</td>\n",
       "      <td>1</td>\n",
       "      <td>0</td>\n",
       "      <td>3</td>\n",
       "      <td>2</td>\n",
       "      <td>4</td>\n",
       "      <td>...</td>\n",
       "      <td>32</td>\n",
       "      <td>11</td>\n",
       "      <td>13</td>\n",
       "      <td>8</td>\n",
       "      <td>60</td>\n",
       "      <td>1</td>\n",
       "      <td>0</td>\n",
       "      <td>1</td>\n",
       "      <td>1</td>\n",
       "      <td>2.19</td>\n",
       "    </tr>\n",
       "  </tbody>\n",
       "</table>\n",
       "<p>5 rows × 27 columns</p>\n",
       "</div>"
      ],
      "text/plain": [
       "   Age  Gender  Home Language  Father Occupation  Mother Occupation  \\\n",
       "0    1       0              2                  3                  3   \n",
       "1    0       1              0                  2                  3   \n",
       "2    1       0              2                  4                  3   \n",
       "3    1       0              0                  5                  2   \n",
       "4    0       1              2                  5                  3   \n",
       "\n",
       "   Number Of Siblings  Father Education  Mother Education  School Distance  \\\n",
       "0                   0                 4                 4                2   \n",
       "1                   2                 0                 4                1   \n",
       "2                   2                 3                 4                6   \n",
       "3                   2                 3                 4                0   \n",
       "4                   1                 0                 3                2   \n",
       "\n",
       "   Means to school  ...  Math  Science  History  Social Science  \\\n",
       "0                2  ...    15       21       15               5   \n",
       "1                0  ...    27       29       34              35   \n",
       "2                2  ...    61       69       23              60   \n",
       "3                4  ...    63       33       30               0   \n",
       "4                4  ...    32       11       13               8   \n",
       "\n",
       "   Religious Study  Family Annual income  Extra Tution  \\\n",
       "0                9                     5             1   \n",
       "1               69                    16             1   \n",
       "2               11                     0             0   \n",
       "3               61                     3             1   \n",
       "4               60                     1             0   \n",
       "\n",
       "   Hours of study per day  Class Label   GPA  \n",
       "0                       1            1  2.01  \n",
       "1                       3            0  3.04  \n",
       "2                       3            0  3.08  \n",
       "3                       1            1  2.40  \n",
       "4                       1            1  2.19  \n",
       "\n",
       "[5 rows x 27 columns]"
      ]
     },
     "execution_count": 10,
     "metadata": {},
     "output_type": "execute_result"
    }
   ],
   "source": [
    "df.head()"
   ]
  },
  {
   "cell_type": "code",
   "execution_count": null,
   "metadata": {},
   "outputs": [],
   "source": [
    "from sklearn.preprocessing import StandardScaler\n",
    "ss=StanderdScaler()"
   ]
  },
  {
   "cell_type": "code",
   "execution_count": 11,
   "metadata": {},
   "outputs": [],
   "source": [
    "x=df.drop('Class Label',axis=1)\n",
    "y=df['Class Label']"
   ]
  },
  {
   "cell_type": "code",
   "execution_count": 12,
   "metadata": {},
   "outputs": [],
   "source": [
    "\n",
    "from sklearn.model_selection import train_test_split\n",
    "xtrain,xtest,ytrain,ytest=train_test_split(x,y,test_size=.2,random_state=45)"
   ]
  },
  {
   "cell_type": "code",
   "execution_count": null,
   "metadata": {},
   "outputs": [],
   "source": []
  },
  {
   "cell_type": "code",
   "execution_count": 13,
   "metadata": {},
   "outputs": [],
   "source": [
    "from sklearn.ensemble import RandomForestClassifier\n",
    "rfc=RandomForestClassifier(n_estimators=45)\n"
   ]
  },
  {
   "cell_type": "code",
   "execution_count": 14,
   "metadata": {},
   "outputs": [
    {
     "data": {
      "text/plain": [
       "RandomForestClassifier(bootstrap=True, ccp_alpha=0.0, class_weight=None,\n",
       "                       criterion='gini', max_depth=None, max_features='auto',\n",
       "                       max_leaf_nodes=None, max_samples=None,\n",
       "                       min_impurity_decrease=0.0, min_impurity_split=None,\n",
       "                       min_samples_leaf=1, min_samples_split=2,\n",
       "                       min_weight_fraction_leaf=0.0, n_estimators=45,\n",
       "                       n_jobs=None, oob_score=False, random_state=None,\n",
       "                       verbose=0, warm_start=False)"
      ]
     },
     "execution_count": 14,
     "metadata": {},
     "output_type": "execute_result"
    }
   ],
   "source": [
    "rfc.fit(xtrain,ytrain)"
   ]
  },
  {
   "cell_type": "code",
   "execution_count": 15,
   "metadata": {},
   "outputs": [
    {
     "data": {
      "text/plain": [
       "0.9411764705882353"
      ]
     },
     "execution_count": 15,
     "metadata": {},
     "output_type": "execute_result"
    }
   ],
   "source": [
    "rfc.score(xtest,ytest)"
   ]
  },
  {
   "cell_type": "code",
   "execution_count": 16,
   "metadata": {},
   "outputs": [
    {
     "data": {
      "text/plain": [
       "array([0.00795994, 0.00132131, 0.00184116, 0.00481486, 0.00475103,\n",
       "       0.00346869, 0.00092955, 0.00324529, 0.00670923, 0.00955307,\n",
       "       0.00462977, 0.00312307, 0.00103294, 0.00573731, 0.00668598,\n",
       "       0.02589833, 0.03462016, 0.03071489, 0.03290621, 0.02200781,\n",
       "       0.02092064, 0.02491885, 0.04203134, 0.03848988, 0.19343312,\n",
       "       0.46825556])"
      ]
     },
     "execution_count": 16,
     "metadata": {},
     "output_type": "execute_result"
    }
   ],
   "source": [
    "rfc.feature_importances_"
   ]
  },
  {
   "cell_type": "code",
   "execution_count": 17,
   "metadata": {},
   "outputs": [],
   "source": [
    "pred=rfc.predict(xtest)"
   ]
  },
  {
   "cell_type": "code",
   "execution_count": 18,
   "metadata": {},
   "outputs": [
    {
     "data": {
      "text/plain": [
       "array([[32,  1],\n",
       "       [ 2, 16]], dtype=int64)"
      ]
     },
     "execution_count": 18,
     "metadata": {},
     "output_type": "execute_result"
    }
   ],
   "source": [
    "from sklearn.metrics import confusion_matrix\n",
    "confusion_matrix(ytest,pred)"
   ]
  },
  {
   "cell_type": "code",
   "execution_count": 19,
   "metadata": {},
   "outputs": [
    {
     "name": "stdout",
     "output_type": "stream",
     "text": [
      "              precision    recall  f1-score   support\n",
      "\n",
      "           0       0.94      0.97      0.96        33\n",
      "           1       0.94      0.89      0.91        18\n",
      "\n",
      "    accuracy                           0.94        51\n",
      "   macro avg       0.94      0.93      0.93        51\n",
      "weighted avg       0.94      0.94      0.94        51\n",
      "\n"
     ]
    }
   ],
   "source": [
    "from sklearn.metrics import classification_report\n",
    "print(classification_report(ytest,pred))"
   ]
  },
  {
   "cell_type": "markdown",
   "metadata": {},
   "source": [
    "# Roc Auc carve"
   ]
  },
  {
   "cell_type": "code",
   "execution_count": 20,
   "metadata": {},
   "outputs": [],
   "source": [
    "from sklearn.metrics import auc,classification_report,accuracy_score,roc_curve,roc_auc_score,precision_recall_curve"
   ]
  },
  {
   "cell_type": "code",
   "execution_count": 21,
   "metadata": {},
   "outputs": [],
   "source": [
    "rf_auc=roc_auc_score(ytest,pred)"
   ]
  },
  {
   "cell_type": "code",
   "execution_count": 22,
   "metadata": {},
   "outputs": [
    {
     "name": "stdout",
     "output_type": "stream",
     "text": [
      "0.9292929292929294\n"
     ]
    }
   ],
   "source": [
    "print(rf_auc)"
   ]
  },
  {
   "cell_type": "code",
   "execution_count": 23,
   "metadata": {},
   "outputs": [],
   "source": [
    "rf_fpr,rf_tpr,_=roc_curve(ytest,pred)"
   ]
  },
  {
   "cell_type": "code",
   "execution_count": 24,
   "metadata": {},
   "outputs": [
    {
     "data": {
      "image/png": "[encoded data removed]",
      "text/plain": [
       "<Figure size 432x288 with 1 Axes>"
      ]
     },
     "metadata": {
      "needs_background": "light"
     },
     "output_type": "display_data"
    }
   ],
   "source": [
    "plt.plot(rf_fpr,rf_tpr,marker='.',label='Random Forest(AUROC = %0.3f)'%rf_auc)\n",
    "plt.xlabel('False Positive Rate')\n",
    "plt.ylabel('True Positive Rate')\n",
    "plt.title('Receiver Operating Characteristic (ROC) carve')\n",
    "plt.legend()\n",
    "plt.show()"
   ]
  },
  {
   "cell_type": "code",
   "execution_count": 25,
   "metadata": {},
   "outputs": [],
   "source": [
    "p,r,t=precision_recall_curve(ytest,pred)"
   ]
  },
  {
   "cell_type": "code",
   "execution_count": 26,
   "metadata": {},
   "outputs": [
    {
     "data": {
      "text/plain": [
       "Text(0, 0.5, 'Recall')"
      ]
     },
     "execution_count": 26,
     "metadata": {},
     "output_type": "execute_result"
    },
    {
     "data": {
      "image/png": "[encoded data removed]",
      "text/plain": [
       "<Figure size 432x288 with 1 Axes>"
      ]
     },
     "metadata": {
      "needs_background": "light"
     },
     "output_type": "display_data"
    }
   ],
   "source": [
    "plt.plot(p,r,)\n",
    "plt.xlabel('Precision')\n",
    "plt.ylabel('Recall')"
   ]
  },
  {
   "cell_type": "code",
   "execution_count": null,
   "metadata": {},
   "outputs": [],
   "source": []
  }
 ],
 "metadata": {
  "kernelspec": {
   "display_name": "Python 3",
   "language": "python",
   "name": "python3"
  },
  "language_info": {
   "codemirror_mode": {
    "name": "ipython",
    "version": 3
   },
   "file_extension": ".py",
   "mimetype": "text/x-python",
   "name": "python",
   "nbconvert_exporter": "python",
   "pygments_lexer": "ipython3",
   "version": "3.7.6"
  }
 },
 "nbformat": 4,
 "nbformat_minor": 4
}
