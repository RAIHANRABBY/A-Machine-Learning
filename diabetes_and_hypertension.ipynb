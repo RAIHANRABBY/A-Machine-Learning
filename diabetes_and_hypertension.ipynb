{
  "cells": [
    {
      "cell_type": "markdown",
      "metadata": {
        "id": "view-in-github",
        "colab_type": "text"
      },
      "source": [
        "<a href=\"https://colab.research.google.com/github/RAIHANRABBY/A-Machine-Learning/blob/main/diabetes_and_hypertension.ipynb\" target=\"_parent\"><img src=\"https://colab.research.google.com/assets/colab-badge.svg\" alt=\"Open In Colab\"/></a>"
      ]
    },
    {
      "cell_type": "code",
      "execution_count": null,
      "metadata": {
        "id": "N4x11unxvLR5"
      },
      "outputs": [],
      "source": [
        "import numpy as np\n",
        "import pandas as pd\n",
        "import matplotlib.pyplot as plt\n",
        "import seaborn as sns \n",
        "%matplotlib inline"
      ]
    },
    {
      "cell_type": "markdown",
      "metadata": {
        "id": "ISZUd2hkcFho"
      },
      "source": [
        "## Reading all the data files"
      ]
    },
    {
      "cell_type": "code",
      "execution_count": null,
      "metadata": {
        "id": "ePrAW-S8V3NF"
      },
      "outputs": [],
      "source": [
        "df=pd.read_excel('/content/drive/MyDrive/Colab Notebooks/BDHS/BDHS_DATA/HTN_DM_filtered data_excel.xlsx')"
      ]
    },
    {
      "cell_type": "markdown",
      "metadata": {
        "id": "zoDjYZMzcL6M"
      },
      "source": [
        "### reading the sata file "
      ]
    },
    {
      "cell_type": "code",
      "execution_count": null,
      "metadata": {
        "colab": {
          "base_uri": "https://localhost:8080/"
        },
        "id": "So4qCX3UcVcT",
        "outputId": "d7120a76-963a-43b4-c8ef-b0ae5b94325a"
      },
      "outputs": [
        {
          "output_type": "stream",
          "name": "stdout",
          "text": [
            "Looking in indexes: https://pypi.org/simple, https://us-python.pkg.dev/colab-wheels/public/simple/\n",
            "Collecting pyreadstat\n",
            "  Downloading pyreadstat-1.1.9-cp37-cp37m-manylinux_2_17_x86_64.manylinux2014_x86_64.whl (2.5 MB)\n",
            "\u001b[K     |████████████████████████████████| 2.5 MB 21.9 MB/s \n",
            "\u001b[?25hRequirement already satisfied: pandas>=1.2.0 in /usr/local/lib/python3.7/dist-packages (from pyreadstat) (1.3.5)\n",
            "Requirement already satisfied: pytz>=2017.3 in /usr/local/lib/python3.7/dist-packages (from pandas>=1.2.0->pyreadstat) (2022.2.1)\n",
            "Requirement already satisfied: numpy>=1.17.3 in /usr/local/lib/python3.7/dist-packages (from pandas>=1.2.0->pyreadstat) (1.21.6)\n",
            "Requirement already satisfied: python-dateutil>=2.7.3 in /usr/local/lib/python3.7/dist-packages (from pandas>=1.2.0->pyreadstat) (2.8.2)\n",
            "Requirement already satisfied: six>=1.5 in /usr/local/lib/python3.7/dist-packages (from python-dateutil>=2.7.3->pandas>=1.2.0->pyreadstat) (1.15.0)\n",
            "Installing collected packages: pyreadstat\n",
            "Successfully installed pyreadstat-1.1.9\n"
          ]
        }
      ],
      "source": [
        "pip install pyreadstat"
      ]
    },
    {
      "cell_type": "code",
      "execution_count": null,
      "metadata": {
        "id": "Z2BcdCi3c1nD"
      },
      "outputs": [],
      "source": [
        "import pyreadstat"
      ]
    },
    {
      "cell_type": "code",
      "execution_count": null,
      "metadata": {
        "id": "_J6YcqsSch3S"
      },
      "outputs": [],
      "source": [
        "dtafile = '/content/drive/MyDrive/Colab Notebooks/BDHS/BDHS_DATA/HTN_DM_filtered data_Stata file.DTA'\n",
        "stata, meta = pyreadstat.read_dta(dtafile)"
      ]
    },
    {
      "cell_type": "code",
      "execution_count": null,
      "metadata": {
        "colab": {
          "base_uri": "https://localhost:8080/",
          "height": 236
        },
        "id": "oX8aA1q-cjYk",
        "outputId": "4a3ebae1-baa2-4e31-b0e1-1278d5aeb401"
      },
      "outputs": [
        {
          "output_type": "execute_result",
          "data": {
            "text/plain": [
              "    hv005  hv021  hv023  division  residence  wealth_index  hv105  hv115  sex  \\\n",
              "0  671011      1      3         1          2             1     25      1    1   \n",
              "1  671011      1      3         1          2             1     34      1    2   \n",
              "2  671011      1      3         1          2             1     35      1    2   \n",
              "3  671011      1      3         1          2             1     55      1    1   \n",
              "4  671011      1      3         1          2             1     45      1    2   \n",
              "\n",
              "   education  ...  systolic_average diastolic_average hypertension        BMI  \\\n",
              "0          1  ...             110.5              58.0          0.0  20.549999   \n",
              "1          0  ...             100.5              66.5          0.0  24.809999   \n",
              "2          1  ...             100.0              65.5          0.0  17.440001   \n",
              "3          1  ...             105.0              71.0          0.0  21.080000   \n",
              "4          1  ...             143.5              93.5          1.0  24.549999   \n",
              "\n",
              "   BMI_cat  diabetes_measure  diabetes  marital_status age_cat occupation  \n",
              "0      2.0               6.2       0.0               2       1          3  \n",
              "1      3.0               6.6       1.0               2       1          0  \n",
              "2      1.0               6.0       0.0               2       2          0  \n",
              "3      2.0               6.5       0.0               2       6          1  \n",
              "4      3.0               5.6       0.0               2       4          2  \n",
              "\n",
              "[5 rows x 31 columns]"
            ],
            "text/html": [
              "\n",
              "  <div id=\"df-c802f0ed-d530-4926-822e-9f607881a91e\">\n",
              "    <div class=\"colab-df-container\">\n",
              "      <div>\n",
              "<style scoped>\n",
              "    .dataframe tbody tr th:only-of-type {\n",
              "        vertical-align: middle;\n",
              "    }\n",
              "\n",
              "    .dataframe tbody tr th {\n",
              "        vertical-align: top;\n",
              "    }\n",
              "\n",
              "    .dataframe thead th {\n",
              "        text-align: right;\n",
              "    }\n",
              "</style>\n",
              "<table border=\"1\" class=\"dataframe\">\n",
              "  <thead>\n",
              "    <tr style=\"text-align: right;\">\n",
              "      <th></th>\n",
              "      <th>hv005</th>\n",
              "      <th>hv021</th>\n",
              "      <th>hv023</th>\n",
              "      <th>division</th>\n",
              "      <th>residence</th>\n",
              "      <th>wealth_index</th>\n",
              "      <th>hv105</th>\n",
              "      <th>hv115</th>\n",
              "      <th>sex</th>\n",
              "      <th>education</th>\n",
              "      <th>...</th>\n",
              "      <th>systolic_average</th>\n",
              "      <th>diastolic_average</th>\n",
              "      <th>hypertension</th>\n",
              "      <th>BMI</th>\n",
              "      <th>BMI_cat</th>\n",
              "      <th>diabetes_measure</th>\n",
              "      <th>diabetes</th>\n",
              "      <th>marital_status</th>\n",
              "      <th>age_cat</th>\n",
              "      <th>occupation</th>\n",
              "    </tr>\n",
              "  </thead>\n",
              "  <tbody>\n",
              "    <tr>\n",
              "      <th>0</th>\n",
              "      <td>671011</td>\n",
              "      <td>1</td>\n",
              "      <td>3</td>\n",
              "      <td>1</td>\n",
              "      <td>2</td>\n",
              "      <td>1</td>\n",
              "      <td>25</td>\n",
              "      <td>1</td>\n",
              "      <td>1</td>\n",
              "      <td>1</td>\n",
              "      <td>...</td>\n",
              "      <td>110.5</td>\n",
              "      <td>58.0</td>\n",
              "      <td>0.0</td>\n",
              "      <td>20.549999</td>\n",
              "      <td>2.0</td>\n",
              "      <td>6.2</td>\n",
              "      <td>0.0</td>\n",
              "      <td>2</td>\n",
              "      <td>1</td>\n",
              "      <td>3</td>\n",
              "    </tr>\n",
              "    <tr>\n",
              "      <th>1</th>\n",
              "      <td>671011</td>\n",
              "      <td>1</td>\n",
              "      <td>3</td>\n",
              "      <td>1</td>\n",
              "      <td>2</td>\n",
              "      <td>1</td>\n",
              "      <td>34</td>\n",
              "      <td>1</td>\n",
              "      <td>2</td>\n",
              "      <td>0</td>\n",
              "      <td>...</td>\n",
              "      <td>100.5</td>\n",
              "      <td>66.5</td>\n",
              "      <td>0.0</td>\n",
              "      <td>24.809999</td>\n",
              "      <td>3.0</td>\n",
              "      <td>6.6</td>\n",
              "      <td>1.0</td>\n",
              "      <td>2</td>\n",
              "      <td>1</td>\n",
              "      <td>0</td>\n",
              "    </tr>\n",
              "    <tr>\n",
              "      <th>2</th>\n",
              "      <td>671011</td>\n",
              "      <td>1</td>\n",
              "      <td>3</td>\n",
              "      <td>1</td>\n",
              "      <td>2</td>\n",
              "      <td>1</td>\n",
              "      <td>35</td>\n",
              "      <td>1</td>\n",
              "      <td>2</td>\n",
              "      <td>1</td>\n",
              "      <td>...</td>\n",
              "      <td>100.0</td>\n",
              "      <td>65.5</td>\n",
              "      <td>0.0</td>\n",
              "      <td>17.440001</td>\n",
              "      <td>1.0</td>\n",
              "      <td>6.0</td>\n",
              "      <td>0.0</td>\n",
              "      <td>2</td>\n",
              "      <td>2</td>\n",
              "      <td>0</td>\n",
              "    </tr>\n",
              "    <tr>\n",
              "      <th>3</th>\n",
              "      <td>671011</td>\n",
              "      <td>1</td>\n",
              "      <td>3</td>\n",
              "      <td>1</td>\n",
              "      <td>2</td>\n",
              "      <td>1</td>\n",
              "      <td>55</td>\n",
              "      <td>1</td>\n",
              "      <td>1</td>\n",
              "      <td>1</td>\n",
              "      <td>...</td>\n",
              "      <td>105.0</td>\n",
              "      <td>71.0</td>\n",
              "      <td>0.0</td>\n",
              "      <td>21.080000</td>\n",
              "      <td>2.0</td>\n",
              "      <td>6.5</td>\n",
              "      <td>0.0</td>\n",
              "      <td>2</td>\n",
              "      <td>6</td>\n",
              "      <td>1</td>\n",
              "    </tr>\n",
              "    <tr>\n",
              "      <th>4</th>\n",
              "      <td>671011</td>\n",
              "      <td>1</td>\n",
              "      <td>3</td>\n",
              "      <td>1</td>\n",
              "      <td>2</td>\n",
              "      <td>1</td>\n",
              "      <td>45</td>\n",
              "      <td>1</td>\n",
              "      <td>2</td>\n",
              "      <td>1</td>\n",
              "      <td>...</td>\n",
              "      <td>143.5</td>\n",
              "      <td>93.5</td>\n",
              "      <td>1.0</td>\n",
              "      <td>24.549999</td>\n",
              "      <td>3.0</td>\n",
              "      <td>5.6</td>\n",
              "      <td>0.0</td>\n",
              "      <td>2</td>\n",
              "      <td>4</td>\n",
              "      <td>2</td>\n",
              "    </tr>\n",
              "  </tbody>\n",
              "</table>\n",
              "<p>5 rows × 31 columns</p>\n",
              "</div>\n",
              "      <button class=\"colab-df-convert\" onclick=\"convertToInteractive('df-c802f0ed-d530-4926-822e-9f607881a91e')\"\n",
              "              title=\"Convert this dataframe to an interactive table.\"\n",
              "              style=\"display:none;\">\n",
              "        \n",
              "  <svg xmlns=\"http://www.w3.org/2000/svg\" height=\"24px\"viewBox=\"0 0 24 24\"\n",
              "       width=\"24px\">\n",
              "    <path d=\"M0 0h24v24H0V0z\" fill=\"none\"/>\n",
              "    <path d=\"M18.56 5.44l.94 2.06.94-2.06 2.06-.94-2.06-.94-.94-2.06-.94 2.06-2.06.94zm-11 1L8.5 8.5l.94-2.06 2.06-.94-2.06-.94L8.5 2.5l-.94 2.06-2.06.94zm10 10l.94 2.06.94-2.06 2.06-.94-2.06-.94-.94-2.06-.94 2.06-2.06.94z\"/><path d=\"M17.41 7.96l-1.37-1.37c-.4-.4-.92-.59-1.43-.59-.52 0-1.04.2-1.43.59L10.3 9.45l-7.72 7.72c-.78.78-.78 2.05 0 2.83L4 21.41c.39.39.9.59 1.41.59.51 0 1.02-.2 1.41-.59l7.78-7.78 2.81-2.81c.8-.78.8-2.07 0-2.86zM5.41 20L4 18.59l7.72-7.72 1.47 1.35L5.41 20z\"/>\n",
              "  </svg>\n",
              "      </button>\n",
              "      \n",
              "  <style>\n",
              "    .colab-df-container {\n",
              "      display:flex;\n",
              "      flex-wrap:wrap;\n",
              "      gap: 12px;\n",
              "    }\n",
              "\n",
              "    .colab-df-convert {\n",
              "      background-color: #E8F0FE;\n",
              "      border: none;\n",
              "      border-radius: 50%;\n",
              "      cursor: pointer;\n",
              "      display: none;\n",
              "      fill: #1967D2;\n",
              "      height: 32px;\n",
              "      padding: 0 0 0 0;\n",
              "      width: 32px;\n",
              "    }\n",
              "\n",
              "    .colab-df-convert:hover {\n",
              "      background-color: #E2EBFA;\n",
              "      box-shadow: 0px 1px 2px rgba(60, 64, 67, 0.3), 0px 1px 3px 1px rgba(60, 64, 67, 0.15);\n",
              "      fill: #174EA6;\n",
              "    }\n",
              "\n",
              "    [theme=dark] .colab-df-convert {\n",
              "      background-color: #3B4455;\n",
              "      fill: #D2E3FC;\n",
              "    }\n",
              "\n",
              "    [theme=dark] .colab-df-convert:hover {\n",
              "      background-color: #434B5C;\n",
              "      box-shadow: 0px 1px 3px 1px rgba(0, 0, 0, 0.15);\n",
              "      filter: drop-shadow(0px 1px 2px rgba(0, 0, 0, 0.3));\n",
              "      fill: #FFFFFF;\n",
              "    }\n",
              "  </style>\n",
              "\n",
              "      <script>\n",
              "        const buttonEl =\n",
              "          document.querySelector('#df-c802f0ed-d530-4926-822e-9f607881a91e button.colab-df-convert');\n",
              "        buttonEl.style.display =\n",
              "          google.colab.kernel.accessAllowed ? 'block' : 'none';\n",
              "\n",
              "        async function convertToInteractive(key) {\n",
              "          const element = document.querySelector('#df-c802f0ed-d530-4926-822e-9f607881a91e');\n",
              "          const dataTable =\n",
              "            await google.colab.kernel.invokeFunction('convertToInteractive',\n",
              "                                                     [key], {});\n",
              "          if (!dataTable) return;\n",
              "\n",
              "          const docLinkHtml = 'Like what you see? Visit the ' +\n",
              "            '<a target=\"_blank\" href=https://colab.research.google.com/notebooks/data_table.ipynb>data table notebook</a>'\n",
              "            + ' to learn more about interactive tables.';\n",
              "          element.innerHTML = '';\n",
              "          dataTable['output_type'] = 'display_data';\n",
              "          await google.colab.output.renderOutput(dataTable, element);\n",
              "          const docLink = document.createElement('div');\n",
              "          docLink.innerHTML = docLinkHtml;\n",
              "          element.appendChild(docLink);\n",
              "        }\n",
              "      </script>\n",
              "    </div>\n",
              "  </div>\n",
              "  "
            ]
          },
          "metadata": {},
          "execution_count": 6
        }
      ],
      "source": [
        "stata.head()"
      ]
    },
    {
      "cell_type": "code",
      "execution_count": null,
      "metadata": {
        "colab": {
          "base_uri": "https://localhost:8080/"
        },
        "id": "WsM3e488cjiT",
        "outputId": "6a356106-cfc0-470c-e42c-189cf4f9f5ae"
      },
      "outputs": [
        {
          "output_type": "execute_result",
          "data": {
            "text/plain": [
              "(12099, 31)"
            ]
          },
          "metadata": {},
          "execution_count": 7
        }
      ],
      "source": [
        "stata.shape"
      ]
    },
    {
      "cell_type": "code",
      "execution_count": null,
      "metadata": {
        "colab": {
          "base_uri": "https://localhost:8080/"
        },
        "id": "yrKjBIbCcjnU",
        "outputId": "0c225b51-a9e8-4f25-8b3b-6fe20d68065f"
      },
      "outputs": [
        {
          "output_type": "execute_result",
          "data": {
            "text/plain": [
              "Index(['hv005', 'hv021', 'hv023', 'division', 'residence', 'wealth_index',\n",
              "       'hv105', 'hv115', 'sex', 'education', 'sb307', 'sb308',\n",
              "       'current_smoking', 'sb323a', 'sb323b', 'sb332a', 'sb332b', 'sb335b',\n",
              "       'sbbm', 'sb3mos', 'swt', 'systolic_average', 'diastolic_average',\n",
              "       'hypertension', 'BMI', 'BMI_cat', 'diabetes_measure', 'diabetes',\n",
              "       'marital_status', 'age_cat', 'occupation'],\n",
              "      dtype='object')"
            ]
          },
          "metadata": {},
          "execution_count": 8
        }
      ],
      "source": [
        "stata.columns"
      ]
    },
    {
      "cell_type": "code",
      "execution_count": null,
      "metadata": {
        "colab": {
          "base_uri": "https://localhost:8080/"
        },
        "id": "cvCiv9wvdWO_",
        "outputId": "21e38fbf-325f-4e9a-9a02-d72d2756eb06"
      },
      "outputs": [
        {
          "output_type": "stream",
          "name": "stdout",
          "text": [
            "<class 'pandas.core.frame.DataFrame'>\n",
            "RangeIndex: 12099 entries, 0 to 12098\n",
            "Data columns (total 31 columns):\n",
            " #   Column             Non-Null Count  Dtype  \n",
            "---  ------             --------------  -----  \n",
            " 0   hv005              12099 non-null  int64  \n",
            " 1   hv021              12099 non-null  int64  \n",
            " 2   hv023              12099 non-null  int64  \n",
            " 3   division           12099 non-null  int64  \n",
            " 4   residence          12099 non-null  int64  \n",
            " 5   wealth_index       12099 non-null  int64  \n",
            " 6   hv105              12099 non-null  int64  \n",
            " 7   hv115              12099 non-null  int64  \n",
            " 8   sex                12099 non-null  int64  \n",
            " 9   education          12099 non-null  int64  \n",
            " 10  sb307              12099 non-null  int64  \n",
            " 11  sb308              12067 non-null  object \n",
            " 12  current_smoking    12095 non-null  object \n",
            " 13  sb323a             12099 non-null  int64  \n",
            " 14  sb323b             12099 non-null  int64  \n",
            " 15  sb332a             12099 non-null  int64  \n",
            " 16  sb332b             12099 non-null  int64  \n",
            " 17  sb335b             12099 non-null  int64  \n",
            " 18  sbbm               11981 non-null  object \n",
            " 19  sb3mos             264 non-null    object \n",
            " 20  swt                12099 non-null  float64\n",
            " 21  systolic_average   12099 non-null  float64\n",
            " 22  diastolic_average  12099 non-null  float64\n",
            " 23  hypertension       12099 non-null  float64\n",
            " 24  BMI                11981 non-null  float64\n",
            " 25  BMI_cat            11981 non-null  float64\n",
            " 26  diabetes_measure   12099 non-null  float64\n",
            " 27  diabetes           12099 non-null  float64\n",
            " 28  marital_status     12099 non-null  int64  \n",
            " 29  age_cat            12099 non-null  int64  \n",
            " 30  occupation         12067 non-null  object \n",
            "dtypes: float64(8), int64(18), object(5)\n",
            "memory usage: 2.9+ MB\n"
          ]
        }
      ],
      "source": [
        "stata.info()"
      ]
    },
    {
      "cell_type": "markdown",
      "metadata": {
        "id": "Mwpz2yVGhfaK"
      },
      "source": [
        "### read the spss file (Original file_SPSS)"
      ]
    },
    {
      "cell_type": "code",
      "execution_count": null,
      "metadata": {
        "id": "Z3_vRs0-dWXL"
      },
      "outputs": [],
      "source": [
        "spss=pd.read_spss('/content/drive/MyDrive/Colab Notebooks/BDHS/BDHS_DATA/Original file_SPSS.SAV')"
      ]
    },
    {
      "cell_type": "code",
      "execution_count": null,
      "metadata": {
        "colab": {
          "base_uri": "https://localhost:8080/",
          "height": 236
        },
        "id": "d3o8VEDhdWaN",
        "outputId": "dabfc6e4-035e-4ccc-d6f5-2b0e5084663c"
      },
      "outputs": [
        {
          "output_type": "execute_result",
          "data": {
            "text/plain": [
              "           HHID  HVIDX HV000  HV001  HV002 HV003  HV004     HV005  HV006  \\\n",
              "0          1  4    1.0   BD7    1.0    4.0   2.0    1.0  671011.0   11.0   \n",
              "1          1  4    2.0   BD7    1.0    4.0   2.0    1.0  671011.0   11.0   \n",
              "2          1  4    3.0   BD7    1.0    4.0   2.0    1.0  671011.0   11.0   \n",
              "3          1  4    4.0   BD7    1.0    4.0   2.0    1.0  671011.0   11.0   \n",
              "4          1  4    5.0   BD7    1.0    4.0   2.0    1.0  671011.0   11.0   \n",
              "\n",
              "    HV007  ...  SBBM  SBRI  SBCMC  SBFLG  SBRESI  SBED1  SBED2  SBED3 SB3PRG  \\\n",
              "0  2017.0  ...   NaN   NaN    NaN    NaN     NaN    NaN    NaN    NaN    NaN   \n",
              "1  2017.0  ...   NaN   NaN    NaN    NaN     NaN    NaN    NaN    NaN    NaN   \n",
              "2  2017.0  ...   NaN   NaN    NaN    NaN     NaN    NaN    NaN    NaN    NaN   \n",
              "3  2017.0  ...   NaN   NaN    NaN    NaN     NaN    NaN    NaN    NaN    NaN   \n",
              "4  2017.0  ...   NaN   NaN    NaN    NaN     NaN    NaN    NaN    NaN    NaN   \n",
              "\n",
              "   SB3MOS  \n",
              "0     NaN  \n",
              "1     NaN  \n",
              "2     NaN  \n",
              "3     NaN  \n",
              "4     NaN  \n",
              "\n",
              "[5 rows x 422 columns]"
            ],
            "text/html": [
              "\n",
              "  <div id=\"df-d7542a77-65a4-48ac-a023-e98dd410d7ea\">\n",
              "    <div class=\"colab-df-container\">\n",
              "      <div>\n",
              "<style scoped>\n",
              "    .dataframe tbody tr th:only-of-type {\n",
              "        vertical-align: middle;\n",
              "    }\n",
              "\n",
              "    .dataframe tbody tr th {\n",
              "        vertical-align: top;\n",
              "    }\n",
              "\n",
              "    .dataframe thead th {\n",
              "        text-align: right;\n",
              "    }\n",
              "</style>\n",
              "<table border=\"1\" class=\"dataframe\">\n",
              "  <thead>\n",
              "    <tr style=\"text-align: right;\">\n",
              "      <th></th>\n",
              "      <th>HHID</th>\n",
              "      <th>HVIDX</th>\n",
              "      <th>HV000</th>\n",
              "      <th>HV001</th>\n",
              "      <th>HV002</th>\n",
              "      <th>HV003</th>\n",
              "      <th>HV004</th>\n",
              "      <th>HV005</th>\n",
              "      <th>HV006</th>\n",
              "      <th>HV007</th>\n",
              "      <th>...</th>\n",
              "      <th>SBBM</th>\n",
              "      <th>SBRI</th>\n",
              "      <th>SBCMC</th>\n",
              "      <th>SBFLG</th>\n",
              "      <th>SBRESI</th>\n",
              "      <th>SBED1</th>\n",
              "      <th>SBED2</th>\n",
              "      <th>SBED3</th>\n",
              "      <th>SB3PRG</th>\n",
              "      <th>SB3MOS</th>\n",
              "    </tr>\n",
              "  </thead>\n",
              "  <tbody>\n",
              "    <tr>\n",
              "      <th>0</th>\n",
              "      <td>1  4</td>\n",
              "      <td>1.0</td>\n",
              "      <td>BD7</td>\n",
              "      <td>1.0</td>\n",
              "      <td>4.0</td>\n",
              "      <td>2.0</td>\n",
              "      <td>1.0</td>\n",
              "      <td>671011.0</td>\n",
              "      <td>11.0</td>\n",
              "      <td>2017.0</td>\n",
              "      <td>...</td>\n",
              "      <td>NaN</td>\n",
              "      <td>NaN</td>\n",
              "      <td>NaN</td>\n",
              "      <td>NaN</td>\n",
              "      <td>NaN</td>\n",
              "      <td>NaN</td>\n",
              "      <td>NaN</td>\n",
              "      <td>NaN</td>\n",
              "      <td>NaN</td>\n",
              "      <td>NaN</td>\n",
              "    </tr>\n",
              "    <tr>\n",
              "      <th>1</th>\n",
              "      <td>1  4</td>\n",
              "      <td>2.0</td>\n",
              "      <td>BD7</td>\n",
              "      <td>1.0</td>\n",
              "      <td>4.0</td>\n",
              "      <td>2.0</td>\n",
              "      <td>1.0</td>\n",
              "      <td>671011.0</td>\n",
              "      <td>11.0</td>\n",
              "      <td>2017.0</td>\n",
              "      <td>...</td>\n",
              "      <td>NaN</td>\n",
              "      <td>NaN</td>\n",
              "      <td>NaN</td>\n",
              "      <td>NaN</td>\n",
              "      <td>NaN</td>\n",
              "      <td>NaN</td>\n",
              "      <td>NaN</td>\n",
              "      <td>NaN</td>\n",
              "      <td>NaN</td>\n",
              "      <td>NaN</td>\n",
              "    </tr>\n",
              "    <tr>\n",
              "      <th>2</th>\n",
              "      <td>1  4</td>\n",
              "      <td>3.0</td>\n",
              "      <td>BD7</td>\n",
              "      <td>1.0</td>\n",
              "      <td>4.0</td>\n",
              "      <td>2.0</td>\n",
              "      <td>1.0</td>\n",
              "      <td>671011.0</td>\n",
              "      <td>11.0</td>\n",
              "      <td>2017.0</td>\n",
              "      <td>...</td>\n",
              "      <td>NaN</td>\n",
              "      <td>NaN</td>\n",
              "      <td>NaN</td>\n",
              "      <td>NaN</td>\n",
              "      <td>NaN</td>\n",
              "      <td>NaN</td>\n",
              "      <td>NaN</td>\n",
              "      <td>NaN</td>\n",
              "      <td>NaN</td>\n",
              "      <td>NaN</td>\n",
              "    </tr>\n",
              "    <tr>\n",
              "      <th>3</th>\n",
              "      <td>1  4</td>\n",
              "      <td>4.0</td>\n",
              "      <td>BD7</td>\n",
              "      <td>1.0</td>\n",
              "      <td>4.0</td>\n",
              "      <td>2.0</td>\n",
              "      <td>1.0</td>\n",
              "      <td>671011.0</td>\n",
              "      <td>11.0</td>\n",
              "      <td>2017.0</td>\n",
              "      <td>...</td>\n",
              "      <td>NaN</td>\n",
              "      <td>NaN</td>\n",
              "      <td>NaN</td>\n",
              "      <td>NaN</td>\n",
              "      <td>NaN</td>\n",
              "      <td>NaN</td>\n",
              "      <td>NaN</td>\n",
              "      <td>NaN</td>\n",
              "      <td>NaN</td>\n",
              "      <td>NaN</td>\n",
              "    </tr>\n",
              "    <tr>\n",
              "      <th>4</th>\n",
              "      <td>1  4</td>\n",
              "      <td>5.0</td>\n",
              "      <td>BD7</td>\n",
              "      <td>1.0</td>\n",
              "      <td>4.0</td>\n",
              "      <td>2.0</td>\n",
              "      <td>1.0</td>\n",
              "      <td>671011.0</td>\n",
              "      <td>11.0</td>\n",
              "      <td>2017.0</td>\n",
              "      <td>...</td>\n",
              "      <td>NaN</td>\n",
              "      <td>NaN</td>\n",
              "      <td>NaN</td>\n",
              "      <td>NaN</td>\n",
              "      <td>NaN</td>\n",
              "      <td>NaN</td>\n",
              "      <td>NaN</td>\n",
              "      <td>NaN</td>\n",
              "      <td>NaN</td>\n",
              "      <td>NaN</td>\n",
              "    </tr>\n",
              "  </tbody>\n",
              "</table>\n",
              "<p>5 rows × 422 columns</p>\n",
              "</div>\n",
              "      <button class=\"colab-df-convert\" onclick=\"convertToInteractive('df-d7542a77-65a4-48ac-a023-e98dd410d7ea')\"\n",
              "              title=\"Convert this dataframe to an interactive table.\"\n",
              "              style=\"display:none;\">\n",
              "        \n",
              "  <svg xmlns=\"http://www.w3.org/2000/svg\" height=\"24px\"viewBox=\"0 0 24 24\"\n",
              "       width=\"24px\">\n",
              "    <path d=\"M0 0h24v24H0V0z\" fill=\"none\"/>\n",
              "    <path d=\"M18.56 5.44l.94 2.06.94-2.06 2.06-.94-2.06-.94-.94-2.06-.94 2.06-2.06.94zm-11 1L8.5 8.5l.94-2.06 2.06-.94-2.06-.94L8.5 2.5l-.94 2.06-2.06.94zm10 10l.94 2.06.94-2.06 2.06-.94-2.06-.94-.94-2.06-.94 2.06-2.06.94z\"/><path d=\"M17.41 7.96l-1.37-1.37c-.4-.4-.92-.59-1.43-.59-.52 0-1.04.2-1.43.59L10.3 9.45l-7.72 7.72c-.78.78-.78 2.05 0 2.83L4 21.41c.39.39.9.59 1.41.59.51 0 1.02-.2 1.41-.59l7.78-7.78 2.81-2.81c.8-.78.8-2.07 0-2.86zM5.41 20L4 18.59l7.72-7.72 1.47 1.35L5.41 20z\"/>\n",
              "  </svg>\n",
              "      </button>\n",
              "      \n",
              "  <style>\n",
              "    .colab-df-container {\n",
              "      display:flex;\n",
              "      flex-wrap:wrap;\n",
              "      gap: 12px;\n",
              "    }\n",
              "\n",
              "    .colab-df-convert {\n",
              "      background-color: #E8F0FE;\n",
              "      border: none;\n",
              "      border-radius: 50%;\n",
              "      cursor: pointer;\n",
              "      display: none;\n",
              "      fill: #1967D2;\n",
              "      height: 32px;\n",
              "      padding: 0 0 0 0;\n",
              "      width: 32px;\n",
              "    }\n",
              "\n",
              "    .colab-df-convert:hover {\n",
              "      background-color: #E2EBFA;\n",
              "      box-shadow: 0px 1px 2px rgba(60, 64, 67, 0.3), 0px 1px 3px 1px rgba(60, 64, 67, 0.15);\n",
              "      fill: #174EA6;\n",
              "    }\n",
              "\n",
              "    [theme=dark] .colab-df-convert {\n",
              "      background-color: #3B4455;\n",
              "      fill: #D2E3FC;\n",
              "    }\n",
              "\n",
              "    [theme=dark] .colab-df-convert:hover {\n",
              "      background-color: #434B5C;\n",
              "      box-shadow: 0px 1px 3px 1px rgba(0, 0, 0, 0.15);\n",
              "      filter: drop-shadow(0px 1px 2px rgba(0, 0, 0, 0.3));\n",
              "      fill: #FFFFFF;\n",
              "    }\n",
              "  </style>\n",
              "\n",
              "      <script>\n",
              "        const buttonEl =\n",
              "          document.querySelector('#df-d7542a77-65a4-48ac-a023-e98dd410d7ea button.colab-df-convert');\n",
              "        buttonEl.style.display =\n",
              "          google.colab.kernel.accessAllowed ? 'block' : 'none';\n",
              "\n",
              "        async function convertToInteractive(key) {\n",
              "          const element = document.querySelector('#df-d7542a77-65a4-48ac-a023-e98dd410d7ea');\n",
              "          const dataTable =\n",
              "            await google.colab.kernel.invokeFunction('convertToInteractive',\n",
              "                                                     [key], {});\n",
              "          if (!dataTable) return;\n",
              "\n",
              "          const docLinkHtml = 'Like what you see? Visit the ' +\n",
              "            '<a target=\"_blank\" href=https://colab.research.google.com/notebooks/data_table.ipynb>data table notebook</a>'\n",
              "            + ' to learn more about interactive tables.';\n",
              "          element.innerHTML = '';\n",
              "          dataTable['output_type'] = 'display_data';\n",
              "          await google.colab.output.renderOutput(dataTable, element);\n",
              "          const docLink = document.createElement('div');\n",
              "          docLink.innerHTML = docLinkHtml;\n",
              "          element.appendChild(docLink);\n",
              "        }\n",
              "      </script>\n",
              "    </div>\n",
              "  </div>\n",
              "  "
            ]
          },
          "metadata": {},
          "execution_count": 11
        }
      ],
      "source": [
        "spss.head()"
      ]
    },
    {
      "cell_type": "code",
      "execution_count": null,
      "metadata": {
        "colab": {
          "base_uri": "https://localhost:8080/"
        },
        "id": "2rK7c8SkdWdk",
        "outputId": "9825091a-f705-4abc-de1c-1286c6cc0021"
      },
      "outputs": [
        {
          "output_type": "execute_result",
          "data": {
            "text/plain": [
              "(89819, 422)"
            ]
          },
          "metadata": {},
          "execution_count": 12
        }
      ],
      "source": [
        "spss.shape"
      ]
    },
    {
      "cell_type": "code",
      "execution_count": null,
      "metadata": {
        "colab": {
          "base_uri": "https://localhost:8080/"
        },
        "id": "V1gQwTPhdWgN",
        "outputId": "624bdd13-13c1-429b-9088-522a486ce2a4"
      },
      "outputs": [
        {
          "output_type": "stream",
          "name": "stdout",
          "text": [
            "HHID          0\n",
            "HVIDX         0\n",
            "HV000         0\n",
            "HV001         0\n",
            "HV002         0\n",
            "          ...  \n",
            "SBED1     75113\n",
            "SBED2     78704\n",
            "SBED3     75113\n",
            "SB3PRG    81804\n",
            "SB3MOS    89529\n",
            "Length: 422, dtype: int64\n"
          ]
        }
      ],
      "source": [
        "print(spss.isnull().sum())"
      ]
    },
    {
      "cell_type": "markdown",
      "metadata": {
        "id": "Fc-ybTnyflFI"
      },
      "source": [
        "### viewing the excel data"
      ]
    },
    {
      "cell_type": "code",
      "execution_count": null,
      "metadata": {
        "colab": {
          "base_uri": "https://localhost:8080/"
        },
        "id": "MDJWbVpTWN_9",
        "outputId": "6405a0f5-d995-4232-dee2-65eea74c9dbd"
      },
      "outputs": [
        {
          "output_type": "execute_result",
          "data": {
            "text/plain": [
              "      hv005  hv021            hv023 division residence wealth_index hv105  \\\n",
              "0  671011.0    1.0  barisal - rural  barisal     rural      poorest    25   \n",
              "1  671011.0    1.0  barisal - rural  barisal     rural      poorest    34   \n",
              "2  671011.0    1.0  barisal - rural  barisal     rural      poorest    35   \n",
              "3  671011.0    1.0  barisal - rural  barisal     rural      poorest    55   \n",
              "4  671011.0    1.0  barisal - rural  barisal     rural      poorest    45   \n",
              "\n",
              "     hv115     sex     education  ... systolic_average diastolic_average  \\\n",
              "0  married    male       primary  ...            110.5              58.0   \n",
              "1  married  female  no education  ...            100.5              66.5   \n",
              "2  married  female       primary  ...            100.0              65.5   \n",
              "3  married    male       primary  ...            105.0              71.0   \n",
              "4  married  female       primary  ...            143.5              93.5   \n",
              "\n",
              "  hypertension        BMI      BMI_cat  diabetes_measure  diabetes  \\\n",
              "0          0.0  20.549999       normal               6.2       0.0   \n",
              "1          0.0  24.809999   overweight               6.6       1.0   \n",
              "2          0.0  17.440001  underweight               6.0       0.0   \n",
              "3          0.0  21.080000       normal               6.5       0.0   \n",
              "4          1.0  24.549999   overweight               5.6       0.0   \n",
              "\n",
              "   marital_status  age_cat          occupation  \n",
              "0         married    18-34              manual  \n",
              "1         married    18-34         not working  \n",
              "2         married    35-39         not working  \n",
              "3         married    55-59            services  \n",
              "4         married    45-49  agri/self-employed  \n",
              "\n",
              "[5 rows x 31 columns]"
            ],
            "text/html": [
              "\n",
              "  <div id=\"df-37ddd8c0-c74c-479d-a2b3-738dfa80f07d\">\n",
              "    <div class=\"colab-df-container\">\n",
              "      <div>\n",
              "<style scoped>\n",
              "    .dataframe tbody tr th:only-of-type {\n",
              "        vertical-align: middle;\n",
              "    }\n",
              "\n",
              "    .dataframe tbody tr th {\n",
              "        vertical-align: top;\n",
              "    }\n",
              "\n",
              "    .dataframe thead th {\n",
              "        text-align: right;\n",
              "    }\n",
              "</style>\n",
              "<table border=\"1\" class=\"dataframe\">\n",
              "  <thead>\n",
              "    <tr style=\"text-align: right;\">\n",
              "      <th></th>\n",
              "      <th>hv005</th>\n",
              "      <th>hv021</th>\n",
              "      <th>hv023</th>\n",
              "      <th>division</th>\n",
              "      <th>residence</th>\n",
              "      <th>wealth_index</th>\n",
              "      <th>hv105</th>\n",
              "      <th>hv115</th>\n",
              "      <th>sex</th>\n",
              "      <th>education</th>\n",
              "      <th>...</th>\n",
              "      <th>systolic_average</th>\n",
              "      <th>diastolic_average</th>\n",
              "      <th>hypertension</th>\n",
              "      <th>BMI</th>\n",
              "      <th>BMI_cat</th>\n",
              "      <th>diabetes_measure</th>\n",
              "      <th>diabetes</th>\n",
              "      <th>marital_status</th>\n",
              "      <th>age_cat</th>\n",
              "      <th>occupation</th>\n",
              "    </tr>\n",
              "  </thead>\n",
              "  <tbody>\n",
              "    <tr>\n",
              "      <th>0</th>\n",
              "      <td>671011.0</td>\n",
              "      <td>1.0</td>\n",
              "      <td>barisal - rural</td>\n",
              "      <td>barisal</td>\n",
              "      <td>rural</td>\n",
              "      <td>poorest</td>\n",
              "      <td>25</td>\n",
              "      <td>married</td>\n",
              "      <td>male</td>\n",
              "      <td>primary</td>\n",
              "      <td>...</td>\n",
              "      <td>110.5</td>\n",
              "      <td>58.0</td>\n",
              "      <td>0.0</td>\n",
              "      <td>20.549999</td>\n",
              "      <td>normal</td>\n",
              "      <td>6.2</td>\n",
              "      <td>0.0</td>\n",
              "      <td>married</td>\n",
              "      <td>18-34</td>\n",
              "      <td>manual</td>\n",
              "    </tr>\n",
              "    <tr>\n",
              "      <th>1</th>\n",
              "      <td>671011.0</td>\n",
              "      <td>1.0</td>\n",
              "      <td>barisal - rural</td>\n",
              "      <td>barisal</td>\n",
              "      <td>rural</td>\n",
              "      <td>poorest</td>\n",
              "      <td>34</td>\n",
              "      <td>married</td>\n",
              "      <td>female</td>\n",
              "      <td>no education</td>\n",
              "      <td>...</td>\n",
              "      <td>100.5</td>\n",
              "      <td>66.5</td>\n",
              "      <td>0.0</td>\n",
              "      <td>24.809999</td>\n",
              "      <td>overweight</td>\n",
              "      <td>6.6</td>\n",
              "      <td>1.0</td>\n",
              "      <td>married</td>\n",
              "      <td>18-34</td>\n",
              "      <td>not working</td>\n",
              "    </tr>\n",
              "    <tr>\n",
              "      <th>2</th>\n",
              "      <td>671011.0</td>\n",
              "      <td>1.0</td>\n",
              "      <td>barisal - rural</td>\n",
              "      <td>barisal</td>\n",
              "      <td>rural</td>\n",
              "      <td>poorest</td>\n",
              "      <td>35</td>\n",
              "      <td>married</td>\n",
              "      <td>female</td>\n",
              "      <td>primary</td>\n",
              "      <td>...</td>\n",
              "      <td>100.0</td>\n",
              "      <td>65.5</td>\n",
              "      <td>0.0</td>\n",
              "      <td>17.440001</td>\n",
              "      <td>underweight</td>\n",
              "      <td>6.0</td>\n",
              "      <td>0.0</td>\n",
              "      <td>married</td>\n",
              "      <td>35-39</td>\n",
              "      <td>not working</td>\n",
              "    </tr>\n",
              "    <tr>\n",
              "      <th>3</th>\n",
              "      <td>671011.0</td>\n",
              "      <td>1.0</td>\n",
              "      <td>barisal - rural</td>\n",
              "      <td>barisal</td>\n",
              "      <td>rural</td>\n",
              "      <td>poorest</td>\n",
              "      <td>55</td>\n",
              "      <td>married</td>\n",
              "      <td>male</td>\n",
              "      <td>primary</td>\n",
              "      <td>...</td>\n",
              "      <td>105.0</td>\n",
              "      <td>71.0</td>\n",
              "      <td>0.0</td>\n",
              "      <td>21.080000</td>\n",
              "      <td>normal</td>\n",
              "      <td>6.5</td>\n",
              "      <td>0.0</td>\n",
              "      <td>married</td>\n",
              "      <td>55-59</td>\n",
              "      <td>services</td>\n",
              "    </tr>\n",
              "    <tr>\n",
              "      <th>4</th>\n",
              "      <td>671011.0</td>\n",
              "      <td>1.0</td>\n",
              "      <td>barisal - rural</td>\n",
              "      <td>barisal</td>\n",
              "      <td>rural</td>\n",
              "      <td>poorest</td>\n",
              "      <td>45</td>\n",
              "      <td>married</td>\n",
              "      <td>female</td>\n",
              "      <td>primary</td>\n",
              "      <td>...</td>\n",
              "      <td>143.5</td>\n",
              "      <td>93.5</td>\n",
              "      <td>1.0</td>\n",
              "      <td>24.549999</td>\n",
              "      <td>overweight</td>\n",
              "      <td>5.6</td>\n",
              "      <td>0.0</td>\n",
              "      <td>married</td>\n",
              "      <td>45-49</td>\n",
              "      <td>agri/self-employed</td>\n",
              "    </tr>\n",
              "  </tbody>\n",
              "</table>\n",
              "<p>5 rows × 31 columns</p>\n",
              "</div>\n",
              "      <button class=\"colab-df-convert\" onclick=\"convertToInteractive('df-37ddd8c0-c74c-479d-a2b3-738dfa80f07d')\"\n",
              "              title=\"Convert this dataframe to an interactive table.\"\n",
              "              style=\"display:none;\">\n",
              "        \n",
              "  <svg xmlns=\"http://www.w3.org/2000/svg\" height=\"24px\"viewBox=\"0 0 24 24\"\n",
              "       width=\"24px\">\n",
              "    <path d=\"M0 0h24v24H0V0z\" fill=\"none\"/>\n",
              "    <path d=\"M18.56 5.44l.94 2.06.94-2.06 2.06-.94-2.06-.94-.94-2.06-.94 2.06-2.06.94zm-11 1L8.5 8.5l.94-2.06 2.06-.94-2.06-.94L8.5 2.5l-.94 2.06-2.06.94zm10 10l.94 2.06.94-2.06 2.06-.94-2.06-.94-.94-2.06-.94 2.06-2.06.94z\"/><path d=\"M17.41 7.96l-1.37-1.37c-.4-.4-.92-.59-1.43-.59-.52 0-1.04.2-1.43.59L10.3 9.45l-7.72 7.72c-.78.78-.78 2.05 0 2.83L4 21.41c.39.39.9.59 1.41.59.51 0 1.02-.2 1.41-.59l7.78-7.78 2.81-2.81c.8-.78.8-2.07 0-2.86zM5.41 20L4 18.59l7.72-7.72 1.47 1.35L5.41 20z\"/>\n",
              "  </svg>\n",
              "      </button>\n",
              "      \n",
              "  <style>\n",
              "    .colab-df-container {\n",
              "      display:flex;\n",
              "      flex-wrap:wrap;\n",
              "      gap: 12px;\n",
              "    }\n",
              "\n",
              "    .colab-df-convert {\n",
              "      background-color: #E8F0FE;\n",
              "      border: none;\n",
              "      border-radius: 50%;\n",
              "      cursor: pointer;\n",
              "      display: none;\n",
              "      fill: #1967D2;\n",
              "      height: 32px;\n",
              "      padding: 0 0 0 0;\n",
              "      width: 32px;\n",
              "    }\n",
              "\n",
              "    .colab-df-convert:hover {\n",
              "      background-color: #E2EBFA;\n",
              "      box-shadow: 0px 1px 2px rgba(60, 64, 67, 0.3), 0px 1px 3px 1px rgba(60, 64, 67, 0.15);\n",
              "      fill: #174EA6;\n",
              "    }\n",
              "\n",
              "    [theme=dark] .colab-df-convert {\n",
              "      background-color: #3B4455;\n",
              "      fill: #D2E3FC;\n",
              "    }\n",
              "\n",
              "    [theme=dark] .colab-df-convert:hover {\n",
              "      background-color: #434B5C;\n",
              "      box-shadow: 0px 1px 3px 1px rgba(0, 0, 0, 0.15);\n",
              "      filter: drop-shadow(0px 1px 2px rgba(0, 0, 0, 0.3));\n",
              "      fill: #FFFFFF;\n",
              "    }\n",
              "  </style>\n",
              "\n",
              "      <script>\n",
              "        const buttonEl =\n",
              "          document.querySelector('#df-37ddd8c0-c74c-479d-a2b3-738dfa80f07d button.colab-df-convert');\n",
              "        buttonEl.style.display =\n",
              "          google.colab.kernel.accessAllowed ? 'block' : 'none';\n",
              "\n",
              "        async function convertToInteractive(key) {\n",
              "          const element = document.querySelector('#df-37ddd8c0-c74c-479d-a2b3-738dfa80f07d');\n",
              "          const dataTable =\n",
              "            await google.colab.kernel.invokeFunction('convertToInteractive',\n",
              "                                                     [key], {});\n",
              "          if (!dataTable) return;\n",
              "\n",
              "          const docLinkHtml = 'Like what you see? Visit the ' +\n",
              "            '<a target=\"_blank\" href=https://colab.research.google.com/notebooks/data_table.ipynb>data table notebook</a>'\n",
              "            + ' to learn more about interactive tables.';\n",
              "          element.innerHTML = '';\n",
              "          dataTable['output_type'] = 'display_data';\n",
              "          await google.colab.output.renderOutput(dataTable, element);\n",
              "          const docLink = document.createElement('div');\n",
              "          docLink.innerHTML = docLinkHtml;\n",
              "          element.appendChild(docLink);\n",
              "        }\n",
              "      </script>\n",
              "    </div>\n",
              "  </div>\n",
              "  "
            ]
          },
          "metadata": {},
          "execution_count": 14
        }
      ],
      "source": [
        "df.head()"
      ]
    },
    {
      "cell_type": "code",
      "execution_count": null,
      "metadata": {
        "colab": {
          "base_uri": "https://localhost:8080/"
        },
        "id": "FmLKqBgEYaLT",
        "outputId": "df00cf7f-345b-4ae0-e93f-d19f27a6d4cb"
      },
      "outputs": [
        {
          "output_type": "execute_result",
          "data": {
            "text/plain": [
              "(12099, 31)"
            ]
          },
          "metadata": {},
          "execution_count": 15
        }
      ],
      "source": [
        "df.shape"
      ]
    },
    {
      "cell_type": "code",
      "execution_count": null,
      "metadata": {
        "colab": {
          "base_uri": "https://localhost:8080/"
        },
        "id": "pdZ241JaZqx8",
        "outputId": "e3f80f6d-482b-44e8-ff29-5a3dba6bd45e"
      },
      "outputs": [
        {
          "output_type": "execute_result",
          "data": {
            "text/plain": [
              "Index(['hv005', 'hv021', 'hv023', 'division', 'residence', 'wealth_index',\n",
              "       'hv105', 'hv115', 'sex', 'education', 'sb307', 'sb308',\n",
              "       'current_smoking', 'sb323a', 'sb323b', 'sb332a', 'sb332b', 'sb335b',\n",
              "       'sbbm', 'sb3mos', 'swt', 'systolic_average', 'diastolic_average',\n",
              "       'hypertension', 'BMI', 'BMI_cat', 'diabetes_measure', 'diabetes',\n",
              "       'marital_status', 'age_cat', 'occupation'],\n",
              "      dtype='object')"
            ]
          },
          "metadata": {},
          "execution_count": 16
        }
      ],
      "source": [
        "df.columns"
      ]
    },
    {
      "cell_type": "code",
      "execution_count": null,
      "metadata": {
        "colab": {
          "base_uri": "https://localhost:8080/"
        },
        "id": "vN7Mh8mKZsS0",
        "outputId": "54dc386a-f805-425e-d802-ae70106df530"
      },
      "outputs": [
        {
          "output_type": "stream",
          "name": "stdout",
          "text": [
            "<class 'pandas.core.frame.DataFrame'>\n",
            "RangeIndex: 12099 entries, 0 to 12098\n",
            "Data columns (total 31 columns):\n",
            " #   Column             Non-Null Count  Dtype  \n",
            "---  ------             --------------  -----  \n",
            " 0   hv005              12099 non-null  float64\n",
            " 1   hv021              12099 non-null  float64\n",
            " 2   hv023              12099 non-null  object \n",
            " 3   division           12099 non-null  object \n",
            " 4   residence          12099 non-null  object \n",
            " 5   wealth_index       12099 non-null  object \n",
            " 6   hv105              12099 non-null  object \n",
            " 7   hv115              12099 non-null  object \n",
            " 8   sex                12099 non-null  object \n",
            " 9   education          12099 non-null  object \n",
            " 10  sb307              12099 non-null  object \n",
            " 11  sb308              12067 non-null  object \n",
            " 12  current_smoking    12095 non-null  object \n",
            " 13  sb323a             12099 non-null  int64  \n",
            " 14  sb323b             12099 non-null  int64  \n",
            " 15  sb332a             12099 non-null  int64  \n",
            " 16  sb332b             12099 non-null  int64  \n",
            " 17  sb335b             12099 non-null  int64  \n",
            " 18  sbbm               11981 non-null  float64\n",
            " 19  sb3mos             264 non-null    float64\n",
            " 20  swt                12099 non-null  float64\n",
            " 21  systolic_average   12099 non-null  float64\n",
            " 22  diastolic_average  12099 non-null  float64\n",
            " 23  hypertension       12099 non-null  float64\n",
            " 24  BMI                11981 non-null  float64\n",
            " 25  BMI_cat            11981 non-null  object \n",
            " 26  diabetes_measure   12099 non-null  float64\n",
            " 27  diabetes           12099 non-null  float64\n",
            " 28  marital_status     12099 non-null  object \n",
            " 29  age_cat            12099 non-null  object \n",
            " 30  occupation         12067 non-null  object \n",
            "dtypes: float64(11), int64(5), object(15)\n",
            "memory usage: 2.9+ MB\n"
          ]
        }
      ],
      "source": [
        "df.info()"
      ]
    },
    {
      "cell_type": "markdown",
      "metadata": {
        "id": "ZeNybHRkmWoP"
      },
      "source": [
        "# EDA(Exploratory Data Analysis)\n",
        "\n",
        "    working with  the stata file for eda."
      ]
    },
    {
      "cell_type": "markdown",
      "metadata": {
        "id": "FGNbiiP_Krh6"
      },
      "source": [
        "### data wranging"
      ]
    },
    {
      "cell_type": "code",
      "execution_count": null,
      "metadata": {
        "id": "Im_bew9xmQl5",
        "colab": {
          "base_uri": "https://localhost:8080/"
        },
        "outputId": "3b752689-a7e1-4e05-df8f-4d71a6f296ab"
      },
      "outputs": [
        {
          "output_type": "execute_result",
          "data": {
            "text/plain": [
              "    hv005  hv021  hv023  division  residence  wealth_index  hv105  hv115  sex  \\\n",
              "0  671011      1      3         1          2             1     25      1    1   \n",
              "1  671011      1      3         1          2             1     34      1    2   \n",
              "2  671011      1      3         1          2             1     35      1    2   \n",
              "3  671011      1      3         1          2             1     55      1    1   \n",
              "4  671011      1      3         1          2             1     45      1    2   \n",
              "\n",
              "   education  ...  systolic_average diastolic_average hypertension        BMI  \\\n",
              "0          1  ...             110.5              58.0          0.0  20.549999   \n",
              "1          0  ...             100.5              66.5          0.0  24.809999   \n",
              "2          1  ...             100.0              65.5          0.0  17.440001   \n",
              "3          1  ...             105.0              71.0          0.0  21.080000   \n",
              "4          1  ...             143.5              93.5          1.0  24.549999   \n",
              "\n",
              "   BMI_cat  diabetes_measure  diabetes  marital_status age_cat occupation  \n",
              "0      2.0               6.2       0.0               2       1          3  \n",
              "1      3.0               6.6       1.0               2       1          0  \n",
              "2      1.0               6.0       0.0               2       2          0  \n",
              "3      2.0               6.5       0.0               2       6          1  \n",
              "4      3.0               5.6       0.0               2       4          2  \n",
              "\n",
              "[5 rows x 31 columns]"
            ],
            "text/html": [
              "\n",
              "  <div id=\"df-59633499-1b18-450f-b719-b829af6b64b8\">\n",
              "    <div class=\"colab-df-container\">\n",
              "      <div>\n",
              "<style scoped>\n",
              "    .dataframe tbody tr th:only-of-type {\n",
              "        vertical-align: middle;\n",
              "    }\n",
              "\n",
              "    .dataframe tbody tr th {\n",
              "        vertical-align: top;\n",
              "    }\n",
              "\n",
              "    .dataframe thead th {\n",
              "        text-align: right;\n",
              "    }\n",
              "</style>\n",
              "<table border=\"1\" class=\"dataframe\">\n",
              "  <thead>\n",
              "    <tr style=\"text-align: right;\">\n",
              "      <th></th>\n",
              "      <th>hv005</th>\n",
              "      <th>hv021</th>\n",
              "      <th>hv023</th>\n",
              "      <th>division</th>\n",
              "      <th>residence</th>\n",
              "      <th>wealth_index</th>\n",
              "      <th>hv105</th>\n",
              "      <th>hv115</th>\n",
              "      <th>sex</th>\n",
              "      <th>education</th>\n",
              "      <th>...</th>\n",
              "      <th>systolic_average</th>\n",
              "      <th>diastolic_average</th>\n",
              "      <th>hypertension</th>\n",
              "      <th>BMI</th>\n",
              "      <th>BMI_cat</th>\n",
              "      <th>diabetes_measure</th>\n",
              "      <th>diabetes</th>\n",
              "      <th>marital_status</th>\n",
              "      <th>age_cat</th>\n",
              "      <th>occupation</th>\n",
              "    </tr>\n",
              "  </thead>\n",
              "  <tbody>\n",
              "    <tr>\n",
              "      <th>0</th>\n",
              "      <td>671011</td>\n",
              "      <td>1</td>\n",
              "      <td>3</td>\n",
              "      <td>1</td>\n",
              "      <td>2</td>\n",
              "      <td>1</td>\n",
              "      <td>25</td>\n",
              "      <td>1</td>\n",
              "      <td>1</td>\n",
              "      <td>1</td>\n",
              "      <td>...</td>\n",
              "      <td>110.5</td>\n",
              "      <td>58.0</td>\n",
              "      <td>0.0</td>\n",
              "      <td>20.549999</td>\n",
              "      <td>2.0</td>\n",
              "      <td>6.2</td>\n",
              "      <td>0.0</td>\n",
              "      <td>2</td>\n",
              "      <td>1</td>\n",
              "      <td>3</td>\n",
              "    </tr>\n",
              "    <tr>\n",
              "      <th>1</th>\n",
              "      <td>671011</td>\n",
              "      <td>1</td>\n",
              "      <td>3</td>\n",
              "      <td>1</td>\n",
              "      <td>2</td>\n",
              "      <td>1</td>\n",
              "      <td>34</td>\n",
              "      <td>1</td>\n",
              "      <td>2</td>\n",
              "      <td>0</td>\n",
              "      <td>...</td>\n",
              "      <td>100.5</td>\n",
              "      <td>66.5</td>\n",
              "      <td>0.0</td>\n",
              "      <td>24.809999</td>\n",
              "      <td>3.0</td>\n",
              "      <td>6.6</td>\n",
              "      <td>1.0</td>\n",
              "      <td>2</td>\n",
              "      <td>1</td>\n",
              "      <td>0</td>\n",
              "    </tr>\n",
              "    <tr>\n",
              "      <th>2</th>\n",
              "      <td>671011</td>\n",
              "      <td>1</td>\n",
              "      <td>3</td>\n",
              "      <td>1</td>\n",
              "      <td>2</td>\n",
              "      <td>1</td>\n",
              "      <td>35</td>\n",
              "      <td>1</td>\n",
              "      <td>2</td>\n",
              "      <td>1</td>\n",
              "      <td>...</td>\n",
              "      <td>100.0</td>\n",
              "      <td>65.5</td>\n",
              "      <td>0.0</td>\n",
              "      <td>17.440001</td>\n",
              "      <td>1.0</td>\n",
              "      <td>6.0</td>\n",
              "      <td>0.0</td>\n",
              "      <td>2</td>\n",
              "      <td>2</td>\n",
              "      <td>0</td>\n",
              "    </tr>\n",
              "    <tr>\n",
              "      <th>3</th>\n",
              "      <td>671011</td>\n",
              "      <td>1</td>\n",
              "      <td>3</td>\n",
              "      <td>1</td>\n",
              "      <td>2</td>\n",
              "      <td>1</td>\n",
              "      <td>55</td>\n",
              "      <td>1</td>\n",
              "      <td>1</td>\n",
              "      <td>1</td>\n",
              "      <td>...</td>\n",
              "      <td>105.0</td>\n",
              "      <td>71.0</td>\n",
              "      <td>0.0</td>\n",
              "      <td>21.080000</td>\n",
              "      <td>2.0</td>\n",
              "      <td>6.5</td>\n",
              "      <td>0.0</td>\n",
              "      <td>2</td>\n",
              "      <td>6</td>\n",
              "      <td>1</td>\n",
              "    </tr>\n",
              "    <tr>\n",
              "      <th>4</th>\n",
              "      <td>671011</td>\n",
              "      <td>1</td>\n",
              "      <td>3</td>\n",
              "      <td>1</td>\n",
              "      <td>2</td>\n",
              "      <td>1</td>\n",
              "      <td>45</td>\n",
              "      <td>1</td>\n",
              "      <td>2</td>\n",
              "      <td>1</td>\n",
              "      <td>...</td>\n",
              "      <td>143.5</td>\n",
              "      <td>93.5</td>\n",
              "      <td>1.0</td>\n",
              "      <td>24.549999</td>\n",
              "      <td>3.0</td>\n",
              "      <td>5.6</td>\n",
              "      <td>0.0</td>\n",
              "      <td>2</td>\n",
              "      <td>4</td>\n",
              "      <td>2</td>\n",
              "    </tr>\n",
              "  </tbody>\n",
              "</table>\n",
              "<p>5 rows × 31 columns</p>\n",
              "</div>\n",
              "      <button class=\"colab-df-convert\" onclick=\"convertToInteractive('df-59633499-1b18-450f-b719-b829af6b64b8')\"\n",
              "              title=\"Convert this dataframe to an interactive table.\"\n",
              "              style=\"display:none;\">\n",
              "        \n",
              "  <svg xmlns=\"http://www.w3.org/2000/svg\" height=\"24px\"viewBox=\"0 0 24 24\"\n",
              "       width=\"24px\">\n",
              "    <path d=\"M0 0h24v24H0V0z\" fill=\"none\"/>\n",
              "    <path d=\"M18.56 5.44l.94 2.06.94-2.06 2.06-.94-2.06-.94-.94-2.06-.94 2.06-2.06.94zm-11 1L8.5 8.5l.94-2.06 2.06-.94-2.06-.94L8.5 2.5l-.94 2.06-2.06.94zm10 10l.94 2.06.94-2.06 2.06-.94-2.06-.94-.94-2.06-.94 2.06-2.06.94z\"/><path d=\"M17.41 7.96l-1.37-1.37c-.4-.4-.92-.59-1.43-.59-.52 0-1.04.2-1.43.59L10.3 9.45l-7.72 7.72c-.78.78-.78 2.05 0 2.83L4 21.41c.39.39.9.59 1.41.59.51 0 1.02-.2 1.41-.59l7.78-7.78 2.81-2.81c.8-.78.8-2.07 0-2.86zM5.41 20L4 18.59l7.72-7.72 1.47 1.35L5.41 20z\"/>\n",
              "  </svg>\n",
              "      </button>\n",
              "      \n",
              "  <style>\n",
              "    .colab-df-container {\n",
              "      display:flex;\n",
              "      flex-wrap:wrap;\n",
              "      gap: 12px;\n",
              "    }\n",
              "\n",
              "    .colab-df-convert {\n",
              "      background-color: #E8F0FE;\n",
              "      border: none;\n",
              "      border-radius: 50%;\n",
              "      cursor: pointer;\n",
              "      display: none;\n",
              "      fill: #1967D2;\n",
              "      height: 32px;\n",
              "      padding: 0 0 0 0;\n",
              "      width: 32px;\n",
              "    }\n",
              "\n",
              "    .colab-df-convert:hover {\n",
              "      background-color: #E2EBFA;\n",
              "      box-shadow: 0px 1px 2px rgba(60, 64, 67, 0.3), 0px 1px 3px 1px rgba(60, 64, 67, 0.15);\n",
              "      fill: #174EA6;\n",
              "    }\n",
              "\n",
              "    [theme=dark] .colab-df-convert {\n",
              "      background-color: #3B4455;\n",
              "      fill: #D2E3FC;\n",
              "    }\n",
              "\n",
              "    [theme=dark] .colab-df-convert:hover {\n",
              "      background-color: #434B5C;\n",
              "      box-shadow: 0px 1px 3px 1px rgba(0, 0, 0, 0.15);\n",
              "      filter: drop-shadow(0px 1px 2px rgba(0, 0, 0, 0.3));\n",
              "      fill: #FFFFFF;\n",
              "    }\n",
              "  </style>\n",
              "\n",
              "      <script>\n",
              "        const buttonEl =\n",
              "          document.querySelector('#df-59633499-1b18-450f-b719-b829af6b64b8 button.colab-df-convert');\n",
              "        buttonEl.style.display =\n",
              "          google.colab.kernel.accessAllowed ? 'block' : 'none';\n",
              "\n",
              "        async function convertToInteractive(key) {\n",
              "          const element = document.querySelector('#df-59633499-1b18-450f-b719-b829af6b64b8');\n",
              "          const dataTable =\n",
              "            await google.colab.kernel.invokeFunction('convertToInteractive',\n",
              "                                                     [key], {});\n",
              "          if (!dataTable) return;\n",
              "\n",
              "          const docLinkHtml = 'Like what you see? Visit the ' +\n",
              "            '<a target=\"_blank\" href=https://colab.research.google.com/notebooks/data_table.ipynb>data table notebook</a>'\n",
              "            + ' to learn more about interactive tables.';\n",
              "          element.innerHTML = '';\n",
              "          dataTable['output_type'] = 'display_data';\n",
              "          await google.colab.output.renderOutput(dataTable, element);\n",
              "          const docLink = document.createElement('div');\n",
              "          docLink.innerHTML = docLinkHtml;\n",
              "          element.appendChild(docLink);\n",
              "        }\n",
              "      </script>\n",
              "    </div>\n",
              "  </div>\n",
              "  "
            ]
          },
          "metadata": {},
          "execution_count": 18
        }
      ],
      "source": [
        "stata.head()"
      ]
    },
    {
      "cell_type": "code",
      "execution_count": null,
      "metadata": {
        "id": "vo4pMXFFmQpQ",
        "colab": {
          "base_uri": "https://localhost:8080/"
        },
        "outputId": "ebee5601-36b3-4e25-9969-68371856519b"
      },
      "outputs": [
        {
          "output_type": "execute_result",
          "data": {
            "text/plain": [
              "(12099, 31)"
            ]
          },
          "metadata": {},
          "execution_count": 19
        }
      ],
      "source": [
        "stata.shape"
      ]
    },
    {
      "cell_type": "code",
      "execution_count": null,
      "metadata": {
        "id": "fn0a_YQOmQr6",
        "colab": {
          "base_uri": "https://localhost:8080/"
        },
        "outputId": "42750b52-3c85-4457-d962-cf4c99b2c30d"
      },
      "outputs": [
        {
          "output_type": "stream",
          "name": "stdout",
          "text": [
            "<class 'pandas.core.frame.DataFrame'>\n",
            "RangeIndex: 12099 entries, 0 to 12098\n",
            "Data columns (total 31 columns):\n",
            " #   Column             Non-Null Count  Dtype  \n",
            "---  ------             --------------  -----  \n",
            " 0   hv005              12099 non-null  int64  \n",
            " 1   hv021              12099 non-null  int64  \n",
            " 2   hv023              12099 non-null  int64  \n",
            " 3   division           12099 non-null  int64  \n",
            " 4   residence          12099 non-null  int64  \n",
            " 5   wealth_index       12099 non-null  int64  \n",
            " 6   hv105              12099 non-null  int64  \n",
            " 7   hv115              12099 non-null  int64  \n",
            " 8   sex                12099 non-null  int64  \n",
            " 9   education          12099 non-null  int64  \n",
            " 10  sb307              12099 non-null  int64  \n",
            " 11  sb308              12067 non-null  object \n",
            " 12  current_smoking    12095 non-null  object \n",
            " 13  sb323a             12099 non-null  int64  \n",
            " 14  sb323b             12099 non-null  int64  \n",
            " 15  sb332a             12099 non-null  int64  \n",
            " 16  sb332b             12099 non-null  int64  \n",
            " 17  sb335b             12099 non-null  int64  \n",
            " 18  sbbm               11981 non-null  object \n",
            " 19  sb3mos             264 non-null    object \n",
            " 20  swt                12099 non-null  float64\n",
            " 21  systolic_average   12099 non-null  float64\n",
            " 22  diastolic_average  12099 non-null  float64\n",
            " 23  hypertension       12099 non-null  float64\n",
            " 24  BMI                11981 non-null  float64\n",
            " 25  BMI_cat            11981 non-null  float64\n",
            " 26  diabetes_measure   12099 non-null  float64\n",
            " 27  diabetes           12099 non-null  float64\n",
            " 28  marital_status     12099 non-null  int64  \n",
            " 29  age_cat            12099 non-null  int64  \n",
            " 30  occupation         12067 non-null  object \n",
            "dtypes: float64(8), int64(18), object(5)\n",
            "memory usage: 2.9+ MB\n"
          ]
        }
      ],
      "source": [
        "stata.info()"
      ]
    },
    {
      "cell_type": "code",
      "execution_count": null,
      "metadata": {
        "id": "sZTXIbjfmQvF"
      },
      "outputs": [],
      "source": [
        "# for col in stata.columns:\n",
        "#   print(col,'=',stata[col].unique(),end='\\n-----------------------------------------------------------------------------------------\\n')"
      ]
    },
    {
      "cell_type": "code",
      "execution_count": null,
      "metadata": {
        "id": "eBYMCzKPmQ-l",
        "colab": {
          "base_uri": "https://localhost:8080/"
        },
        "outputId": "a495172a-fa18-42d0-e0e0-43076ed70fd2"
      },
      "outputs": [
        {
          "output_type": "execute_result",
          "data": {
            "text/plain": [
              "Index(['hv005', 'hv021', 'hv023', 'division', 'residence', 'wealth_index',\n",
              "       'hv105', 'hv115', 'sex', 'education', 'sb307', 'sb308',\n",
              "       'current_smoking', 'sb323a', 'sb323b', 'sb332a', 'sb332b', 'sb335b',\n",
              "       'sbbm', 'sb3mos', 'swt', 'systolic_average', 'diastolic_average',\n",
              "       'hypertension', 'BMI', 'BMI_cat', 'diabetes_measure', 'diabetes',\n",
              "       'marital_status', 'age_cat', 'occupation'],\n",
              "      dtype='object')"
            ]
          },
          "metadata": {},
          "execution_count": 22
        }
      ],
      "source": [
        "stata.columns"
      ]
    },
    {
      "cell_type": "code",
      "execution_count": null,
      "metadata": {
        "id": "ekaJU0KVmRBu",
        "colab": {
          "base_uri": "https://localhost:8080/"
        },
        "outputId": "b7c9e0ba-bdbf-4730-e20e-8f99fd44411c"
      },
      "outputs": [
        {
          "output_type": "execute_result",
          "data": {
            "text/plain": [
              "              hv005         hv021         hv023      division     residence  \\\n",
              "count  1.209900e+04  12099.000000  12099.000000  12099.000000  12099.000000   \n",
              "mean   9.794005e+05    346.492437     12.410695      4.533680      1.643194   \n",
              "std    4.779465e+05    197.163489      6.079420      2.245641      0.479077   \n",
              "min    1.588130e+05      1.000000      1.000000      1.000000      1.000000   \n",
              "25%    6.346800e+05    172.000000      7.000000      3.000000      1.000000   \n",
              "50%    9.440640e+05    350.000000     12.000000      4.000000      2.000000   \n",
              "75%    1.287920e+06    519.000000     17.000000      6.000000      2.000000   \n",
              "max    2.474826e+06    675.000000     22.000000      8.000000      2.000000   \n",
              "\n",
              "       wealth_index         hv105         hv115           sex     education  \\\n",
              "count  12099.000000  12099.000000  12099.000000  12099.000000  12099.000000   \n",
              "mean       3.050583     39.795107      1.113976      1.569303      1.346062   \n",
              "std        1.431671     16.505992      0.759457      0.495194      1.022884   \n",
              "min        1.000000     18.000000      0.000000      1.000000      0.000000   \n",
              "25%        2.000000     26.000000      1.000000      1.000000      0.000000   \n",
              "50%        3.000000     36.000000      1.000000      2.000000      1.000000   \n",
              "75%        4.000000     50.000000      1.000000      2.000000      2.000000   \n",
              "max        5.000000     95.000000      4.000000      2.000000      3.000000   \n",
              "\n",
              "       ...           swt  systolic_average  diastolic_average  hypertension  \\\n",
              "count  ...  12099.000000      12099.000000       12099.000000  12099.000000   \n",
              "mean   ...      0.979400        122.394537          80.201050      0.274981   \n",
              "std    ...      0.477946         20.522351          10.850428      0.446523   \n",
              "min    ...      0.158813         69.000000          44.500000      0.000000   \n",
              "25%    ...      0.634680        108.500000          73.000000      0.000000   \n",
              "50%    ...      0.944064        118.500000          79.500000      0.000000   \n",
              "75%    ...      1.287920        131.000000          86.500000      1.000000   \n",
              "max    ...      2.474826        245.500000         140.000000      1.000000   \n",
              "\n",
              "                BMI       BMI_cat  diabetes_measure      diabetes  \\\n",
              "count  11981.000000  11981.000000      12099.000000  12099.000000   \n",
              "mean      22.372346      2.337034          5.664807      0.102488   \n",
              "std        4.040671      0.883774          1.702249      0.303301   \n",
              "min       12.190000      1.000000          1.500000      0.000000   \n",
              "25%       19.379999      2.000000          4.900000      0.000000   \n",
              "50%       21.920000      2.000000          5.400000      0.000000   \n",
              "75%       24.900000      3.000000          6.000000      0.000000   \n",
              "max       46.689999      4.000000         25.200001      1.000000   \n",
              "\n",
              "       marital_status       age_cat  \n",
              "count    12099.000000  12099.000000  \n",
              "mean         1.996694      3.085792  \n",
              "std          0.452201      2.473282  \n",
              "min          1.000000      1.000000  \n",
              "25%          2.000000      1.000000  \n",
              "50%          2.000000      2.000000  \n",
              "75%          2.000000      5.000000  \n",
              "max          3.000000      8.000000  \n",
              "\n",
              "[8 rows x 26 columns]"
            ],
            "text/html": [
              "\n",
              "  <div id=\"df-6a92f1ab-93bd-4aa8-9254-50949e0952c9\">\n",
              "    <div class=\"colab-df-container\">\n",
              "      <div>\n",
              "<style scoped>\n",
              "    .dataframe tbody tr th:only-of-type {\n",
              "        vertical-align: middle;\n",
              "    }\n",
              "\n",
              "    .dataframe tbody tr th {\n",
              "        vertical-align: top;\n",
              "    }\n",
              "\n",
              "    .dataframe thead th {\n",
              "        text-align: right;\n",
              "    }\n",
              "</style>\n",
              "<table border=\"1\" class=\"dataframe\">\n",
              "  <thead>\n",
              "    <tr style=\"text-align: right;\">\n",
              "      <th></th>\n",
              "      <th>hv005</th>\n",
              "      <th>hv021</th>\n",
              "      <th>hv023</th>\n",
              "      <th>division</th>\n",
              "      <th>residence</th>\n",
              "      <th>wealth_index</th>\n",
              "      <th>hv105</th>\n",
              "      <th>hv115</th>\n",
              "      <th>sex</th>\n",
              "      <th>education</th>\n",
              "      <th>...</th>\n",
              "      <th>swt</th>\n",
              "      <th>systolic_average</th>\n",
              "      <th>diastolic_average</th>\n",
              "      <th>hypertension</th>\n",
              "      <th>BMI</th>\n",
              "      <th>BMI_cat</th>\n",
              "      <th>diabetes_measure</th>\n",
              "      <th>diabetes</th>\n",
              "      <th>marital_status</th>\n",
              "      <th>age_cat</th>\n",
              "    </tr>\n",
              "  </thead>\n",
              "  <tbody>\n",
              "    <tr>\n",
              "      <th>count</th>\n",
              "      <td>1.209900e+04</td>\n",
              "      <td>12099.000000</td>\n",
              "      <td>12099.000000</td>\n",
              "      <td>12099.000000</td>\n",
              "      <td>12099.000000</td>\n",
              "      <td>12099.000000</td>\n",
              "      <td>12099.000000</td>\n",
              "      <td>12099.000000</td>\n",
              "      <td>12099.000000</td>\n",
              "      <td>12099.000000</td>\n",
              "      <td>...</td>\n",
              "      <td>12099.000000</td>\n",
              "      <td>12099.000000</td>\n",
              "      <td>12099.000000</td>\n",
              "      <td>12099.000000</td>\n",
              "      <td>11981.000000</td>\n",
              "      <td>11981.000000</td>\n",
              "      <td>12099.000000</td>\n",
              "      <td>12099.000000</td>\n",
              "      <td>12099.000000</td>\n",
              "      <td>12099.000000</td>\n",
              "    </tr>\n",
              "    <tr>\n",
              "      <th>mean</th>\n",
              "      <td>9.794005e+05</td>\n",
              "      <td>346.492437</td>\n",
              "      <td>12.410695</td>\n",
              "      <td>4.533680</td>\n",
              "      <td>1.643194</td>\n",
              "      <td>3.050583</td>\n",
              "      <td>39.795107</td>\n",
              "      <td>1.113976</td>\n",
              "      <td>1.569303</td>\n",
              "      <td>1.346062</td>\n",
              "      <td>...</td>\n",
              "      <td>0.979400</td>\n",
              "      <td>122.394537</td>\n",
              "      <td>80.201050</td>\n",
              "      <td>0.274981</td>\n",
              "      <td>22.372346</td>\n",
              "      <td>2.337034</td>\n",
              "      <td>5.664807</td>\n",
              "      <td>0.102488</td>\n",
              "      <td>1.996694</td>\n",
              "      <td>3.085792</td>\n",
              "    </tr>\n",
              "    <tr>\n",
              "      <th>std</th>\n",
              "      <td>4.779465e+05</td>\n",
              "      <td>197.163489</td>\n",
              "      <td>6.079420</td>\n",
              "      <td>2.245641</td>\n",
              "      <td>0.479077</td>\n",
              "      <td>1.431671</td>\n",
              "      <td>16.505992</td>\n",
              "      <td>0.759457</td>\n",
              "      <td>0.495194</td>\n",
              "      <td>1.022884</td>\n",
              "      <td>...</td>\n",
              "      <td>0.477946</td>\n",
              "      <td>20.522351</td>\n",
              "      <td>10.850428</td>\n",
              "      <td>0.446523</td>\n",
              "      <td>4.040671</td>\n",
              "      <td>0.883774</td>\n",
              "      <td>1.702249</td>\n",
              "      <td>0.303301</td>\n",
              "      <td>0.452201</td>\n",
              "      <td>2.473282</td>\n",
              "    </tr>\n",
              "    <tr>\n",
              "      <th>min</th>\n",
              "      <td>1.588130e+05</td>\n",
              "      <td>1.000000</td>\n",
              "      <td>1.000000</td>\n",
              "      <td>1.000000</td>\n",
              "      <td>1.000000</td>\n",
              "      <td>1.000000</td>\n",
              "      <td>18.000000</td>\n",
              "      <td>0.000000</td>\n",
              "      <td>1.000000</td>\n",
              "      <td>0.000000</td>\n",
              "      <td>...</td>\n",
              "      <td>0.158813</td>\n",
              "      <td>69.000000</td>\n",
              "      <td>44.500000</td>\n",
              "      <td>0.000000</td>\n",
              "      <td>12.190000</td>\n",
              "      <td>1.000000</td>\n",
              "      <td>1.500000</td>\n",
              "      <td>0.000000</td>\n",
              "      <td>1.000000</td>\n",
              "      <td>1.000000</td>\n",
              "    </tr>\n",
              "    <tr>\n",
              "      <th>25%</th>\n",
              "      <td>6.346800e+05</td>\n",
              "      <td>172.000000</td>\n",
              "      <td>7.000000</td>\n",
              "      <td>3.000000</td>\n",
              "      <td>1.000000</td>\n",
              "      <td>2.000000</td>\n",
              "      <td>26.000000</td>\n",
              "      <td>1.000000</td>\n",
              "      <td>1.000000</td>\n",
              "      <td>0.000000</td>\n",
              "      <td>...</td>\n",
              "      <td>0.634680</td>\n",
              "      <td>108.500000</td>\n",
              "      <td>73.000000</td>\n",
              "      <td>0.000000</td>\n",
              "      <td>19.379999</td>\n",
              "      <td>2.000000</td>\n",
              "      <td>4.900000</td>\n",
              "      <td>0.000000</td>\n",
              "      <td>2.000000</td>\n",
              "      <td>1.000000</td>\n",
              "    </tr>\n",
              "    <tr>\n",
              "      <th>50%</th>\n",
              "      <td>9.440640e+05</td>\n",
              "      <td>350.000000</td>\n",
              "      <td>12.000000</td>\n",
              "      <td>4.000000</td>\n",
              "      <td>2.000000</td>\n",
              "      <td>3.000000</td>\n",
              "      <td>36.000000</td>\n",
              "      <td>1.000000</td>\n",
              "      <td>2.000000</td>\n",
              "      <td>1.000000</td>\n",
              "      <td>...</td>\n",
              "      <td>0.944064</td>\n",
              "      <td>118.500000</td>\n",
              "      <td>79.500000</td>\n",
              "      <td>0.000000</td>\n",
              "      <td>21.920000</td>\n",
              "      <td>2.000000</td>\n",
              "      <td>5.400000</td>\n",
              "      <td>0.000000</td>\n",
              "      <td>2.000000</td>\n",
              "      <td>2.000000</td>\n",
              "    </tr>\n",
              "    <tr>\n",
              "      <th>75%</th>\n",
              "      <td>1.287920e+06</td>\n",
              "      <td>519.000000</td>\n",
              "      <td>17.000000</td>\n",
              "      <td>6.000000</td>\n",
              "      <td>2.000000</td>\n",
              "      <td>4.000000</td>\n",
              "      <td>50.000000</td>\n",
              "      <td>1.000000</td>\n",
              "      <td>2.000000</td>\n",
              "      <td>2.000000</td>\n",
              "      <td>...</td>\n",
              "      <td>1.287920</td>\n",
              "      <td>131.000000</td>\n",
              "      <td>86.500000</td>\n",
              "      <td>1.000000</td>\n",
              "      <td>24.900000</td>\n",
              "      <td>3.000000</td>\n",
              "      <td>6.000000</td>\n",
              "      <td>0.000000</td>\n",
              "      <td>2.000000</td>\n",
              "      <td>5.000000</td>\n",
              "    </tr>\n",
              "    <tr>\n",
              "      <th>max</th>\n",
              "      <td>2.474826e+06</td>\n",
              "      <td>675.000000</td>\n",
              "      <td>22.000000</td>\n",
              "      <td>8.000000</td>\n",
              "      <td>2.000000</td>\n",
              "      <td>5.000000</td>\n",
              "      <td>95.000000</td>\n",
              "      <td>4.000000</td>\n",
              "      <td>2.000000</td>\n",
              "      <td>3.000000</td>\n",
              "      <td>...</td>\n",
              "      <td>2.474826</td>\n",
              "      <td>245.500000</td>\n",
              "      <td>140.000000</td>\n",
              "      <td>1.000000</td>\n",
              "      <td>46.689999</td>\n",
              "      <td>4.000000</td>\n",
              "      <td>25.200001</td>\n",
              "      <td>1.000000</td>\n",
              "      <td>3.000000</td>\n",
              "      <td>8.000000</td>\n",
              "    </tr>\n",
              "  </tbody>\n",
              "</table>\n",
              "<p>8 rows × 26 columns</p>\n",
              "</div>\n",
              "      <button class=\"colab-df-convert\" onclick=\"convertToInteractive('df-6a92f1ab-93bd-4aa8-9254-50949e0952c9')\"\n",
              "              title=\"Convert this dataframe to an interactive table.\"\n",
              "              style=\"display:none;\">\n",
              "        \n",
              "  <svg xmlns=\"http://www.w3.org/2000/svg\" height=\"24px\"viewBox=\"0 0 24 24\"\n",
              "       width=\"24px\">\n",
              "    <path d=\"M0 0h24v24H0V0z\" fill=\"none\"/>\n",
              "    <path d=\"M18.56 5.44l.94 2.06.94-2.06 2.06-.94-2.06-.94-.94-2.06-.94 2.06-2.06.94zm-11 1L8.5 8.5l.94-2.06 2.06-.94-2.06-.94L8.5 2.5l-.94 2.06-2.06.94zm10 10l.94 2.06.94-2.06 2.06-.94-2.06-.94-.94-2.06-.94 2.06-2.06.94z\"/><path d=\"M17.41 7.96l-1.37-1.37c-.4-.4-.92-.59-1.43-.59-.52 0-1.04.2-1.43.59L10.3 9.45l-7.72 7.72c-.78.78-.78 2.05 0 2.83L4 21.41c.39.39.9.59 1.41.59.51 0 1.02-.2 1.41-.59l7.78-7.78 2.81-2.81c.8-.78.8-2.07 0-2.86zM5.41 20L4 18.59l7.72-7.72 1.47 1.35L5.41 20z\"/>\n",
              "  </svg>\n",
              "      </button>\n",
              "      \n",
              "  <style>\n",
              "    .colab-df-container {\n",
              "      display:flex;\n",
              "      flex-wrap:wrap;\n",
              "      gap: 12px;\n",
              "    }\n",
              "\n",
              "    .colab-df-convert {\n",
              "      background-color: #E8F0FE;\n",
              "      border: none;\n",
              "      border-radius: 50%;\n",
              "      cursor: pointer;\n",
              "      display: none;\n",
              "      fill: #1967D2;\n",
              "      height: 32px;\n",
              "      padding: 0 0 0 0;\n",
              "      width: 32px;\n",
              "    }\n",
              "\n",
              "    .colab-df-convert:hover {\n",
              "      background-color: #E2EBFA;\n",
              "      box-shadow: 0px 1px 2px rgba(60, 64, 67, 0.3), 0px 1px 3px 1px rgba(60, 64, 67, 0.15);\n",
              "      fill: #174EA6;\n",
              "    }\n",
              "\n",
              "    [theme=dark] .colab-df-convert {\n",
              "      background-color: #3B4455;\n",
              "      fill: #D2E3FC;\n",
              "    }\n",
              "\n",
              "    [theme=dark] .colab-df-convert:hover {\n",
              "      background-color: #434B5C;\n",
              "      box-shadow: 0px 1px 3px 1px rgba(0, 0, 0, 0.15);\n",
              "      filter: drop-shadow(0px 1px 2px rgba(0, 0, 0, 0.3));\n",
              "      fill: #FFFFFF;\n",
              "    }\n",
              "  </style>\n",
              "\n",
              "      <script>\n",
              "        const buttonEl =\n",
              "          document.querySelector('#df-6a92f1ab-93bd-4aa8-9254-50949e0952c9 button.colab-df-convert');\n",
              "        buttonEl.style.display =\n",
              "          google.colab.kernel.accessAllowed ? 'block' : 'none';\n",
              "\n",
              "        async function convertToInteractive(key) {\n",
              "          const element = document.querySelector('#df-6a92f1ab-93bd-4aa8-9254-50949e0952c9');\n",
              "          const dataTable =\n",
              "            await google.colab.kernel.invokeFunction('convertToInteractive',\n",
              "                                                     [key], {});\n",
              "          if (!dataTable) return;\n",
              "\n",
              "          const docLinkHtml = 'Like what you see? Visit the ' +\n",
              "            '<a target=\"_blank\" href=https://colab.research.google.com/notebooks/data_table.ipynb>data table notebook</a>'\n",
              "            + ' to learn more about interactive tables.';\n",
              "          element.innerHTML = '';\n",
              "          dataTable['output_type'] = 'display_data';\n",
              "          await google.colab.output.renderOutput(dataTable, element);\n",
              "          const docLink = document.createElement('div');\n",
              "          docLink.innerHTML = docLinkHtml;\n",
              "          element.appendChild(docLink);\n",
              "        }\n",
              "      </script>\n",
              "    </div>\n",
              "  </div>\n",
              "  "
            ]
          },
          "metadata": {},
          "execution_count": 23
        }
      ],
      "source": [
        "stata.describe()"
      ]
    },
    {
      "cell_type": "code",
      "execution_count": null,
      "metadata": {
        "id": "mA-Wu3S3mREw",
        "colab": {
          "base_uri": "https://localhost:8080/"
        },
        "outputId": "b6200936-0c5c-4165-82c5-0256b97675c9"
      },
      "outputs": [
        {
          "output_type": "execute_result",
          "data": {
            "text/plain": [
              "array([  1,   2,   3,   4,   5,   6,   7,   8,   9,  10,  11,  12,  13,\n",
              "        14,  15,  16,  17,  18,  19,  20,  21,  22,  23,  24,  25,  26,\n",
              "        27,  28,  29,  30,  31,  32,  33,  34,  35,  36,  37,  38,  39,\n",
              "        40,  41,  42,  43,  44,  45,  46,  47,  48,  49,  50,  51,  52,\n",
              "        53,  54,  55,  56,  57,  58,  59,  60,  61,  62,  63,  64,  65,\n",
              "        66,  67,  68,  69,  70,  71,  72,  73,  74,  75,  76,  77,  78,\n",
              "        79,  80,  81,  82,  83,  84,  85,  86,  87,  88,  89,  90,  91,\n",
              "        92,  93,  94,  95,  96,  97,  98,  99, 100, 101, 102, 103, 104,\n",
              "       105, 106, 107, 108, 109, 110, 111, 112, 113, 114, 115, 116, 117,\n",
              "       118, 119, 120, 121, 122, 123, 124, 125, 126, 127, 128, 129, 130,\n",
              "       131, 132, 133, 134, 135, 136, 137, 138, 139, 140, 141, 142, 143,\n",
              "       144, 145, 146, 147, 148, 149, 150, 151, 152, 153, 154, 155, 156,\n",
              "       157, 158, 159, 160, 161, 162, 163, 164, 165, 166, 167, 168, 169,\n",
              "       170, 171, 172, 173, 174, 175, 176, 177, 178, 179, 180, 181, 182,\n",
              "       183, 184, 185, 186, 187, 188, 189, 190, 191, 192, 193, 194, 195,\n",
              "       196, 197, 198, 199, 200, 201, 202, 203, 204, 205, 206, 207, 208,\n",
              "       209, 210, 211, 212, 213, 214, 215, 216, 217, 218, 219, 220, 221,\n",
              "       222, 223, 224, 225, 226, 227, 228, 229, 230, 231, 233, 234, 235,\n",
              "       236, 237, 238, 239, 240, 241, 242, 243, 244, 245, 246, 247, 248,\n",
              "       249, 250, 251, 252, 253, 254, 255, 256, 257, 258, 259, 260, 261,\n",
              "       262, 263, 264, 265, 266, 267, 268, 269, 270, 271, 272, 273, 274,\n",
              "       275, 276, 277, 278, 279, 280, 281, 282, 283, 284, 285, 286, 287,\n",
              "       288, 289, 290, 291, 292, 293, 294, 295, 296, 297, 298, 299, 300,\n",
              "       301, 302, 303, 304, 305, 306, 307, 308, 309, 310, 311, 312, 313,\n",
              "       314, 315, 316, 317, 318, 319, 320, 321, 322, 323, 324, 325, 326,\n",
              "       327, 328, 329, 330, 331, 332, 333, 334, 335, 336, 337, 338, 339,\n",
              "       340, 341, 342, 343, 344, 345, 346, 347, 348, 349, 350, 351, 352,\n",
              "       353, 354, 355, 356, 357, 358, 359, 360, 361, 362, 363, 364, 365,\n",
              "       366, 367, 368, 369, 370, 371, 372, 373, 374, 375, 376, 377, 378,\n",
              "       379, 380, 381, 382, 383, 384, 385, 386, 387, 388, 389, 390, 391,\n",
              "       392, 393, 394, 395, 396, 397, 398, 399, 400, 401, 402, 403, 404,\n",
              "       405, 406, 407, 408, 409, 410, 411, 412, 413, 414, 415, 416, 417,\n",
              "       418, 419, 420, 421, 422, 423, 424, 425, 426, 427, 428, 429, 430,\n",
              "       431, 432, 433, 434, 435, 436, 437, 438, 439, 440, 441, 442, 443,\n",
              "       444, 445, 446, 447, 448, 449, 450, 451, 452, 453, 454, 455, 456,\n",
              "       457, 458, 459, 460, 461, 462, 463, 464, 465, 466, 467, 468, 469,\n",
              "       470, 471, 472, 473, 474, 475, 476, 477, 478, 479, 480, 481, 482,\n",
              "       483, 484, 485, 486, 488, 489, 490, 491, 492, 493, 494, 495, 496,\n",
              "       497, 498, 499, 500, 501, 502, 503, 504, 505, 506, 507, 508, 509,\n",
              "       510, 511, 512, 513, 514, 515, 516, 517, 518, 519, 520, 521, 522,\n",
              "       523, 524, 525, 526, 527, 528, 529, 530, 531, 533, 534, 535, 536,\n",
              "       537, 538, 539, 540, 541, 542, 543, 544, 545, 546, 547, 548, 549,\n",
              "       550, 551, 552, 553, 554, 555, 556, 557, 558, 559, 560, 561, 562,\n",
              "       563, 564, 565, 566, 567, 568, 569, 570, 571, 572, 573, 574, 575,\n",
              "       576, 577, 578, 579, 580, 581, 582, 583, 584, 585, 586, 587, 588,\n",
              "       589, 590, 591, 592, 593, 594, 595, 596, 597, 598, 599, 600, 601,\n",
              "       602, 603, 604, 605, 606, 607, 608, 609, 610, 611, 612, 613, 614,\n",
              "       615, 616, 617, 618, 619, 620, 621, 622, 623, 624, 625, 626, 627,\n",
              "       628, 629, 630, 631, 632, 633, 634, 635, 636, 637, 638, 639, 640,\n",
              "       641, 642, 643, 644, 645, 646, 647, 648, 649, 650, 651, 652, 653,\n",
              "       654, 655, 656, 657, 658, 659, 660, 661, 662, 663, 664, 665, 666,\n",
              "       667, 668, 669, 670, 671, 672, 673, 674, 675])"
            ]
          },
          "metadata": {},
          "execution_count": 24
        }
      ],
      "source": [
        "stata.hv021.unique()"
      ]
    },
    {
      "cell_type": "code",
      "execution_count": null,
      "metadata": {
        "id": "kAn9xlTWmRH2",
        "colab": {
          "base_uri": "https://localhost:8080/"
        },
        "outputId": "366bc9f4-6810-469c-f0ed-56c26dc62adc"
      },
      "outputs": [
        {
          "output_type": "execute_result",
          "data": {
            "text/plain": [
              "0"
            ]
          },
          "metadata": {},
          "execution_count": 25
        }
      ],
      "source": [
        "stata.hv021.isnull().sum()"
      ]
    },
    {
      "cell_type": "markdown",
      "metadata": {
        "id": "dlrKKxnkNXCV"
      },
      "source": [
        "  /HV005    \"Household sample weight (6 decimals)\"\n",
        "  "
      ]
    },
    {
      "cell_type": "code",
      "execution_count": null,
      "metadata": {
        "id": "UvKm4AiHmRLK",
        "colab": {
          "base_uri": "https://localhost:8080/"
        },
        "outputId": "6459eba3-e0a4-4cf0-8103-e22420009661"
      },
      "outputs": [
        {
          "output_type": "execute_result",
          "data": {
            "text/plain": [
              "0"
            ]
          },
          "metadata": {},
          "execution_count": 26
        }
      ],
      "source": [
        "stata.hv005.isnull().sum()"
      ]
    },
    {
      "cell_type": "code",
      "execution_count": null,
      "metadata": {
        "id": "ygEPUsvsmRN8",
        "colab": {
          "base_uri": "https://localhost:8080/"
        },
        "outputId": "7fa13818-f932-42c3-dc80-32995d15a147"
      },
      "outputs": [
        {
          "output_type": "execute_result",
          "data": {
            "text/plain": [
              "array([ 671011,  684951,  734074,  680559,  604378,  599869,  313928,\n",
              "        315162,  699847,  642053,  645101,  695896,  670498,  662371,\n",
              "        595998,  697459,  400908,  719781,  812725,  698312,  632546,\n",
              "        677776,  640021,  760627,  623397,  629862, 1013895,  548590,\n",
              "        614623,  542745,  411572,  333645,  662548,  630206,  609544,\n",
              "        589055,  685737,  653874,  835766,  706230,  669303,  634680,\n",
              "        626476,  661791,  736811,  676697,  668723,  629750,  657825,\n",
              "        272642,  536315,  281011,  317775,  293141,  295604,  271155,\n",
              "        313063,  450436,  275127,  341550,  341423,  311462,  249170,\n",
              "        313931,  209036,  218096,  230766,  192839,  158813,  218182,\n",
              "        191553, 1621963, 1488698, 1536374, 1499551, 1182891, 1550215,\n",
              "       1443851, 1507307,  990086, 1415955, 1465603, 1068565, 1536762,\n",
              "       1566033, 1679264, 1707579, 1490304, 1244681, 1532221, 1460769,\n",
              "       1592134, 1347441,  889480, 1357473, 1381698,  998346, 1503501,\n",
              "       1446406, 1406983, 1462399, 1060335, 1393117, 1379862, 1486077,\n",
              "        813374, 1389855, 1501476, 1131024, 1461631, 1402146, 1503965,\n",
              "       1408988, 1427374, 1575821, 1761788, 1459645, 1583993, 1324603,\n",
              "       1562118, 2055419, 1558693, 1457006, 1512032, 1508169, 1370279,\n",
              "       1496944, 1554740, 1062316, 1056415, 1153372, 1048016, 1372876,\n",
              "       1027062, 1085162, 1014148, 1034119, 1283126, 1027550, 1069752,\n",
              "       1009200, 1026020, 1049568,  972833, 1055600,  729158,  808326,\n",
              "        762601,  738643,  690801,  729778,  766267,  708281,  690035,\n",
              "        702411,  525054,  732330,  853500,  736516,  777764, 1965452,\n",
              "       1533500, 1512181, 1984363, 1653820, 1482336, 1563733, 2018657,\n",
              "       1977528, 1994375, 1631188, 1520807, 1612720, 2107332, 2081251,\n",
              "       2018406, 2169206, 1952190, 2063743, 2180695, 2003008, 2093662,\n",
              "       1817890, 1896599, 1890508, 1830875, 2054190, 1956720, 1988280,\n",
              "       1969870, 2031112, 2337695, 2042541, 1550768, 1492773, 1569865,\n",
              "       1967240, 1932093, 1798920, 2204398, 2121242, 2227182, 2058648,\n",
              "       2342627, 1731768, 2190790, 2103159, 1948415, 2387515, 2108700,\n",
              "       2112548, 1622697, 1557600, 1785721, 1530618, 1742415, 1686175,\n",
              "       1576873, 1538646, 1785400, 1511070, 1611403, 1680246,  606599,\n",
              "       1778363, 1620160, 1320800, 1545336, 1717040, 1772105, 1645682,\n",
              "       1597539, 1594394, 1612524, 1548702, 1726125, 1397821, 1267541,\n",
              "       1031284, 1290483, 1229032, 1060626, 1253947, 1637002, 1391010,\n",
              "       1114050, 1271211, 1575509, 1358080, 1261109, 1199894, 1353063,\n",
              "        857284, 1340669, 1041640, 1097841,  880237, 1381295, 1443615,\n",
              "        871903, 2234448, 1259416,  634684, 1030487, 1086637, 1138662,\n",
              "        598356, 1214033, 1013216,  933644, 1239950, 1293467, 1043612,\n",
              "       1190973, 1129599, 1021010, 1200849, 1072320, 1172527, 1084319,\n",
              "       1202121, 1219612,  842312,  967576, 1050742, 1019357,  952423,\n",
              "       1339506, 1136445, 1137478, 1058248,  686019, 1074161, 1058584,\n",
              "        641880, 1165743,  963181, 1059271, 1139868, 1305490, 1000707,\n",
              "       1087580, 1152285, 1393172,  961065,  720811, 1159188, 1122981,\n",
              "       1064302,  987068, 1088970, 1155256, 1062469, 1120246, 1103280,\n",
              "       1046990, 1089207, 1107032, 1166154,  682860,  619372,  720090,\n",
              "        744772,  645150,  608691,  489818,  583116,  532847,  602553,\n",
              "        598770,  629152,  701716,  471693,  708070,  638127,  621479,\n",
              "        598666,  464429,  379087,  371675,  358116,  378509,  486436,\n",
              "        298495,  368282,  341921,  365832,  826265,  790340,  908281,\n",
              "        972592,  867144,  873243,  730080,  870480,  780076,  818057,\n",
              "        961673,  685832,  844542,  980529,  703204,  818281,  804183,\n",
              "        714477,  736453,  822191,  984152,  767321,  744151,  773760,\n",
              "        712921,  740486,  739217,  624775,  713048, 1353437,  652629,\n",
              "        790944,  850214,  737073,  775970,  791806,  863397,  752979,\n",
              "        815584,  944064,  767202,  804710,  711648,  700529,  788344,\n",
              "        724794,  755978,  700068,  919669,  699072,  571108,  732861,\n",
              "        815366,  982158,  820277,  750004,  787216,  410807,  525110,\n",
              "        432875,  420463,  371754, 1959394,  458985,  426786,  385404,\n",
              "        384068,  373811,  387268,  417642,  321743,  385982,  382658,\n",
              "        365688,  281349,  310591, 1683438, 1214498, 1469183, 1230997,\n",
              "       1412141, 1161753, 1125384, 1220609, 1338791, 1266057, 1285535,\n",
              "       1324490, 1372901, 2474826, 1178920,  730418, 1300349, 1528258,\n",
              "       1199833, 1168668, 1243663, 1486673, 1291306, 1394611, 1194930,\n",
              "       1216508, 1201358,  737659,  730033, 1402402, 1367590, 1337476,\n",
              "       1480313, 1434706, 1298520, 1287920, 1323552, 1198130, 1328032,\n",
              "       1257055, 1325800, 1046782, 1218399, 1309571, 1213834, 1307520,\n",
              "       1239804, 1078770, 1195380,  738290, 1276545, 1420068, 1443649,\n",
              "       1139206, 1281583, 1269282, 1272221, 1295274, 1342233,  696986,\n",
              "        851966,  816333,  691619,  794334,  763815,  329705,  702684,\n",
              "        771732,  781509,  740507,  795261,  729780,  640907,  722331,\n",
              "        721664,  716390,  726304,  717587,  880675,  726067,  370098,\n",
              "        361014,  307701,  368949,  243703,  327706, 1129250, 1115423,\n",
              "        978393, 1428501, 1138661, 2085985, 1103021, 1153448, 1267987,\n",
              "        871136, 1096504, 1400949, 1104156, 1055129, 1205034, 1002613,\n",
              "       1109458, 1183024, 1338507, 1188939, 1082467, 1275037, 1203954,\n",
              "       1180066, 1206684, 1118405, 1100814, 1155122, 1261892,  993740,\n",
              "       1091791, 1054074, 1144576, 1197812, 1224430, 1226965, 1453429,\n",
              "       1137791, 1145929, 1222458, 1172998, 1122666, 1073594, 1164096,\n",
              "       1168367, 1097994,  709814,  780796, 1223818, 1223496,  446825,\n",
              "       1192883, 1236715, 1264926, 1301326, 1295228, 1130099,  382728,\n",
              "        628805,  561129,  496574,  443361,  558276,  596945,  422578,\n",
              "        419115,  448251,  483194,  464143,  387941,  351886,  487938,\n",
              "        460586,  516853,  468939,  410927,  421193,  449659,  423208,\n",
              "        548973,  342301,  752456,  722267,  655137, 1161558,  695691,\n",
              "        576693,  569616,  712629,  588468,  675136,  665704,  606530,\n",
              "        664691,  721919,  564664,  563937,  679107,  487120,  790561,\n",
              "        684196,  668315,  730229,  698677,  617025,  605996,  662488,\n",
              "        629507,  685477,  631855,  677383,  653728,  659753,  371315,\n",
              "        337982,  655842,  661811,  703224,  602902,  617465,  657485,\n",
              "        598461,  648338,  595846,  637255,  812188,  620462,  629054,\n",
              "        664060,  596471,  177804,  325464,  325301,  340412,  204119,\n",
              "        345731,  348268,  343071,  316790,  330208,  337527,  321530,\n",
              "        347061,  238287,  216065,  214544,  225601,  214954,  215985,\n",
              "        232599,  218723,  221392])"
            ]
          },
          "metadata": {},
          "execution_count": 27
        }
      ],
      "source": [
        "stata.hv005.unique()"
      ]
    },
    {
      "cell_type": "code",
      "execution_count": null,
      "metadata": {
        "id": "QuRTgJx-mRQy",
        "colab": {
          "base_uri": "https://localhost:8080/"
        },
        "outputId": "d83ac929-4e1a-443e-bba9-cb7b63d70b98"
      },
      "outputs": [
        {
          "output_type": "execute_result",
          "data": {
            "text/plain": [
              "        hv005  hv021  hv023  division  residence  wealth_index  hv105  hv115  \\\n",
              "7512  1469183    433     17         6          2             1     65      1   \n",
              "7513  1469183    433     17         6          2             2     50      1   \n",
              "7514  1469183    433     17         6          2             2     44      1   \n",
              "7515  1469183    433     17         6          2             2     28      1   \n",
              "7516  1469183    433     17         6          2             2     23      1   \n",
              "7517  1469183    433     17         6          2             1     50      1   \n",
              "7518  1469183    433     17         6          2             1     40      1   \n",
              "7519  1469183    433     17         6          2             1     25      0   \n",
              "7520  1469183    433     17         6          2             1     40      1   \n",
              "7521  1469183    433     17         6          2             1     31      1   \n",
              "7522  1469183    433     17         6          2             1     40      1   \n",
              "7523  1469183    433     17         6          2             1     34      1   \n",
              "7524  1469183    433     17         6          2             1     18      1   \n",
              "7525  1469183    433     17         6          2             1     29      1   \n",
              "7526  1469183    433     17         6          2             1     29      1   \n",
              "7527  1469183    433     17         6          2             1     62      1   \n",
              "7528  1469183    433     17         6          2             1     49      1   \n",
              "7529  1469183    433     17         6          2             1     26      1   \n",
              "7530  1469183    433     17         6          2             1     52      3   \n",
              "\n",
              "      sex  education  ...  systolic_average diastolic_average hypertension  \\\n",
              "7512    2          0  ...             100.0              73.0          0.0   \n",
              "7513    1          1  ...             111.0              71.0          0.0   \n",
              "7514    2          1  ...             117.5              79.0          0.0   \n",
              "7515    1          2  ...             112.0              67.0          0.0   \n",
              "7516    2          2  ...              92.0              66.0          0.0   \n",
              "7517    1          0  ...             129.5              81.0          0.0   \n",
              "7518    2          0  ...             118.0              78.5          0.0   \n",
              "7519    1          3  ...             126.0              81.5          0.0   \n",
              "7520    1          0  ...             112.0              85.5          0.0   \n",
              "7521    2          0  ...             116.5              77.5          0.0   \n",
              "7522    1          0  ...             111.0              71.5          0.0   \n",
              "7523    2          0  ...              99.5              72.5          0.0   \n",
              "7524    1          1  ...              97.5              68.5          0.0   \n",
              "7525    1          0  ...             104.0              70.0          0.0   \n",
              "7526    2          0  ...              99.0              63.0          0.0   \n",
              "7527    1          0  ...             110.5              70.0          0.0   \n",
              "7528    2          0  ...             176.5              90.0          1.0   \n",
              "7529    2          2  ...              93.0              66.5          0.0   \n",
              "7530    2          0  ...             153.0              90.0          1.0   \n",
              "\n",
              "            BMI  BMI_cat  diabetes_measure  diabetes  marital_status age_cat  \\\n",
              "7512  19.120001      2.0               7.5       1.0               2       8   \n",
              "7513  18.080000      1.0               5.4       0.0               2       5   \n",
              "7514  16.000000      1.0               8.3       1.0               2       3   \n",
              "7515  18.700001      2.0               5.3       0.0               2       1   \n",
              "7516  21.969999      2.0               5.1       0.0               2       1   \n",
              "7517  21.590000      2.0               7.1       1.0               2       5   \n",
              "7518  20.990000      2.0               7.4       1.0               2       3   \n",
              "7519  20.650000      2.0               4.7       0.0               1       1   \n",
              "7520  24.290001      3.0               6.5       0.0               2       3   \n",
              "7521  20.750000      2.0               6.4       0.0               2       1   \n",
              "7522  20.920000      2.0               8.8       1.0               2       3   \n",
              "7523  19.620001      2.0               6.6       0.0               2       1   \n",
              "7524  21.709999      2.0              10.8       1.0               2       1   \n",
              "7525  18.469999      1.0               6.3       0.0               2       1   \n",
              "7526  17.980000      1.0               6.0       0.0               2       1   \n",
              "7527  18.070000      1.0               6.7       0.0               2       7   \n",
              "7528  25.740000      3.0               6.1       0.0               2       4   \n",
              "7529  20.450001      2.0               6.6       0.0               2       1   \n",
              "7530  24.850000      3.0               7.0       1.0               3       5   \n",
              "\n",
              "     occupation  \n",
              "7512          0  \n",
              "7513          2  \n",
              "7514          0  \n",
              "7515          2  \n",
              "7516          0  \n",
              "7517          2  \n",
              "7518          0  \n",
              "7519          0  \n",
              "7520          1  \n",
              "7521          0  \n",
              "7522          2  \n",
              "7523          0  \n",
              "7524          3  \n",
              "7525          2  \n",
              "7526          2  \n",
              "7527          3  \n",
              "7528          0  \n",
              "7529          0  \n",
              "7530          0  \n",
              "\n",
              "[19 rows x 31 columns]"
            ],
            "text/html": [
              "\n",
              "  <div id=\"df-4f708592-5d9f-472d-a507-cddaf0c10811\">\n",
              "    <div class=\"colab-df-container\">\n",
              "      <div>\n",
              "<style scoped>\n",
              "    .dataframe tbody tr th:only-of-type {\n",
              "        vertical-align: middle;\n",
              "    }\n",
              "\n",
              "    .dataframe tbody tr th {\n",
              "        vertical-align: top;\n",
              "    }\n",
              "\n",
              "    .dataframe thead th {\n",
              "        text-align: right;\n",
              "    }\n",
              "</style>\n",
              "<table border=\"1\" class=\"dataframe\">\n",
              "  <thead>\n",
              "    <tr style=\"text-align: right;\">\n",
              "      <th></th>\n",
              "      <th>hv005</th>\n",
              "      <th>hv021</th>\n",
              "      <th>hv023</th>\n",
              "      <th>division</th>\n",
              "      <th>residence</th>\n",
              "      <th>wealth_index</th>\n",
              "      <th>hv105</th>\n",
              "      <th>hv115</th>\n",
              "      <th>sex</th>\n",
              "      <th>education</th>\n",
              "      <th>...</th>\n",
              "      <th>systolic_average</th>\n",
              "      <th>diastolic_average</th>\n",
              "      <th>hypertension</th>\n",
              "      <th>BMI</th>\n",
              "      <th>BMI_cat</th>\n",
              "      <th>diabetes_measure</th>\n",
              "      <th>diabetes</th>\n",
              "      <th>marital_status</th>\n",
              "      <th>age_cat</th>\n",
              "      <th>occupation</th>\n",
              "    </tr>\n",
              "  </thead>\n",
              "  <tbody>\n",
              "    <tr>\n",
              "      <th>7512</th>\n",
              "      <td>1469183</td>\n",
              "      <td>433</td>\n",
              "      <td>17</td>\n",
              "      <td>6</td>\n",
              "      <td>2</td>\n",
              "      <td>1</td>\n",
              "      <td>65</td>\n",
              "      <td>1</td>\n",
              "      <td>2</td>\n",
              "      <td>0</td>\n",
              "      <td>...</td>\n",
              "      <td>100.0</td>\n",
              "      <td>73.0</td>\n",
              "      <td>0.0</td>\n",
              "      <td>19.120001</td>\n",
              "      <td>2.0</td>\n",
              "      <td>7.5</td>\n",
              "      <td>1.0</td>\n",
              "      <td>2</td>\n",
              "      <td>8</td>\n",
              "      <td>0</td>\n",
              "    </tr>\n",
              "    <tr>\n",
              "      <th>7513</th>\n",
              "      <td>1469183</td>\n",
              "      <td>433</td>\n",
              "      <td>17</td>\n",
              "      <td>6</td>\n",
              "      <td>2</td>\n",
              "      <td>2</td>\n",
              "      <td>50</td>\n",
              "      <td>1</td>\n",
              "      <td>1</td>\n",
              "      <td>1</td>\n",
              "      <td>...</td>\n",
              "      <td>111.0</td>\n",
              "      <td>71.0</td>\n",
              "      <td>0.0</td>\n",
              "      <td>18.080000</td>\n",
              "      <td>1.0</td>\n",
              "      <td>5.4</td>\n",
              "      <td>0.0</td>\n",
              "      <td>2</td>\n",
              "      <td>5</td>\n",
              "      <td>2</td>\n",
              "    </tr>\n",
              "    <tr>\n",
              "      <th>7514</th>\n",
              "      <td>1469183</td>\n",
              "      <td>433</td>\n",
              "      <td>17</td>\n",
              "      <td>6</td>\n",
              "      <td>2</td>\n",
              "      <td>2</td>\n",
              "      <td>44</td>\n",
              "      <td>1</td>\n",
              "      <td>2</td>\n",
              "      <td>1</td>\n",
              "      <td>...</td>\n",
              "      <td>117.5</td>\n",
              "      <td>79.0</td>\n",
              "      <td>0.0</td>\n",
              "      <td>16.000000</td>\n",
              "      <td>1.0</td>\n",
              "      <td>8.3</td>\n",
              "      <td>1.0</td>\n",
              "      <td>2</td>\n",
              "      <td>3</td>\n",
              "      <td>0</td>\n",
              "    </tr>\n",
              "    <tr>\n",
              "      <th>7515</th>\n",
              "      <td>1469183</td>\n",
              "      <td>433</td>\n",
              "      <td>17</td>\n",
              "      <td>6</td>\n",
              "      <td>2</td>\n",
              "      <td>2</td>\n",
              "      <td>28</td>\n",
              "      <td>1</td>\n",
              "      <td>1</td>\n",
              "      <td>2</td>\n",
              "      <td>...</td>\n",
              "      <td>112.0</td>\n",
              "      <td>67.0</td>\n",
              "      <td>0.0</td>\n",
              "      <td>18.700001</td>\n",
              "      <td>2.0</td>\n",
              "      <td>5.3</td>\n",
              "      <td>0.0</td>\n",
              "      <td>2</td>\n",
              "      <td>1</td>\n",
              "      <td>2</td>\n",
              "    </tr>\n",
              "    <tr>\n",
              "      <th>7516</th>\n",
              "      <td>1469183</td>\n",
              "      <td>433</td>\n",
              "      <td>17</td>\n",
              "      <td>6</td>\n",
              "      <td>2</td>\n",
              "      <td>2</td>\n",
              "      <td>23</td>\n",
              "      <td>1</td>\n",
              "      <td>2</td>\n",
              "      <td>2</td>\n",
              "      <td>...</td>\n",
              "      <td>92.0</td>\n",
              "      <td>66.0</td>\n",
              "      <td>0.0</td>\n",
              "      <td>21.969999</td>\n",
              "      <td>2.0</td>\n",
              "      <td>5.1</td>\n",
              "      <td>0.0</td>\n",
              "      <td>2</td>\n",
              "      <td>1</td>\n",
              "      <td>0</td>\n",
              "    </tr>\n",
              "    <tr>\n",
              "      <th>7517</th>\n",
              "      <td>1469183</td>\n",
              "      <td>433</td>\n",
              "      <td>17</td>\n",
              "      <td>6</td>\n",
              "      <td>2</td>\n",
              "      <td>1</td>\n",
              "      <td>50</td>\n",
              "      <td>1</td>\n",
              "      <td>1</td>\n",
              "      <td>0</td>\n",
              "      <td>...</td>\n",
              "      <td>129.5</td>\n",
              "      <td>81.0</td>\n",
              "      <td>0.0</td>\n",
              "      <td>21.590000</td>\n",
              "      <td>2.0</td>\n",
              "      <td>7.1</td>\n",
              "      <td>1.0</td>\n",
              "      <td>2</td>\n",
              "      <td>5</td>\n",
              "      <td>2</td>\n",
              "    </tr>\n",
              "    <tr>\n",
              "      <th>7518</th>\n",
              "      <td>1469183</td>\n",
              "      <td>433</td>\n",
              "      <td>17</td>\n",
              "      <td>6</td>\n",
              "      <td>2</td>\n",
              "      <td>1</td>\n",
              "      <td>40</td>\n",
              "      <td>1</td>\n",
              "      <td>2</td>\n",
              "      <td>0</td>\n",
              "      <td>...</td>\n",
              "      <td>118.0</td>\n",
              "      <td>78.5</td>\n",
              "      <td>0.0</td>\n",
              "      <td>20.990000</td>\n",
              "      <td>2.0</td>\n",
              "      <td>7.4</td>\n",
              "      <td>1.0</td>\n",
              "      <td>2</td>\n",
              "      <td>3</td>\n",
              "      <td>0</td>\n",
              "    </tr>\n",
              "    <tr>\n",
              "      <th>7519</th>\n",
              "      <td>1469183</td>\n",
              "      <td>433</td>\n",
              "      <td>17</td>\n",
              "      <td>6</td>\n",
              "      <td>2</td>\n",
              "      <td>1</td>\n",
              "      <td>25</td>\n",
              "      <td>0</td>\n",
              "      <td>1</td>\n",
              "      <td>3</td>\n",
              "      <td>...</td>\n",
              "      <td>126.0</td>\n",
              "      <td>81.5</td>\n",
              "      <td>0.0</td>\n",
              "      <td>20.650000</td>\n",
              "      <td>2.0</td>\n",
              "      <td>4.7</td>\n",
              "      <td>0.0</td>\n",
              "      <td>1</td>\n",
              "      <td>1</td>\n",
              "      <td>0</td>\n",
              "    </tr>\n",
              "    <tr>\n",
              "      <th>7520</th>\n",
              "      <td>1469183</td>\n",
              "      <td>433</td>\n",
              "      <td>17</td>\n",
              "      <td>6</td>\n",
              "      <td>2</td>\n",
              "      <td>1</td>\n",
              "      <td>40</td>\n",
              "      <td>1</td>\n",
              "      <td>1</td>\n",
              "      <td>0</td>\n",
              "      <td>...</td>\n",
              "      <td>112.0</td>\n",
              "      <td>85.5</td>\n",
              "      <td>0.0</td>\n",
              "      <td>24.290001</td>\n",
              "      <td>3.0</td>\n",
              "      <td>6.5</td>\n",
              "      <td>0.0</td>\n",
              "      <td>2</td>\n",
              "      <td>3</td>\n",
              "      <td>1</td>\n",
              "    </tr>\n",
              "    <tr>\n",
              "      <th>7521</th>\n",
              "      <td>1469183</td>\n",
              "      <td>433</td>\n",
              "      <td>17</td>\n",
              "      <td>6</td>\n",
              "      <td>2</td>\n",
              "      <td>1</td>\n",
              "      <td>31</td>\n",
              "      <td>1</td>\n",
              "      <td>2</td>\n",
              "      <td>0</td>\n",
              "      <td>...</td>\n",
              "      <td>116.5</td>\n",
              "      <td>77.5</td>\n",
              "      <td>0.0</td>\n",
              "      <td>20.750000</td>\n",
              "      <td>2.0</td>\n",
              "      <td>6.4</td>\n",
              "      <td>0.0</td>\n",
              "      <td>2</td>\n",
              "      <td>1</td>\n",
              "      <td>0</td>\n",
              "    </tr>\n",
              "    <tr>\n",
              "      <th>7522</th>\n",
              "      <td>1469183</td>\n",
              "      <td>433</td>\n",
              "      <td>17</td>\n",
              "      <td>6</td>\n",
              "      <td>2</td>\n",
              "      <td>1</td>\n",
              "      <td>40</td>\n",
              "      <td>1</td>\n",
              "      <td>1</td>\n",
              "      <td>0</td>\n",
              "      <td>...</td>\n",
              "      <td>111.0</td>\n",
              "      <td>71.5</td>\n",
              "      <td>0.0</td>\n",
              "      <td>20.920000</td>\n",
              "      <td>2.0</td>\n",
              "      <td>8.8</td>\n",
              "      <td>1.0</td>\n",
              "      <td>2</td>\n",
              "      <td>3</td>\n",
              "      <td>2</td>\n",
              "    </tr>\n",
              "    <tr>\n",
              "      <th>7523</th>\n",
              "      <td>1469183</td>\n",
              "      <td>433</td>\n",
              "      <td>17</td>\n",
              "      <td>6</td>\n",
              "      <td>2</td>\n",
              "      <td>1</td>\n",
              "      <td>34</td>\n",
              "      <td>1</td>\n",
              "      <td>2</td>\n",
              "      <td>0</td>\n",
              "      <td>...</td>\n",
              "      <td>99.5</td>\n",
              "      <td>72.5</td>\n",
              "      <td>0.0</td>\n",
              "      <td>19.620001</td>\n",
              "      <td>2.0</td>\n",
              "      <td>6.6</td>\n",
              "      <td>0.0</td>\n",
              "      <td>2</td>\n",
              "      <td>1</td>\n",
              "      <td>0</td>\n",
              "    </tr>\n",
              "    <tr>\n",
              "      <th>7524</th>\n",
              "      <td>1469183</td>\n",
              "      <td>433</td>\n",
              "      <td>17</td>\n",
              "      <td>6</td>\n",
              "      <td>2</td>\n",
              "      <td>1</td>\n",
              "      <td>18</td>\n",
              "      <td>1</td>\n",
              "      <td>1</td>\n",
              "      <td>1</td>\n",
              "      <td>...</td>\n",
              "      <td>97.5</td>\n",
              "      <td>68.5</td>\n",
              "      <td>0.0</td>\n",
              "      <td>21.709999</td>\n",
              "      <td>2.0</td>\n",
              "      <td>10.8</td>\n",
              "      <td>1.0</td>\n",
              "      <td>2</td>\n",
              "      <td>1</td>\n",
              "      <td>3</td>\n",
              "    </tr>\n",
              "    <tr>\n",
              "      <th>7525</th>\n",
              "      <td>1469183</td>\n",
              "      <td>433</td>\n",
              "      <td>17</td>\n",
              "      <td>6</td>\n",
              "      <td>2</td>\n",
              "      <td>1</td>\n",
              "      <td>29</td>\n",
              "      <td>1</td>\n",
              "      <td>1</td>\n",
              "      <td>0</td>\n",
              "      <td>...</td>\n",
              "      <td>104.0</td>\n",
              "      <td>70.0</td>\n",
              "      <td>0.0</td>\n",
              "      <td>18.469999</td>\n",
              "      <td>1.0</td>\n",
              "      <td>6.3</td>\n",
              "      <td>0.0</td>\n",
              "      <td>2</td>\n",
              "      <td>1</td>\n",
              "      <td>2</td>\n",
              "    </tr>\n",
              "    <tr>\n",
              "      <th>7526</th>\n",
              "      <td>1469183</td>\n",
              "      <td>433</td>\n",
              "      <td>17</td>\n",
              "      <td>6</td>\n",
              "      <td>2</td>\n",
              "      <td>1</td>\n",
              "      <td>29</td>\n",
              "      <td>1</td>\n",
              "      <td>2</td>\n",
              "      <td>0</td>\n",
              "      <td>...</td>\n",
              "      <td>99.0</td>\n",
              "      <td>63.0</td>\n",
              "      <td>0.0</td>\n",
              "      <td>17.980000</td>\n",
              "      <td>1.0</td>\n",
              "      <td>6.0</td>\n",
              "      <td>0.0</td>\n",
              "      <td>2</td>\n",
              "      <td>1</td>\n",
              "      <td>2</td>\n",
              "    </tr>\n",
              "    <tr>\n",
              "      <th>7527</th>\n",
              "      <td>1469183</td>\n",
              "      <td>433</td>\n",
              "      <td>17</td>\n",
              "      <td>6</td>\n",
              "      <td>2</td>\n",
              "      <td>1</td>\n",
              "      <td>62</td>\n",
              "      <td>1</td>\n",
              "      <td>1</td>\n",
              "      <td>0</td>\n",
              "      <td>...</td>\n",
              "      <td>110.5</td>\n",
              "      <td>70.0</td>\n",
              "      <td>0.0</td>\n",
              "      <td>18.070000</td>\n",
              "      <td>1.0</td>\n",
              "      <td>6.7</td>\n",
              "      <td>0.0</td>\n",
              "      <td>2</td>\n",
              "      <td>7</td>\n",
              "      <td>3</td>\n",
              "    </tr>\n",
              "    <tr>\n",
              "      <th>7528</th>\n",
              "      <td>1469183</td>\n",
              "      <td>433</td>\n",
              "      <td>17</td>\n",
              "      <td>6</td>\n",
              "      <td>2</td>\n",
              "      <td>1</td>\n",
              "      <td>49</td>\n",
              "      <td>1</td>\n",
              "      <td>2</td>\n",
              "      <td>0</td>\n",
              "      <td>...</td>\n",
              "      <td>176.5</td>\n",
              "      <td>90.0</td>\n",
              "      <td>1.0</td>\n",
              "      <td>25.740000</td>\n",
              "      <td>3.0</td>\n",
              "      <td>6.1</td>\n",
              "      <td>0.0</td>\n",
              "      <td>2</td>\n",
              "      <td>4</td>\n",
              "      <td>0</td>\n",
              "    </tr>\n",
              "    <tr>\n",
              "      <th>7529</th>\n",
              "      <td>1469183</td>\n",
              "      <td>433</td>\n",
              "      <td>17</td>\n",
              "      <td>6</td>\n",
              "      <td>2</td>\n",
              "      <td>1</td>\n",
              "      <td>26</td>\n",
              "      <td>1</td>\n",
              "      <td>2</td>\n",
              "      <td>2</td>\n",
              "      <td>...</td>\n",
              "      <td>93.0</td>\n",
              "      <td>66.5</td>\n",
              "      <td>0.0</td>\n",
              "      <td>20.450001</td>\n",
              "      <td>2.0</td>\n",
              "      <td>6.6</td>\n",
              "      <td>0.0</td>\n",
              "      <td>2</td>\n",
              "      <td>1</td>\n",
              "      <td>0</td>\n",
              "    </tr>\n",
              "    <tr>\n",
              "      <th>7530</th>\n",
              "      <td>1469183</td>\n",
              "      <td>433</td>\n",
              "      <td>17</td>\n",
              "      <td>6</td>\n",
              "      <td>2</td>\n",
              "      <td>1</td>\n",
              "      <td>52</td>\n",
              "      <td>3</td>\n",
              "      <td>2</td>\n",
              "      <td>0</td>\n",
              "      <td>...</td>\n",
              "      <td>153.0</td>\n",
              "      <td>90.0</td>\n",
              "      <td>1.0</td>\n",
              "      <td>24.850000</td>\n",
              "      <td>3.0</td>\n",
              "      <td>7.0</td>\n",
              "      <td>1.0</td>\n",
              "      <td>3</td>\n",
              "      <td>5</td>\n",
              "      <td>0</td>\n",
              "    </tr>\n",
              "  </tbody>\n",
              "</table>\n",
              "<p>19 rows × 31 columns</p>\n",
              "</div>\n",
              "      <button class=\"colab-df-convert\" onclick=\"convertToInteractive('df-4f708592-5d9f-472d-a507-cddaf0c10811')\"\n",
              "              title=\"Convert this dataframe to an interactive table.\"\n",
              "              style=\"display:none;\">\n",
              "        \n",
              "  <svg xmlns=\"http://www.w3.org/2000/svg\" height=\"24px\"viewBox=\"0 0 24 24\"\n",
              "       width=\"24px\">\n",
              "    <path d=\"M0 0h24v24H0V0z\" fill=\"none\"/>\n",
              "    <path d=\"M18.56 5.44l.94 2.06.94-2.06 2.06-.94-2.06-.94-.94-2.06-.94 2.06-2.06.94zm-11 1L8.5 8.5l.94-2.06 2.06-.94-2.06-.94L8.5 2.5l-.94 2.06-2.06.94zm10 10l.94 2.06.94-2.06 2.06-.94-2.06-.94-.94-2.06-.94 2.06-2.06.94z\"/><path d=\"M17.41 7.96l-1.37-1.37c-.4-.4-.92-.59-1.43-.59-.52 0-1.04.2-1.43.59L10.3 9.45l-7.72 7.72c-.78.78-.78 2.05 0 2.83L4 21.41c.39.39.9.59 1.41.59.51 0 1.02-.2 1.41-.59l7.78-7.78 2.81-2.81c.8-.78.8-2.07 0-2.86zM5.41 20L4 18.59l7.72-7.72 1.47 1.35L5.41 20z\"/>\n",
              "  </svg>\n",
              "      </button>\n",
              "      \n",
              "  <style>\n",
              "    .colab-df-container {\n",
              "      display:flex;\n",
              "      flex-wrap:wrap;\n",
              "      gap: 12px;\n",
              "    }\n",
              "\n",
              "    .colab-df-convert {\n",
              "      background-color: #E8F0FE;\n",
              "      border: none;\n",
              "      border-radius: 50%;\n",
              "      cursor: pointer;\n",
              "      display: none;\n",
              "      fill: #1967D2;\n",
              "      height: 32px;\n",
              "      padding: 0 0 0 0;\n",
              "      width: 32px;\n",
              "    }\n",
              "\n",
              "    .colab-df-convert:hover {\n",
              "      background-color: #E2EBFA;\n",
              "      box-shadow: 0px 1px 2px rgba(60, 64, 67, 0.3), 0px 1px 3px 1px rgba(60, 64, 67, 0.15);\n",
              "      fill: #174EA6;\n",
              "    }\n",
              "\n",
              "    [theme=dark] .colab-df-convert {\n",
              "      background-color: #3B4455;\n",
              "      fill: #D2E3FC;\n",
              "    }\n",
              "\n",
              "    [theme=dark] .colab-df-convert:hover {\n",
              "      background-color: #434B5C;\n",
              "      box-shadow: 0px 1px 3px 1px rgba(0, 0, 0, 0.15);\n",
              "      filter: drop-shadow(0px 1px 2px rgba(0, 0, 0, 0.3));\n",
              "      fill: #FFFFFF;\n",
              "    }\n",
              "  </style>\n",
              "\n",
              "      <script>\n",
              "        const buttonEl =\n",
              "          document.querySelector('#df-4f708592-5d9f-472d-a507-cddaf0c10811 button.colab-df-convert');\n",
              "        buttonEl.style.display =\n",
              "          google.colab.kernel.accessAllowed ? 'block' : 'none';\n",
              "\n",
              "        async function convertToInteractive(key) {\n",
              "          const element = document.querySelector('#df-4f708592-5d9f-472d-a507-cddaf0c10811');\n",
              "          const dataTable =\n",
              "            await google.colab.kernel.invokeFunction('convertToInteractive',\n",
              "                                                     [key], {});\n",
              "          if (!dataTable) return;\n",
              "\n",
              "          const docLinkHtml = 'Like what you see? Visit the ' +\n",
              "            '<a target=\"_blank\" href=https://colab.research.google.com/notebooks/data_table.ipynb>data table notebook</a>'\n",
              "            + ' to learn more about interactive tables.';\n",
              "          element.innerHTML = '';\n",
              "          dataTable['output_type'] = 'display_data';\n",
              "          await google.colab.output.renderOutput(dataTable, element);\n",
              "          const docLink = document.createElement('div');\n",
              "          docLink.innerHTML = docLinkHtml;\n",
              "          element.appendChild(docLink);\n",
              "        }\n",
              "      </script>\n",
              "    </div>\n",
              "  </div>\n",
              "  "
            ]
          },
          "metadata": {},
          "execution_count": 28
        }
      ],
      "source": [
        "stata[stata.hv005==1469183]"
      ]
    },
    {
      "cell_type": "markdown",
      "metadata": {
        "id": "UG-xAJ2wOo2p"
      },
      "source": [
        "  /HV023    \"Stratification used in sample design\""
      ]
    },
    {
      "cell_type": "code",
      "execution_count": null,
      "metadata": {
        "id": "omc4ixxMmRTo",
        "colab": {
          "base_uri": "https://localhost:8080/"
        },
        "outputId": "c19999f2-ce9d-4331-8464-5649d6b5eaea"
      },
      "outputs": [
        {
          "output_type": "execute_result",
          "data": {
            "text/plain": [
              "0"
            ]
          },
          "metadata": {},
          "execution_count": 29
        }
      ],
      "source": [
        "stata.hv023.isnull().sum()"
      ]
    },
    {
      "cell_type": "code",
      "execution_count": null,
      "metadata": {
        "id": "Ty4YPRZemRWl",
        "colab": {
          "base_uri": "https://localhost:8080/"
        },
        "outputId": "7c617baf-2140-4105-f373-52312315767b"
      },
      "outputs": [
        {
          "output_type": "execute_result",
          "data": {
            "text/plain": [
              "<matplotlib.axes._subplots.AxesSubplot at 0x7f08a00280d0>"
            ]
          },
          "metadata": {},
          "execution_count": 30
        },
        {
          "output_type": "display_data",
          "data": {
            "text/plain": [
              "<Figure size 432x288 with 1 Axes>"
            ],
            "image/png": "[encoded data removed]"
          },
          "metadata": {
            "needs_background": "light"
          }
        }
      ],
      "source": [
        "sns.boxplot(data=stata.hv023)"
      ]
    },
    {
      "cell_type": "code",
      "execution_count": null,
      "metadata": {
        "id": "S7TrTR0ClVQ2",
        "colab": {
          "base_uri": "https://localhost:8080/"
        },
        "outputId": "c851ad92-8ea9-49ff-9684-b84afeef221e"
      },
      "outputs": [
        {
          "output_type": "execute_result",
          "data": {
            "text/plain": [
              "Index(['hv005', 'hv021', 'hv023', 'division', 'residence', 'wealth_index',\n",
              "       'hv105', 'hv115', 'sex', 'education', 'sb307', 'sb308',\n",
              "       'current_smoking', 'sb323a', 'sb323b', 'sb332a', 'sb332b', 'sb335b',\n",
              "       'sbbm', 'sb3mos', 'swt', 'systolic_average', 'diastolic_average',\n",
              "       'hypertension', 'BMI', 'BMI_cat', 'diabetes_measure', 'diabetes',\n",
              "       'marital_status', 'age_cat', 'occupation'],\n",
              "      dtype='object')"
            ]
          },
          "metadata": {},
          "execution_count": 31
        }
      ],
      "source": [
        "stata.columns"
      ]
    },
    {
      "cell_type": "code",
      "execution_count": null,
      "metadata": {
        "id": "9o9S25-4lfHH",
        "colab": {
          "base_uri": "https://localhost:8080/"
        },
        "outputId": "0feaa1cd-1bef-4366-f2b8-07dad803169f"
      },
      "outputs": [
        {
          "output_type": "execute_result",
          "data": {
            "text/plain": [
              "       diabetes_measure  diabetes\n",
              "0                   6.2       0.0\n",
              "1                   6.6       1.0\n",
              "2                   6.0       0.0\n",
              "3                   6.5       0.0\n",
              "4                   5.6       0.0\n",
              "...                 ...       ...\n",
              "12094               5.7       0.0\n",
              "12095               6.1       0.0\n",
              "12096               6.7       1.0\n",
              "12097               5.4       0.0\n",
              "12098               6.3       0.0\n",
              "\n",
              "[12099 rows x 2 columns]"
            ],
            "text/html": [
              "\n",
              "  <div id=\"df-548ee288-34bc-490f-b045-a06eb2dc94f1\">\n",
              "    <div class=\"colab-df-container\">\n",
              "      <div>\n",
              "<style scoped>\n",
              "    .dataframe tbody tr th:only-of-type {\n",
              "        vertical-align: middle;\n",
              "    }\n",
              "\n",
              "    .dataframe tbody tr th {\n",
              "        vertical-align: top;\n",
              "    }\n",
              "\n",
              "    .dataframe thead th {\n",
              "        text-align: right;\n",
              "    }\n",
              "</style>\n",
              "<table border=\"1\" class=\"dataframe\">\n",
              "  <thead>\n",
              "    <tr style=\"text-align: right;\">\n",
              "      <th></th>\n",
              "      <th>diabetes_measure</th>\n",
              "      <th>diabetes</th>\n",
              "    </tr>\n",
              "  </thead>\n",
              "  <tbody>\n",
              "    <tr>\n",
              "      <th>0</th>\n",
              "      <td>6.2</td>\n",
              "      <td>0.0</td>\n",
              "    </tr>\n",
              "    <tr>\n",
              "      <th>1</th>\n",
              "      <td>6.6</td>\n",
              "      <td>1.0</td>\n",
              "    </tr>\n",
              "    <tr>\n",
              "      <th>2</th>\n",
              "      <td>6.0</td>\n",
              "      <td>0.0</td>\n",
              "    </tr>\n",
              "    <tr>\n",
              "      <th>3</th>\n",
              "      <td>6.5</td>\n",
              "      <td>0.0</td>\n",
              "    </tr>\n",
              "    <tr>\n",
              "      <th>4</th>\n",
              "      <td>5.6</td>\n",
              "      <td>0.0</td>\n",
              "    </tr>\n",
              "    <tr>\n",
              "      <th>...</th>\n",
              "      <td>...</td>\n",
              "      <td>...</td>\n",
              "    </tr>\n",
              "    <tr>\n",
              "      <th>12094</th>\n",
              "      <td>5.7</td>\n",
              "      <td>0.0</td>\n",
              "    </tr>\n",
              "    <tr>\n",
              "      <th>12095</th>\n",
              "      <td>6.1</td>\n",
              "      <td>0.0</td>\n",
              "    </tr>\n",
              "    <tr>\n",
              "      <th>12096</th>\n",
              "      <td>6.7</td>\n",
              "      <td>1.0</td>\n",
              "    </tr>\n",
              "    <tr>\n",
              "      <th>12097</th>\n",
              "      <td>5.4</td>\n",
              "      <td>0.0</td>\n",
              "    </tr>\n",
              "    <tr>\n",
              "      <th>12098</th>\n",
              "      <td>6.3</td>\n",
              "      <td>0.0</td>\n",
              "    </tr>\n",
              "  </tbody>\n",
              "</table>\n",
              "<p>12099 rows × 2 columns</p>\n",
              "</div>\n",
              "      <button class=\"colab-df-convert\" onclick=\"convertToInteractive('df-548ee288-34bc-490f-b045-a06eb2dc94f1')\"\n",
              "              title=\"Convert this dataframe to an interactive table.\"\n",
              "              style=\"display:none;\">\n",
              "        \n",
              "  <svg xmlns=\"http://www.w3.org/2000/svg\" height=\"24px\"viewBox=\"0 0 24 24\"\n",
              "       width=\"24px\">\n",
              "    <path d=\"M0 0h24v24H0V0z\" fill=\"none\"/>\n",
              "    <path d=\"M18.56 5.44l.94 2.06.94-2.06 2.06-.94-2.06-.94-.94-2.06-.94 2.06-2.06.94zm-11 1L8.5 8.5l.94-2.06 2.06-.94-2.06-.94L8.5 2.5l-.94 2.06-2.06.94zm10 10l.94 2.06.94-2.06 2.06-.94-2.06-.94-.94-2.06-.94 2.06-2.06.94z\"/><path d=\"M17.41 7.96l-1.37-1.37c-.4-.4-.92-.59-1.43-.59-.52 0-1.04.2-1.43.59L10.3 9.45l-7.72 7.72c-.78.78-.78 2.05 0 2.83L4 21.41c.39.39.9.59 1.41.59.51 0 1.02-.2 1.41-.59l7.78-7.78 2.81-2.81c.8-.78.8-2.07 0-2.86zM5.41 20L4 18.59l7.72-7.72 1.47 1.35L5.41 20z\"/>\n",
              "  </svg>\n",
              "      </button>\n",
              "      \n",
              "  <style>\n",
              "    .colab-df-container {\n",
              "      display:flex;\n",
              "      flex-wrap:wrap;\n",
              "      gap: 12px;\n",
              "    }\n",
              "\n",
              "    .colab-df-convert {\n",
              "      background-color: #E8F0FE;\n",
              "      border: none;\n",
              "      border-radius: 50%;\n",
              "      cursor: pointer;\n",
              "      display: none;\n",
              "      fill: #1967D2;\n",
              "      height: 32px;\n",
              "      padding: 0 0 0 0;\n",
              "      width: 32px;\n",
              "    }\n",
              "\n",
              "    .colab-df-convert:hover {\n",
              "      background-color: #E2EBFA;\n",
              "      box-shadow: 0px 1px 2px rgba(60, 64, 67, 0.3), 0px 1px 3px 1px rgba(60, 64, 67, 0.15);\n",
              "      fill: #174EA6;\n",
              "    }\n",
              "\n",
              "    [theme=dark] .colab-df-convert {\n",
              "      background-color: #3B4455;\n",
              "      fill: #D2E3FC;\n",
              "    }\n",
              "\n",
              "    [theme=dark] .colab-df-convert:hover {\n",
              "      background-color: #434B5C;\n",
              "      box-shadow: 0px 1px 3px 1px rgba(0, 0, 0, 0.15);\n",
              "      filter: drop-shadow(0px 1px 2px rgba(0, 0, 0, 0.3));\n",
              "      fill: #FFFFFF;\n",
              "    }\n",
              "  </style>\n",
              "\n",
              "      <script>\n",
              "        const buttonEl =\n",
              "          document.querySelector('#df-548ee288-34bc-490f-b045-a06eb2dc94f1 button.colab-df-convert');\n",
              "        buttonEl.style.display =\n",
              "          google.colab.kernel.accessAllowed ? 'block' : 'none';\n",
              "\n",
              "        async function convertToInteractive(key) {\n",
              "          const element = document.querySelector('#df-548ee288-34bc-490f-b045-a06eb2dc94f1');\n",
              "          const dataTable =\n",
              "            await google.colab.kernel.invokeFunction('convertToInteractive',\n",
              "                                                     [key], {});\n",
              "          if (!dataTable) return;\n",
              "\n",
              "          const docLinkHtml = 'Like what you see? Visit the ' +\n",
              "            '<a target=\"_blank\" href=https://colab.research.google.com/notebooks/data_table.ipynb>data table notebook</a>'\n",
              "            + ' to learn more about interactive tables.';\n",
              "          element.innerHTML = '';\n",
              "          dataTable['output_type'] = 'display_data';\n",
              "          await google.colab.output.renderOutput(dataTable, element);\n",
              "          const docLink = document.createElement('div');\n",
              "          docLink.innerHTML = docLinkHtml;\n",
              "          element.appendChild(docLink);\n",
              "        }\n",
              "      </script>\n",
              "    </div>\n",
              "  </div>\n",
              "  "
            ]
          },
          "metadata": {},
          "execution_count": 32
        }
      ],
      "source": [
        "stata[['diabetes_measure', 'diabetes']]"
      ]
    },
    {
      "cell_type": "code",
      "execution_count": null,
      "metadata": {
        "id": "lJhfE7HxlfDw"
      },
      "outputs": [],
      "source": []
    },
    {
      "cell_type": "code",
      "execution_count": null,
      "metadata": {
        "id": "nbCYmePtlfAZ"
      },
      "outputs": [],
      "source": []
    },
    {
      "cell_type": "code",
      "execution_count": null,
      "metadata": {
        "id": "G4IXmy1Ole8Q"
      },
      "outputs": [],
      "source": []
    },
    {
      "cell_type": "code",
      "execution_count": null,
      "metadata": {
        "id": "wZEPbKeJleoY"
      },
      "outputs": [],
      "source": []
    },
    {
      "cell_type": "markdown",
      "metadata": {
        "id": "ZruUA6VgPDKG"
      },
      "source": [
        "### Null values"
      ]
    },
    {
      "cell_type": "code",
      "execution_count": null,
      "metadata": {
        "id": "ID5qenqymRZW",
        "colab": {
          "base_uri": "https://localhost:8080/"
        },
        "outputId": "451a2a09-e365-45c4-cde4-3991e4d44dec"
      },
      "outputs": [
        {
          "output_type": "execute_result",
          "data": {
            "text/plain": [
              "hv005                    0\n",
              "hv021                    0\n",
              "hv023                    0\n",
              "division                 0\n",
              "residence                0\n",
              "wealth_index             0\n",
              "hv105                    0\n",
              "hv115                    0\n",
              "sex                      0\n",
              "education                0\n",
              "sb307                    0\n",
              "sb308                   32\n",
              "current_smoking          4\n",
              "sb323a                   0\n",
              "sb323b                   0\n",
              "sb332a                   0\n",
              "sb332b                   0\n",
              "sb335b                   0\n",
              "sbbm                   118\n",
              "sb3mos               11835\n",
              "swt                      0\n",
              "systolic_average         0\n",
              "diastolic_average        0\n",
              "hypertension             0\n",
              "BMI                    118\n",
              "BMI_cat                118\n",
              "diabetes_measure         0\n",
              "diabetes                 0\n",
              "marital_status           0\n",
              "age_cat                  0\n",
              "occupation              32\n",
              "dtype: int64"
            ]
          },
          "metadata": {},
          "execution_count": 33
        }
      ],
      "source": [
        "stata.isnull().sum()"
      ]
    },
    {
      "cell_type": "markdown",
      "metadata": {
        "id": "xr5j3bhmd6Ag"
      },
      "source": [
        "### Outliers"
      ]
    },
    {
      "cell_type": "markdown",
      "metadata": {
        "id": "mMz_75Oximwi"
      },
      "source": [
        "1. z-score\n",
        "2. IQR\n",
        "\n",
        "**Z-score** :     \n",
        "z=x-mean/std\n",
        "\n",
        "**IQR**:\n",
        "focus on 25% to 75%\n",
        "IQR=(75%-25%)"
      ]
    },
    {
      "cell_type": "code",
      "execution_count": null,
      "metadata": {
        "id": "f_gdKerQA759",
        "colab": {
          "base_uri": "https://localhost:8080/"
        },
        "outputId": "407877dd-34f8-4834-9ef1-ef2d80d38425"
      },
      "outputs": [
        {
          "output_type": "stream",
          "name": "stdout",
          "text": [
            "hv005 = int64\n",
            "hv021 = int64\n",
            "hv023 = int64\n",
            "division = int64\n",
            "residence = int64\n",
            "wealth_index = int64\n",
            "hv105 = int64\n",
            "hv115 = int64\n",
            "sex = int64\n",
            "education = int64\n",
            "sb307 = int64\n",
            "sb308 = object\n",
            "current_smoking = object\n",
            "sb323a = int64\n",
            "sb323b = int64\n",
            "sb332a = int64\n",
            "sb332b = int64\n",
            "sb335b = int64\n",
            "sbbm = object\n",
            "sb3mos = object\n",
            "swt = float64\n",
            "systolic_average = float64\n",
            "diastolic_average = float64\n",
            "hypertension = float64\n",
            "BMI = float64\n",
            "BMI_cat = float64\n",
            "diabetes_measure = float64\n",
            "diabetes = float64\n",
            "marital_status = int64\n",
            "age_cat = int64\n",
            "occupation = object\n"
          ]
        }
      ],
      "source": [
        "for i in stata.columns :\n",
        "  print(i,'=',stata[i].dtype) "
      ]
    },
    {
      "cell_type": "code",
      "execution_count": null,
      "metadata": {
        "id": "8e7QJrxomqA1",
        "colab": {
          "base_uri": "https://localhost:8080/"
        },
        "outputId": "e9dfff05-ca48-4fe0-b801-b336151b50e4"
      },
      "outputs": [
        {
          "output_type": "execute_result",
          "data": {
            "text/plain": [
              "<matplotlib.axes._subplots.AxesSubplot at 0x7f08a003f210>"
            ]
          },
          "metadata": {},
          "execution_count": 35
        },
        {
          "output_type": "display_data",
          "data": {
            "text/plain": [
              "<Figure size 432x288 with 1 Axes>"
            ],
            "image/png": "[encoded data removed]"
          },
          "metadata": {
            "needs_background": "light"
          }
        }
      ],
      "source": [
        "sns.boxplot(data=stata,x='diabetes',y='hypertension')"
      ]
    },
    {
      "cell_type": "code",
      "execution_count": null,
      "metadata": {
        "id": "pi4qCtNfmRfD",
        "colab": {
          "base_uri": "https://localhost:8080/"
        },
        "outputId": "d9a076a1-4725-47cc-a670-c7004e63f607"
      },
      "outputs": [
        {
          "output_type": "execute_result",
          "data": {
            "text/plain": [
              "<matplotlib.axes._subplots.AxesSubplot at 0x7f089e8fb710>"
            ]
          },
          "metadata": {},
          "execution_count": 36
        },
        {
          "output_type": "display_data",
          "data": {
            "text/plain": [
              "<Figure size 432x288 with 1 Axes>"
            ],
            "image/png": "[encoded data removed]"
          },
          "metadata": {
            "needs_background": "light"
          }
        }
      ],
      "source": [
        "sns.boxplot(data=stata.division)"
      ]
    },
    {
      "cell_type": "code",
      "execution_count": null,
      "metadata": {
        "id": "cM25FnJvmRiO",
        "colab": {
          "base_uri": "https://localhost:8080/"
        },
        "outputId": "235c57d1-b720-4538-fd19-a2bb70580d53"
      },
      "outputs": [
        {
          "output_type": "execute_result",
          "data": {
            "text/plain": [
              "<matplotlib.axes._subplots.AxesSubplot at 0x7f089e0a92d0>"
            ]
          },
          "metadata": {},
          "execution_count": 37
        },
        {
          "output_type": "display_data",
          "data": {
            "text/plain": [
              "<Figure size 432x288 with 1 Axes>"
            ],
            "image/png": "[encoded data removed]"
          },
          "metadata": {
            "needs_background": "light"
          }
        }
      ],
      "source": [
        "sns.boxplot(data=stata.residence)"
      ]
    },
    {
      "cell_type": "code",
      "execution_count": null,
      "metadata": {
        "id": "ceO9zBX3mRk7",
        "colab": {
          "base_uri": "https://localhost:8080/"
        },
        "outputId": "864b009e-939d-4fa8-b589-185c7756df50"
      },
      "outputs": [
        {
          "output_type": "execute_result",
          "data": {
            "text/plain": [
              "2    7782\n",
              "1    4317\n",
              "Name: residence, dtype: int64"
            ]
          },
          "metadata": {},
          "execution_count": 38
        }
      ],
      "source": [
        "stata.residence.value_counts()"
      ]
    },
    {
      "cell_type": "code",
      "execution_count": null,
      "metadata": {
        "id": "3v0_x8_3mRnL",
        "colab": {
          "base_uri": "https://localhost:8080/"
        },
        "outputId": "e66421ad-3e0b-4ea2-9db1-2187ac626f40"
      },
      "outputs": [
        {
          "output_type": "execute_result",
          "data": {
            "text/plain": [
              "5    2662\n",
              "3    2394\n",
              "1    2379\n",
              "4    2355\n",
              "2    2309\n",
              "Name: wealth_index, dtype: int64"
            ]
          },
          "metadata": {},
          "execution_count": 39
        }
      ],
      "source": [
        "stata.wealth_index.value_counts()\n"
      ]
    },
    {
      "cell_type": "markdown",
      "metadata": {
        "id": "3a4eT3_QSPBD"
      },
      "source": [
        "HV105    \"Age of household members\""
      ]
    },
    {
      "cell_type": "code",
      "execution_count": null,
      "metadata": {
        "id": "vLfYxG0FSGjE",
        "colab": {
          "base_uri": "https://localhost:8080/"
        },
        "outputId": "6436f3b6-1c4d-4e45-c28b-1c217146b1c6"
      },
      "outputs": [
        {
          "output_type": "execute_result",
          "data": {
            "text/plain": [
              "array([25, 34, 35, 55, 45, 42, 39, 71, 61, 32, 21, 76, 24, 65, 49, 27, 75,\n",
              "       20, 18, 95, 30, 70, 50, 56, 38, 62, 22, 36, 51, 41, 46, 90, 59, 40,\n",
              "       28, 37, 60, 47, 19, 33, 92, 85, 31, 23, 52, 26, 29, 64, 44, 63, 48,\n",
              "       54, 43, 74, 67, 73, 79, 57, 80, 68, 58, 53, 72, 69, 82, 87, 66, 78,\n",
              "       77, 84, 88])"
            ]
          },
          "metadata": {},
          "execution_count": 40
        }
      ],
      "source": [
        "stata.hv105.unique()"
      ]
    },
    {
      "cell_type": "code",
      "execution_count": null,
      "metadata": {
        "id": "RQ7xb6lMSGmM",
        "colab": {
          "base_uri": "https://localhost:8080/"
        },
        "outputId": "1b9a5f08-9f55-406c-f201-6d5de8af087e"
      },
      "outputs": [
        {
          "output_type": "execute_result",
          "data": {
            "text/plain": [
              "<matplotlib.axes._subplots.AxesSubplot at 0x7f089df83c50>"
            ]
          },
          "metadata": {},
          "execution_count": 41
        },
        {
          "output_type": "display_data",
          "data": {
            "text/plain": [
              "<Figure size 432x288 with 1 Axes>"
            ],
            "image/png": "[encoded data removed]"
          },
          "metadata": {
            "needs_background": "light"
          }
        }
      ],
      "source": [
        "sns.boxplot(data=stata.hv105)"
      ]
    },
    {
      "cell_type": "markdown",
      "metadata": {
        "id": "ybbSrEqHSnol"
      },
      "source": [
        "there are some outliers to remove in hv105\n",
        "\n",
        "\n",
        "> Indented block\n",
        "\n"
      ]
    },
    {
      "cell_type": "markdown",
      "metadata": {
        "id": "VzjGsxA5S5n-"
      },
      "source": [
        "**HV115    \"Current marital status\"**"
      ]
    },
    {
      "cell_type": "code",
      "execution_count": null,
      "metadata": {
        "id": "89xjePMwSGpk",
        "colab": {
          "base_uri": "https://localhost:8080/"
        },
        "outputId": "2fe012b6-f3f0-4b41-ef6a-80786c3d32dc"
      },
      "outputs": [
        {
          "output_type": "execute_result",
          "data": {
            "text/plain": [
              "array([1, 3, 0, 4])"
            ]
          },
          "metadata": {},
          "execution_count": 42
        }
      ],
      "source": [
        "stata.hv115.unique()"
      ]
    },
    {
      "cell_type": "code",
      "execution_count": null,
      "metadata": {
        "id": "moWbnYpDSGsc",
        "colab": {
          "base_uri": "https://localhost:8080/"
        },
        "outputId": "d8ad4f3a-8d61-4fb0-9c89-9c1cd14a2912"
      },
      "outputs": [
        {
          "output_type": "execute_result",
          "data": {
            "text/plain": [
              "Index(['hv005', 'hv021', 'hv023', 'division', 'residence', 'wealth_index',\n",
              "       'hv105', 'hv115', 'sex', 'education', 'sb307', 'sb308',\n",
              "       'current_smoking', 'sb323a', 'sb323b', 'sb332a', 'sb332b', 'sb335b',\n",
              "       'sbbm', 'sb3mos', 'swt', 'systolic_average', 'diastolic_average',\n",
              "       'hypertension', 'BMI', 'BMI_cat', 'diabetes_measure', 'diabetes',\n",
              "       'marital_status', 'age_cat', 'occupation'],\n",
              "      dtype='object')"
            ]
          },
          "metadata": {},
          "execution_count": 43
        }
      ],
      "source": [
        "stata.columns\n"
      ]
    },
    {
      "cell_type": "code",
      "execution_count": null,
      "metadata": {
        "id": "2vhdZeW6SGvc",
        "colab": {
          "base_uri": "https://localhost:8080/"
        },
        "outputId": "e748bbdf-7ac2-4b14-fac9-1496a682aebc"
      },
      "outputs": [
        {
          "output_type": "execute_result",
          "data": {
            "text/plain": [
              "2    6888\n",
              "1    5211\n",
              "Name: sex, dtype: int64"
            ]
          },
          "metadata": {},
          "execution_count": 44
        }
      ],
      "source": [
        "stata.sex.value_counts()"
      ]
    },
    {
      "cell_type": "code",
      "execution_count": null,
      "metadata": {
        "id": "6yxgiZQMSGyf",
        "colab": {
          "base_uri": "https://localhost:8080/"
        },
        "outputId": "111c8241-30ef-4b0a-afe4-82eaba4693e2"
      },
      "outputs": [
        {
          "output_type": "execute_result",
          "data": {
            "text/plain": [
              "<matplotlib.axes._subplots.AxesSubplot at 0x7f089df07dd0>"
            ]
          },
          "metadata": {},
          "execution_count": 45
        },
        {
          "output_type": "display_data",
          "data": {
            "text/plain": [
              "<Figure size 720x288 with 1 Axes>"
            ],
            "image/png": "[encoded data removed]"
          },
          "metadata": {}
        }
      ],
      "source": [
        "sns.set(rc={\"figure.figsize\":(10, 4)})\n",
        "sns.histplot(data=stata.sex)"
      ]
    },
    {
      "cell_type": "markdown",
      "metadata": {
        "id": "FSC0SCMRRpGx"
      },
      "source": [
        "the male and female count is balanced"
      ]
    },
    {
      "cell_type": "code",
      "execution_count": null,
      "metadata": {
        "id": "zbuzcnXeSG4U",
        "colab": {
          "base_uri": "https://localhost:8080/"
        },
        "outputId": "26cb4155-30a0-4b53-c40c-24d5a38dfbac"
      },
      "outputs": [
        {
          "output_type": "execute_result",
          "data": {
            "text/plain": [
              "<matplotlib.axes._subplots.AxesSubplot at 0x7f089debad90>"
            ]
          },
          "metadata": {},
          "execution_count": 46
        },
        {
          "output_type": "display_data",
          "data": {
            "text/plain": [
              "<Figure size 720x288 with 1 Axes>"
            ],
            "image/png": "[encoded data removed]"
          },
          "metadata": {}
        }
      ],
      "source": [
        "sns.histplot(data=stata.hv115)"
      ]
    },
    {
      "cell_type": "code",
      "execution_count": null,
      "metadata": {
        "id": "Ep-RopunSG7M",
        "colab": {
          "base_uri": "https://localhost:8080/"
        },
        "outputId": "1b83d7bb-6a7b-42dc-eccd-d3005d7cc4fc"
      },
      "outputs": [
        {
          "output_type": "execute_result",
          "data": {
            "text/plain": [
              "<matplotlib.axes._subplots.AxesSubplot at 0x7f089deba850>"
            ]
          },
          "metadata": {},
          "execution_count": 47
        },
        {
          "output_type": "display_data",
          "data": {
            "text/plain": [
              "<Figure size 720x288 with 1 Axes>"
            ],
            "image/png": "[encoded data removed]"
          },
          "metadata": {}
        }
      ],
      "source": [
        "sns.histplot(data=stata.diabetes)"
      ]
    },
    {
      "cell_type": "code",
      "execution_count": null,
      "metadata": {
        "id": "Yn57TtPuSG-U",
        "colab": {
          "base_uri": "https://localhost:8080/"
        },
        "outputId": "de4adc40-021c-4e3c-8d80-e422c49aa1cf"
      },
      "outputs": [
        {
          "output_type": "execute_result",
          "data": {
            "text/plain": [
              "<matplotlib.axes._subplots.AxesSubplot at 0x7f089dd4b090>"
            ]
          },
          "metadata": {},
          "execution_count": 48
        },
        {
          "output_type": "display_data",
          "data": {
            "text/plain": [
              "<Figure size 720x288 with 1 Axes>"
            ],
            "image/png": "[encoded data removed]"
          },
          "metadata": {}
        }
      ],
      "source": [
        "sns.histplot(data=stata.hypertension)"
      ]
    },
    {
      "cell_type": "code",
      "execution_count": null,
      "metadata": {
        "id": "OZXNRx9CSHBQ",
        "colab": {
          "base_uri": "https://localhost:8080/"
        },
        "outputId": "e27987fb-a0b8-46b3-810d-0e38fab8d68d"
      },
      "outputs": [
        {
          "output_type": "execute_result",
          "data": {
            "text/plain": [
              "<matplotlib.axes._subplots.AxesSubplot at 0x7f089dcd9650>"
            ]
          },
          "metadata": {},
          "execution_count": 49
        },
        {
          "output_type": "display_data",
          "data": {
            "text/plain": [
              "<Figure size 720x288 with 1 Axes>"
            ],
            "image/png": "[encoded data removed]"
          },
          "metadata": {}
        }
      ],
      "source": [
        "sns.histplot(x='diabetes',y='BMI',data=stata)\n"
      ]
    },
    {
      "cell_type": "markdown",
      "metadata": {
        "id": "bkwGhBR1neYV"
      },
      "source": [
        "###working with the month of pragnancy"
      ]
    },
    {
      "cell_type": "code",
      "execution_count": null,
      "metadata": {
        "id": "LHgjssUHnv3c",
        "colab": {
          "base_uri": "https://localhost:8080/"
        },
        "outputId": "22461a65-f744-431c-a95e-bece5928a866"
      },
      "outputs": [
        {
          "output_type": "stream",
          "name": "stdout",
          "text": [
            "number of male: 5211\n"
          ]
        }
      ],
      "source": [
        "print('number of male:',stata.loc[stata.sex==1,'sb3mos'].shape[0])"
      ]
    },
    {
      "cell_type": "code",
      "execution_count": null,
      "metadata": {
        "id": "ApCDX0MXnv-0",
        "colab": {
          "base_uri": "https://localhost:8080/"
        },
        "outputId": "a292af9b-6892-43cc-a903-92ce9392d2db"
      },
      "outputs": [
        {
          "output_type": "stream",
          "name": "stdout",
          "text": [
            "number of female: 6888\n"
          ]
        }
      ],
      "source": [
        "print('number of female:',stata.loc[stata.sex==2,'sb3mos'].shape[0])"
      ]
    },
    {
      "cell_type": "code",
      "execution_count": null,
      "metadata": {
        "id": "5eAGW3ZJnwIM",
        "colab": {
          "base_uri": "https://localhost:8080/"
        },
        "outputId": "2b8c531c-426f-4b2e-dc93-51ad921e6717"
      },
      "outputs": [
        {
          "output_type": "execute_result",
          "data": {
            "text/plain": [
              "264"
            ]
          },
          "metadata": {},
          "execution_count": 52
        }
      ],
      "source": [
        "prg=stata[~stata.sb3mos.isnull()].shape[0]\n",
        "prg\n"
      ]
    },
    {
      "cell_type": "markdown",
      "metadata": {
        "id": "iMBxvvnzseov"
      },
      "source": [
        "total number of pregnent women\n",
        "\n"
      ]
    },
    {
      "cell_type": "code",
      "execution_count": null,
      "metadata": {
        "id": "BzLn10fGnwPk",
        "colab": {
          "base_uri": "https://localhost:8080/"
        },
        "outputId": "1ac323c0-4ef7-44fa-c9fc-2659075a224a"
      },
      "outputs": [
        {
          "output_type": "execute_result",
          "data": {
            "text/plain": [
              "<matplotlib.axes._subplots.AxesSubplot at 0x7f089dc13710>"
            ]
          },
          "metadata": {},
          "execution_count": 53
        },
        {
          "output_type": "display_data",
          "data": {
            "text/plain": [
              "<Figure size 720x288 with 1 Axes>"
            ],
            "image/png": "[encoded data removed]"
          },
          "metadata": {}
        }
      ],
      "source": [
        "\n",
        "stata[~stata.sb3mos.isnull()].diabetes.value_counts().plot(kind='pie',autopct='%1.2f%%',labels=['diabetic','not_diabetic'])"
      ]
    },
    {
      "cell_type": "markdown",
      "metadata": {
        "id": "zlfmbNgsKYk1"
      },
      "source": [
        "diabetes of pregnent women's"
      ]
    },
    {
      "cell_type": "code",
      "execution_count": null,
      "metadata": {
        "id": "uKw1gAe0nwSh",
        "colab": {
          "base_uri": "https://localhost:8080/"
        },
        "outputId": "056be54d-c84c-4400-9027-2cf61e1ae2d5"
      },
      "outputs": [
        {
          "output_type": "execute_result",
          "data": {
            "text/plain": [
              "<matplotlib.axes._subplots.AxesSubplot at 0x7f089dbec850>"
            ]
          },
          "metadata": {},
          "execution_count": 54
        },
        {
          "output_type": "display_data",
          "data": {
            "text/plain": [
              "<Figure size 720x288 with 1 Axes>"
            ],
            "image/png": "[encoded data removed]"
          },
          "metadata": {}
        }
      ],
      "source": [
        "stata[~stata.sb3mos.isnull()].hypertension.value_counts().plot(kind='pie',autopct='%1.2f%%')"
      ]
    },
    {
      "cell_type": "markdown",
      "metadata": {
        "id": "J7O8_MI5Kjca"
      },
      "source": [
        "Hypertension of pragnent women"
      ]
    },
    {
      "cell_type": "code",
      "execution_count": null,
      "metadata": {
        "id": "KFxV7ZP2nwVl"
      },
      "outputs": [],
      "source": []
    },
    {
      "cell_type": "markdown",
      "metadata": {
        "id": "8C1FpS3pMAMb"
      },
      "source": [
        "# Data preprocessing"
      ]
    },
    {
      "cell_type": "markdown",
      "metadata": {
        "id": "gPWiZqs0Uq4I"
      },
      "source": [
        "## Data cleaning"
      ]
    },
    {
      "cell_type": "markdown",
      "metadata": {
        "id": "12mh6v_TRezr"
      },
      "source": [
        "### handle the null values"
      ]
    },
    {
      "cell_type": "markdown",
      "metadata": {
        "id": "Vuq9Bj0TTi6I"
      },
      "source": [
        "occupation type\n",
        "\n",
        "\n",
        "\n"
      ]
    },
    {
      "cell_type": "code",
      "execution_count": null,
      "metadata": {
        "id": "3-P1k4nanwYt",
        "colab": {
          "base_uri": "https://localhost:8080/"
        },
        "outputId": "83a05886-cef8-4d96-f882-7ed838b7c130"
      },
      "outputs": [
        {
          "output_type": "execute_result",
          "data": {
            "text/plain": [
              "count     12067\n",
              "unique       17\n",
              "top           0\n",
              "freq       4749\n",
              "Name: sb308, dtype: int64"
            ]
          },
          "metadata": {},
          "execution_count": 55
        }
      ],
      "source": [
        "stata.sb308.describe()"
      ]
    },
    {
      "cell_type": "code",
      "execution_count": null,
      "metadata": {
        "id": "iibO0JRDnwbo"
      },
      "outputs": [],
      "source": [
        "stata.sb308.fillna(stata.sb308.mode()[0],inplace=True)"
      ]
    },
    {
      "cell_type": "code",
      "execution_count": null,
      "metadata": {
        "id": "FAjCS570nwef",
        "colab": {
          "base_uri": "https://localhost:8080/"
        },
        "outputId": "abfe85a6-a003-408b-c165-3ee11ce80efe"
      },
      "outputs": [
        {
          "output_type": "execute_result",
          "data": {
            "text/plain": [
              "0"
            ]
          },
          "metadata": {},
          "execution_count": 57
        }
      ],
      "source": [
        "stata.sb308.isnull().sum()"
      ]
    },
    {
      "cell_type": "markdown",
      "metadata": {
        "id": "9Ms89KhdTw7l"
      },
      "source": [
        "\"NA - Smoking (cigarettes in last 24 hours)\""
      ]
    },
    {
      "cell_type": "code",
      "execution_count": null,
      "metadata": {
        "id": "YKjDRqjwR2w5",
        "colab": {
          "base_uri": "https://localhost:8080/"
        },
        "outputId": "ed28efd5-e878-4875-8ba2-4d1ba34b628b"
      },
      "outputs": [
        {
          "output_type": "execute_result",
          "data": {
            "text/plain": [
              "array([1, 0, nan], dtype=object)"
            ]
          },
          "metadata": {},
          "execution_count": 58
        }
      ],
      "source": [
        "stata.current_smoking.unique()"
      ]
    },
    {
      "cell_type": "code",
      "execution_count": null,
      "metadata": {
        "id": "SDKkgMeMR2ug",
        "colab": {
          "base_uri": "https://localhost:8080/"
        },
        "outputId": "41323abc-8a90-443b-859e-0f84887cea06"
      },
      "outputs": [
        {
          "output_type": "execute_result",
          "data": {
            "text/plain": [
              "4"
            ]
          },
          "metadata": {},
          "execution_count": 59
        }
      ],
      "source": [
        "stata.current_smoking.isnull().sum()"
      ]
    },
    {
      "cell_type": "code",
      "execution_count": null,
      "metadata": {
        "id": "GgXFxJHXR2oQ"
      },
      "outputs": [],
      "source": [
        "stata.current_smoking.fillna(stata.current_smoking.mode()[0],inplace=True)"
      ]
    },
    {
      "cell_type": "code",
      "execution_count": null,
      "metadata": {
        "id": "SyTpaqbxR2k0",
        "colab": {
          "base_uri": "https://localhost:8080/"
        },
        "outputId": "dcb7faa3-e1ae-4f41-ac75-0c1913ffdaa4"
      },
      "outputs": [
        {
          "output_type": "stream",
          "name": "stdout",
          "text": [
            "sbbm 118\n",
            "sb3mos 11835\n",
            "BMI 118\n",
            "BMI_cat 118\n",
            "occupation 32\n"
          ]
        },
        {
          "output_type": "execute_result",
          "data": {
            "text/plain": [
              "[None, None, None, None, None]"
            ]
          },
          "metadata": {},
          "execution_count": 61
        }
      ],
      "source": [
        " [print(i,stata[i].isnull().sum()) for i in stata.columns if stata[i].isnull().sum()>0]\n",
        "  \n",
        "   "
      ]
    },
    {
      "cell_type": "markdown",
      "metadata": {
        "id": "rLbtAomWWdzk"
      },
      "source": [
        "sbbm \"Body mass index for respondent\""
      ]
    },
    {
      "cell_type": "code",
      "execution_count": null,
      "metadata": {
        "id": "aWVuFVnyR2hA",
        "colab": {
          "base_uri": "https://localhost:8080/"
        },
        "outputId": "01593482-b41c-40b9-dd9d-cbf21f140407"
      },
      "outputs": [
        {
          "output_type": "execute_result",
          "data": {
            "text/plain": [
              "count     11981\n",
              "unique     1860\n",
              "top        1977\n",
              "freq         23\n",
              "Name: sbbm, dtype: int64"
            ]
          },
          "metadata": {},
          "execution_count": 62
        }
      ],
      "source": [
        "stata.sbbm.describe()"
      ]
    },
    {
      "cell_type": "code",
      "execution_count": null,
      "metadata": {
        "id": "rmyUYdjvXgPm"
      },
      "outputs": [],
      "source": [
        "def mmm(data):\n",
        "  print('mean=  ',data.mean())\n",
        "  print('median=  ',data.median())\n",
        "  print('mode=  ',data.mode()[0])\n",
        "  "
      ]
    },
    {
      "cell_type": "code",
      "execution_count": null,
      "metadata": {
        "id": "q8ilhr9yXgMI",
        "colab": {
          "base_uri": "https://localhost:8080/"
        },
        "outputId": "4ee6a7cd-5725-4219-d815-5ac2ce45368f"
      },
      "outputs": [
        {
          "output_type": "stream",
          "name": "stdout",
          "text": [
            "mean=   2237.2346214840163\n",
            "median=   2192.0\n",
            "mode=   1977\n"
          ]
        }
      ],
      "source": [
        "mmm(stata.sbbm)"
      ]
    },
    {
      "cell_type": "code",
      "execution_count": null,
      "metadata": {
        "id": "ry8L6e8cXjhZ"
      },
      "outputs": [],
      "source": [
        "stata.sbbm.fillna(stata.sbbm.mode()[0],inplace=True)"
      ]
    },
    {
      "cell_type": "markdown",
      "metadata": {
        "id": "tcSrnPgmY25M"
      },
      "source": [
        "SB3MOS   \"Months of pregnancy\""
      ]
    },
    {
      "cell_type": "code",
      "execution_count": null,
      "metadata": {
        "id": "O68QHs59Xjex"
      },
      "outputs": [],
      "source": [
        "stata.sb3mos.fillna(0,inplace=True)"
      ]
    },
    {
      "cell_type": "code",
      "execution_count": null,
      "metadata": {
        "id": "AnEyUbGuXjbV",
        "colab": {
          "base_uri": "https://localhost:8080/"
        },
        "outputId": "3fc73c89-9319-427e-e706-648fc9fe5a21"
      },
      "outputs": [
        {
          "output_type": "execute_result",
          "data": {
            "text/plain": [
              "0"
            ]
          },
          "metadata": {},
          "execution_count": 67
        }
      ],
      "source": [
        "stata.sb3mos.isnull().sum()"
      ]
    },
    {
      "cell_type": "markdown",
      "metadata": {
        "id": "CDxtkintaQ5z"
      },
      "source": [
        "BMI\n"
      ]
    },
    {
      "cell_type": "code",
      "execution_count": null,
      "metadata": {
        "id": "5_lKDMygXjYg"
      },
      "outputs": [],
      "source": [
        "stata.BMI.fillna(stata.BMI.mean(),inplace=True)"
      ]
    },
    {
      "cell_type": "markdown",
      "metadata": {
        "id": "BZI6-9tdawWc"
      },
      "source": [
        "Bmi Category"
      ]
    },
    {
      "cell_type": "code",
      "execution_count": null,
      "metadata": {
        "id": "P3PYi_pnXjVZ"
      },
      "outputs": [],
      "source": [
        "stata.BMI_cat.fillna(stata.BMI_cat.median(),inplace=True)"
      ]
    },
    {
      "cell_type": "code",
      "execution_count": null,
      "metadata": {
        "id": "gAeRM1UgXjQR",
        "colab": {
          "base_uri": "https://localhost:8080/"
        },
        "outputId": "6b16b1ea-55b5-4320-a8e7-ba41a01cd11f"
      },
      "outputs": [
        {
          "output_type": "stream",
          "name": "stdout",
          "text": [
            "mean=   1.2864837987900886\n",
            "median=   1.0\n",
            "mode=   0\n"
          ]
        }
      ],
      "source": [
        "mmm(stata.occupation)"
      ]
    },
    {
      "cell_type": "markdown",
      "metadata": {
        "id": "6W92H5DScAP2"
      },
      "source": [
        "Occupation"
      ]
    },
    {
      "cell_type": "code",
      "execution_count": null,
      "metadata": {
        "id": "xo1WRYGQXjPB"
      },
      "outputs": [],
      "source": [
        "stata.occupation.fillna(stata.occupation.mode()[0],inplace=True)"
      ]
    },
    {
      "cell_type": "code",
      "execution_count": null,
      "metadata": {
        "id": "ZtAalMGuXjMo",
        "colab": {
          "base_uri": "https://localhost:8080/"
        },
        "outputId": "d0de5c60-0dfd-4d69-f349-837c5f148784"
      },
      "outputs": [
        {
          "output_type": "execute_result",
          "data": {
            "text/plain": [
              "hv005                0\n",
              "hv021                0\n",
              "hv023                0\n",
              "division             0\n",
              "residence            0\n",
              "wealth_index         0\n",
              "hv105                0\n",
              "hv115                0\n",
              "sex                  0\n",
              "education            0\n",
              "sb307                0\n",
              "sb308                0\n",
              "current_smoking      0\n",
              "sb323a               0\n",
              "sb323b               0\n",
              "sb332a               0\n",
              "sb332b               0\n",
              "sb335b               0\n",
              "sbbm                 0\n",
              "sb3mos               0\n",
              "swt                  0\n",
              "systolic_average     0\n",
              "diastolic_average    0\n",
              "hypertension         0\n",
              "BMI                  0\n",
              "BMI_cat              0\n",
              "diabetes_measure     0\n",
              "diabetes             0\n",
              "marital_status       0\n",
              "age_cat              0\n",
              "occupation           0\n",
              "dtype: int64"
            ]
          },
          "metadata": {},
          "execution_count": 72
        }
      ],
      "source": [
        "stata.isnull().sum()"
      ]
    },
    {
      "cell_type": "markdown",
      "metadata": {
        "id": "FwmR8_VRRCfl"
      },
      "source": [
        "### error,Duplicate"
      ]
    },
    {
      "cell_type": "code",
      "execution_count": null,
      "metadata": {
        "id": "cJ9sgctVXjJQ",
        "colab": {
          "base_uri": "https://localhost:8080/"
        },
        "outputId": "66fa923f-2c82-42c5-a442-9a294f60b4d6"
      },
      "outputs": [
        {
          "output_type": "execute_result",
          "data": {
            "text/plain": [
              "0"
            ]
          },
          "metadata": {},
          "execution_count": 73
        }
      ],
      "source": [
        "stata.duplicated().sum()"
      ]
    },
    {
      "cell_type": "code",
      "execution_count": null,
      "metadata": {
        "id": "wsTewTOXXjGA",
        "colab": {
          "base_uri": "https://localhost:8080/"
        },
        "outputId": "11c90600-e528-4664-dcb3-0aab7b57fe7a"
      },
      "outputs": [
        {
          "output_type": "stream",
          "name": "stdout",
          "text": [
            "<class 'pandas.core.frame.DataFrame'>\n",
            "RangeIndex: 12099 entries, 0 to 12098\n",
            "Data columns (total 31 columns):\n",
            " #   Column             Non-Null Count  Dtype  \n",
            "---  ------             --------------  -----  \n",
            " 0   hv005              12099 non-null  int64  \n",
            " 1   hv021              12099 non-null  int64  \n",
            " 2   hv023              12099 non-null  int64  \n",
            " 3   division           12099 non-null  int64  \n",
            " 4   residence          12099 non-null  int64  \n",
            " 5   wealth_index       12099 non-null  int64  \n",
            " 6   hv105              12099 non-null  int64  \n",
            " 7   hv115              12099 non-null  int64  \n",
            " 8   sex                12099 non-null  int64  \n",
            " 9   education          12099 non-null  int64  \n",
            " 10  sb307              12099 non-null  int64  \n",
            " 11  sb308              12099 non-null  int64  \n",
            " 12  current_smoking    12099 non-null  int64  \n",
            " 13  sb323a             12099 non-null  int64  \n",
            " 14  sb323b             12099 non-null  int64  \n",
            " 15  sb332a             12099 non-null  int64  \n",
            " 16  sb332b             12099 non-null  int64  \n",
            " 17  sb335b             12099 non-null  int64  \n",
            " 18  sbbm               12099 non-null  int64  \n",
            " 19  sb3mos             12099 non-null  int64  \n",
            " 20  swt                12099 non-null  float64\n",
            " 21  systolic_average   12099 non-null  float64\n",
            " 22  diastolic_average  12099 non-null  float64\n",
            " 23  hypertension       12099 non-null  float64\n",
            " 24  BMI                12099 non-null  float64\n",
            " 25  BMI_cat            12099 non-null  float64\n",
            " 26  diabetes_measure   12099 non-null  float64\n",
            " 27  diabetes           12099 non-null  float64\n",
            " 28  marital_status     12099 non-null  int64  \n",
            " 29  age_cat            12099 non-null  int64  \n",
            " 30  occupation         12099 non-null  int64  \n",
            "dtypes: float64(8), int64(23)\n",
            "memory usage: 2.9 MB\n"
          ]
        }
      ],
      "source": [
        "stata.info()"
      ]
    },
    {
      "cell_type": "markdown",
      "metadata": {
        "id": "D6_SPcyBf9rT"
      },
      "source": [
        "### Removing the outliers"
      ]
    },
    {
      "cell_type": "code",
      "execution_count": null,
      "metadata": {
        "id": "pZYSTTiXXgFn"
      },
      "outputs": [],
      "source": []
    },
    {
      "cell_type": "code",
      "execution_count": null,
      "metadata": {
        "id": "8Rh8_ADlR2V_"
      },
      "outputs": [],
      "source": []
    },
    {
      "cell_type": "markdown",
      "metadata": {
        "id": "EjGJwNNZmYD8"
      },
      "source": []
    },
    {
      "cell_type": "markdown",
      "metadata": {
        "id": "oBU3Q5a8AHi8"
      },
      "source": [
        "# Feature Engineering"
      ]
    },
    {
      "cell_type": "code",
      "execution_count": null,
      "metadata": {
        "id": "7IJL8fdDAMW0",
        "colab": {
          "base_uri": "https://localhost:8080/"
        },
        "outputId": "b275e148-2862-4367-c101-393ef5da63fa"
      },
      "outputs": [
        {
          "output_type": "execute_result",
          "data": {
            "text/plain": [
              "0        0.0\n",
              "1        1.0\n",
              "2        0.0\n",
              "3        0.0\n",
              "4        0.0\n",
              "        ... \n",
              "12094    0.0\n",
              "12095    0.0\n",
              "12096    1.0\n",
              "12097    0.0\n",
              "12098    0.0\n",
              "Name: diabetes, Length: 12099, dtype: float64"
            ]
          },
          "metadata": {},
          "execution_count": 75
        }
      ],
      "source": [
        "stata['diabetes']"
      ]
    },
    {
      "cell_type": "markdown",
      "metadata": {
        "id": "JSPs_QY_fQy_"
      },
      "source": [
        "### feature scaling"
      ]
    },
    {
      "cell_type": "code",
      "execution_count": null,
      "metadata": {
        "id": "40yp0dTrDGQb"
      },
      "outputs": [],
      "source": []
    },
    {
      "cell_type": "markdown",
      "metadata": {
        "id": "awXtEWFPF8T_"
      },
      "source": [
        "# Feature Selection"
      ]
    },
    {
      "cell_type": "markdown",
      "metadata": {
        "id": "4Z773ydhiL8y"
      },
      "source": [
        "## Working with diabetes "
      ]
    },
    {
      "cell_type": "markdown",
      "metadata": {
        "id": "6TPEaYjanGh-"
      },
      "source": [
        "### train test split"
      ]
    },
    {
      "cell_type": "code",
      "execution_count": null,
      "metadata": {
        "id": "Ai0fY5FnF_CR"
      },
      "outputs": [],
      "source": [
        "from sklearn.model_selection import train_test_split\n"
      ]
    },
    {
      "cell_type": "code",
      "execution_count": null,
      "metadata": {
        "id": "VAgcm8WLlBa3"
      },
      "outputs": [],
      "source": [
        "d_xdata=stata.drop('diabetes',axis=1)\n",
        "d_ydata=stata['diabetes']"
      ]
    },
    {
      "cell_type": "code",
      "execution_count": null,
      "metadata": {
        "id": "0R4QfMklmKoG"
      },
      "outputs": [],
      "source": [
        "x_dtrain,x_dtest,y_dtrain,y_dtest=train_test_split(d_xdata,d_ydata,random_state=45,test_size=0.33)"
      ]
    },
    {
      "cell_type": "code",
      "execution_count": null,
      "metadata": {
        "id": "3eL6GORonawR",
        "colab": {
          "base_uri": "https://localhost:8080/"
        },
        "outputId": "f0b6d1b8-90ef-4ab2-a33f-d37b2102c496"
      },
      "outputs": [
        {
          "output_type": "execute_result",
          "data": {
            "text/plain": [
              "4876    0.0\n",
              "4783    0.0\n",
              "221     0.0\n",
              "8069    0.0\n",
              "8610    0.0\n",
              "Name: diabetes, dtype: float64"
            ]
          },
          "metadata": {},
          "execution_count": 79
        }
      ],
      "source": [
        "y_dtrain.head()"
      ]
    },
    {
      "cell_type": "code",
      "execution_count": null,
      "metadata": {
        "id": "ze3l9A5JmyAH",
        "colab": {
          "base_uri": "https://localhost:8080/"
        },
        "outputId": "8a6717d8-5e17-40cf-c852-86539f642e2d"
      },
      "outputs": [
        {
          "output_type": "execute_result",
          "data": {
            "text/plain": [
              "        hv005  hv021  hv023  division  residence  wealth_index  hv105  hv115  \\\n",
              "4876  1019357    291     12         4          2             4     40      1   \n",
              "4783  1202121    286     12         4          2             4     26      1   \n",
              "221    595998     15      3         1          2             2     95      3   \n",
              "8069  1367590    462     17         6          2             2     22      1   \n",
              "8610   696986    493     16         6          1             3     36      1   \n",
              "\n",
              "      sex  education  ...       swt  systolic_average  diastolic_average  \\\n",
              "4876    1          1  ...  1.019357             143.0              100.0   \n",
              "4783    1          2  ...  1.202121             117.0               83.0   \n",
              "221     2          0  ...  0.595998             104.0               73.5   \n",
              "8069    2          2  ...  1.367590             120.0               91.0   \n",
              "8610    2          1  ...  0.696986             136.0               93.0   \n",
              "\n",
              "      hypertension        BMI  BMI_cat  diabetes_measure  marital_status  \\\n",
              "4876           1.0  22.340000      2.0               6.1               2   \n",
              "4783           0.0  25.809999      3.0               5.5               2   \n",
              "221            0.0  23.940001      3.0               5.4               3   \n",
              "8069           1.0  23.830000      3.0               4.6               2   \n",
              "8610           1.0  21.660000      2.0               5.5               2   \n",
              "\n",
              "      age_cat  occupation  \n",
              "4876        3           2  \n",
              "4783        1           3  \n",
              "221         8           0  \n",
              "8069        1           2  \n",
              "8610        2           3  \n",
              "\n",
              "[5 rows x 30 columns]"
            ],
            "text/html": [
              "\n",
              "  <div id=\"df-582792e5-0007-4290-95fb-fb583e80a18b\">\n",
              "    <div class=\"colab-df-container\">\n",
              "      <div>\n",
              "<style scoped>\n",
              "    .dataframe tbody tr th:only-of-type {\n",
              "        vertical-align: middle;\n",
              "    }\n",
              "\n",
              "    .dataframe tbody tr th {\n",
              "        vertical-align: top;\n",
              "    }\n",
              "\n",
              "    .dataframe thead th {\n",
              "        text-align: right;\n",
              "    }\n",
              "</style>\n",
              "<table border=\"1\" class=\"dataframe\">\n",
              "  <thead>\n",
              "    <tr style=\"text-align: right;\">\n",
              "      <th></th>\n",
              "      <th>hv005</th>\n",
              "      <th>hv021</th>\n",
              "      <th>hv023</th>\n",
              "      <th>division</th>\n",
              "      <th>residence</th>\n",
              "      <th>wealth_index</th>\n",
              "      <th>hv105</th>\n",
              "      <th>hv115</th>\n",
              "      <th>sex</th>\n",
              "      <th>education</th>\n",
              "      <th>...</th>\n",
              "      <th>swt</th>\n",
              "      <th>systolic_average</th>\n",
              "      <th>diastolic_average</th>\n",
              "      <th>hypertension</th>\n",
              "      <th>BMI</th>\n",
              "      <th>BMI_cat</th>\n",
              "      <th>diabetes_measure</th>\n",
              "      <th>marital_status</th>\n",
              "      <th>age_cat</th>\n",
              "      <th>occupation</th>\n",
              "    </tr>\n",
              "  </thead>\n",
              "  <tbody>\n",
              "    <tr>\n",
              "      <th>4876</th>\n",
              "      <td>1019357</td>\n",
              "      <td>291</td>\n",
              "      <td>12</td>\n",
              "      <td>4</td>\n",
              "      <td>2</td>\n",
              "      <td>4</td>\n",
              "      <td>40</td>\n",
              "      <td>1</td>\n",
              "      <td>1</td>\n",
              "      <td>1</td>\n",
              "      <td>...</td>\n",
              "      <td>1.019357</td>\n",
              "      <td>143.0</td>\n",
              "      <td>100.0</td>\n",
              "      <td>1.0</td>\n",
              "      <td>22.340000</td>\n",
              "      <td>2.0</td>\n",
              "      <td>6.1</td>\n",
              "      <td>2</td>\n",
              "      <td>3</td>\n",
              "      <td>2</td>\n",
              "    </tr>\n",
              "    <tr>\n",
              "      <th>4783</th>\n",
              "      <td>1202121</td>\n",
              "      <td>286</td>\n",
              "      <td>12</td>\n",
              "      <td>4</td>\n",
              "      <td>2</td>\n",
              "      <td>4</td>\n",
              "      <td>26</td>\n",
              "      <td>1</td>\n",
              "      <td>1</td>\n",
              "      <td>2</td>\n",
              "      <td>...</td>\n",
              "      <td>1.202121</td>\n",
              "      <td>117.0</td>\n",
              "      <td>83.0</td>\n",
              "      <td>0.0</td>\n",
              "      <td>25.809999</td>\n",
              "      <td>3.0</td>\n",
              "      <td>5.5</td>\n",
              "      <td>2</td>\n",
              "      <td>1</td>\n",
              "      <td>3</td>\n",
              "    </tr>\n",
              "    <tr>\n",
              "      <th>221</th>\n",
              "      <td>595998</td>\n",
              "      <td>15</td>\n",
              "      <td>3</td>\n",
              "      <td>1</td>\n",
              "      <td>2</td>\n",
              "      <td>2</td>\n",
              "      <td>95</td>\n",
              "      <td>3</td>\n",
              "      <td>2</td>\n",
              "      <td>0</td>\n",
              "      <td>...</td>\n",
              "      <td>0.595998</td>\n",
              "      <td>104.0</td>\n",
              "      <td>73.5</td>\n",
              "      <td>0.0</td>\n",
              "      <td>23.940001</td>\n",
              "      <td>3.0</td>\n",
              "      <td>5.4</td>\n",
              "      <td>3</td>\n",
              "      <td>8</td>\n",
              "      <td>0</td>\n",
              "    </tr>\n",
              "    <tr>\n",
              "      <th>8069</th>\n",
              "      <td>1367590</td>\n",
              "      <td>462</td>\n",
              "      <td>17</td>\n",
              "      <td>6</td>\n",
              "      <td>2</td>\n",
              "      <td>2</td>\n",
              "      <td>22</td>\n",
              "      <td>1</td>\n",
              "      <td>2</td>\n",
              "      <td>2</td>\n",
              "      <td>...</td>\n",
              "      <td>1.367590</td>\n",
              "      <td>120.0</td>\n",
              "      <td>91.0</td>\n",
              "      <td>1.0</td>\n",
              "      <td>23.830000</td>\n",
              "      <td>3.0</td>\n",
              "      <td>4.6</td>\n",
              "      <td>2</td>\n",
              "      <td>1</td>\n",
              "      <td>2</td>\n",
              "    </tr>\n",
              "    <tr>\n",
              "      <th>8610</th>\n",
              "      <td>696986</td>\n",
              "      <td>493</td>\n",
              "      <td>16</td>\n",
              "      <td>6</td>\n",
              "      <td>1</td>\n",
              "      <td>3</td>\n",
              "      <td>36</td>\n",
              "      <td>1</td>\n",
              "      <td>2</td>\n",
              "      <td>1</td>\n",
              "      <td>...</td>\n",
              "      <td>0.696986</td>\n",
              "      <td>136.0</td>\n",
              "      <td>93.0</td>\n",
              "      <td>1.0</td>\n",
              "      <td>21.660000</td>\n",
              "      <td>2.0</td>\n",
              "      <td>5.5</td>\n",
              "      <td>2</td>\n",
              "      <td>2</td>\n",
              "      <td>3</td>\n",
              "    </tr>\n",
              "  </tbody>\n",
              "</table>\n",
              "<p>5 rows × 30 columns</p>\n",
              "</div>\n",
              "      <button class=\"colab-df-convert\" onclick=\"convertToInteractive('df-582792e5-0007-4290-95fb-fb583e80a18b')\"\n",
              "              title=\"Convert this dataframe to an interactive table.\"\n",
              "              style=\"display:none;\">\n",
              "        \n",
              "  <svg xmlns=\"http://www.w3.org/2000/svg\" height=\"24px\"viewBox=\"0 0 24 24\"\n",
              "       width=\"24px\">\n",
              "    <path d=\"M0 0h24v24H0V0z\" fill=\"none\"/>\n",
              "    <path d=\"M18.56 5.44l.94 2.06.94-2.06 2.06-.94-2.06-.94-.94-2.06-.94 2.06-2.06.94zm-11 1L8.5 8.5l.94-2.06 2.06-.94-2.06-.94L8.5 2.5l-.94 2.06-2.06.94zm10 10l.94 2.06.94-2.06 2.06-.94-2.06-.94-.94-2.06-.94 2.06-2.06.94z\"/><path d=\"M17.41 7.96l-1.37-1.37c-.4-.4-.92-.59-1.43-.59-.52 0-1.04.2-1.43.59L10.3 9.45l-7.72 7.72c-.78.78-.78 2.05 0 2.83L4 21.41c.39.39.9.59 1.41.59.51 0 1.02-.2 1.41-.59l7.78-7.78 2.81-2.81c.8-.78.8-2.07 0-2.86zM5.41 20L4 18.59l7.72-7.72 1.47 1.35L5.41 20z\"/>\n",
              "  </svg>\n",
              "      </button>\n",
              "      \n",
              "  <style>\n",
              "    .colab-df-container {\n",
              "      display:flex;\n",
              "      flex-wrap:wrap;\n",
              "      gap: 12px;\n",
              "    }\n",
              "\n",
              "    .colab-df-convert {\n",
              "      background-color: #E8F0FE;\n",
              "      border: none;\n",
              "      border-radius: 50%;\n",
              "      cursor: pointer;\n",
              "      display: none;\n",
              "      fill: #1967D2;\n",
              "      height: 32px;\n",
              "      padding: 0 0 0 0;\n",
              "      width: 32px;\n",
              "    }\n",
              "\n",
              "    .colab-df-convert:hover {\n",
              "      background-color: #E2EBFA;\n",
              "      box-shadow: 0px 1px 2px rgba(60, 64, 67, 0.3), 0px 1px 3px 1px rgba(60, 64, 67, 0.15);\n",
              "      fill: #174EA6;\n",
              "    }\n",
              "\n",
              "    [theme=dark] .colab-df-convert {\n",
              "      background-color: #3B4455;\n",
              "      fill: #D2E3FC;\n",
              "    }\n",
              "\n",
              "    [theme=dark] .colab-df-convert:hover {\n",
              "      background-color: #434B5C;\n",
              "      box-shadow: 0px 1px 3px 1px rgba(0, 0, 0, 0.15);\n",
              "      filter: drop-shadow(0px 1px 2px rgba(0, 0, 0, 0.3));\n",
              "      fill: #FFFFFF;\n",
              "    }\n",
              "  </style>\n",
              "\n",
              "      <script>\n",
              "        const buttonEl =\n",
              "          document.querySelector('#df-582792e5-0007-4290-95fb-fb583e80a18b button.colab-df-convert');\n",
              "        buttonEl.style.display =\n",
              "          google.colab.kernel.accessAllowed ? 'block' : 'none';\n",
              "\n",
              "        async function convertToInteractive(key) {\n",
              "          const element = document.querySelector('#df-582792e5-0007-4290-95fb-fb583e80a18b');\n",
              "          const dataTable =\n",
              "            await google.colab.kernel.invokeFunction('convertToInteractive',\n",
              "                                                     [key], {});\n",
              "          if (!dataTable) return;\n",
              "\n",
              "          const docLinkHtml = 'Like what you see? Visit the ' +\n",
              "            '<a target=\"_blank\" href=https://colab.research.google.com/notebooks/data_table.ipynb>data table notebook</a>'\n",
              "            + ' to learn more about interactive tables.';\n",
              "          element.innerHTML = '';\n",
              "          dataTable['output_type'] = 'display_data';\n",
              "          await google.colab.output.renderOutput(dataTable, element);\n",
              "          const docLink = document.createElement('div');\n",
              "          docLink.innerHTML = docLinkHtml;\n",
              "          element.appendChild(docLink);\n",
              "        }\n",
              "      </script>\n",
              "    </div>\n",
              "  </div>\n",
              "  "
            ]
          },
          "metadata": {},
          "execution_count": 80
        }
      ],
      "source": [
        "x_dtrain.head()"
      ]
    },
    {
      "cell_type": "markdown",
      "metadata": {
        "id": "tepVuadmnThd"
      },
      "source": [
        "### Mutual information of the data"
      ]
    },
    {
      "cell_type": "code",
      "execution_count": null,
      "metadata": {
        "id": "JrfBFQ-VnCJX",
        "colab": {
          "base_uri": "https://localhost:8080/"
        },
        "outputId": "6ee017dc-d807-41ae-b69b-c7c81f8e38fe"
      },
      "outputs": [
        {
          "output_type": "execute_result",
          "data": {
            "text/plain": [
              "array([0.00797062, 0.01524629, 0.00577564, 0.0058941 , 0.        ,\n",
              "       0.01148889, 0.0162804 , 0.01359404, 0.00912111, 0.00546722,\n",
              "       0.00460465, 0.00090967, 0.        , 0.00341705, 0.00533086,\n",
              "       0.00909474, 0.00577862, 0.24032084, 0.01059767, 0.        ,\n",
              "       0.00821992, 0.00622982, 0.00625143, 0.00988843, 0.00924597,\n",
              "       0.01200645, 0.24014596, 0.00154707, 0.01777873, 0.00343683])"
            ]
          },
          "metadata": {},
          "execution_count": 81
        }
      ],
      "source": [
        "from sklearn.feature_selection import mutual_info_classif\n",
        "#determine the mutual information\n",
        "d_mutual_info=mutual_info_classif(x_dtrain,y_dtrain)\n",
        "d_mutual_info"
      ]
    },
    {
      "cell_type": "code",
      "execution_count": null,
      "metadata": {
        "id": "9Rnix-0GnCUN",
        "colab": {
          "base_uri": "https://localhost:8080/"
        },
        "outputId": "2124464c-6da1-4ceb-984a-f2a32a1695dd"
      },
      "outputs": [
        {
          "output_type": "execute_result",
          "data": {
            "text/plain": [
              "sb335b               0.240321\n",
              "diabetes_measure     0.240146\n",
              "age_cat              0.017779\n",
              "hv105                0.016280\n",
              "hv021                0.015246\n",
              "hv115                0.013594\n",
              "BMI_cat              0.012006\n",
              "wealth_index         0.011489\n",
              "sbbm                 0.010598\n",
              "hypertension         0.009888\n",
              "BMI                  0.009246\n",
              "sex                  0.009121\n",
              "sb332a               0.009095\n",
              "swt                  0.008220\n",
              "hv005                0.007971\n",
              "diastolic_average    0.006251\n",
              "systolic_average     0.006230\n",
              "division             0.005894\n",
              "sb332b               0.005779\n",
              "hv023                0.005776\n",
              "education            0.005467\n",
              "sb323b               0.005331\n",
              "sb307                0.004605\n",
              "occupation           0.003437\n",
              "sb323a               0.003417\n",
              "marital_status       0.001547\n",
              "sb308                0.000910\n",
              "current_smoking      0.000000\n",
              "sb3mos               0.000000\n",
              "residence            0.000000\n",
              "dtype: float64"
            ]
          },
          "metadata": {},
          "execution_count": 82
        }
      ],
      "source": [
        "#convert the data into series\n",
        "d_mutual_info=pd.Series(d_mutual_info)\n",
        "d_mutual_info.index=x_dtrain.columns\n",
        "d_mutual_info.sort_values(ascending=False)\n"
      ]
    },
    {
      "cell_type": "code",
      "execution_count": null,
      "metadata": {
        "id": "xCkDS8oinCXt",
        "colab": {
          "base_uri": "https://localhost:8080/"
        },
        "outputId": "1ea73b2d-15de-4a4e-f473-0171f707542f"
      },
      "outputs": [
        {
          "output_type": "execute_result",
          "data": {
            "text/plain": [
              "<matplotlib.axes._subplots.AxesSubplot at 0x7f089cd19310>"
            ]
          },
          "metadata": {},
          "execution_count": 83
        },
        {
          "output_type": "display_data",
          "data": {
            "text/plain": [
              "<Figure size 1440x576 with 1 Axes>"
            ],
            "image/png": "[encoded data removed]"
          },
          "metadata": {}
        }
      ],
      "source": [
        "d_mutual_info.sort_values(ascending=False).plot.bar(figsize=(20,8))\n"
      ]
    },
    {
      "cell_type": "markdown",
      "metadata": {
        "id": "EW2rXGzsrpuP"
      },
      "source": [
        "## Working with hypertention"
      ]
    },
    {
      "cell_type": "markdown",
      "source": [],
      "metadata": {
        "id": "505MJv41xxAN"
      }
    },
    {
      "cell_type": "markdown",
      "metadata": {
        "id": "LSdBKUtsrxwr"
      },
      "source": [
        "### train_test split"
      ]
    },
    {
      "cell_type": "code",
      "execution_count": null,
      "metadata": {
        "id": "tBfOTsD2nCau"
      },
      "outputs": [],
      "source": [
        "h_xdata=stata.drop('hypertension',axis=1)\n",
        "h_ydata=stata['hypertension']"
      ]
    },
    {
      "cell_type": "code",
      "execution_count": null,
      "metadata": {
        "id": "irFV8_uznCdn"
      },
      "outputs": [],
      "source": [
        "x_htrain,x_htest,y_htrain,y_htest=train_test_split(h_xdata,h_ydata,random_state=45,test_size=0.33)"
      ]
    },
    {
      "cell_type": "markdown",
      "metadata": {
        "id": "OnJm_wIjsS6N"
      },
      "source": [
        "###Mutual information gain for hypertension"
      ]
    },
    {
      "cell_type": "code",
      "execution_count": null,
      "metadata": {
        "id": "XCvV5Pv4nCgo",
        "colab": {
          "base_uri": "https://localhost:8080/"
        },
        "outputId": "dd7d85f8-92de-464d-eedc-8643e2326119"
      },
      "outputs": [
        {
          "output_type": "execute_result",
          "data": {
            "text/plain": [
              "array([0.02280359, 0.01865303, 0.00474702, 0.01016238, 0.00109149,\n",
              "       0.00879537, 0.07022139, 0.02122767, 0.00165438, 0.00885091,\n",
              "       0.00144647, 0.        , 0.00517567, 0.29289369, 0.24411894,\n",
              "       0.28976834, 0.23977377, 0.00808973, 0.02312214, 0.00173824,\n",
              "       0.01241391, 0.32141561, 0.30316533, 0.02387817, 0.00624908,\n",
              "       0.00223569, 0.01440933, 0.01717569, 0.06386091, 0.00690662])"
            ]
          },
          "metadata": {},
          "execution_count": 86
        }
      ],
      "source": [
        "hyper_mutual_info=mutual_info_classif(x_htrain,y_htrain)\n",
        "hyper_mutual_info"
      ]
    },
    {
      "cell_type": "code",
      "execution_count": null,
      "metadata": {
        "id": "1cEw17A8nCjK",
        "colab": {
          "base_uri": "https://localhost:8080/"
        },
        "outputId": "99f3537c-2722-4c90-d154-25c9687b4759"
      },
      "outputs": [
        {
          "output_type": "execute_result",
          "data": {
            "text/plain": [
              "systolic_average     0.321416\n",
              "diastolic_average    0.303165\n",
              "sb323a               0.292894\n",
              "sb332a               0.289768\n",
              "sb323b               0.244119\n",
              "sb332b               0.239774\n",
              "hv105                0.070221\n",
              "age_cat              0.063861\n",
              "BMI                  0.023878\n",
              "sbbm                 0.023122\n",
              "hv005                0.022804\n",
              "hv115                0.021228\n",
              "hv021                0.018653\n",
              "marital_status       0.017176\n",
              "diabetes             0.014409\n",
              "swt                  0.012414\n",
              "division             0.010162\n",
              "education            0.008851\n",
              "wealth_index         0.008795\n",
              "sb335b               0.008090\n",
              "occupation           0.006907\n",
              "BMI_cat              0.006249\n",
              "current_smoking      0.005176\n",
              "hv023                0.004747\n",
              "diabetes_measure     0.002236\n",
              "sb3mos               0.001738\n",
              "sex                  0.001654\n",
              "sb307                0.001446\n",
              "residence            0.001091\n",
              "sb308                0.000000\n",
              "dtype: float64"
            ]
          },
          "metadata": {},
          "execution_count": 87
        }
      ],
      "source": [
        "#convert the data into series\n",
        "hyper_mutual_info=pd.Series(hyper_mutual_info)\n",
        "hyper_mutual_info.index=x_htrain.columns\n",
        "hyper_mutual_info.sort_values(ascending=False)\n"
      ]
    },
    {
      "cell_type": "code",
      "execution_count": null,
      "metadata": {
        "id": "xRrv7kIDnCmB",
        "colab": {
          "base_uri": "https://localhost:8080/",
          "height": 594
        },
        "outputId": "f08471b6-ac77-46e6-f19a-1b1ee0f20eb4"
      },
      "outputs": [
        {
          "output_type": "execute_result",
          "data": {
            "text/plain": [
              "<matplotlib.axes._subplots.AxesSubplot at 0x7f089cbabe90>"
            ]
          },
          "metadata": {},
          "execution_count": 88
        },
        {
          "output_type": "display_data",
          "data": {
            "text/plain": [
              "<Figure size 1440x576 with 1 Axes>"
            ],
            "image/png": "[encoded data removed]"
          },
          "metadata": {}
        }
      ],
      "source": [
        "hyper_mutual_info.sort_values(ascending=False).plot.bar(figsize=(20,8))"
      ]
    },
    {
      "cell_type": "markdown",
      "metadata": {
        "id": "yVK-7RUUwS-c"
      },
      "source": [
        "## Working with HDC"
      ]
    },
    {
      "cell_type": "code",
      "execution_count": null,
      "metadata": {
        "id": "zDIvJ8L0nCru"
      },
      "outputs": [],
      "source": [
        "#Create a feature of hypertension and diabetes combined!\n",
        "hdc=np.where((stata['hypertension']==1) & (stata['diabetes']== 1),1,0)"
      ]
    },
    {
      "cell_type": "code",
      "execution_count": null,
      "metadata": {
        "id": "qADy2b3-nCui"
      },
      "outputs": [],
      "source": [
        "stata['HDC']=hdc"
      ]
    },
    {
      "cell_type": "code",
      "execution_count": null,
      "metadata": {
        "id": "ou2XOUp7nCxW",
        "colab": {
          "base_uri": "https://localhost:8080/"
        },
        "outputId": "3af7b12b-4c1b-473d-e397-4a5985f93f10"
      },
      "outputs": [
        {
          "output_type": "execute_result",
          "data": {
            "text/plain": [
              "0    11516\n",
              "1      583\n",
              "Name: HDC, dtype: int64"
            ]
          },
          "metadata": {},
          "execution_count": 91
        }
      ],
      "source": [
        "stata.HDC.value_counts()"
      ]
    },
    {
      "cell_type": "code",
      "execution_count": null,
      "metadata": {
        "id": "9wTd6evMnC3G",
        "colab": {
          "base_uri": "https://localhost:8080/",
          "height": 424
        },
        "outputId": "fbe201cf-aee8-4586-9a3d-be2e90326da5"
      },
      "outputs": [
        {
          "output_type": "execute_result",
          "data": {
            "text/plain": [
              "        hv005  hv021  hv023  division  residence  wealth_index  hv105  hv115  \\\n",
              "0      671011      1      3         1          2             1     25      1   \n",
              "1      671011      1      3         1          2             1     34      1   \n",
              "2      671011      1      3         1          2             1     35      1   \n",
              "3      671011      1      3         1          2             1     55      1   \n",
              "4      671011      1      3         1          2             1     45      1   \n",
              "...       ...    ...    ...       ...        ...           ...    ...    ...   \n",
              "12094  221392    675     20         8          1             5     33      1   \n",
              "12095  221392    675     20         8          1             5     20      0   \n",
              "12096  221392    675     20         8          1             5     62      1   \n",
              "12097  221392    675     20         8          1             5     51      1   \n",
              "12098  221392    675     20         8          1             5     80      3   \n",
              "\n",
              "       sex  education  ...  diastolic_average  hypertension        BMI  \\\n",
              "0        1          1  ...               58.0           0.0  20.549999   \n",
              "1        2          0  ...               66.5           0.0  24.809999   \n",
              "2        2          1  ...               65.5           0.0  17.440001   \n",
              "3        1          1  ...               71.0           0.0  21.080000   \n",
              "4        2          1  ...               93.5           1.0  24.549999   \n",
              "...    ...        ...  ...                ...           ...        ...   \n",
              "12094    2          2  ...               96.0           1.0  26.820000   \n",
              "12095    2          2  ...               78.5           0.0  23.889999   \n",
              "12096    1          2  ...               69.0           0.0  21.540001   \n",
              "12097    2          1  ...               79.0           1.0  27.610001   \n",
              "12098    2          0  ...               70.5           1.0  15.970000   \n",
              "\n",
              "       BMI_cat  diabetes_measure  diabetes  marital_status  age_cat  \\\n",
              "0          2.0               6.2       0.0               2        1   \n",
              "1          3.0               6.6       1.0               2        1   \n",
              "2          1.0               6.0       0.0               2        2   \n",
              "3          2.0               6.5       0.0               2        6   \n",
              "4          3.0               5.6       0.0               2        4   \n",
              "...        ...               ...       ...             ...      ...   \n",
              "12094      3.0               5.7       0.0               2        1   \n",
              "12095      3.0               6.1       0.0               1        1   \n",
              "12096      2.0               6.7       1.0               2        7   \n",
              "12097      4.0               5.4       0.0               2        5   \n",
              "12098      1.0               6.3       0.0               3        8   \n",
              "\n",
              "       occupation  HDC  \n",
              "0               3    0  \n",
              "1               0    0  \n",
              "2               0    0  \n",
              "3               1    0  \n",
              "4               2    0  \n",
              "...           ...  ...  \n",
              "12094           0    0  \n",
              "12095           3    0  \n",
              "12096           3    0  \n",
              "12097           0    0  \n",
              "12098           0    0  \n",
              "\n",
              "[11516 rows x 32 columns]"
            ],
            "text/html": [
              "\n",
              "  <div id=\"df-4a1e48b5-d58f-4516-bc16-63598d97f1f0\">\n",
              "    <div class=\"colab-df-container\">\n",
              "      <div>\n",
              "<style scoped>\n",
              "    .dataframe tbody tr th:only-of-type {\n",
              "        vertical-align: middle;\n",
              "    }\n",
              "\n",
              "    .dataframe tbody tr th {\n",
              "        vertical-align: top;\n",
              "    }\n",
              "\n",
              "    .dataframe thead th {\n",
              "        text-align: right;\n",
              "    }\n",
              "</style>\n",
              "<table border=\"1\" class=\"dataframe\">\n",
              "  <thead>\n",
              "    <tr style=\"text-align: right;\">\n",
              "      <th></th>\n",
              "      <th>hv005</th>\n",
              "      <th>hv021</th>\n",
              "      <th>hv023</th>\n",
              "      <th>division</th>\n",
              "      <th>residence</th>\n",
              "      <th>wealth_index</th>\n",
              "      <th>hv105</th>\n",
              "      <th>hv115</th>\n",
              "      <th>sex</th>\n",
              "      <th>education</th>\n",
              "      <th>...</th>\n",
              "      <th>diastolic_average</th>\n",
              "      <th>hypertension</th>\n",
              "      <th>BMI</th>\n",
              "      <th>BMI_cat</th>\n",
              "      <th>diabetes_measure</th>\n",
              "      <th>diabetes</th>\n",
              "      <th>marital_status</th>\n",
              "      <th>age_cat</th>\n",
              "      <th>occupation</th>\n",
              "      <th>HDC</th>\n",
              "    </tr>\n",
              "  </thead>\n",
              "  <tbody>\n",
              "    <tr>\n",
              "      <th>0</th>\n",
              "      <td>671011</td>\n",
              "      <td>1</td>\n",
              "      <td>3</td>\n",
              "      <td>1</td>\n",
              "      <td>2</td>\n",
              "      <td>1</td>\n",
              "      <td>25</td>\n",
              "      <td>1</td>\n",
              "      <td>1</td>\n",
              "      <td>1</td>\n",
              "      <td>...</td>\n",
              "      <td>58.0</td>\n",
              "      <td>0.0</td>\n",
              "      <td>20.549999</td>\n",
              "      <td>2.0</td>\n",
              "      <td>6.2</td>\n",
              "      <td>0.0</td>\n",
              "      <td>2</td>\n",
              "      <td>1</td>\n",
              "      <td>3</td>\n",
              "      <td>0</td>\n",
              "    </tr>\n",
              "    <tr>\n",
              "      <th>1</th>\n",
              "      <td>671011</td>\n",
              "      <td>1</td>\n",
              "      <td>3</td>\n",
              "      <td>1</td>\n",
              "      <td>2</td>\n",
              "      <td>1</td>\n",
              "      <td>34</td>\n",
              "      <td>1</td>\n",
              "      <td>2</td>\n",
              "      <td>0</td>\n",
              "      <td>...</td>\n",
              "      <td>66.5</td>\n",
              "      <td>0.0</td>\n",
              "      <td>24.809999</td>\n",
              "      <td>3.0</td>\n",
              "      <td>6.6</td>\n",
              "      <td>1.0</td>\n",
              "      <td>2</td>\n",
              "      <td>1</td>\n",
              "      <td>0</td>\n",
              "      <td>0</td>\n",
              "    </tr>\n",
              "    <tr>\n",
              "      <th>2</th>\n",
              "      <td>671011</td>\n",
              "      <td>1</td>\n",
              "      <td>3</td>\n",
              "      <td>1</td>\n",
              "      <td>2</td>\n",
              "      <td>1</td>\n",
              "      <td>35</td>\n",
              "      <td>1</td>\n",
              "      <td>2</td>\n",
              "      <td>1</td>\n",
              "      <td>...</td>\n",
              "      <td>65.5</td>\n",
              "      <td>0.0</td>\n",
              "      <td>17.440001</td>\n",
              "      <td>1.0</td>\n",
              "      <td>6.0</td>\n",
              "      <td>0.0</td>\n",
              "      <td>2</td>\n",
              "      <td>2</td>\n",
              "      <td>0</td>\n",
              "      <td>0</td>\n",
              "    </tr>\n",
              "    <tr>\n",
              "      <th>3</th>\n",
              "      <td>671011</td>\n",
              "      <td>1</td>\n",
              "      <td>3</td>\n",
              "      <td>1</td>\n",
              "      <td>2</td>\n",
              "      <td>1</td>\n",
              "      <td>55</td>\n",
              "      <td>1</td>\n",
              "      <td>1</td>\n",
              "      <td>1</td>\n",
              "      <td>...</td>\n",
              "      <td>71.0</td>\n",
              "      <td>0.0</td>\n",
              "      <td>21.080000</td>\n",
              "      <td>2.0</td>\n",
              "      <td>6.5</td>\n",
              "      <td>0.0</td>\n",
              "      <td>2</td>\n",
              "      <td>6</td>\n",
              "      <td>1</td>\n",
              "      <td>0</td>\n",
              "    </tr>\n",
              "    <tr>\n",
              "      <th>4</th>\n",
              "      <td>671011</td>\n",
              "      <td>1</td>\n",
              "      <td>3</td>\n",
              "      <td>1</td>\n",
              "      <td>2</td>\n",
              "      <td>1</td>\n",
              "      <td>45</td>\n",
              "      <td>1</td>\n",
              "      <td>2</td>\n",
              "      <td>1</td>\n",
              "      <td>...</td>\n",
              "      <td>93.5</td>\n",
              "      <td>1.0</td>\n",
              "      <td>24.549999</td>\n",
              "      <td>3.0</td>\n",
              "      <td>5.6</td>\n",
              "      <td>0.0</td>\n",
              "      <td>2</td>\n",
              "      <td>4</td>\n",
              "      <td>2</td>\n",
              "      <td>0</td>\n",
              "    </tr>\n",
              "    <tr>\n",
              "      <th>...</th>\n",
              "      <td>...</td>\n",
              "      <td>...</td>\n",
              "      <td>...</td>\n",
              "      <td>...</td>\n",
              "      <td>...</td>\n",
              "      <td>...</td>\n",
              "      <td>...</td>\n",
              "      <td>...</td>\n",
              "      <td>...</td>\n",
              "      <td>...</td>\n",
              "      <td>...</td>\n",
              "      <td>...</td>\n",
              "      <td>...</td>\n",
              "      <td>...</td>\n",
              "      <td>...</td>\n",
              "      <td>...</td>\n",
              "      <td>...</td>\n",
              "      <td>...</td>\n",
              "      <td>...</td>\n",
              "      <td>...</td>\n",
              "      <td>...</td>\n",
              "    </tr>\n",
              "    <tr>\n",
              "      <th>12094</th>\n",
              "      <td>221392</td>\n",
              "      <td>675</td>\n",
              "      <td>20</td>\n",
              "      <td>8</td>\n",
              "      <td>1</td>\n",
              "      <td>5</td>\n",
              "      <td>33</td>\n",
              "      <td>1</td>\n",
              "      <td>2</td>\n",
              "      <td>2</td>\n",
              "      <td>...</td>\n",
              "      <td>96.0</td>\n",
              "      <td>1.0</td>\n",
              "      <td>26.820000</td>\n",
              "      <td>3.0</td>\n",
              "      <td>5.7</td>\n",
              "      <td>0.0</td>\n",
              "      <td>2</td>\n",
              "      <td>1</td>\n",
              "      <td>0</td>\n",
              "      <td>0</td>\n",
              "    </tr>\n",
              "    <tr>\n",
              "      <th>12095</th>\n",
              "      <td>221392</td>\n",
              "      <td>675</td>\n",
              "      <td>20</td>\n",
              "      <td>8</td>\n",
              "      <td>1</td>\n",
              "      <td>5</td>\n",
              "      <td>20</td>\n",
              "      <td>0</td>\n",
              "      <td>2</td>\n",
              "      <td>2</td>\n",
              "      <td>...</td>\n",
              "      <td>78.5</td>\n",
              "      <td>0.0</td>\n",
              "      <td>23.889999</td>\n",
              "      <td>3.0</td>\n",
              "      <td>6.1</td>\n",
              "      <td>0.0</td>\n",
              "      <td>1</td>\n",
              "      <td>1</td>\n",
              "      <td>3</td>\n",
              "      <td>0</td>\n",
              "    </tr>\n",
              "    <tr>\n",
              "      <th>12096</th>\n",
              "      <td>221392</td>\n",
              "      <td>675</td>\n",
              "      <td>20</td>\n",
              "      <td>8</td>\n",
              "      <td>1</td>\n",
              "      <td>5</td>\n",
              "      <td>62</td>\n",
              "      <td>1</td>\n",
              "      <td>1</td>\n",
              "      <td>2</td>\n",
              "      <td>...</td>\n",
              "      <td>69.0</td>\n",
              "      <td>0.0</td>\n",
              "      <td>21.540001</td>\n",
              "      <td>2.0</td>\n",
              "      <td>6.7</td>\n",
              "      <td>1.0</td>\n",
              "      <td>2</td>\n",
              "      <td>7</td>\n",
              "      <td>3</td>\n",
              "      <td>0</td>\n",
              "    </tr>\n",
              "    <tr>\n",
              "      <th>12097</th>\n",
              "      <td>221392</td>\n",
              "      <td>675</td>\n",
              "      <td>20</td>\n",
              "      <td>8</td>\n",
              "      <td>1</td>\n",
              "      <td>5</td>\n",
              "      <td>51</td>\n",
              "      <td>1</td>\n",
              "      <td>2</td>\n",
              "      <td>1</td>\n",
              "      <td>...</td>\n",
              "      <td>79.0</td>\n",
              "      <td>1.0</td>\n",
              "      <td>27.610001</td>\n",
              "      <td>4.0</td>\n",
              "      <td>5.4</td>\n",
              "      <td>0.0</td>\n",
              "      <td>2</td>\n",
              "      <td>5</td>\n",
              "      <td>0</td>\n",
              "      <td>0</td>\n",
              "    </tr>\n",
              "    <tr>\n",
              "      <th>12098</th>\n",
              "      <td>221392</td>\n",
              "      <td>675</td>\n",
              "      <td>20</td>\n",
              "      <td>8</td>\n",
              "      <td>1</td>\n",
              "      <td>5</td>\n",
              "      <td>80</td>\n",
              "      <td>3</td>\n",
              "      <td>2</td>\n",
              "      <td>0</td>\n",
              "      <td>...</td>\n",
              "      <td>70.5</td>\n",
              "      <td>1.0</td>\n",
              "      <td>15.970000</td>\n",
              "      <td>1.0</td>\n",
              "      <td>6.3</td>\n",
              "      <td>0.0</td>\n",
              "      <td>3</td>\n",
              "      <td>8</td>\n",
              "      <td>0</td>\n",
              "      <td>0</td>\n",
              "    </tr>\n",
              "  </tbody>\n",
              "</table>\n",
              "<p>11516 rows × 32 columns</p>\n",
              "</div>\n",
              "      <button class=\"colab-df-convert\" onclick=\"convertToInteractive('df-4a1e48b5-d58f-4516-bc16-63598d97f1f0')\"\n",
              "              title=\"Convert this dataframe to an interactive table.\"\n",
              "              style=\"display:none;\">\n",
              "        \n",
              "  <svg xmlns=\"http://www.w3.org/2000/svg\" height=\"24px\"viewBox=\"0 0 24 24\"\n",
              "       width=\"24px\">\n",
              "    <path d=\"M0 0h24v24H0V0z\" fill=\"none\"/>\n",
              "    <path d=\"M18.56 5.44l.94 2.06.94-2.06 2.06-.94-2.06-.94-.94-2.06-.94 2.06-2.06.94zm-11 1L8.5 8.5l.94-2.06 2.06-.94-2.06-.94L8.5 2.5l-.94 2.06-2.06.94zm10 10l.94 2.06.94-2.06 2.06-.94-2.06-.94-.94-2.06-.94 2.06-2.06.94z\"/><path d=\"M17.41 7.96l-1.37-1.37c-.4-.4-.92-.59-1.43-.59-.52 0-1.04.2-1.43.59L10.3 9.45l-7.72 7.72c-.78.78-.78 2.05 0 2.83L4 21.41c.39.39.9.59 1.41.59.51 0 1.02-.2 1.41-.59l7.78-7.78 2.81-2.81c.8-.78.8-2.07 0-2.86zM5.41 20L4 18.59l7.72-7.72 1.47 1.35L5.41 20z\"/>\n",
              "  </svg>\n",
              "      </button>\n",
              "      \n",
              "  <style>\n",
              "    .colab-df-container {\n",
              "      display:flex;\n",
              "      flex-wrap:wrap;\n",
              "      gap: 12px;\n",
              "    }\n",
              "\n",
              "    .colab-df-convert {\n",
              "      background-color: #E8F0FE;\n",
              "      border: none;\n",
              "      border-radius: 50%;\n",
              "      cursor: pointer;\n",
              "      display: none;\n",
              "      fill: #1967D2;\n",
              "      height: 32px;\n",
              "      padding: 0 0 0 0;\n",
              "      width: 32px;\n",
              "    }\n",
              "\n",
              "    .colab-df-convert:hover {\n",
              "      background-color: #E2EBFA;\n",
              "      box-shadow: 0px 1px 2px rgba(60, 64, 67, 0.3), 0px 1px 3px 1px rgba(60, 64, 67, 0.15);\n",
              "      fill: #174EA6;\n",
              "    }\n",
              "\n",
              "    [theme=dark] .colab-df-convert {\n",
              "      background-color: #3B4455;\n",
              "      fill: #D2E3FC;\n",
              "    }\n",
              "\n",
              "    [theme=dark] .colab-df-convert:hover {\n",
              "      background-color: #434B5C;\n",
              "      box-shadow: 0px 1px 3px 1px rgba(0, 0, 0, 0.15);\n",
              "      filter: drop-shadow(0px 1px 2px rgba(0, 0, 0, 0.3));\n",
              "      fill: #FFFFFF;\n",
              "    }\n",
              "  </style>\n",
              "\n",
              "      <script>\n",
              "        const buttonEl =\n",
              "          document.querySelector('#df-4a1e48b5-d58f-4516-bc16-63598d97f1f0 button.colab-df-convert');\n",
              "        buttonEl.style.display =\n",
              "          google.colab.kernel.accessAllowed ? 'block' : 'none';\n",
              "\n",
              "        async function convertToInteractive(key) {\n",
              "          const element = document.querySelector('#df-4a1e48b5-d58f-4516-bc16-63598d97f1f0');\n",
              "          const dataTable =\n",
              "            await google.colab.kernel.invokeFunction('convertToInteractive',\n",
              "                                                     [key], {});\n",
              "          if (!dataTable) return;\n",
              "\n",
              "          const docLinkHtml = 'Like what you see? Visit the ' +\n",
              "            '<a target=\"_blank\" href=https://colab.research.google.com/notebooks/data_table.ipynb>data table notebook</a>'\n",
              "            + ' to learn more about interactive tables.';\n",
              "          element.innerHTML = '';\n",
              "          dataTable['output_type'] = 'display_data';\n",
              "          await google.colab.output.renderOutput(dataTable, element);\n",
              "          const docLink = document.createElement('div');\n",
              "          docLink.innerHTML = docLinkHtml;\n",
              "          element.appendChild(docLink);\n",
              "        }\n",
              "      </script>\n",
              "    </div>\n",
              "  </div>\n",
              "  "
            ]
          },
          "metadata": {},
          "execution_count": 92
        }
      ],
      "source": [
        "stata[stata['HDC']<=0]"
      ]
    },
    {
      "cell_type": "code",
      "execution_count": null,
      "metadata": {
        "id": "z2OG3KjvnC6e",
        "colab": {
          "base_uri": "https://localhost:8080/",
          "height": 285
        },
        "outputId": "aa38c859-7286-4be8-8d09-a17ef1f6166d"
      },
      "outputs": [
        {
          "output_type": "execute_result",
          "data": {
            "text/plain": [
              "<matplotlib.axes._subplots.AxesSubplot at 0x7f089cafc9d0>"
            ]
          },
          "metadata": {},
          "execution_count": 93
        },
        {
          "output_type": "display_data",
          "data": {
            "text/plain": [
              "<Figure size 720x288 with 1 Axes>"
            ],
            "image/png": "[encoded data removed]"
          },
          "metadata": {}
        }
      ],
      "source": [
        "stata[['diabetes_measure','diabetes']].plot()"
      ]
    },
    {
      "cell_type": "markdown",
      "source": [
        "## Model implementation"
      ],
      "metadata": {
        "id": "RkpoPdXEqtD-"
      }
    },
    {
      "cell_type": "code",
      "execution_count": null,
      "metadata": {
        "id": "lQzO4FXlnC7o"
      },
      "outputs": [],
      "source": [
        "#import the algorithm from sklearn\n",
        "from sklearn.ensemble import RandomForestClassifier,AdaBoostClassifier,ExtraTreesClassifier,GradientBoostingClassifier,BaggingClassifier,HistGradientBoostingClassifier\n",
        "from sklearn.tree import DecisionTreeClassifier\n",
        "from sklearn.linear_model import LogisticRegression\n",
        "from sklearn.naive_bayes import GaussianNB,BernoulliNB,MultinomialNB\n",
        "from sklearn.neighbors import KNeighborsClassifier,RadiusNeighborsClassifier\n",
        "from sklearn.svm import SVC\n",
        "from xgboost import XGBClassifier\n",
        "from lightgbm import LGBMClassifier\n",
        "# cart,id3,naive_bayes,random tree classifier,mlp {this are to apply}"
      ]
    },
    {
      "cell_type": "markdown",
      "source": [
        "### Training the models"
      ],
      "metadata": {
        "id": "ZY7XHY7hsf7O"
      }
    },
    {
      "cell_type": "code",
      "execution_count": null,
      "metadata": {
        "id": "kc8vOhi_nC-o"
      },
      "outputs": [],
      "source": [
        "RF=RandomForestClassifier()\n",
        "Adaboost=AdaBoostClassifier()\n",
        "ExtraT=ExtraTreesClassifier()\n",
        "GBC=GradientBoostingClassifier()\n",
        "Bagging=BaggingClassifier()\n",
        "HistGB=HistGradientBoostingClassifier()\n",
        "DT=DecisionTreeClassifier()\n",
        "LR=LogisticRegression()\n",
        "GNB=GaussianNB()\n",
        "BNB=BernoulliNB()\n",
        "MNB=MultinomialNB()\n",
        "KN=KNeighborsClassifier()\n",
        "Svm=SVC()"
      ]
    },
    {
      "cell_type": "code",
      "source": [
        "models = ['RF','Adaboost','ExtraT','GBC','Bagging','HistGB','DT','LR','GNB','BNB','MNB','KN','Svm']"
      ],
      "metadata": {
        "id": "3PiXvj8h0bCd"
      },
      "execution_count": null,
      "outputs": []
    },
    {
      "cell_type": "code",
      "execution_count": null,
      "metadata": {
        "id": "1s-jzMjcnDCX",
        "colab": {
          "base_uri": "https://localhost:8080/"
        },
        "outputId": "7bf81bc1-1abe-4d65-8c79-e0954dace1a7"
      },
      "outputs": [
        {
          "output_type": "execute_result",
          "data": {
            "text/plain": [
              "SVC()"
            ]
          },
          "metadata": {},
          "execution_count": 100
        }
      ],
      "source": [
        "RF.fit(x_dtrain,y_dtrain)\n",
        "Adaboost.fit(x_dtrain,y_dtrain)\n",
        "ExtraT.fit(x_dtrain,y_dtrain)\n",
        "GBC.fit(x_dtrain,y_dtrain)\n",
        "Bagging.fit(x_dtrain,y_dtrain)\n",
        "HistGB.fit(x_dtrain,y_dtrain)\n",
        "DT.fit(x_dtrain,y_dtrain)\n",
        "LR.fit(x_dtrain,y_dtrain)\n",
        "GNB.fit(x_dtrain,y_dtrain)\n",
        "BNB.fit(x_dtrain,y_dtrain)\n",
        "MNB.fit(x_dtrain,y_dtrain)\n",
        "KN.fit(x_dtrain,y_dtrain)\n",
        "Svm.fit(x_dtrain,y_dtrain)\n",
        "\n",
        "\n",
        "\n"
      ]
    },
    {
      "cell_type": "code",
      "execution_count": null,
      "metadata": {
        "id": "UmlM5FiMnDFA",
        "colab": {
          "base_uri": "https://localhost:8080/"
        },
        "outputId": "67260990-0eb2-494f-f3d0-a2ca80de428d"
      },
      "outputs": [
        {
          "output_type": "stream",
          "name": "stdout",
          "text": [
            "RF =  0.9834710743801653\n",
            "Adaboost =  0.9827197595792637\n",
            "ExtraT =  0.9699474079639369\n",
            "GBC =  0.9824693213122965\n",
            "Baggning =  0.9827197595792637\n",
            "HistGB =  0.9832206361131981\n",
            "DT =  0.9639368895567243\n",
            "LR =  0.8948159278737791\n",
            "GNB =  0.9166040570999249\n",
            "BNB =  0.8948159278737791\n",
            "MNB =  0.6120711244678186\n",
            "KN =  0.8847983971950915\n",
            "Svm =  0.8948159278737791\n"
          ]
        }
      ],
      "source": [
        "print('RF = ',RF.score(x_dtest,y_dtest))\n",
        "print('Adaboost = ',Adaboost.score(x_dtest,y_dtest))\n",
        "print('ExtraT = ',ExtraT.score(x_dtest,y_dtest))\n",
        "print('GBC = ',GBC.score(x_dtest,y_dtest))\n",
        "print('Baggning = ',Bagging.score(x_dtest,y_dtest))\n",
        "print('HistGB = ',HistGB.score(x_dtest,y_dtest))\n",
        "print('DT = ',DT.score(x_dtest,y_dtest))\n",
        "print('LR = ',LR.score(x_dtest,y_dtest))\n",
        "print('GNB = ',GNB.score(x_dtest,y_dtest))\n",
        "print('BNB = ',BNB.score(x_dtest,y_dtest))\n",
        "print('MNB = ',MNB.score(x_dtest,y_dtest))\n",
        "print('KN = ',KN.score(x_dtest,y_dtest))\n",
        "print('Svm = ',Svm.score(x_dtest,y_dtest))"
      ]
    },
    {
      "cell_type": "markdown",
      "source": [
        "### Evaluating the Models"
      ],
      "metadata": {
        "id": "ZZ7prx4Mv79F"
      }
    },
    {
      "cell_type": "code",
      "execution_count": null,
      "metadata": {
        "id": "2c2lnfO3nDIe",
        "colab": {
          "base_uri": "https://localhost:8080/"
        },
        "outputId": "2c9092f2-134c-4eed-87c3-1743b831b448"
      },
      "outputs": [
        {
          "output_type": "execute_result",
          "data": {
            "text/plain": [
              "array([0.16033058, 0.98429752, 0.98347107, 0.98140496, 0.98263745])"
            ]
          },
          "metadata": {},
          "execution_count": 102
        }
      ],
      "source": [
        "from sklearn.model_selection import cross_val_score\n",
        "cross_val_score(RF, d_xdata,d_ydata, cv=5)"
      ]
    },
    {
      "cell_type": "markdown",
      "source": [
        "### Classification report"
      ],
      "metadata": {
        "id": "AQROvjeAypgV"
      }
    },
    {
      "cell_type": "code",
      "execution_count": null,
      "metadata": {
        "id": "ZYytBn6bnDT-"
      },
      "outputs": [],
      "source": [
        "from sklearn.metrics import classification_report\n"
      ]
    },
    {
      "cell_type": "code",
      "source": [
        "rfpred=RF.predict(x_dtest)"
      ],
      "metadata": {
        "id": "6TIeCY4zzJqr"
      },
      "execution_count": null,
      "outputs": []
    },
    {
      "cell_type": "code",
      "execution_count": null,
      "metadata": {
        "id": "IBAE268OnDWw"
      },
      "outputs": [],
      "source": [
        "print(classification_report(y_dtest,rfpred))"
      ]
    },
    {
      "cell_type": "code",
      "execution_count": null,
      "metadata": {
        "id": "ywMILLFyroVu"
      },
      "outputs": [],
      "source": [
        "adapred=Adaboost.predict(x_dtest)"
      ]
    },
    {
      "cell_type": "code",
      "source": [
        "print(classification_report(y_dtest,adapred))"
      ],
      "metadata": {
        "id": "NEsbnXaqzvev"
      },
      "execution_count": null,
      "outputs": []
    },
    {
      "cell_type": "code",
      "source": [
        "extrapred=ExtraT.predict(x_dtest)"
      ],
      "metadata": {
        "id": "cie4gQJ-z2C2"
      },
      "execution_count": null,
      "outputs": []
    },
    {
      "cell_type": "code",
      "source": [
        "print(classification_report(y_dtest,extrapred))"
      ],
      "metadata": {
        "id": "rdMoE05u0GJ3"
      },
      "execution_count": null,
      "outputs": []
    },
    {
      "cell_type": "code",
      "source": [],
      "metadata": {
        "id": "mVWseV590KQ3"
      },
      "execution_count": null,
      "outputs": []
    }
  ],
  "metadata": {
    "colab": {
      "provenance": [],
      "collapsed_sections": [
        "Fc-ybTnyflFI",
        "FGNbiiP_Krh6",
        "ZruUA6VgPDKG",
        "xr5j3bhmd6Ag",
        "bkwGhBR1neYV",
        "12mh6v_TRezr",
        "FwmR8_VRRCfl",
        "D6_SPcyBf9rT"
      ],
      "mount_file_id": "1aDaBekkDnRbNVswEc7EsW-YAi7OB80EL",
      "authorship_tag": "ABX9TyNAytNU5nvTmdowqWhdtJDS",
      "include_colab_link": true
    },
    "kernelspec": {
      "display_name": "Python 3",
      "name": "python3"
    },
    "language_info": {
      "name": "python"
    }
  },
  "nbformat": 4,
  "nbformat_minor": 0
}