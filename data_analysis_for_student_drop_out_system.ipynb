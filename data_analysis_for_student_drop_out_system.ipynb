{
  "cells": [
    {
      "cell_type": "markdown",
      "metadata": {
        "id": "view-in-github",
        "colab_type": "text"
      },
      "source": [
        "<a href=\"https://colab.research.google.com/github/RAIHANRABBY/A-Machine-Learning/blob/main/data_analysis_for_student_drop_out_system.ipynb\" target=\"_parent\"><img src=\"https://colab.research.google.com/assets/colab-badge.svg\" alt=\"Open In Colab\"/></a>"
      ]
    },
    {
      "cell_type": "markdown",
      "source": [
        "##Objectives \n",
        "  1. data outlier chart\n",
        "  2. coorelation chart\n",
        "  3. dropout and not dropout chart\n",
        "  4. roc curve before the optimization\n",
        "  5. Pr curve ------------------------\n",
        "  6. lift curve ----------------------\n",
        "  7. gain curve.......................\n",
        "  8. chi curve.......................\n",
        "  9. after the optimization curves...roc,pr.gain , lift ,chi"
      ],
      "metadata": {
        "id": "eoXNJvIIt6Qi"
      }
    },
    {
      "cell_type": "markdown",
      "metadata": {
        "id": "TQ1NIvxXH1ce"
      },
      "source": [
        "## data wrangling"
      ]
    },
    {
      "cell_type": "markdown",
      "source": [],
      "metadata": {
        "id": "fWa9M46xt4m3"
      }
    },
    {
      "cell_type": "code",
      "execution_count": 1,
      "metadata": {
        "id": "pq3OMlSBS1Yi"
      },
      "outputs": [],
      "source": [
        "import numpy as np\n",
        "import pandas as pd \n",
        "import matplotlib.pyplot as plt\n",
        "import seaborn as sns\n",
        "%matplotlib inline"
      ]
    },
    {
      "cell_type": "code",
      "source": [
        "from google.colab import drive\n",
        "drive.mount('/content/drive')"
      ],
      "metadata": {
        "colab": {
          "base_uri": "https://localhost:8080/"
        },
        "id": "AfVaCF7JVYQJ",
        "outputId": "b58b2325-92e5-4862-9973-750872a47518"
      },
      "execution_count": 2,
      "outputs": [
        {
          "output_type": "stream",
          "name": "stdout",
          "text": [
            "Mounted at /content/drive\n"
          ]
        }
      ]
    },
    {
      "cell_type": "code",
      "execution_count": 3,
      "metadata": {
        "id": "T22mpy7xXsaa"
      },
      "outputs": [],
      "source": [
        "df=pd.read_csv('/content/drive/MyDrive/Colab Notebooks/sdosfpaddedds.csv')"
      ]
    },
    {
      "cell_type": "code",
      "execution_count": 4,
      "metadata": {
        "colab": {
          "base_uri": "https://localhost:8080/"
        },
        "id": "XW4EAyV2S1Ym",
        "outputId": "8d5ab4e6-3d46-4036-8a4c-61eaef55464d"
      },
      "outputs": [
        {
          "output_type": "execute_result",
          "data": {
            "text/plain": [
              "(251, 28)"
            ]
          },
          "metadata": {},
          "execution_count": 4
        }
      ],
      "source": [
        "df.shape"
      ]
    },
    {
      "cell_type": "code",
      "execution_count": 5,
      "metadata": {
        "colab": {
          "base_uri": "https://localhost:8080/",
          "height": 0
        },
        "id": "XqtOX9_rS1Yo",
        "outputId": "f04b53b2-38cb-44e9-91fe-cc88707342d1"
      },
      "outputs": [
        {
          "output_type": "execute_result",
          "data": {
            "text/plain": [
              "           Age  Gender    Home Language Father Occupation Mother Occupation  \\\n",
              "0  13-15 years  female  Native Language         Immigrant        Home maker   \n",
              "1  10-13 years    male           Bangla       Freelancer         Home maker   \n",
              "2  13-15 years  female  Native Language    Private sector        Home maker   \n",
              "3  13-15 years  female           Bangla     Public sector        Freelancer   \n",
              "4  10-13 years    male  Native Language     Public sector        Home maker   \n",
              "\n",
              "  Number Of Siblings     Father Education Mother Education School Distance  \\\n",
              "0       Four or more            secondary        secondary          1-2 km   \n",
              "1     Three Children  Honors/ Equivalent         secondary        0.5-1 km   \n",
              "2     Three Children              primary        secondary           >7 km   \n",
              "3     Three Children              primary        secondary        0-0.5 km   \n",
              "4               None  Honors/ Equivalent           primary          1-2 km   \n",
              "\n",
              "     Means to school  ... Math Science History Social Science Religious Study  \\\n",
              "0           Rickshaw  ...   35      42      35             25              29   \n",
              "1  Bicycle/motorbike  ...   47      50      54             56              91   \n",
              "2           Rickshaw  ...   81      90      43             81              31   \n",
              "3               Walk  ...   83      54      50             20              82   \n",
              "4               Walk  ...   52      32      33             28              81   \n",
              "\n",
              "   Family Annual income  Extra Tution  Hours of study per day  Class Label  \\\n",
              "0                300000           Yes                 1 hours          Yes   \n",
              "1                850000           Yes                 3 hours          Yes   \n",
              "2                100000            No                 3 hours           No   \n",
              "3                200000           Yes                 1 hours          Yes   \n",
              "4                150000            No                 1 hours          Yes   \n",
              "\n",
              "    GPA  \n",
              "0  2.01  \n",
              "1  3.04  \n",
              "2  3.08  \n",
              "3  2.40  \n",
              "4  2.19  \n",
              "\n",
              "[5 rows x 28 columns]"
            ],
            "text/html": [
              "\n",
              "  <div id=\"df-1c3ddf69-534b-44fa-948c-e73925d8061e\">\n",
              "    <div class=\"colab-df-container\">\n",
              "      <div>\n",
              "<style scoped>\n",
              "    .dataframe tbody tr th:only-of-type {\n",
              "        vertical-align: middle;\n",
              "    }\n",
              "\n",
              "    .dataframe tbody tr th {\n",
              "        vertical-align: top;\n",
              "    }\n",
              "\n",
              "    .dataframe thead th {\n",
              "        text-align: right;\n",
              "    }\n",
              "</style>\n",
              "<table border=\"1\" class=\"dataframe\">\n",
              "  <thead>\n",
              "    <tr style=\"text-align: right;\">\n",
              "      <th></th>\n",
              "      <th>Age</th>\n",
              "      <th>Gender</th>\n",
              "      <th>Home Language</th>\n",
              "      <th>Father Occupation</th>\n",
              "      <th>Mother Occupation</th>\n",
              "      <th>Number Of Siblings</th>\n",
              "      <th>Father Education</th>\n",
              "      <th>Mother Education</th>\n",
              "      <th>School Distance</th>\n",
              "      <th>Means to school</th>\n",
              "      <th>...</th>\n",
              "      <th>Math</th>\n",
              "      <th>Science</th>\n",
              "      <th>History</th>\n",
              "      <th>Social Science</th>\n",
              "      <th>Religious Study</th>\n",
              "      <th>Family Annual income</th>\n",
              "      <th>Extra Tution</th>\n",
              "      <th>Hours of study per day</th>\n",
              "      <th>Class Label</th>\n",
              "      <th>GPA</th>\n",
              "    </tr>\n",
              "  </thead>\n",
              "  <tbody>\n",
              "    <tr>\n",
              "      <th>0</th>\n",
              "      <td>13-15 years</td>\n",
              "      <td>female</td>\n",
              "      <td>Native Language</td>\n",
              "      <td>Immigrant</td>\n",
              "      <td>Home maker</td>\n",
              "      <td>Four or more</td>\n",
              "      <td>secondary</td>\n",
              "      <td>secondary</td>\n",
              "      <td>1-2 km</td>\n",
              "      <td>Rickshaw</td>\n",
              "      <td>...</td>\n",
              "      <td>35</td>\n",
              "      <td>42</td>\n",
              "      <td>35</td>\n",
              "      <td>25</td>\n",
              "      <td>29</td>\n",
              "      <td>300000</td>\n",
              "      <td>Yes</td>\n",
              "      <td>1 hours</td>\n",
              "      <td>Yes</td>\n",
              "      <td>2.01</td>\n",
              "    </tr>\n",
              "    <tr>\n",
              "      <th>1</th>\n",
              "      <td>10-13 years</td>\n",
              "      <td>male</td>\n",
              "      <td>Bangla</td>\n",
              "      <td>Freelancer</td>\n",
              "      <td>Home maker</td>\n",
              "      <td>Three Children</td>\n",
              "      <td>Honors/ Equivalent</td>\n",
              "      <td>secondary</td>\n",
              "      <td>0.5-1 km</td>\n",
              "      <td>Bicycle/motorbike</td>\n",
              "      <td>...</td>\n",
              "      <td>47</td>\n",
              "      <td>50</td>\n",
              "      <td>54</td>\n",
              "      <td>56</td>\n",
              "      <td>91</td>\n",
              "      <td>850000</td>\n",
              "      <td>Yes</td>\n",
              "      <td>3 hours</td>\n",
              "      <td>Yes</td>\n",
              "      <td>3.04</td>\n",
              "    </tr>\n",
              "    <tr>\n",
              "      <th>2</th>\n",
              "      <td>13-15 years</td>\n",
              "      <td>female</td>\n",
              "      <td>Native Language</td>\n",
              "      <td>Private sector</td>\n",
              "      <td>Home maker</td>\n",
              "      <td>Three Children</td>\n",
              "      <td>primary</td>\n",
              "      <td>secondary</td>\n",
              "      <td>&gt;7 km</td>\n",
              "      <td>Rickshaw</td>\n",
              "      <td>...</td>\n",
              "      <td>81</td>\n",
              "      <td>90</td>\n",
              "      <td>43</td>\n",
              "      <td>81</td>\n",
              "      <td>31</td>\n",
              "      <td>100000</td>\n",
              "      <td>No</td>\n",
              "      <td>3 hours</td>\n",
              "      <td>No</td>\n",
              "      <td>3.08</td>\n",
              "    </tr>\n",
              "    <tr>\n",
              "      <th>3</th>\n",
              "      <td>13-15 years</td>\n",
              "      <td>female</td>\n",
              "      <td>Bangla</td>\n",
              "      <td>Public sector</td>\n",
              "      <td>Freelancer</td>\n",
              "      <td>Three Children</td>\n",
              "      <td>primary</td>\n",
              "      <td>secondary</td>\n",
              "      <td>0-0.5 km</td>\n",
              "      <td>Walk</td>\n",
              "      <td>...</td>\n",
              "      <td>83</td>\n",
              "      <td>54</td>\n",
              "      <td>50</td>\n",
              "      <td>20</td>\n",
              "      <td>82</td>\n",
              "      <td>200000</td>\n",
              "      <td>Yes</td>\n",
              "      <td>1 hours</td>\n",
              "      <td>Yes</td>\n",
              "      <td>2.40</td>\n",
              "    </tr>\n",
              "    <tr>\n",
              "      <th>4</th>\n",
              "      <td>10-13 years</td>\n",
              "      <td>male</td>\n",
              "      <td>Native Language</td>\n",
              "      <td>Public sector</td>\n",
              "      <td>Home maker</td>\n",
              "      <td>None</td>\n",
              "      <td>Honors/ Equivalent</td>\n",
              "      <td>primary</td>\n",
              "      <td>1-2 km</td>\n",
              "      <td>Walk</td>\n",
              "      <td>...</td>\n",
              "      <td>52</td>\n",
              "      <td>32</td>\n",
              "      <td>33</td>\n",
              "      <td>28</td>\n",
              "      <td>81</td>\n",
              "      <td>150000</td>\n",
              "      <td>No</td>\n",
              "      <td>1 hours</td>\n",
              "      <td>Yes</td>\n",
              "      <td>2.19</td>\n",
              "    </tr>\n",
              "  </tbody>\n",
              "</table>\n",
              "<p>5 rows × 28 columns</p>\n",
              "</div>\n",
              "      <button class=\"colab-df-convert\" onclick=\"convertToInteractive('df-1c3ddf69-534b-44fa-948c-e73925d8061e')\"\n",
              "              title=\"Convert this dataframe to an interactive table.\"\n",
              "              style=\"display:none;\">\n",
              "        \n",
              "  <svg xmlns=\"http://www.w3.org/2000/svg\" height=\"24px\"viewBox=\"0 0 24 24\"\n",
              "       width=\"24px\">\n",
              "    <path d=\"M0 0h24v24H0V0z\" fill=\"none\"/>\n",
              "    <path d=\"M18.56 5.44l.94 2.06.94-2.06 2.06-.94-2.06-.94-.94-2.06-.94 2.06-2.06.94zm-11 1L8.5 8.5l.94-2.06 2.06-.94-2.06-.94L8.5 2.5l-.94 2.06-2.06.94zm10 10l.94 2.06.94-2.06 2.06-.94-2.06-.94-.94-2.06-.94 2.06-2.06.94z\"/><path d=\"M17.41 7.96l-1.37-1.37c-.4-.4-.92-.59-1.43-.59-.52 0-1.04.2-1.43.59L10.3 9.45l-7.72 7.72c-.78.78-.78 2.05 0 2.83L4 21.41c.39.39.9.59 1.41.59.51 0 1.02-.2 1.41-.59l7.78-7.78 2.81-2.81c.8-.78.8-2.07 0-2.86zM5.41 20L4 18.59l7.72-7.72 1.47 1.35L5.41 20z\"/>\n",
              "  </svg>\n",
              "      </button>\n",
              "      \n",
              "  <style>\n",
              "    .colab-df-container {\n",
              "      display:flex;\n",
              "      flex-wrap:wrap;\n",
              "      gap: 12px;\n",
              "    }\n",
              "\n",
              "    .colab-df-convert {\n",
              "      background-color: #E8F0FE;\n",
              "      border: none;\n",
              "      border-radius: 50%;\n",
              "      cursor: pointer;\n",
              "      display: none;\n",
              "      fill: #1967D2;\n",
              "      height: 32px;\n",
              "      padding: 0 0 0 0;\n",
              "      width: 32px;\n",
              "    }\n",
              "\n",
              "    .colab-df-convert:hover {\n",
              "      background-color: #E2EBFA;\n",
              "      box-shadow: 0px 1px 2px rgba(60, 64, 67, 0.3), 0px 1px 3px 1px rgba(60, 64, 67, 0.15);\n",
              "      fill: #174EA6;\n",
              "    }\n",
              "\n",
              "    [theme=dark] .colab-df-convert {\n",
              "      background-color: #3B4455;\n",
              "      fill: #D2E3FC;\n",
              "    }\n",
              "\n",
              "    [theme=dark] .colab-df-convert:hover {\n",
              "      background-color: #434B5C;\n",
              "      box-shadow: 0px 1px 3px 1px rgba(0, 0, 0, 0.15);\n",
              "      filter: drop-shadow(0px 1px 2px rgba(0, 0, 0, 0.3));\n",
              "      fill: #FFFFFF;\n",
              "    }\n",
              "  </style>\n",
              "\n",
              "      <script>\n",
              "        const buttonEl =\n",
              "          document.querySelector('#df-1c3ddf69-534b-44fa-948c-e73925d8061e button.colab-df-convert');\n",
              "        buttonEl.style.display =\n",
              "          google.colab.kernel.accessAllowed ? 'block' : 'none';\n",
              "\n",
              "        async function convertToInteractive(key) {\n",
              "          const element = document.querySelector('#df-1c3ddf69-534b-44fa-948c-e73925d8061e');\n",
              "          const dataTable =\n",
              "            await google.colab.kernel.invokeFunction('convertToInteractive',\n",
              "                                                     [key], {});\n",
              "          if (!dataTable) return;\n",
              "\n",
              "          const docLinkHtml = 'Like what you see? Visit the ' +\n",
              "            '<a target=\"_blank\" href=https://colab.research.google.com/notebooks/data_table.ipynb>data table notebook</a>'\n",
              "            + ' to learn more about interactive tables.';\n",
              "          element.innerHTML = '';\n",
              "          dataTable['output_type'] = 'display_data';\n",
              "          await google.colab.output.renderOutput(dataTable, element);\n",
              "          const docLink = document.createElement('div');\n",
              "          docLink.innerHTML = docLinkHtml;\n",
              "          element.appendChild(docLink);\n",
              "        }\n",
              "      </script>\n",
              "    </div>\n",
              "  </div>\n",
              "  "
            ]
          },
          "metadata": {},
          "execution_count": 5
        }
      ],
      "source": [
        "df.head()"
      ]
    },
    {
      "cell_type": "code",
      "execution_count": 6,
      "metadata": {
        "colab": {
          "base_uri": "https://localhost:8080/"
        },
        "id": "xMj8pX4HS1Yo",
        "outputId": "2c00580f-b844-4680-f0c0-893b036b8f2f"
      },
      "outputs": [
        {
          "output_type": "stream",
          "name": "stdout",
          "text": [
            "<class 'pandas.core.frame.DataFrame'>\n",
            "RangeIndex: 251 entries, 0 to 250\n",
            "Data columns (total 28 columns):\n",
            " #   Column                  Non-Null Count  Dtype  \n",
            "---  ------                  --------------  -----  \n",
            " 0   Age                     251 non-null    object \n",
            " 1   Gender                  251 non-null    object \n",
            " 2   Home Language           251 non-null    object \n",
            " 3   Father Occupation       251 non-null    object \n",
            " 4   Mother Occupation       251 non-null    object \n",
            " 5   Number Of Siblings      251 non-null    object \n",
            " 6   Father Education        251 non-null    object \n",
            " 7   Mother Education        251 non-null    object \n",
            " 8   School Distance         251 non-null    object \n",
            " 9   Means to school         251 non-null    object \n",
            " 10  House Lighting          251 non-null    object \n",
            " 11  School Infrustructure   251 non-null    object \n",
            " 12  School Meal per day     251 non-null    object \n",
            " 13  School Cost             251 non-null    object \n",
            " 14  Family income source    251 non-null    object \n",
            " 15  Unnamed: 15             0 non-null      float64\n",
            " 16  Bangla                  251 non-null    int64  \n",
            " 17  English                 251 non-null    int64  \n",
            " 18  Math                    251 non-null    int64  \n",
            " 19  Science                 251 non-null    int64  \n",
            " 20  History                 251 non-null    int64  \n",
            " 21  Social Science          251 non-null    int64  \n",
            " 22  Religious Study         251 non-null    int64  \n",
            " 23  Family Annual income    251 non-null    int64  \n",
            " 24  Extra Tution            251 non-null    object \n",
            " 25  Hours of study per day  251 non-null    object \n",
            " 26  Class Label             251 non-null    object \n",
            " 27  GPA                     251 non-null    float64\n",
            "dtypes: float64(2), int64(8), object(18)\n",
            "memory usage: 55.0+ KB\n"
          ]
        }
      ],
      "source": [
        "df.info()"
      ]
    },
    {
      "cell_type": "code",
      "execution_count": 7,
      "metadata": {
        "id": "vA_bJ_WUS1Yp"
      },
      "outputs": [],
      "source": [
        "# df.drop(['Unnamed: 0','Unnamed: 0.1'],axis=1,inplace=True)\n",
        "df.drop('Unnamed: 15',axis=1,inplace=True)"
      ]
    },
    {
      "cell_type": "code",
      "execution_count": 8,
      "metadata": {
        "colab": {
          "base_uri": "https://localhost:8080/"
        },
        "id": "LVywnJGTS1Yp",
        "outputId": "ca55327d-0d18-4759-d110-a17c1256c1f2"
      },
      "outputs": [
        {
          "output_type": "execute_result",
          "data": {
            "text/plain": [
              "Index(['Age', 'Gender', 'Home Language', 'Father Occupation',\n",
              "       'Mother Occupation', 'Number Of Siblings', 'Father Education',\n",
              "       'Mother Education', 'School Distance', 'Means to school',\n",
              "       'House Lighting', 'School Infrustructure', 'School Meal per day',\n",
              "       'School Cost', 'Family income source', 'Bangla', 'English', 'Math',\n",
              "       'Science', 'History', 'Social Science', 'Religious Study',\n",
              "       'Family Annual income', 'Extra Tution', 'Hours of study per day',\n",
              "       'Class Label', 'GPA'],\n",
              "      dtype='object')"
            ]
          },
          "metadata": {},
          "execution_count": 8
        }
      ],
      "source": [
        "df.columns"
      ]
    },
    {
      "cell_type": "code",
      "source": [
        "df.isnull().sum()"
      ],
      "metadata": {
        "colab": {
          "base_uri": "https://localhost:8080/"
        },
        "id": "V_JMRq2vZk9O",
        "outputId": "2c57e76b-1cff-4fc9-80cf-664f1397fcad"
      },
      "execution_count": 9,
      "outputs": [
        {
          "output_type": "execute_result",
          "data": {
            "text/plain": [
              "Age                       0\n",
              "Gender                    0\n",
              "Home Language             0\n",
              "Father Occupation         0\n",
              "Mother Occupation         0\n",
              "Number Of Siblings        0\n",
              "Father Education          0\n",
              "Mother Education          0\n",
              "School Distance           0\n",
              "Means to school           0\n",
              "House Lighting            0\n",
              "School Infrustructure     0\n",
              "School Meal per day       0\n",
              "School Cost               0\n",
              "Family income source      0\n",
              "Bangla                    0\n",
              "English                   0\n",
              "Math                      0\n",
              "Science                   0\n",
              "History                   0\n",
              "Social Science            0\n",
              "Religious Study           0\n",
              "Family Annual income      0\n",
              "Extra Tution              0\n",
              "Hours of study per day    0\n",
              "Class Label               0\n",
              "GPA                       0\n",
              "dtype: int64"
            ]
          },
          "metadata": {},
          "execution_count": 9
        }
      ]
    },
    {
      "cell_type": "code",
      "source": [
        "import random as ra\n",
        "round(ra.uniform(20,65),1)"
      ],
      "metadata": {
        "colab": {
          "base_uri": "https://localhost:8080/"
        },
        "id": "gTa6KROYATJd",
        "outputId": "a53a3e00-3c79-4837-f6fd-2b56e30186db"
      },
      "execution_count": 10,
      "outputs": [
        {
          "output_type": "execute_result",
          "data": {
            "text/plain": [
              "53.4"
            ]
          },
          "metadata": {},
          "execution_count": 10
        }
      ]
    },
    {
      "cell_type": "code",
      "source": [
        "import random as ra\n",
        "attendance=[]\n",
        "for i in df['GPA']:\n",
        "  if i < 1.00 :\n",
        "    attendance.append(round(ra.uniform(20,30),1))\n",
        "  elif i<2.00 :\n",
        "    attendance.append(round(ra.uniform(30,50),1))\n",
        "  elif i<3.00:\n",
        "    attendance.append(round(ra.uniform(50,75),1))\n",
        "  else:\n",
        "    attendance.append(round(ra.uniform(65,95),1))"
      ],
      "metadata": {
        "id": "ubN-rdCNZk7o"
      },
      "execution_count": 11,
      "outputs": []
    },
    {
      "cell_type": "code",
      "source": [
        "df['Attendance Parcentage']=attendance"
      ],
      "metadata": {
        "id": "JOm1wyZLGtHO"
      },
      "execution_count": 12,
      "outputs": []
    },
    {
      "cell_type": "code",
      "source": [
        "df.head()"
      ],
      "metadata": {
        "colab": {
          "base_uri": "https://localhost:8080/",
          "height": 0
        },
        "id": "3Z3GbtKiZky_",
        "outputId": "97100a2c-fd91-4e93-d744-3665383212a0"
      },
      "execution_count": 13,
      "outputs": [
        {
          "output_type": "execute_result",
          "data": {
            "text/plain": [
              "           Age  Gender    Home Language Father Occupation Mother Occupation  \\\n",
              "0  13-15 years  female  Native Language         Immigrant        Home maker   \n",
              "1  10-13 years    male           Bangla       Freelancer         Home maker   \n",
              "2  13-15 years  female  Native Language    Private sector        Home maker   \n",
              "3  13-15 years  female           Bangla     Public sector        Freelancer   \n",
              "4  10-13 years    male  Native Language     Public sector        Home maker   \n",
              "\n",
              "  Number Of Siblings     Father Education Mother Education School Distance  \\\n",
              "0       Four or more            secondary        secondary          1-2 km   \n",
              "1     Three Children  Honors/ Equivalent         secondary        0.5-1 km   \n",
              "2     Three Children              primary        secondary           >7 km   \n",
              "3     Three Children              primary        secondary        0-0.5 km   \n",
              "4               None  Honors/ Equivalent           primary          1-2 km   \n",
              "\n",
              "     Means to school  ... Science History Social Science Religious Study  \\\n",
              "0           Rickshaw  ...      42      35             25              29   \n",
              "1  Bicycle/motorbike  ...      50      54             56              91   \n",
              "2           Rickshaw  ...      90      43             81              31   \n",
              "3               Walk  ...      54      50             20              82   \n",
              "4               Walk  ...      32      33             28              81   \n",
              "\n",
              "  Family Annual income  Extra Tution  Hours of study per day  Class Label  \\\n",
              "0               300000           Yes                 1 hours          Yes   \n",
              "1               850000           Yes                 3 hours          Yes   \n",
              "2               100000            No                 3 hours           No   \n",
              "3               200000           Yes                 1 hours          Yes   \n",
              "4               150000            No                 1 hours          Yes   \n",
              "\n",
              "    GPA  Attendance Parcentage  \n",
              "0  2.01                   56.2  \n",
              "1  3.04                   82.2  \n",
              "2  3.08                   78.3  \n",
              "3  2.40                   74.0  \n",
              "4  2.19                   58.8  \n",
              "\n",
              "[5 rows x 28 columns]"
            ],
            "text/html": [
              "\n",
              "  <div id=\"df-13c6be96-2214-405e-a8cf-84adff4c0d26\">\n",
              "    <div class=\"colab-df-container\">\n",
              "      <div>\n",
              "<style scoped>\n",
              "    .dataframe tbody tr th:only-of-type {\n",
              "        vertical-align: middle;\n",
              "    }\n",
              "\n",
              "    .dataframe tbody tr th {\n",
              "        vertical-align: top;\n",
              "    }\n",
              "\n",
              "    .dataframe thead th {\n",
              "        text-align: right;\n",
              "    }\n",
              "</style>\n",
              "<table border=\"1\" class=\"dataframe\">\n",
              "  <thead>\n",
              "    <tr style=\"text-align: right;\">\n",
              "      <th></th>\n",
              "      <th>Age</th>\n",
              "      <th>Gender</th>\n",
              "      <th>Home Language</th>\n",
              "      <th>Father Occupation</th>\n",
              "      <th>Mother Occupation</th>\n",
              "      <th>Number Of Siblings</th>\n",
              "      <th>Father Education</th>\n",
              "      <th>Mother Education</th>\n",
              "      <th>School Distance</th>\n",
              "      <th>Means to school</th>\n",
              "      <th>...</th>\n",
              "      <th>Science</th>\n",
              "      <th>History</th>\n",
              "      <th>Social Science</th>\n",
              "      <th>Religious Study</th>\n",
              "      <th>Family Annual income</th>\n",
              "      <th>Extra Tution</th>\n",
              "      <th>Hours of study per day</th>\n",
              "      <th>Class Label</th>\n",
              "      <th>GPA</th>\n",
              "      <th>Attendance Parcentage</th>\n",
              "    </tr>\n",
              "  </thead>\n",
              "  <tbody>\n",
              "    <tr>\n",
              "      <th>0</th>\n",
              "      <td>13-15 years</td>\n",
              "      <td>female</td>\n",
              "      <td>Native Language</td>\n",
              "      <td>Immigrant</td>\n",
              "      <td>Home maker</td>\n",
              "      <td>Four or more</td>\n",
              "      <td>secondary</td>\n",
              "      <td>secondary</td>\n",
              "      <td>1-2 km</td>\n",
              "      <td>Rickshaw</td>\n",
              "      <td>...</td>\n",
              "      <td>42</td>\n",
              "      <td>35</td>\n",
              "      <td>25</td>\n",
              "      <td>29</td>\n",
              "      <td>300000</td>\n",
              "      <td>Yes</td>\n",
              "      <td>1 hours</td>\n",
              "      <td>Yes</td>\n",
              "      <td>2.01</td>\n",
              "      <td>56.2</td>\n",
              "    </tr>\n",
              "    <tr>\n",
              "      <th>1</th>\n",
              "      <td>10-13 years</td>\n",
              "      <td>male</td>\n",
              "      <td>Bangla</td>\n",
              "      <td>Freelancer</td>\n",
              "      <td>Home maker</td>\n",
              "      <td>Three Children</td>\n",
              "      <td>Honors/ Equivalent</td>\n",
              "      <td>secondary</td>\n",
              "      <td>0.5-1 km</td>\n",
              "      <td>Bicycle/motorbike</td>\n",
              "      <td>...</td>\n",
              "      <td>50</td>\n",
              "      <td>54</td>\n",
              "      <td>56</td>\n",
              "      <td>91</td>\n",
              "      <td>850000</td>\n",
              "      <td>Yes</td>\n",
              "      <td>3 hours</td>\n",
              "      <td>Yes</td>\n",
              "      <td>3.04</td>\n",
              "      <td>82.2</td>\n",
              "    </tr>\n",
              "    <tr>\n",
              "      <th>2</th>\n",
              "      <td>13-15 years</td>\n",
              "      <td>female</td>\n",
              "      <td>Native Language</td>\n",
              "      <td>Private sector</td>\n",
              "      <td>Home maker</td>\n",
              "      <td>Three Children</td>\n",
              "      <td>primary</td>\n",
              "      <td>secondary</td>\n",
              "      <td>&gt;7 km</td>\n",
              "      <td>Rickshaw</td>\n",
              "      <td>...</td>\n",
              "      <td>90</td>\n",
              "      <td>43</td>\n",
              "      <td>81</td>\n",
              "      <td>31</td>\n",
              "      <td>100000</td>\n",
              "      <td>No</td>\n",
              "      <td>3 hours</td>\n",
              "      <td>No</td>\n",
              "      <td>3.08</td>\n",
              "      <td>78.3</td>\n",
              "    </tr>\n",
              "    <tr>\n",
              "      <th>3</th>\n",
              "      <td>13-15 years</td>\n",
              "      <td>female</td>\n",
              "      <td>Bangla</td>\n",
              "      <td>Public sector</td>\n",
              "      <td>Freelancer</td>\n",
              "      <td>Three Children</td>\n",
              "      <td>primary</td>\n",
              "      <td>secondary</td>\n",
              "      <td>0-0.5 km</td>\n",
              "      <td>Walk</td>\n",
              "      <td>...</td>\n",
              "      <td>54</td>\n",
              "      <td>50</td>\n",
              "      <td>20</td>\n",
              "      <td>82</td>\n",
              "      <td>200000</td>\n",
              "      <td>Yes</td>\n",
              "      <td>1 hours</td>\n",
              "      <td>Yes</td>\n",
              "      <td>2.40</td>\n",
              "      <td>74.0</td>\n",
              "    </tr>\n",
              "    <tr>\n",
              "      <th>4</th>\n",
              "      <td>10-13 years</td>\n",
              "      <td>male</td>\n",
              "      <td>Native Language</td>\n",
              "      <td>Public sector</td>\n",
              "      <td>Home maker</td>\n",
              "      <td>None</td>\n",
              "      <td>Honors/ Equivalent</td>\n",
              "      <td>primary</td>\n",
              "      <td>1-2 km</td>\n",
              "      <td>Walk</td>\n",
              "      <td>...</td>\n",
              "      <td>32</td>\n",
              "      <td>33</td>\n",
              "      <td>28</td>\n",
              "      <td>81</td>\n",
              "      <td>150000</td>\n",
              "      <td>No</td>\n",
              "      <td>1 hours</td>\n",
              "      <td>Yes</td>\n",
              "      <td>2.19</td>\n",
              "      <td>58.8</td>\n",
              "    </tr>\n",
              "  </tbody>\n",
              "</table>\n",
              "<p>5 rows × 28 columns</p>\n",
              "</div>\n",
              "      <button class=\"colab-df-convert\" onclick=\"convertToInteractive('df-13c6be96-2214-405e-a8cf-84adff4c0d26')\"\n",
              "              title=\"Convert this dataframe to an interactive table.\"\n",
              "              style=\"display:none;\">\n",
              "        \n",
              "  <svg xmlns=\"http://www.w3.org/2000/svg\" height=\"24px\"viewBox=\"0 0 24 24\"\n",
              "       width=\"24px\">\n",
              "    <path d=\"M0 0h24v24H0V0z\" fill=\"none\"/>\n",
              "    <path d=\"M18.56 5.44l.94 2.06.94-2.06 2.06-.94-2.06-.94-.94-2.06-.94 2.06-2.06.94zm-11 1L8.5 8.5l.94-2.06 2.06-.94-2.06-.94L8.5 2.5l-.94 2.06-2.06.94zm10 10l.94 2.06.94-2.06 2.06-.94-2.06-.94-.94-2.06-.94 2.06-2.06.94z\"/><path d=\"M17.41 7.96l-1.37-1.37c-.4-.4-.92-.59-1.43-.59-.52 0-1.04.2-1.43.59L10.3 9.45l-7.72 7.72c-.78.78-.78 2.05 0 2.83L4 21.41c.39.39.9.59 1.41.59.51 0 1.02-.2 1.41-.59l7.78-7.78 2.81-2.81c.8-.78.8-2.07 0-2.86zM5.41 20L4 18.59l7.72-7.72 1.47 1.35L5.41 20z\"/>\n",
              "  </svg>\n",
              "      </button>\n",
              "      \n",
              "  <style>\n",
              "    .colab-df-container {\n",
              "      display:flex;\n",
              "      flex-wrap:wrap;\n",
              "      gap: 12px;\n",
              "    }\n",
              "\n",
              "    .colab-df-convert {\n",
              "      background-color: #E8F0FE;\n",
              "      border: none;\n",
              "      border-radius: 50%;\n",
              "      cursor: pointer;\n",
              "      display: none;\n",
              "      fill: #1967D2;\n",
              "      height: 32px;\n",
              "      padding: 0 0 0 0;\n",
              "      width: 32px;\n",
              "    }\n",
              "\n",
              "    .colab-df-convert:hover {\n",
              "      background-color: #E2EBFA;\n",
              "      box-shadow: 0px 1px 2px rgba(60, 64, 67, 0.3), 0px 1px 3px 1px rgba(60, 64, 67, 0.15);\n",
              "      fill: #174EA6;\n",
              "    }\n",
              "\n",
              "    [theme=dark] .colab-df-convert {\n",
              "      background-color: #3B4455;\n",
              "      fill: #D2E3FC;\n",
              "    }\n",
              "\n",
              "    [theme=dark] .colab-df-convert:hover {\n",
              "      background-color: #434B5C;\n",
              "      box-shadow: 0px 1px 3px 1px rgba(0, 0, 0, 0.15);\n",
              "      filter: drop-shadow(0px 1px 2px rgba(0, 0, 0, 0.3));\n",
              "      fill: #FFFFFF;\n",
              "    }\n",
              "  </style>\n",
              "\n",
              "      <script>\n",
              "        const buttonEl =\n",
              "          document.querySelector('#df-13c6be96-2214-405e-a8cf-84adff4c0d26 button.colab-df-convert');\n",
              "        buttonEl.style.display =\n",
              "          google.colab.kernel.accessAllowed ? 'block' : 'none';\n",
              "\n",
              "        async function convertToInteractive(key) {\n",
              "          const element = document.querySelector('#df-13c6be96-2214-405e-a8cf-84adff4c0d26');\n",
              "          const dataTable =\n",
              "            await google.colab.kernel.invokeFunction('convertToInteractive',\n",
              "                                                     [key], {});\n",
              "          if (!dataTable) return;\n",
              "\n",
              "          const docLinkHtml = 'Like what you see? Visit the ' +\n",
              "            '<a target=\"_blank\" href=https://colab.research.google.com/notebooks/data_table.ipynb>data table notebook</a>'\n",
              "            + ' to learn more about interactive tables.';\n",
              "          element.innerHTML = '';\n",
              "          dataTable['output_type'] = 'display_data';\n",
              "          await google.colab.output.renderOutput(dataTable, element);\n",
              "          const docLink = document.createElement('div');\n",
              "          docLink.innerHTML = docLinkHtml;\n",
              "          element.appendChild(docLink);\n",
              "        }\n",
              "      </script>\n",
              "    </div>\n",
              "  </div>\n",
              "  "
            ]
          },
          "metadata": {},
          "execution_count": 13
        }
      ]
    },
    {
      "cell_type": "markdown",
      "metadata": {
        "id": "Rbyb2W7BIK-l"
      },
      "source": [
        "## feature engineering"
      ]
    },
    {
      "cell_type": "markdown",
      "source": [
        "rename the columns"
      ],
      "metadata": {
        "id": "K2Mb4QwqLsKm"
      }
    },
    {
      "cell_type": "code",
      "source": [
        "df.columns"
      ],
      "metadata": {
        "colab": {
          "base_uri": "https://localhost:8080/"
        },
        "id": "3tdos_p_L_xs",
        "outputId": "f97d93aa-3324-4383-a8a3-254ae0bdf2e9"
      },
      "execution_count": 14,
      "outputs": [
        {
          "output_type": "execute_result",
          "data": {
            "text/plain": [
              "Index(['Age', 'Gender', 'Home Language', 'Father Occupation',\n",
              "       'Mother Occupation', 'Number Of Siblings', 'Father Education',\n",
              "       'Mother Education', 'School Distance', 'Means to school',\n",
              "       'House Lighting', 'School Infrustructure', 'School Meal per day',\n",
              "       'School Cost', 'Family income source', 'Bangla', 'English', 'Math',\n",
              "       'Science', 'History', 'Social Science', 'Religious Study',\n",
              "       'Family Annual income', 'Extra Tution', 'Hours of study per day',\n",
              "       'Class Label', 'GPA', 'Attendance Parcentage'],\n",
              "      dtype='object')"
            ]
          },
          "metadata": {},
          "execution_count": 14
        }
      ]
    },
    {
      "cell_type": "code",
      "source": [
        "df.rename({'Home Language':'Language','Father Occupation':'F_occu','Mother Occupation':'M_occu', \n",
        "           'Number Of Siblings':'N_of_Sib', 'Father Education':'F_edu','Mother Education':'M_edu',\n",
        "           'School Distance':'S_Dis', 'Means to school':'M_t_School','House Lighting':'H_Light',\n",
        "           'School Infrustructure':'Scl_infra', 'School Meal per day':'M_por_d','School Cost':'Scl_cost',\n",
        "           'Family income source':'income_Src','Family Annual income':'A_income', 'Extra Tution':'tution', \n",
        "           'Hours of study per day':'Hour_study','Class Label':'Dropout','Attendance Parcentage':'Attended'},axis=1,inplace=True)"
      ],
      "metadata": {
        "id": "T54eCCdZLrop"
      },
      "execution_count": 15,
      "outputs": []
    },
    {
      "cell_type": "code",
      "execution_count": 16,
      "metadata": {
        "id": "wmO4nZG5S1Yq"
      },
      "outputs": [],
      "source": [
        "from sklearn.preprocessing import LabelEncoder\n",
        "le=LabelEncoder()"
      ]
    },
    {
      "cell_type": "code",
      "execution_count": 17,
      "metadata": {
        "colab": {
          "base_uri": "https://localhost:8080/"
        },
        "id": "kvI0OqguS1Yq",
        "outputId": "c9469968-2dc0-4d04-be6e-2a930e7e566f"
      },
      "outputs": [
        {
          "output_type": "stream",
          "name": "stderr",
          "text": [
            "/usr/local/lib/python3.7/dist-packages/ipykernel_launcher.py:2: DeprecationWarning: Converting `np.inexact` or `np.floating` to a dtype is deprecated. The current result is `float64` which is not strictly correct.\n",
            "  \n"
          ]
        }
      ],
      "source": [
        "\n",
        "for col in df.columns:\n",
        "    if df[col].dtype==np.number:\n",
        "        continue\n",
        "    else:\n",
        "        df[col]=le.fit_transform(df[col])"
      ]
    },
    {
      "cell_type": "code",
      "execution_count": 18,
      "metadata": {
        "colab": {
          "base_uri": "https://localhost:8080/",
          "height": 236
        },
        "id": "jqcOsKaRS1Yr",
        "outputId": "38fb9d76-64b2-4e34-aab9-3465d3b0a9df"
      },
      "outputs": [
        {
          "output_type": "execute_result",
          "data": {
            "text/plain": [
              "   Age  Gender  Language  F_occu  M_occu  N_of_Sib  F_edu  M_edu  S_Dis  \\\n",
              "0    1       0         2       3       3         0      4      4      2   \n",
              "1    0       1         0       2       3         2      0      4      1   \n",
              "2    1       0         2       4       3         2      3      4      6   \n",
              "3    1       0         0       5       2         2      3      4      0   \n",
              "4    0       1         2       5       3         1      0      3      2   \n",
              "\n",
              "   M_t_School  ...  Science  History  Social Science  Religious Study  \\\n",
              "0           2  ...       21       15               5                9   \n",
              "1           0  ...       29       34              35               69   \n",
              "2           2  ...       69       23              60               11   \n",
              "3           4  ...       33       30               0               61   \n",
              "4           4  ...       11       13               8               60   \n",
              "\n",
              "   A_income  tution  Hour_study  Dropout   GPA  Attended  \n",
              "0         5       1           1        1  2.01      56.2  \n",
              "1        16       1           3        1  3.04      82.2  \n",
              "2         0       0           3        0  3.08      78.3  \n",
              "3         3       1           1        1  2.40      74.0  \n",
              "4         1       0           1        1  2.19      58.8  \n",
              "\n",
              "[5 rows x 28 columns]"
            ],
            "text/html": [
              "\n",
              "  <div id=\"df-df5918e0-8424-4e59-81d8-6267e529e680\">\n",
              "    <div class=\"colab-df-container\">\n",
              "      <div>\n",
              "<style scoped>\n",
              "    .dataframe tbody tr th:only-of-type {\n",
              "        vertical-align: middle;\n",
              "    }\n",
              "\n",
              "    .dataframe tbody tr th {\n",
              "        vertical-align: top;\n",
              "    }\n",
              "\n",
              "    .dataframe thead th {\n",
              "        text-align: right;\n",
              "    }\n",
              "</style>\n",
              "<table border=\"1\" class=\"dataframe\">\n",
              "  <thead>\n",
              "    <tr style=\"text-align: right;\">\n",
              "      <th></th>\n",
              "      <th>Age</th>\n",
              "      <th>Gender</th>\n",
              "      <th>Language</th>\n",
              "      <th>F_occu</th>\n",
              "      <th>M_occu</th>\n",
              "      <th>N_of_Sib</th>\n",
              "      <th>F_edu</th>\n",
              "      <th>M_edu</th>\n",
              "      <th>S_Dis</th>\n",
              "      <th>M_t_School</th>\n",
              "      <th>...</th>\n",
              "      <th>Science</th>\n",
              "      <th>History</th>\n",
              "      <th>Social Science</th>\n",
              "      <th>Religious Study</th>\n",
              "      <th>A_income</th>\n",
              "      <th>tution</th>\n",
              "      <th>Hour_study</th>\n",
              "      <th>Dropout</th>\n",
              "      <th>GPA</th>\n",
              "      <th>Attended</th>\n",
              "    </tr>\n",
              "  </thead>\n",
              "  <tbody>\n",
              "    <tr>\n",
              "      <th>0</th>\n",
              "      <td>1</td>\n",
              "      <td>0</td>\n",
              "      <td>2</td>\n",
              "      <td>3</td>\n",
              "      <td>3</td>\n",
              "      <td>0</td>\n",
              "      <td>4</td>\n",
              "      <td>4</td>\n",
              "      <td>2</td>\n",
              "      <td>2</td>\n",
              "      <td>...</td>\n",
              "      <td>21</td>\n",
              "      <td>15</td>\n",
              "      <td>5</td>\n",
              "      <td>9</td>\n",
              "      <td>5</td>\n",
              "      <td>1</td>\n",
              "      <td>1</td>\n",
              "      <td>1</td>\n",
              "      <td>2.01</td>\n",
              "      <td>56.2</td>\n",
              "    </tr>\n",
              "    <tr>\n",
              "      <th>1</th>\n",
              "      <td>0</td>\n",
              "      <td>1</td>\n",
              "      <td>0</td>\n",
              "      <td>2</td>\n",
              "      <td>3</td>\n",
              "      <td>2</td>\n",
              "      <td>0</td>\n",
              "      <td>4</td>\n",
              "      <td>1</td>\n",
              "      <td>0</td>\n",
              "      <td>...</td>\n",
              "      <td>29</td>\n",
              "      <td>34</td>\n",
              "      <td>35</td>\n",
              "      <td>69</td>\n",
              "      <td>16</td>\n",
              "      <td>1</td>\n",
              "      <td>3</td>\n",
              "      <td>1</td>\n",
              "      <td>3.04</td>\n",
              "      <td>82.2</td>\n",
              "    </tr>\n",
              "    <tr>\n",
              "      <th>2</th>\n",
              "      <td>1</td>\n",
              "      <td>0</td>\n",
              "      <td>2</td>\n",
              "      <td>4</td>\n",
              "      <td>3</td>\n",
              "      <td>2</td>\n",
              "      <td>3</td>\n",
              "      <td>4</td>\n",
              "      <td>6</td>\n",
              "      <td>2</td>\n",
              "      <td>...</td>\n",
              "      <td>69</td>\n",
              "      <td>23</td>\n",
              "      <td>60</td>\n",
              "      <td>11</td>\n",
              "      <td>0</td>\n",
              "      <td>0</td>\n",
              "      <td>3</td>\n",
              "      <td>0</td>\n",
              "      <td>3.08</td>\n",
              "      <td>78.3</td>\n",
              "    </tr>\n",
              "    <tr>\n",
              "      <th>3</th>\n",
              "      <td>1</td>\n",
              "      <td>0</td>\n",
              "      <td>0</td>\n",
              "      <td>5</td>\n",
              "      <td>2</td>\n",
              "      <td>2</td>\n",
              "      <td>3</td>\n",
              "      <td>4</td>\n",
              "      <td>0</td>\n",
              "      <td>4</td>\n",
              "      <td>...</td>\n",
              "      <td>33</td>\n",
              "      <td>30</td>\n",
              "      <td>0</td>\n",
              "      <td>61</td>\n",
              "      <td>3</td>\n",
              "      <td>1</td>\n",
              "      <td>1</td>\n",
              "      <td>1</td>\n",
              "      <td>2.40</td>\n",
              "      <td>74.0</td>\n",
              "    </tr>\n",
              "    <tr>\n",
              "      <th>4</th>\n",
              "      <td>0</td>\n",
              "      <td>1</td>\n",
              "      <td>2</td>\n",
              "      <td>5</td>\n",
              "      <td>3</td>\n",
              "      <td>1</td>\n",
              "      <td>0</td>\n",
              "      <td>3</td>\n",
              "      <td>2</td>\n",
              "      <td>4</td>\n",
              "      <td>...</td>\n",
              "      <td>11</td>\n",
              "      <td>13</td>\n",
              "      <td>8</td>\n",
              "      <td>60</td>\n",
              "      <td>1</td>\n",
              "      <td>0</td>\n",
              "      <td>1</td>\n",
              "      <td>1</td>\n",
              "      <td>2.19</td>\n",
              "      <td>58.8</td>\n",
              "    </tr>\n",
              "  </tbody>\n",
              "</table>\n",
              "<p>5 rows × 28 columns</p>\n",
              "</div>\n",
              "      <button class=\"colab-df-convert\" onclick=\"convertToInteractive('df-df5918e0-8424-4e59-81d8-6267e529e680')\"\n",
              "              title=\"Convert this dataframe to an interactive table.\"\n",
              "              style=\"display:none;\">\n",
              "        \n",
              "  <svg xmlns=\"http://www.w3.org/2000/svg\" height=\"24px\"viewBox=\"0 0 24 24\"\n",
              "       width=\"24px\">\n",
              "    <path d=\"M0 0h24v24H0V0z\" fill=\"none\"/>\n",
              "    <path d=\"M18.56 5.44l.94 2.06.94-2.06 2.06-.94-2.06-.94-.94-2.06-.94 2.06-2.06.94zm-11 1L8.5 8.5l.94-2.06 2.06-.94-2.06-.94L8.5 2.5l-.94 2.06-2.06.94zm10 10l.94 2.06.94-2.06 2.06-.94-2.06-.94-.94-2.06-.94 2.06-2.06.94z\"/><path d=\"M17.41 7.96l-1.37-1.37c-.4-.4-.92-.59-1.43-.59-.52 0-1.04.2-1.43.59L10.3 9.45l-7.72 7.72c-.78.78-.78 2.05 0 2.83L4 21.41c.39.39.9.59 1.41.59.51 0 1.02-.2 1.41-.59l7.78-7.78 2.81-2.81c.8-.78.8-2.07 0-2.86zM5.41 20L4 18.59l7.72-7.72 1.47 1.35L5.41 20z\"/>\n",
              "  </svg>\n",
              "      </button>\n",
              "      \n",
              "  <style>\n",
              "    .colab-df-container {\n",
              "      display:flex;\n",
              "      flex-wrap:wrap;\n",
              "      gap: 12px;\n",
              "    }\n",
              "\n",
              "    .colab-df-convert {\n",
              "      background-color: #E8F0FE;\n",
              "      border: none;\n",
              "      border-radius: 50%;\n",
              "      cursor: pointer;\n",
              "      display: none;\n",
              "      fill: #1967D2;\n",
              "      height: 32px;\n",
              "      padding: 0 0 0 0;\n",
              "      width: 32px;\n",
              "    }\n",
              "\n",
              "    .colab-df-convert:hover {\n",
              "      background-color: #E2EBFA;\n",
              "      box-shadow: 0px 1px 2px rgba(60, 64, 67, 0.3), 0px 1px 3px 1px rgba(60, 64, 67, 0.15);\n",
              "      fill: #174EA6;\n",
              "    }\n",
              "\n",
              "    [theme=dark] .colab-df-convert {\n",
              "      background-color: #3B4455;\n",
              "      fill: #D2E3FC;\n",
              "    }\n",
              "\n",
              "    [theme=dark] .colab-df-convert:hover {\n",
              "      background-color: #434B5C;\n",
              "      box-shadow: 0px 1px 3px 1px rgba(0, 0, 0, 0.15);\n",
              "      filter: drop-shadow(0px 1px 2px rgba(0, 0, 0, 0.3));\n",
              "      fill: #FFFFFF;\n",
              "    }\n",
              "  </style>\n",
              "\n",
              "      <script>\n",
              "        const buttonEl =\n",
              "          document.querySelector('#df-df5918e0-8424-4e59-81d8-6267e529e680 button.colab-df-convert');\n",
              "        buttonEl.style.display =\n",
              "          google.colab.kernel.accessAllowed ? 'block' : 'none';\n",
              "\n",
              "        async function convertToInteractive(key) {\n",
              "          const element = document.querySelector('#df-df5918e0-8424-4e59-81d8-6267e529e680');\n",
              "          const dataTable =\n",
              "            await google.colab.kernel.invokeFunction('convertToInteractive',\n",
              "                                                     [key], {});\n",
              "          if (!dataTable) return;\n",
              "\n",
              "          const docLinkHtml = 'Like what you see? Visit the ' +\n",
              "            '<a target=\"_blank\" href=https://colab.research.google.com/notebooks/data_table.ipynb>data table notebook</a>'\n",
              "            + ' to learn more about interactive tables.';\n",
              "          element.innerHTML = '';\n",
              "          dataTable['output_type'] = 'display_data';\n",
              "          await google.colab.output.renderOutput(dataTable, element);\n",
              "          const docLink = document.createElement('div');\n",
              "          docLink.innerHTML = docLinkHtml;\n",
              "          element.appendChild(docLink);\n",
              "        }\n",
              "      </script>\n",
              "    </div>\n",
              "  </div>\n",
              "  "
            ]
          },
          "metadata": {},
          "execution_count": 18
        }
      ],
      "source": [
        "df.head()"
      ]
    },
    {
      "cell_type": "markdown",
      "source": [
        "droping the subjects"
      ],
      "metadata": {
        "id": "M9XDv0QpMrEQ"
      }
    },
    {
      "cell_type": "code",
      "source": [
        "df.drop(['Bangla', 'English', 'Math','Science', 'History', 'Social Science', 'Religious Study'],axis=1,inplace=True)"
      ],
      "metadata": {
        "id": "dAXlbnZ_MqwR"
      },
      "execution_count": 19,
      "outputs": []
    },
    {
      "cell_type": "code",
      "source": [],
      "metadata": {
        "id": "i6csYQ8OKozb"
      },
      "execution_count": 19,
      "outputs": []
    },
    {
      "cell_type": "code",
      "execution_count": 20,
      "metadata": {
        "id": "z7mlPPCGS1Ys",
        "colab": {
          "base_uri": "https://localhost:8080/",
          "height": 660
        },
        "outputId": "758fba1a-9912-4a26-9d62-293da0cafec3"
      },
      "outputs": [
        {
          "output_type": "execute_result",
          "data": {
            "text/plain": [
              "<matplotlib.axes._subplots.AxesSubplot at 0x7f5fbbb34d10>"
            ]
          },
          "metadata": {},
          "execution_count": 20
        },
        {
          "output_type": "display_data",
          "data": {
            "text/plain": [
              "<Figure size 1440x720 with 2 Axes>"
            ],
            "image/png": "[encoded data removed]"
          },
          "metadata": {
            "needs_background": "light"
          }
        }
      ],
      "source": [
        "plt.figure(figsize=(20,10))\n",
        "sns.heatmap(df.corr())"
      ]
    },
    {
      "cell_type": "code",
      "source": [
        "corr=df.corr().round(2)\n",
        "plt.figure(figsize=(20,10))\n",
        "plot=sns.heatmap(corr,annot=True)\n",
        "plt.title('Coorelation')"
      ],
      "metadata": {
        "colab": {
          "base_uri": "https://localhost:8080/",
          "height": 672
        },
        "id": "TcqGVvZkJXDb",
        "outputId": "84c3e667-dcdf-4c42-cc4b-0e0424f2c562"
      },
      "execution_count": 21,
      "outputs": [
        {
          "output_type": "execute_result",
          "data": {
            "text/plain": [
              "Text(0.5, 1.0, 'Coorelation')"
            ]
          },
          "metadata": {},
          "execution_count": 21
        },
        {
          "output_type": "display_data",
          "data": {
            "text/plain": [
              "<Figure size 1440x720 with 2 Axes>"
            ],
            "image/png": "[encoded data removed]"
          },
          "metadata": {
            "needs_background": "light"
          }
        }
      ]
    },
    {
      "cell_type": "code",
      "execution_count": 22,
      "metadata": {
        "id": "auLJeEQ3S1Ys"
      },
      "outputs": [],
      "source": [
        "x=df.drop('Dropout',axis=1)\n",
        "y=df['Dropout']"
      ]
    },
    {
      "cell_type": "code",
      "execution_count": 22,
      "metadata": {
        "id": "RjECQ4U_IdNl"
      },
      "outputs": [],
      "source": []
    },
    {
      "cell_type": "markdown",
      "metadata": {
        "id": "EIdoiqqjIeWo"
      },
      "source": [
        "## Train test split"
      ]
    },
    {
      "cell_type": "code",
      "execution_count": 23,
      "metadata": {
        "id": "A4lM9kReS1Ys"
      },
      "outputs": [],
      "source": [
        "\n",
        "from sklearn.model_selection import train_test_split\n",
        "xtrain,xtest,ytrain,ytest=train_test_split(x,y,test_size=.2,random_state=75)"
      ]
    },
    {
      "cell_type": "code",
      "execution_count": 23,
      "metadata": {
        "id": "-h1KRTH7S1Ys"
      },
      "outputs": [],
      "source": []
    },
    {
      "cell_type": "markdown",
      "source": [
        "Feature selection"
      ],
      "metadata": {
        "id": "KfBeunFkjaBB"
      }
    },
    {
      "cell_type": "code",
      "source": [
        "from sklearn.feature_selection import mutual_info_classif\n",
        "mutual_info=mutual_info_classif(xtrain,ytrain)\n",
        "mutual_info"
      ],
      "metadata": {
        "colab": {
          "base_uri": "https://localhost:8080/"
        },
        "id": "VkVYxuk7jdzD",
        "outputId": "26303b4f-c11e-4e5a-d5c4-aaf840f1629c"
      },
      "execution_count": 24,
      "outputs": [
        {
          "output_type": "execute_result",
          "data": {
            "text/plain": [
              "array([0.03835979, 0.03884823, 0.03175792, 0.01190805, 0.04367824,\n",
              "       0.        , 0.0039146 , 0.03867419, 0.        , 0.00386419,\n",
              "       0.        , 0.07754536, 0.        , 0.        , 0.        ,\n",
              "       0.21243547, 0.13126122, 0.36658733, 0.51588396, 0.04899203])"
            ]
          },
          "metadata": {},
          "execution_count": 24
        }
      ]
    },
    {
      "cell_type": "code",
      "source": [
        "mutual_info=pd.Series(mutual_info)\n",
        "mutual_info.index=xtrain.columns\n",
        "mutual_info.sort_values(ascending=False)"
      ],
      "metadata": {
        "colab": {
          "base_uri": "https://localhost:8080/"
        },
        "id": "v56T-JQij-0H",
        "outputId": "8cf026c3-c0b9-40c2-fda9-0c6418d0eb00"
      },
      "execution_count": 25,
      "outputs": [
        {
          "output_type": "execute_result",
          "data": {
            "text/plain": [
              "GPA           0.515884\n",
              "Hour_study    0.366587\n",
              "A_income      0.212435\n",
              "tution        0.131261\n",
              "Scl_infra     0.077545\n",
              "Attended      0.048992\n",
              "M_occu        0.043678\n",
              "Gender        0.038848\n",
              "M_edu         0.038674\n",
              "Age           0.038360\n",
              "Language      0.031758\n",
              "F_occu        0.011908\n",
              "F_edu         0.003915\n",
              "M_t_School    0.003864\n",
              "S_Dis         0.000000\n",
              "M_por_d       0.000000\n",
              "Scl_cost      0.000000\n",
              "income_Src    0.000000\n",
              "N_of_Sib      0.000000\n",
              "H_Light       0.000000\n",
              "dtype: float64"
            ]
          },
          "metadata": {},
          "execution_count": 25
        }
      ]
    },
    {
      "cell_type": "code",
      "source": [
        "mutual_info.sort_values(ascending=False).plot.bar(figsize=(20,8))"
      ],
      "metadata": {
        "colab": {
          "base_uri": "https://localhost:8080/",
          "height": 547
        },
        "id": "JR2tGj0LkJQv",
        "outputId": "14649ea1-61dd-48a2-c043-48b18e015694"
      },
      "execution_count": 26,
      "outputs": [
        {
          "output_type": "execute_result",
          "data": {
            "text/plain": [
              "<matplotlib.axes._subplots.AxesSubplot at 0x7f5fb6888650>"
            ]
          },
          "metadata": {},
          "execution_count": 26
        },
        {
          "output_type": "display_data",
          "data": {
            "text/plain": [
              "<Figure size 1440x576 with 1 Axes>"
            ],
            "image/png": "[encoded data removed]"
          },
          "metadata": {
            "needs_background": "light"
          }
        }
      ]
    },
    {
      "cell_type": "markdown",
      "metadata": {
        "id": "DRplczqpIkph"
      },
      "source": [
        "## model"
      ]
    },
    {
      "cell_type": "code",
      "execution_count": 27,
      "metadata": {
        "id": "fPOjOHIUS1Yt"
      },
      "outputs": [],
      "source": [
        "from sklearn.ensemble import RandomForestClassifier\n",
        "from sklearn.ensemble import AdaBoostClassifier,GradientBoostingClassifier,ExtraTreesClassifier\n",
        "from sklearn.tree import DecisionTreeClassifier\n",
        "from sklearn.naive_bayes import BernoulliNB,MultinomialNB,GaussianNB\n",
        "from sklearn.neighbors import KNeighborsClassifier\n",
        "from sklearn.cluster import KMeans\n",
        "from sklearn.svm import SVC\n"
      ]
    },
    {
      "cell_type": "code",
      "source": [
        "models={\n",
        "    'RF':RandomForestClassifier(),\n",
        "'adaBoost':AdaBoostClassifier(),\n",
        "'GBC':GradientBoostingClassifier(),\n",
        "'ExtraTree': ExtraTreesClassifier(),\n",
        "'DT':DecisionTreeClassifier(),\n",
        "'BNB':BernoulliNB(),\n",
        "'MNB':MultinomialNB(),\n",
        "'GNB':GaussianNB(),\n",
        "'KNN':KNeighborsClassifier(),\n",
        "'SVM':SVC()\n",
        "}"
      ],
      "metadata": {
        "id": "bjlu2VnvhvkP"
      },
      "execution_count": 28,
      "outputs": []
    },
    {
      "cell_type": "code",
      "source": [
        "# Training the models \n",
        "for k,v in models.items():\n",
        "  v.fit(xtrain,ytrain)\n"
      ],
      "metadata": {
        "id": "ceSnhEUthvgI"
      },
      "execution_count": 29,
      "outputs": []
    },
    {
      "cell_type": "code",
      "source": [
        "\n",
        "for k,v in models.items():\n",
        "  print(k,'  :  ',v.evaluate(xtrain,ytrain))"
      ],
      "metadata": {
        "colab": {
          "base_uri": "https://localhost:8080/",
          "height": 183
        },
        "id": "-_BfOGdPdg9V",
        "outputId": "9f1ee46c-67f8-461c-a3b0-e750b1f5e7f2"
      },
      "execution_count": 42,
      "outputs": [
        {
          "output_type": "error",
          "ename": "AttributeError",
          "evalue": "ignored",
          "traceback": [
            "\u001b[0;31m---------------------------------------------------------------------------\u001b[0m",
            "\u001b[0;31mAttributeError\u001b[0m                            Traceback (most recent call last)",
            "\u001b[0;32m<ipython-input-42-9c73ee8676f9>\u001b[0m in \u001b[0;36m<module>\u001b[0;34m\u001b[0m\n\u001b[1;32m      1\u001b[0m \u001b[0;32mfor\u001b[0m \u001b[0mk\u001b[0m\u001b[0;34m,\u001b[0m\u001b[0mv\u001b[0m \u001b[0;32min\u001b[0m \u001b[0mmodels\u001b[0m\u001b[0;34m.\u001b[0m\u001b[0mitems\u001b[0m\u001b[0;34m(\u001b[0m\u001b[0;34m)\u001b[0m\u001b[0;34m:\u001b[0m\u001b[0;34m\u001b[0m\u001b[0;34m\u001b[0m\u001b[0m\n\u001b[0;32m----> 2\u001b[0;31m   \u001b[0mprint\u001b[0m\u001b[0;34m(\u001b[0m\u001b[0mk\u001b[0m\u001b[0;34m,\u001b[0m\u001b[0;34m'  :  '\u001b[0m\u001b[0;34m,\u001b[0m\u001b[0mv\u001b[0m\u001b[0;34m.\u001b[0m\u001b[0mevaluate\u001b[0m\u001b[0;34m(\u001b[0m\u001b[0mxtrain\u001b[0m\u001b[0;34m,\u001b[0m\u001b[0mytrain\u001b[0m\u001b[0;34m)\u001b[0m\u001b[0;34m)\u001b[0m\u001b[0;34m\u001b[0m\u001b[0;34m\u001b[0m\u001b[0m\n\u001b[0m",
            "\u001b[0;31mAttributeError\u001b[0m: 'RandomForestClassifier' object has no attribute 'evaluate'"
          ]
        }
      ]
    },
    {
      "cell_type": "code",
      "source": [
        "\n",
        "for k,v in models.items():\n",
        "  print(k,'  :  ',v.score(xtrain,ytrain))"
      ],
      "metadata": {
        "id": "UZlBeKX3efiS"
      },
      "execution_count": null,
      "outputs": []
    },
    {
      "cell_type": "code",
      "source": [
        "#drowing roc curve \n",
        "from sklearn.metrics import roc_auc_score\n",
        "from sklearn.metrics import roc_curve\n",
        "def plot_roc_curve(models,x_dtest,y_dtest):\n",
        "  pred_d={}\n",
        "  for k,v in models.items():\n",
        "    pred_d[k+'_pred_d']=v.predict(x_dtest)\n",
        "  \n",
        "\n",
        "  rocScore={}\n",
        "  for k,v in pred_d.items():\n",
        "    rocScore[k+'roc']=roc_auc_score(y_dtest,v)\n",
        "\n",
        "  fp_tp_d={}\n",
        "  for k,v in pred_d.items():\n",
        "    fpr,tpr,_=roc_curve(y_dtest,v)\n",
        "    fp_tp_d[k+'roc']={'fpr':fpr,'tpr':tpr}\n",
        "\n",
        "  plt.figure(figsize=(15,8))\n",
        "  plt.title('Roc Curve')\n",
        "  for k,v in fp_tp_d.items():\n",
        "    plt.plot(v['fpr'],v['tpr'],marker='.',label= k+\": %.3f\"%rocScore[k])\n",
        "    plt.xlabel('False positive Rate')\n",
        "    plt.ylabel('True POsitive Rate')\n",
        "    \n",
        "    plt.legend()\n",
        "    \n",
        "  plt.show()"
      ],
      "metadata": {
        "id": "H5LhLH7-hvW4"
      },
      "execution_count": 30,
      "outputs": []
    },
    {
      "cell_type": "code",
      "execution_count": 31,
      "metadata": {
        "colab": {
          "base_uri": "https://localhost:8080/",
          "height": 513
        },
        "id": "4_Iet3h5S1Yu",
        "outputId": "13871003-d2f2-44f6-d856-baa6f599529f"
      },
      "outputs": [
        {
          "output_type": "display_data",
          "data": {
            "text/plain": [
              "<Figure size 1080x576 with 1 Axes>"
            ],
            "image/png": "[encoded data removed]"
          },
          "metadata": {
            "needs_background": "light"
          }
        }
      ],
      "source": [
        "plot_roc_curve(models,xtest,ytest)"
      ]
    },
    {
      "cell_type": "code",
      "source": [
        "#Precision recall curve\n",
        "from sklearn.metrics import precision_recall_curve\n",
        "from sklearn.metrics import f1_score\n",
        "from sklearn.metrics import auc"
      ],
      "metadata": {
        "id": "AMEWXe21m6GT"
      },
      "execution_count": 32,
      "outputs": []
    },
    {
      "cell_type": "code",
      "source": [
        "# lr_probs = model.predict_proba(testX)\n",
        "# # keep probabilities for the positive outcome only\n",
        "# lr_probs = lr_probs[:, 1]\n",
        "# # predict class values\n",
        "# yhat = model.predict(testX)\n",
        "# lr_precision, lr_recall, _ = precision_recall_curve(testy, lr_probs)\n",
        "# lr_f1, lr_auc = f1_score(testy, yhat), auc(lr_recall, lr_precision)\n",
        "# # summarize scores\n",
        "# print('Logistic: f1=%.3f auc=%.3f' % (lr_f1, lr_auc))\n",
        "# # plot the precision-recall curves\n",
        "# no_skill = len(testy[testy==1]) / len(testy)\n",
        "# pyplot.plot([0, 1], [no_skill, no_skill], linestyle='--', label='No Skill')\n",
        "# pyplot.plot(lr_recall, lr_precision, marker='.', label='Logistic')\n",
        "# # axis labels\n",
        "# pyplot.xlabel('Recall')\n",
        "# pyplot.ylabel('Precision')\n",
        "# # show the legend\n",
        "# pyplot.legend()\n",
        "# # show the plot\n",
        "# pyplot.show()"
      ],
      "metadata": {
        "id": "Aw4N5AM1m6DQ"
      },
      "execution_count": 35,
      "outputs": []
    },
    {
      "cell_type": "code",
      "source": [
        "models['SVM'].predict(xtest)"
      ],
      "metadata": {
        "colab": {
          "base_uri": "https://localhost:8080/"
        },
        "id": "VdjhA08ib2GJ",
        "outputId": "47a1ee8c-bd8a-4d58-9022-7be960ff9d3a"
      },
      "execution_count": 38,
      "outputs": [
        {
          "output_type": "execute_result",
          "data": {
            "text/plain": [
              "array([0, 0, 0, 0, 0, 0, 0, 0, 0, 0, 0, 0, 0, 0, 0, 1, 0, 0, 0, 0, 0, 0,\n",
              "       0, 0, 0, 0, 0, 0, 0, 0, 0, 0, 0, 0, 0, 0, 0, 0, 0, 0, 0, 0, 0, 0,\n",
              "       0, 0, 0, 1, 1, 0, 0])"
            ]
          },
          "metadata": {},
          "execution_count": 38
        }
      ]
    },
    {
      "cell_type": "code",
      "source": [
        "def plot_precission_recall_curve(models,xtest,ytest):\n",
        "  prob={}\n",
        "  for k,v in models.items():\n",
        "    p=v.predict_proba(xtest)\n",
        "    prob=p[:, 1]\n",
        "  \n",
        "  prob={}\n",
        "  for k,v in models.items():\n",
        "    p=v.predict(xtest)\n",
        "    lr_precision, lr_recall, _ = precision_recall_curve(testy, lr_probs)\n",
        "    lr_f1, lr_auc = f1_score(testy, yhat), auc(lr_recall, lr_precision)\n",
        "\n",
        "  rocScore={}\n",
        "  for k,v in pred.items():\n",
        "    rocScore[k+'roc']=roc_auc_score(ytest,v)\n",
        "\n",
        "  fp_tp_d={}\n",
        "  for k,v in pred.items():\n",
        "    fpr,tpr,_=roc_curve(ytest,v)\n",
        "    fp_tp_d[k+'roc']={'fpr':fpr,'tpr':tpr}\n",
        "\n",
        "  plt.figure(figsize=(15,8))\n",
        "  plt.title('Roc Curve')\n",
        "  for k,v in fp_tp_d.items():\n",
        "    plt.plot(v['fpr'],v['tpr'],marker='.',label= k+\": %.3f\"%rocScore[k])\n",
        "    plt.xlabel('False positive Rate')\n",
        "    plt.ylabel('True POsitive Rate')\n",
        "    \n",
        "    plt.legend()\n",
        "    \n",
        "  plt.show()"
      ],
      "metadata": {
        "id": "sumE2CZ3m5_y"
      },
      "execution_count": 34,
      "outputs": []
    },
    {
      "cell_type": "code",
      "source": [],
      "metadata": {
        "id": "EXHsPuPwm575"
      },
      "execution_count": null,
      "outputs": []
    },
    {
      "cell_type": "code",
      "source": [],
      "metadata": {
        "id": "UbyIauKcm54y"
      },
      "execution_count": null,
      "outputs": []
    },
    {
      "cell_type": "code",
      "source": [],
      "metadata": {
        "id": "tm_jiKcPm51Q"
      },
      "execution_count": null,
      "outputs": []
    },
    {
      "cell_type": "code",
      "source": [],
      "metadata": {
        "id": "Hd2LDNAKm5qI"
      },
      "execution_count": null,
      "outputs": []
    },
    {
      "cell_type": "markdown",
      "source": [
        "# calculate the auc roc\n",
        "rf_auc=roc_auc_score(ytest,rf_pred)\n",
        "dt_auc=roc_auc_score(ytest,dt_pred)\n",
        "lr_auc=roc_auc_score(ytest,lr_pred)"
      ],
      "metadata": {
        "id": "9ZmA4nlgS1Yz"
      }
    },
    {
      "cell_type": "code",
      "execution_count": null,
      "metadata": {
        "id": "C7DpDV6uS1Yz"
      },
      "outputs": [],
      "source": [
        "print('Random forest auc:',rf_auc)\n",
        "print('Decision tree auc:',dt_auc)\n",
        "print('Logistic Regression auc:',lr_auc)\n"
      ]
    },
    {
      "cell_type": "code",
      "execution_count": null,
      "metadata": {
        "id": "ICV6bQ6FS1Yz"
      },
      "outputs": [],
      "source": [
        "rf_fpr,rf_tpr,_=roc_curve(ytest,rf_pred)\n",
        "dt_fpr,dt_tpr,_=roc_curve(ytest,dt_pred)\n",
        "lr_fpr,lr_tpr,_=roc_curve(ytest,lr_pred)"
      ]
    },
    {
      "cell_type": "code",
      "execution_count": null,
      "metadata": {
        "id": "UrEjMLBPS1Yz"
      },
      "outputs": [],
      "source": [
        "def plot_roc_curve(rf_fpr,rf_tpr):\n",
        "    plt.title('Roc Curve')\n",
        "    plt.plot(rf_fpr,rf_tpr,marker='.',label=\"Random Forest: %.3f\"%rf_auc)\n",
        "    plt.plot(dt_fpr,dt_tpr,marker='.',label=\"decision tree: %.3f\"%dt_auc)\n",
        "    plt.plot(lr_fpr,lr_tpr,marker='.',label=\"Logistic Regression: %.3f\"%lr_auc)\n",
        "    plt.xlabel('False positive Rate')\n",
        "    plt.ylabel('True POsitive Rate')\n",
        "    \n",
        "    plt.legend()\n",
        "    plt.show()"
      ]
    },
    {
      "cell_type": "code",
      "execution_count": null,
      "metadata": {
        "id": "2pQ0RuxuS1Y0"
      },
      "outputs": [],
      "source": [
        "plot_roc_curve(rf_fpr,rf_tpr)"
      ]
    },
    {
      "cell_type": "code",
      "execution_count": null,
      "metadata": {
        "id": "6NWIVAQyS1Y0"
      },
      "outputs": [],
      "source": [
        "print(classification_report(ytest,rf_pred))"
      ]
    },
    {
      "cell_type": "code",
      "execution_count": null,
      "metadata": {
        "id": "DMHTlZ5rS1Y0"
      },
      "outputs": [],
      "source": [
        "print(classification_report(ytest,dt_pred))"
      ]
    },
    {
      "cell_type": "code",
      "execution_count": null,
      "metadata": {
        "id": "Ik8xEnO0S1Y0"
      },
      "outputs": [],
      "source": [
        "print(classification_report(ytest,lr_pred))"
      ]
    },
    {
      "cell_type": "code",
      "execution_count": null,
      "metadata": {
        "id": "5crCnKifS1Y0"
      },
      "outputs": [],
      "source": [
        "from sklearn.metrics import precision_score, recall_score, f1_score, accuracy_score"
      ]
    },
    {
      "cell_type": "code",
      "execution_count": null,
      "metadata": {
        "id": "N-5WW41jS1Y1"
      },
      "outputs": [],
      "source": [
        "def scores(test,pred):\n",
        "  print('Precision: %.3f' % precision_score(test, pred))\n",
        "  print('recall: %.3f' % recall_score(test, pred))\n",
        "  print('f1: %.3f' % f1_score(test, pred))\n",
        "  print('accuracy score: %.3f' % accuracy_score(test, pred))"
      ]
    },
    {
      "cell_type": "code",
      "execution_count": null,
      "metadata": {
        "id": "VacOsibOS1Y1"
      },
      "outputs": [],
      "source": [
        "scores(ytest,rf_pred)"
      ]
    },
    {
      "cell_type": "code",
      "execution_count": null,
      "metadata": {
        "id": "-Jqw8akjS1Y1"
      },
      "outputs": [],
      "source": [
        "scores(ytest,dt_pred)"
      ]
    },
    {
      "cell_type": "code",
      "execution_count": null,
      "metadata": {
        "id": "K2OtGcILS1Y1"
      },
      "outputs": [],
      "source": [
        "scores(ytest,lr_pred)"
      ]
    },
    {
      "cell_type": "markdown",
      "metadata": {
        "id": "K0n5xq0phXJ8"
      },
      "source": [
        "## Optimization"
      ]
    },
    {
      "cell_type": "markdown",
      "metadata": {
        "id": "hXyc-IxZhoOp"
      },
      "source": [
        "#Grid search cv"
      ]
    },
    {
      "cell_type": "markdown",
      "metadata": {
        "id": "J8jcSeSH7wIg"
      },
      "source": [
        " ##k - fold cross validation"
      ]
    },
    {
      "cell_type": "code",
      "execution_count": null,
      "metadata": {
        "id": "NAs81UaChsvX"
      },
      "outputs": [],
      "source": [
        "from sklearn.model_selection import cross_val_score"
      ]
    },
    {
      "cell_type": "code",
      "execution_count": null,
      "metadata": {
        "id": "l6Cqp78Q8NrQ"
      },
      "outputs": [],
      "source": [
        "from sklearn.model_selection import GridSearchCV"
      ]
    },
    {
      "cell_type": "code",
      "execution_count": null,
      "metadata": {
        "id": "Vkqrs6ct9hpg"
      },
      "outputs": [],
      "source": [
        "n_estimatros=[i for i in range(1,100,2)]\n",
        "max_features=['auto','sqrt','log2']\n",
        "max_depth=[2,4]\n",
        "min_samples_split=[2,5]\n",
        "min_sample_leaf =[1,2]\n",
        "boostrap=[True,False]"
      ]
    },
    {
      "cell_type": "code",
      "execution_count": null,
      "metadata": {
        "id": "RBvvFmyCBewG"
      },
      "outputs": [],
      "source": [
        "rf_param_grid={\n",
        "    'n_estimators': n_estimatros,\n",
        "    'max_features': max_features,\n",
        "    'max_depth':max_depth,\n",
        "    'min_samples_split':min_samples_split,\n",
        "    'min_samples_leaf':min_sample_leaf,\n",
        "    'bootstrap':boostrap\n",
        "}\n",
        "dt_param_grid={\n",
        "    \n",
        "    'max_features': max_features,\n",
        "    'max_depth':max_depth,\n",
        "    'min_samples_split':min_samples_split,\n",
        "    'min_samples_leaf':min_sample_leaf,\n",
        "    \n",
        "}"
      ]
    },
    {
      "cell_type": "code",
      "execution_count": null,
      "metadata": {
        "id": "w1IMMhqkB0Xx"
      },
      "outputs": [],
      "source": [
        "print(rf_param_grid)"
      ]
    },
    {
      "cell_type": "code",
      "execution_count": null,
      "metadata": {
        "id": "5S-3vuH-DyCh"
      },
      "outputs": [],
      "source": [
        "rf_grid=GridSearchCV(estimator=rfc,param_grid=rf_param_grid,cv=3,verbose=2,n_jobs=4)"
      ]
    },
    {
      "cell_type": "code",
      "execution_count": null,
      "metadata": {
        "id": "HdjCnRlkEh1W"
      },
      "outputs": [],
      "source": [
        "rf_grid.fit(xtrain,ytrain)"
      ]
    },
    {
      "cell_type": "code",
      "execution_count": null,
      "metadata": {
        "id": "SfURiQYfE9r8"
      },
      "outputs": [],
      "source": [
        "rf_grid.best_estimator_"
      ]
    },
    {
      "cell_type": "code",
      "execution_count": null,
      "metadata": {
        "id": "6g5z0tU5FYrz"
      },
      "outputs": [],
      "source": [
        "print('train accuracy:',rf_grid.score(xtrain,ytrain))\n",
        "print('test accuracy:',rf_grid.score(xtest,ytest))"
      ]
    },
    {
      "cell_type": "markdown",
      "metadata": {
        "id": "kvU5GyBSRZHU"
      },
      "source": [
        "## randomized CV"
      ]
    },
    {
      "cell_type": "code",
      "execution_count": null,
      "metadata": {
        "id": "L5WRJMbVRc4q"
      },
      "outputs": [],
      "source": [
        " from sklearn.model_selection import RandomizedSearchCV\n",
        " rf_rcv=RandomizedSearchCV(estimator=rfc,param_distributions=rf_param_grid,cv=3,verbose=2,n_jobs=4)\n",
        " dt_rcv=RandomizedSearchCV(estimator=DT,param_distributions=dt_param_grid,cv=3,verbose=2,n_jobs=4)\n",
        "#  lr_rcv=RandomizedSearchCV(estimator=LR,param_distributions=param_grid,cv=3,verbose=2,n_jobs=4)"
      ]
    },
    {
      "cell_type": "code",
      "execution_count": null,
      "metadata": {
        "id": "sD6oNY7eV1JT"
      },
      "outputs": [],
      "source": [
        "rf_rcv.fit(xtrain,ytrain)\n",
        "dt_rcv.fit(xtrain,ytrain)"
      ]
    },
    {
      "cell_type": "code",
      "execution_count": null,
      "metadata": {
        "id": "FyzP5FSMV_t7"
      },
      "outputs": [],
      "source": [
        "print(rf_rcv.best_estimator_)\n",
        "print(dt_rcv.best_estimator_)"
      ]
    },
    {
      "cell_type": "code",
      "execution_count": null,
      "metadata": {
        "id": "sQllHIwPWGyD"
      },
      "outputs": [],
      "source": [
        "print(rf_rcv.score(xtest,ytest))\n",
        "print(dt_rcv.score(xtest,ytest))"
      ]
    },
    {
      "cell_type": "code",
      "execution_count": null,
      "metadata": {
        "id": "Ov4BB4GCZ86Q"
      },
      "outputs": [],
      "source": []
    }
  ],
  "metadata": {
    "colab": {
      "collapsed_sections": [
        "TQ1NIvxXH1ce",
        "Rbyb2W7BIK-l",
        "9ZmA4nlgS1Yz",
        "hXyc-IxZhoOp"
      ],
      "provenance": [],
      "include_colab_link": true
    },
    "kernelspec": {
      "display_name": "Python 3",
      "language": "python",
      "name": "python3"
    },
    "language_info": {
      "codemirror_mode": {
        "name": "ipython",
        "version": 3
      },
      "file_extension": ".py",
      "mimetype": "text/x-python",
      "name": "python",
      "nbconvert_exporter": "python",
      "pygments_lexer": "ipython3",
      "version": "3.7.6"
    }
  },
  "nbformat": 4,
  "nbformat_minor": 0
}