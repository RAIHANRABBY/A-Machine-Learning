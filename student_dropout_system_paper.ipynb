{
  "cells": [
    {
      "cell_type": "markdown",
      "metadata": {
        "id": "view-in-github",
        "colab_type": "text"
      },
      "source": [
        "<a href=\"https://colab.research.google.com/github/RAIHANRABBY/A-Machine-Learning/blob/main/student_dropout_system_paper.ipynb\" target=\"_parent\"><img src=\"https://colab.research.google.com/assets/colab-badge.svg\" alt=\"Open In Colab\"/></a>"
      ]
    },
    {
      "cell_type": "code",
      "execution_count": null,
      "metadata": {
        "id": "5HZIFGn98pr_"
      },
      "outputs": [],
      "source": [
        "import numpy as np\n",
        "import pandas as pd\n",
        "import matplotlib.pyplot as plt\n",
        "import seaborn as sns\n",
        "%matplotlib inline"
      ]
    },
    {
      "cell_type": "code",
      "source": [
        "from google.colab import drive\n",
        "drive.mount('/content/drive')"
      ],
      "metadata": {
        "colab": {
          "base_uri": "https://localhost:8080/"
        },
        "id": "k0z-rmEGjzMz",
        "outputId": "0210c981-c08d-4f96-efe1-80b1ba121493"
      },
      "execution_count": null,
      "outputs": [
        {
          "output_type": "stream",
          "name": "stdout",
          "text": [
            "Mounted at /content/drive\n"
          ]
        }
      ]
    },
    {
      "cell_type": "code",
      "execution_count": null,
      "metadata": {
        "id": "I4Q__2oz8-1d",
        "colab": {
          "base_uri": "https://localhost:8080/",
          "height": 397
        },
        "outputId": "6b162f34-ddad-499d-b119-169ed461275e"
      },
      "outputs": [
        {
          "output_type": "error",
          "ename": "FileNotFoundError",
          "evalue": "ignored",
          "traceback": [
            "\u001b[0;31m---------------------------------------------------------------------------\u001b[0m",
            "\u001b[0;31mFileNotFoundError\u001b[0m                         Traceback (most recent call last)",
            "\u001b[0;32m<ipython-input-10-5bfc7a53b00c>\u001b[0m in \u001b[0;36m<module>\u001b[0;34m\u001b[0m\n\u001b[0;32m----> 1\u001b[0;31m \u001b[0mdf\u001b[0m\u001b[0;34m=\u001b[0m\u001b[0mpd\u001b[0m\u001b[0;34m.\u001b[0m\u001b[0mread_csv\u001b[0m\u001b[0;34m(\u001b[0m\u001b[0;34m'/content/drive/MyDrive/Colab Notebook/Student Dropout System/studendropoutsystem.csv'\u001b[0m\u001b[0;34m,\u001b[0m\u001b[0mindex_col\u001b[0m\u001b[0;34m=\u001b[0m\u001b[0;32mFalse\u001b[0m\u001b[0;34m)\u001b[0m\u001b[0;34m\u001b[0m\u001b[0;34m\u001b[0m\u001b[0m\n\u001b[0m",
            "\u001b[0;32m/usr/local/lib/python3.7/dist-packages/pandas/util/_decorators.py\u001b[0m in \u001b[0;36mwrapper\u001b[0;34m(*args, **kwargs)\u001b[0m\n\u001b[1;32m    309\u001b[0m                     \u001b[0mstacklevel\u001b[0m\u001b[0;34m=\u001b[0m\u001b[0mstacklevel\u001b[0m\u001b[0;34m,\u001b[0m\u001b[0;34m\u001b[0m\u001b[0;34m\u001b[0m\u001b[0m\n\u001b[1;32m    310\u001b[0m                 )\n\u001b[0;32m--> 311\u001b[0;31m             \u001b[0;32mreturn\u001b[0m \u001b[0mfunc\u001b[0m\u001b[0;34m(\u001b[0m\u001b[0;34m*\u001b[0m\u001b[0margs\u001b[0m\u001b[0;34m,\u001b[0m \u001b[0;34m**\u001b[0m\u001b[0mkwargs\u001b[0m\u001b[0;34m)\u001b[0m\u001b[0;34m\u001b[0m\u001b[0;34m\u001b[0m\u001b[0m\n\u001b[0m\u001b[1;32m    312\u001b[0m \u001b[0;34m\u001b[0m\u001b[0m\n\u001b[1;32m    313\u001b[0m         \u001b[0;32mreturn\u001b[0m \u001b[0mwrapper\u001b[0m\u001b[0;34m\u001b[0m\u001b[0;34m\u001b[0m\u001b[0m\n",
            "\u001b[0;32m/usr/local/lib/python3.7/dist-packages/pandas/io/parsers/readers.py\u001b[0m in \u001b[0;36mread_csv\u001b[0;34m(filepath_or_buffer, sep, delimiter, header, names, index_col, usecols, squeeze, prefix, mangle_dupe_cols, dtype, engine, converters, true_values, false_values, skipinitialspace, skiprows, skipfooter, nrows, na_values, keep_default_na, na_filter, verbose, skip_blank_lines, parse_dates, infer_datetime_format, keep_date_col, date_parser, dayfirst, cache_dates, iterator, chunksize, compression, thousands, decimal, lineterminator, quotechar, quoting, doublequote, escapechar, comment, encoding, encoding_errors, dialect, error_bad_lines, warn_bad_lines, on_bad_lines, delim_whitespace, low_memory, memory_map, float_precision, storage_options)\u001b[0m\n\u001b[1;32m    584\u001b[0m     \u001b[0mkwds\u001b[0m\u001b[0;34m.\u001b[0m\u001b[0mupdate\u001b[0m\u001b[0;34m(\u001b[0m\u001b[0mkwds_defaults\u001b[0m\u001b[0;34m)\u001b[0m\u001b[0;34m\u001b[0m\u001b[0;34m\u001b[0m\u001b[0m\n\u001b[1;32m    585\u001b[0m \u001b[0;34m\u001b[0m\u001b[0m\n\u001b[0;32m--> 586\u001b[0;31m     \u001b[0;32mreturn\u001b[0m \u001b[0m_read\u001b[0m\u001b[0;34m(\u001b[0m\u001b[0mfilepath_or_buffer\u001b[0m\u001b[0;34m,\u001b[0m \u001b[0mkwds\u001b[0m\u001b[0;34m)\u001b[0m\u001b[0;34m\u001b[0m\u001b[0;34m\u001b[0m\u001b[0m\n\u001b[0m\u001b[1;32m    587\u001b[0m \u001b[0;34m\u001b[0m\u001b[0m\n\u001b[1;32m    588\u001b[0m \u001b[0;34m\u001b[0m\u001b[0m\n",
            "\u001b[0;32m/usr/local/lib/python3.7/dist-packages/pandas/io/parsers/readers.py\u001b[0m in \u001b[0;36m_read\u001b[0;34m(filepath_or_buffer, kwds)\u001b[0m\n\u001b[1;32m    480\u001b[0m \u001b[0;34m\u001b[0m\u001b[0m\n\u001b[1;32m    481\u001b[0m     \u001b[0;31m# Create the parser.\u001b[0m\u001b[0;34m\u001b[0m\u001b[0;34m\u001b[0m\u001b[0;34m\u001b[0m\u001b[0m\n\u001b[0;32m--> 482\u001b[0;31m     \u001b[0mparser\u001b[0m \u001b[0;34m=\u001b[0m \u001b[0mTextFileReader\u001b[0m\u001b[0;34m(\u001b[0m\u001b[0mfilepath_or_buffer\u001b[0m\u001b[0;34m,\u001b[0m \u001b[0;34m**\u001b[0m\u001b[0mkwds\u001b[0m\u001b[0;34m)\u001b[0m\u001b[0;34m\u001b[0m\u001b[0;34m\u001b[0m\u001b[0m\n\u001b[0m\u001b[1;32m    483\u001b[0m \u001b[0;34m\u001b[0m\u001b[0m\n\u001b[1;32m    484\u001b[0m     \u001b[0;32mif\u001b[0m \u001b[0mchunksize\u001b[0m \u001b[0;32mor\u001b[0m \u001b[0miterator\u001b[0m\u001b[0;34m:\u001b[0m\u001b[0;34m\u001b[0m\u001b[0;34m\u001b[0m\u001b[0m\n",
            "\u001b[0;32m/usr/local/lib/python3.7/dist-packages/pandas/io/parsers/readers.py\u001b[0m in \u001b[0;36m__init__\u001b[0;34m(self, f, engine, **kwds)\u001b[0m\n\u001b[1;32m    809\u001b[0m             \u001b[0mself\u001b[0m\u001b[0;34m.\u001b[0m\u001b[0moptions\u001b[0m\u001b[0;34m[\u001b[0m\u001b[0;34m\"has_index_names\"\u001b[0m\u001b[0;34m]\u001b[0m \u001b[0;34m=\u001b[0m \u001b[0mkwds\u001b[0m\u001b[0;34m[\u001b[0m\u001b[0;34m\"has_index_names\"\u001b[0m\u001b[0;34m]\u001b[0m\u001b[0;34m\u001b[0m\u001b[0;34m\u001b[0m\u001b[0m\n\u001b[1;32m    810\u001b[0m \u001b[0;34m\u001b[0m\u001b[0m\n\u001b[0;32m--> 811\u001b[0;31m         \u001b[0mself\u001b[0m\u001b[0;34m.\u001b[0m\u001b[0m_engine\u001b[0m \u001b[0;34m=\u001b[0m \u001b[0mself\u001b[0m\u001b[0;34m.\u001b[0m\u001b[0m_make_engine\u001b[0m\u001b[0;34m(\u001b[0m\u001b[0mself\u001b[0m\u001b[0;34m.\u001b[0m\u001b[0mengine\u001b[0m\u001b[0;34m)\u001b[0m\u001b[0;34m\u001b[0m\u001b[0;34m\u001b[0m\u001b[0m\n\u001b[0m\u001b[1;32m    812\u001b[0m \u001b[0;34m\u001b[0m\u001b[0m\n\u001b[1;32m    813\u001b[0m     \u001b[0;32mdef\u001b[0m \u001b[0mclose\u001b[0m\u001b[0;34m(\u001b[0m\u001b[0mself\u001b[0m\u001b[0;34m)\u001b[0m\u001b[0;34m:\u001b[0m\u001b[0;34m\u001b[0m\u001b[0;34m\u001b[0m\u001b[0m\n",
            "\u001b[0;32m/usr/local/lib/python3.7/dist-packages/pandas/io/parsers/readers.py\u001b[0m in \u001b[0;36m_make_engine\u001b[0;34m(self, engine)\u001b[0m\n\u001b[1;32m   1038\u001b[0m             )\n\u001b[1;32m   1039\u001b[0m         \u001b[0;31m# error: Too many arguments for \"ParserBase\"\u001b[0m\u001b[0;34m\u001b[0m\u001b[0;34m\u001b[0m\u001b[0;34m\u001b[0m\u001b[0m\n\u001b[0;32m-> 1040\u001b[0;31m         \u001b[0;32mreturn\u001b[0m \u001b[0mmapping\u001b[0m\u001b[0;34m[\u001b[0m\u001b[0mengine\u001b[0m\u001b[0;34m]\u001b[0m\u001b[0;34m(\u001b[0m\u001b[0mself\u001b[0m\u001b[0;34m.\u001b[0m\u001b[0mf\u001b[0m\u001b[0;34m,\u001b[0m \u001b[0;34m**\u001b[0m\u001b[0mself\u001b[0m\u001b[0;34m.\u001b[0m\u001b[0moptions\u001b[0m\u001b[0;34m)\u001b[0m  \u001b[0;31m# type: ignore[call-arg]\u001b[0m\u001b[0;34m\u001b[0m\u001b[0;34m\u001b[0m\u001b[0m\n\u001b[0m\u001b[1;32m   1041\u001b[0m \u001b[0;34m\u001b[0m\u001b[0m\n\u001b[1;32m   1042\u001b[0m     \u001b[0;32mdef\u001b[0m \u001b[0m_failover_to_python\u001b[0m\u001b[0;34m(\u001b[0m\u001b[0mself\u001b[0m\u001b[0;34m)\u001b[0m\u001b[0;34m:\u001b[0m\u001b[0;34m\u001b[0m\u001b[0;34m\u001b[0m\u001b[0m\n",
            "\u001b[0;32m/usr/local/lib/python3.7/dist-packages/pandas/io/parsers/c_parser_wrapper.py\u001b[0m in \u001b[0;36m__init__\u001b[0;34m(self, src, **kwds)\u001b[0m\n\u001b[1;32m     49\u001b[0m \u001b[0;34m\u001b[0m\u001b[0m\n\u001b[1;32m     50\u001b[0m         \u001b[0;31m# open handles\u001b[0m\u001b[0;34m\u001b[0m\u001b[0;34m\u001b[0m\u001b[0;34m\u001b[0m\u001b[0m\n\u001b[0;32m---> 51\u001b[0;31m         \u001b[0mself\u001b[0m\u001b[0;34m.\u001b[0m\u001b[0m_open_handles\u001b[0m\u001b[0;34m(\u001b[0m\u001b[0msrc\u001b[0m\u001b[0;34m,\u001b[0m \u001b[0mkwds\u001b[0m\u001b[0;34m)\u001b[0m\u001b[0;34m\u001b[0m\u001b[0;34m\u001b[0m\u001b[0m\n\u001b[0m\u001b[1;32m     52\u001b[0m         \u001b[0;32massert\u001b[0m \u001b[0mself\u001b[0m\u001b[0;34m.\u001b[0m\u001b[0mhandles\u001b[0m \u001b[0;32mis\u001b[0m \u001b[0;32mnot\u001b[0m \u001b[0;32mNone\u001b[0m\u001b[0;34m\u001b[0m\u001b[0;34m\u001b[0m\u001b[0m\n\u001b[1;32m     53\u001b[0m \u001b[0;34m\u001b[0m\u001b[0m\n",
            "\u001b[0;32m/usr/local/lib/python3.7/dist-packages/pandas/io/parsers/base_parser.py\u001b[0m in \u001b[0;36m_open_handles\u001b[0;34m(self, src, kwds)\u001b[0m\n\u001b[1;32m    227\u001b[0m             \u001b[0mmemory_map\u001b[0m\u001b[0;34m=\u001b[0m\u001b[0mkwds\u001b[0m\u001b[0;34m.\u001b[0m\u001b[0mget\u001b[0m\u001b[0;34m(\u001b[0m\u001b[0;34m\"memory_map\"\u001b[0m\u001b[0;34m,\u001b[0m \u001b[0;32mFalse\u001b[0m\u001b[0;34m)\u001b[0m\u001b[0;34m,\u001b[0m\u001b[0;34m\u001b[0m\u001b[0;34m\u001b[0m\u001b[0m\n\u001b[1;32m    228\u001b[0m             \u001b[0mstorage_options\u001b[0m\u001b[0;34m=\u001b[0m\u001b[0mkwds\u001b[0m\u001b[0;34m.\u001b[0m\u001b[0mget\u001b[0m\u001b[0;34m(\u001b[0m\u001b[0;34m\"storage_options\"\u001b[0m\u001b[0;34m,\u001b[0m \u001b[0;32mNone\u001b[0m\u001b[0;34m)\u001b[0m\u001b[0;34m,\u001b[0m\u001b[0;34m\u001b[0m\u001b[0;34m\u001b[0m\u001b[0m\n\u001b[0;32m--> 229\u001b[0;31m             \u001b[0merrors\u001b[0m\u001b[0;34m=\u001b[0m\u001b[0mkwds\u001b[0m\u001b[0;34m.\u001b[0m\u001b[0mget\u001b[0m\u001b[0;34m(\u001b[0m\u001b[0;34m\"encoding_errors\"\u001b[0m\u001b[0;34m,\u001b[0m \u001b[0;34m\"strict\"\u001b[0m\u001b[0;34m)\u001b[0m\u001b[0;34m,\u001b[0m\u001b[0;34m\u001b[0m\u001b[0;34m\u001b[0m\u001b[0m\n\u001b[0m\u001b[1;32m    230\u001b[0m         )\n\u001b[1;32m    231\u001b[0m \u001b[0;34m\u001b[0m\u001b[0m\n",
            "\u001b[0;32m/usr/local/lib/python3.7/dist-packages/pandas/io/common.py\u001b[0m in \u001b[0;36mget_handle\u001b[0;34m(path_or_buf, mode, encoding, compression, memory_map, is_text, errors, storage_options)\u001b[0m\n\u001b[1;32m    705\u001b[0m                 \u001b[0mencoding\u001b[0m\u001b[0;34m=\u001b[0m\u001b[0mioargs\u001b[0m\u001b[0;34m.\u001b[0m\u001b[0mencoding\u001b[0m\u001b[0;34m,\u001b[0m\u001b[0;34m\u001b[0m\u001b[0;34m\u001b[0m\u001b[0m\n\u001b[1;32m    706\u001b[0m                 \u001b[0merrors\u001b[0m\u001b[0;34m=\u001b[0m\u001b[0merrors\u001b[0m\u001b[0;34m,\u001b[0m\u001b[0;34m\u001b[0m\u001b[0;34m\u001b[0m\u001b[0m\n\u001b[0;32m--> 707\u001b[0;31m                 \u001b[0mnewline\u001b[0m\u001b[0;34m=\u001b[0m\u001b[0;34m\"\"\u001b[0m\u001b[0;34m,\u001b[0m\u001b[0;34m\u001b[0m\u001b[0;34m\u001b[0m\u001b[0m\n\u001b[0m\u001b[1;32m    708\u001b[0m             )\n\u001b[1;32m    709\u001b[0m         \u001b[0;32melse\u001b[0m\u001b[0;34m:\u001b[0m\u001b[0;34m\u001b[0m\u001b[0;34m\u001b[0m\u001b[0m\n",
            "\u001b[0;31mFileNotFoundError\u001b[0m: [Errno 2] No such file or directory: '/content/drive/MyDrive/Colab Notebook/Student Dropout System/studendropoutsystem.csv'"
          ]
        }
      ],
      "source": [
        "df=pd.read_csv('/content/drive/MyDrive/Colab Notebook/Student Dropout System/studendropoutsystem.csv',index_col=False)"
      ]
    },
    {
      "cell_type": "markdown",
      "metadata": {
        "id": "SIfnRcHv9QqO"
      },
      "source": [
        "## Feature engineering"
      ]
    },
    {
      "cell_type": "code",
      "execution_count": null,
      "metadata": {
        "id": "Ar7JyCVu9PF2"
      },
      "outputs": [],
      "source": [
        "df.rename({'Home Language':'Language','Father Occupation':'F_occu','Mother Occupation':'M_occu', \n",
        "           'Number Of Siblings':'N_of_Sib', 'Father Education':'F_edu','Mother Education':'M_edu',\n",
        "           'School Distance':'S_Dis', 'Means to school':'M_t_School','House Lighting':'H_Light',\n",
        "           'School Infrustructure':'Scl_infra', 'School Meal per day':'M_por_d','School Cost':'Scl_cost',\n",
        "           'Family income source':'income_Src','Family Annual income':'A_income', 'Extra Tution':'tution', \n",
        "           'Hours of study per day':'Hour_study','Class Label':'Dropout','Attendance Parcentage':'Attended'},axis=1,inplace=True)"
      ]
    },
    {
      "cell_type": "code",
      "execution_count": null,
      "metadata": {
        "id": "bSZEbgbm9WPw"
      },
      "outputs": [],
      "source": [
        "df.columns"
      ]
    },
    {
      "cell_type": "code",
      "execution_count": null,
      "metadata": {
        "id": "OGV1DVyQ9l-Y"
      },
      "outputs": [],
      "source": [
        "df.drop('Unnamed: 0',axis=1,inplace=True)"
      ]
    },
    {
      "cell_type": "code",
      "execution_count": null,
      "metadata": {
        "id": "gmh0kW7v-439"
      },
      "outputs": [],
      "source": [
        "df.Dropout.replace('Yes ','Yes',inplace=True)"
      ]
    },
    {
      "cell_type": "code",
      "execution_count": null,
      "metadata": {
        "id": "wWdUiNH6_GqH"
      },
      "outputs": [],
      "source": [
        "df.Dropout.unique()"
      ]
    },
    {
      "cell_type": "code",
      "execution_count": null,
      "metadata": {
        "id": "_q7yvKCQ_Goz"
      },
      "outputs": [],
      "source": []
    },
    {
      "cell_type": "code",
      "execution_count": null,
      "metadata": {
        "id": "Zi-FiLFI9tC0"
      },
      "outputs": [],
      "source": [
        "from sklearn.preprocessing import LabelEncoder\n",
        "le=LabelEncoder()"
      ]
    },
    {
      "cell_type": "code",
      "execution_count": null,
      "metadata": {
        "id": "MVZNto6q9x5W"
      },
      "outputs": [],
      "source": [
        "\n",
        "for col in df.columns:\n",
        "    if df[col].dtype==np.number:\n",
        "        continue\n",
        "    else:\n",
        "        df[col]=le.fit_transform(df[col])"
      ]
    },
    {
      "cell_type": "code",
      "execution_count": null,
      "metadata": {
        "id": "UwJMLkVj9zTn"
      },
      "outputs": [],
      "source": [
        "df.head()"
      ]
    },
    {
      "cell_type": "code",
      "execution_count": null,
      "metadata": {
        "id": "4WSMXZja91c4"
      },
      "outputs": [],
      "source": [
        "plt.figure(figsize=(20,10))\n",
        "sns.heatmap(df.corr())"
      ]
    },
    {
      "cell_type": "code",
      "execution_count": null,
      "metadata": {
        "id": "HIR-oRtG94PK"
      },
      "outputs": [],
      "source": [
        "corr=df.corr().round(2)\n",
        "plt.figure(figsize=(20,10))\n",
        "plot=sns.heatmap(corr,annot=True)\n",
        "plt.title('Coorelation')"
      ]
    },
    {
      "cell_type": "code",
      "execution_count": null,
      "metadata": {
        "id": "Rd-5yx939-BE"
      },
      "outputs": [],
      "source": [
        "x=df.drop('Dropout',axis=1)\n",
        "y=df['Dropout']"
      ]
    },
    {
      "cell_type": "code",
      "execution_count": null,
      "metadata": {
        "id": "-jQx75jJ-stX"
      },
      "outputs": [],
      "source": [
        "df.Dropout.unique()"
      ]
    },
    {
      "cell_type": "code",
      "execution_count": null,
      "metadata": {
        "id": "ixO9NRMh-Cwf"
      },
      "outputs": [],
      "source": [
        "\n",
        "plt.figure(figsize=(10,6))\n",
        "plt.title('Number of Dropout')\n",
        "\n",
        "y.value_counts().plot(kind='bar',color=['green','red'])\n",
        "plt.legend(title='Dropout')\n",
        "plt.show()"
      ]
    },
    {
      "cell_type": "markdown",
      "metadata": {
        "id": "5ufPyXov-I3r"
      },
      "source": [
        "## train test split"
      ]
    },
    {
      "cell_type": "code",
      "execution_count": null,
      "metadata": {
        "id": "xCfMk-y0-IUb"
      },
      "outputs": [],
      "source": [
        "\n",
        "from sklearn.model_selection import train_test_split\n",
        "xtrain,xtest,ytrain,ytest=train_test_split(x,y,test_size=.3,random_state=45)"
      ]
    },
    {
      "cell_type": "code",
      "execution_count": null,
      "metadata": {
        "id": "xZOQDKI7-Ez4"
      },
      "outputs": [],
      "source": [
        "from sklearn.feature_selection import mutual_info_classif\n",
        "mutual_info=mutual_info_classif(xtrain,ytrain)\n",
        "mutual_info"
      ]
    },
    {
      "cell_type": "code",
      "execution_count": null,
      "metadata": {
        "id": "qr6uUMyS-UFI"
      },
      "outputs": [],
      "source": [
        "mutual_info=pd.Series(mutual_info)\n",
        "mutual_info.index=xtrain.columns\n",
        "mutual_info.sort_values(ascending=False)"
      ]
    },
    {
      "cell_type": "code",
      "execution_count": null,
      "metadata": {
        "id": "eSd0bo96-Vtg"
      },
      "outputs": [],
      "source": [
        "mutual_info.sort_values(ascending=False).plot.bar(figsize=(20,8))"
      ]
    },
    {
      "cell_type": "markdown",
      "metadata": {
        "id": "Fo52K40--cN2"
      },
      "source": [
        "## Model Implementation"
      ]
    },
    {
      "cell_type": "code",
      "execution_count": null,
      "metadata": {
        "id": "EtPnaP-5-Xwp"
      },
      "outputs": [],
      "source": [
        "from sklearn.ensemble import RandomForestClassifier\n",
        "from sklearn.ensemble import AdaBoostClassifier,GradientBoostingClassifier,ExtraTreesClassifier\n",
        "from sklearn.tree import DecisionTreeClassifier\n",
        "from sklearn.naive_bayes import BernoulliNB,MultinomialNB,GaussianNB\n",
        "\n",
        "\n"
      ]
    },
    {
      "cell_type": "code",
      "execution_count": null,
      "metadata": {
        "id": "ovQlNPrx-g0P"
      },
      "outputs": [],
      "source": [
        "models={\n",
        "    'RF':RandomForestClassifier(),\n",
        "'adaBoost':AdaBoostClassifier(),\n",
        "'GBC':GradientBoostingClassifier(),\n",
        "'ExtraTree': ExtraTreesClassifier(),\n",
        "'DT':DecisionTreeClassifier(),\n",
        "'BNB':BernoulliNB(),\n",
        "# 'MNB':MultinomialNB(),\n",
        "# 'GNB':GaussianNB(),\n",
        "# 'KNN':KNeighborsClassifier(),\n",
        "# 'SVM':SVC(),\n",
        "# 'LR':LogisticRegression()\n",
        "}"
      ]
    },
    {
      "cell_type": "code",
      "execution_count": null,
      "metadata": {
        "id": "P-rKKUYC-iMg"
      },
      "outputs": [],
      "source": [
        "# Training the models \n",
        "for k,v in models.items():\n",
        "  v.fit(xtrain,ytrain)\n"
      ]
    },
    {
      "cell_type": "code",
      "execution_count": null,
      "metadata": {
        "id": "oyTxh23q-jgo"
      },
      "outputs": [],
      "source": [
        "pred=models['RF'].predict(xtest)"
      ]
    },
    {
      "cell_type": "code",
      "execution_count": null,
      "metadata": {
        "id": "3vdjQ5fd-liR"
      },
      "outputs": [],
      "source": [
        "from sklearn.metrics import confusion_matrix\n",
        "confusion_matrix(ytest,pred)"
      ]
    },
    {
      "cell_type": "code",
      "execution_count": null,
      "metadata": {
        "id": "IV2Cg7vN-nPC"
      },
      "outputs": [],
      "source": [
        "\n",
        "for k,v in models.items():\n",
        "  print(k,'  :  ',v.score(xtrain,ytrain))"
      ]
    },
    {
      "cell_type": "code",
      "execution_count": null,
      "metadata": {
        "id": "F0J1_OHEIwyq"
      },
      "outputs": [],
      "source": [
        "#drowing roc curve \n",
        "from sklearn.metrics import roc_auc_score\n",
        "from sklearn.metrics import roc_curve\n",
        "def plot_roc_curve(models,x_dtest,y_dtest):\n",
        "  pred_d={}\n",
        "  for k,v in models.items():\n",
        "    pred_d[k]=v.predict(x_dtest)\n",
        "  \n",
        "\n",
        "  rocScore={}\n",
        "  for k,v in pred_d.items():\n",
        "    rocScore[k]=roc_auc_score(y_dtest,v)\n",
        "\n",
        "  fp_tp_d={}\n",
        "  for k,v in pred_d.items():\n",
        "    fpr,tpr,_=roc_curve(y_dtest,v)\n",
        "    fp_tp_d[k]={'fpr':fpr,'tpr':tpr}\n",
        "\n",
        "  plt.figure(figsize=(12,10))\n",
        "  titlestyle={'fontsize':25,'fontweight':'medium','color':'blue'}\n",
        "  plt.title('Before Optimization Roc Curve',**titlestyle)\n",
        "  for k,v in fp_tp_d.items():\n",
        "    plt.plot(v['fpr'],v['tpr'],marker='.',label= k+\": %.3f\"%rocScore[k])\n",
        "    kwargs={'fontsize':15,'fontweight':'demibold','color':'green'}\n",
        "    plt.xlabel('False positive Rate',**kwargs)\n",
        "    plt.ylabel('True POsitive Rate',**kwargs)\n",
        "    size={'font'}\n",
        "    plt.legend(fontsize='xx-large')\n",
        "  plt.savefig(fname='Roc curve.png',format='png',transparent=True,bbox_inches=None, pad_inches=0.1)\n",
        "  plt.show()"
      ]
    },
    {
      "cell_type": "code",
      "execution_count": null,
      "metadata": {
        "id": "WFJF1klAI2du"
      },
      "outputs": [],
      "source": [
        "plot_roc_curve(models,xtest,ytest)"
      ]
    },
    {
      "cell_type": "code",
      "execution_count": null,
      "metadata": {
        "id": "ujxLRsPdJgEk"
      },
      "outputs": [],
      "source": [
        "#classification report\n",
        "from sklearn.metrics import classification_report\n",
        "print(classification_report(ytest,pred))"
      ]
    },
    {
      "cell_type": "code",
      "execution_count": null,
      "metadata": {
        "id": "ibzVvPW9JgCE"
      },
      "outputs": [],
      "source": [
        "#k fold cross validation"
      ]
    },
    {
      "cell_type": "code",
      "execution_count": null,
      "metadata": {
        "id": "KDCn_-GaJf-0"
      },
      "outputs": [],
      "source": [
        "from sklearn.model_selection import cross_val_score"
      ]
    },
    {
      "cell_type": "code",
      "execution_count": null,
      "metadata": {
        "id": "TRMR1-CwJf7s"
      },
      "outputs": [],
      "source": [
        "cv_score = cross_val_score(models['RF'],x,y,cv=10)"
      ]
    },
    {
      "cell_type": "code",
      "execution_count": null,
      "metadata": {
        "id": "ljMnEbKfJf4r"
      },
      "outputs": [],
      "source": [
        "sum(cv_score)/10"
      ]
    },
    {
      "cell_type": "code",
      "execution_count": null,
      "metadata": {
        "id": "SLm0QcoQJftQ"
      },
      "outputs": [],
      "source": []
    },
    {
      "cell_type": "markdown",
      "metadata": {
        "id": "Og4SQayuMJzz"
      },
      "source": [
        "# over sampling"
      ]
    },
    {
      "cell_type": "code",
      "execution_count": null,
      "metadata": {
        "id": "5_Oye4dGauAG"
      },
      "outputs": [],
      "source": [
        "from collections import Counter\n",
        "from imblearn.under_sampling import NearMiss\n",
        "ns=NearMiss(0.7)\n",
        "x_res,y_res=ns.fit_resample(x,y)\n",
        "print(Counter(y_res))"
      ]
    },
    {
      "cell_type": "code",
      "execution_count": null,
      "metadata": {
        "id": "9WAzs092MMmb"
      },
      "outputs": [],
      "source": [
        "# from imblearn.over_sampling import RandomOverSampler\n",
        "# ovs=RandomOverSampler(random_state=42)\n",
        "# x_res,y_res=ovs.fit_resample(x,y)"
      ]
    },
    {
      "cell_type": "code",
      "execution_count": null,
      "metadata": {
        "id": "gfePGWRgM3WD"
      },
      "outputs": [],
      "source": [
        "xotrain,xotest,yotrain,yotest=train_test_split(x_res,y_res,test_size=.3,random_state=45)"
      ]
    },
    {
      "cell_type": "code",
      "execution_count": null,
      "metadata": {
        "id": "n-sVTmOONxnJ"
      },
      "outputs": [],
      "source": []
    },
    {
      "cell_type": "code",
      "execution_count": null,
      "metadata": {
        "id": "8NGQoueaNbyS"
      },
      "outputs": [],
      "source": [
        "RF=RandomForestClassifier()\n",
        "RF.fit(xotrain,yotrain)"
      ]
    },
    {
      "cell_type": "code",
      "execution_count": null,
      "metadata": {
        "id": "AfsSrssvZJ_A"
      },
      "outputs": [],
      "source": [
        "preds=RF.predict(xotest)"
      ]
    },
    {
      "cell_type": "code",
      "execution_count": null,
      "metadata": {
        "id": "1UQxoi6cZRjE"
      },
      "outputs": [],
      "source": [
        "from sklearn.metrics import accuracy_score\n",
        "accuracy_score(yotest,preds)"
      ]
    },
    {
      "cell_type": "code",
      "execution_count": null,
      "metadata": {
        "id": "hfqe8-xVZzhu"
      },
      "outputs": [],
      "source": [
        "xtest"
      ]
    },
    {
      "cell_type": "code",
      "execution_count": null,
      "metadata": {
        "id": "J1ASKBIoZjRV"
      },
      "outputs": [],
      "source": [
        "print(classification_report(yotest,preds))"
      ]
    },
    {
      "cell_type": "code",
      "execution_count": null,
      "metadata": {
        "id": "JZfilaLPNrtc"
      },
      "outputs": [],
      "source": [
        "RF.score(xotest,yotest)"
      ]
    },
    {
      "cell_type": "code",
      "execution_count": null,
      "metadata": {
        "id": "bHZ1ahoSOLwl"
      },
      "outputs": [],
      "source": [
        "for k,v in models.items():\n",
        "  v.fit(xotrain,yotrain)"
      ]
    },
    {
      "cell_type": "code",
      "execution_count": null,
      "metadata": {
        "id": "C2KtfuM1On91"
      },
      "outputs": [],
      "source": [
        "for k,v in models.items():\n",
        "  print(k,'  :  ',v.score(xotrain,yotrain))"
      ]
    },
    {
      "cell_type": "code",
      "execution_count": null,
      "metadata": {
        "id": "WUoBQb-oOxIa"
      },
      "outputs": [],
      "source": [
        "for k,v in models.items():\n",
        "  print(k,'  :  ',v.score(xotest,yotest))"
      ]
    },
    {
      "cell_type": "code",
      "execution_count": null,
      "metadata": {
        "id": "Bt5nOQzzZIM7"
      },
      "outputs": [],
      "source": [
        "plot_roc_curve(models,xotest,yotest)"
      ]
    },
    {
      "cell_type": "code",
      "execution_count": null,
      "metadata": {
        "id": "wLc8IrCfbuAp"
      },
      "outputs": [],
      "source": [
        "testaccuracy={}\n",
        "from sklearn.metrics import precision_score,recall_score,f1_score\n",
        "def acuracyTest(model,xtest,ytest,xtrain,ytrain):\n",
        "  test_accuracy=0\n",
        "  test_accuracy=model.score(xtest,ytest)\n",
        "  print('test accuracy: %.2f'%test_accuracy)\n",
        "\n",
        "  train_accuracy=0\n",
        "  train_accuracy=model.score(xtrain,ytrain)\n",
        "  print('train accuracy:%.2f'%train_accuracy)\n",
        "\n",
        "  pred=model.predict(xtest)\n",
        "\n",
        "  precision=precision_score(ytest,pred)\n",
        "  \n",
        "  recall=recall_score(ytest,pred)\n",
        "\n",
        "  f1=f1_score(ytest,pred)\n",
        "  print('precision:%.2f'%precision,'\\n','recall:%.2f'%recall,'\\n','f1%.2f'%f1)\n",
        "  cMetrix=confusion_matrix(ytest,pred)\n",
        "  return {'test':test_accuracy,'train':train_accuracy, 'p':precision,'r':recall,'f1':f1,'confusionM':cMetrix}\n",
        "\n"
      ]
    },
    {
      "cell_type": "code",
      "execution_count": null,
      "metadata": {
        "id": "QHBrQDF0lg0K"
      },
      "outputs": [],
      "source": [
        "acuracyTest(RF,xotest,yotest,xotrain,yotrain)"
      ]
    },
    {
      "cell_type": "code",
      "execution_count": null,
      "metadata": {
        "id": "tQMuCApPnnVV"
      },
      "outputs": [],
      "source": [
        "for k,v in models.items():\n",
        "  print('---------------',k,'-----------------')\n",
        "  acuracyTest(v,xotest,yotest,xotrain,yotrain)\n",
        "  print()"
      ]
    },
    {
      "cell_type": "markdown",
      "metadata": {
        "id": "vRiUAJhxs5md"
      },
      "source": [
        "## Hyperperameter tuning on selected models"
      ]
    },
    {
      "cell_type": "code",
      "execution_count": null,
      "metadata": {
        "id": "xd9MyGz8s_Zw"
      },
      "outputs": [],
      "source": [
        "#Manual Hyperperameter Tuning\n",
        "RFH=RandomForestClassifier(n_estimators=300,criterion='entropy',max_features='sqrt',min_samples_leaf=10,random_state=10)"
      ]
    },
    {
      "cell_type": "code",
      "execution_count": null,
      "metadata": {
        "id": "wP_Oxj7Ex17Q"
      },
      "outputs": [],
      "source": [
        "RFH.fit(xotrain,yotrain)"
      ]
    },
    {
      "cell_type": "code",
      "execution_count": null,
      "metadata": {
        "id": "7xzTggsixuO9"
      },
      "outputs": [],
      "source": [
        "acuracyTest(RFH,xotest,yotest,xotrain,yotrain)"
      ]
    },
    {
      "cell_type": "markdown",
      "source": [
        "### Drawing the confusion metrix"
      ],
      "metadata": {
        "id": "K-svFCxXMLfm"
      }
    },
    {
      "cell_type": "code",
      "source": [
        "randomCM= {'RF':[[124,   1],[  8,  73]],\n",
        "          'AdaBoost':[[123,   2],[  3,  78]],\n",
        "          'GBC':[[124,   1],[  3,  78]],\n",
        "          'Extra Tree':[[117,8],[14,64]],\n",
        "          'DT':[[116,   9],[  7,  74]],\n",
        "          'BernoulliNB':[[103, 22], [ 28, 53]]\n",
        "          }"
      ],
      "metadata": {
        "id": "YuFrwmYqMLCn"
      },
      "execution_count": null,
      "outputs": []
    },
    {
      "cell_type": "code",
      "source": [
        "\n",
        "cm=[[124,   1],[  8,  73]]\n",
        "plt.figure(figsize=(20,20))\n",
        "x=sns.heatmap(cm,cmap='Greens',annot=True,fmt='d',\n",
        "              xticklabels=[1,0],yticklabels=[1,0],\n",
        "              annot_kws={'size': 20, 'rotation': 45},\n",
        "              square=True,)\n",
        "\n",
        "plt.show()"
      ],
      "metadata": {
        "id": "OFoQluQHAMN-"
      },
      "execution_count": null,
      "outputs": []
    },
    {
      "cell_type": "code",
      "source": [
        "import seaborn as sns\n",
        "sns.set(rc={\"figure.figsize\":(20, 10)})\n",
        "plt.figure(figsize=(20,10))\n",
        "fig,((ax1,ax2,ax3),(ax4,ax5,ax6))=plt.subplots(2,3)\n",
        "fig.suptitle('Confusion Metrics')\n",
        "sns.heatmap(randomCM['RF'],cmap='Greens',annot=True,fmt='d',\n",
        "              xticklabels=[1,0],yticklabels=[1,0],\n",
        "              annot_kws={'size': 20, 'rotation': 45},\n",
        "              square=True,ax=ax1).set(title='RF')\n",
        "sns.heatmap(randomCM['AdaBoost'],cmap='Greens',annot=True,fmt='d',\n",
        "              xticklabels=[1,0],yticklabels=[1,0],\n",
        "              annot_kws={'size': 20, 'rotation': 45},\n",
        "              square=True,ax=ax2).set(title='AdaBoost')\n",
        "sns.heatmap(randomCM['GBC'],cmap='Greens',annot=True,fmt='d',\n",
        "              xticklabels=[1,0],yticklabels=[1,0],\n",
        "              annot_kws={'size': 20, 'rotation': 45},\n",
        "              square=True,ax=ax3).set(title='GCB')\n",
        "sns.heatmap(randomCM['Extra Tree'],cmap='Greens',annot=True,fmt='d',\n",
        "              xticklabels=[1,0],yticklabels=[1,0],\n",
        "              annot_kws={'size': 20, 'rotation': 45},\n",
        "              square=True,ax=ax4).set(title='Extra Tree')\n",
        "sns.heatmap(randomCM['DT'],cmap='Greens',annot=True,fmt='d',\n",
        "              xticklabels=[1,0],yticklabels=[1,0],\n",
        "              annot_kws={'size': 20, 'rotation': 45},\n",
        "              square=True,ax=ax5).set(title='DT')\n",
        "sns.heatmap(randomCM['BernoulliNB'],cmap='Greens',annot=True,fmt='d',\n",
        "              xticklabels=[1,0],yticklabels=[1,0],\n",
        "              annot_kws={'size': 20, 'rotation': 45},\n",
        "              square=True,ax=ax6).set(title='BernoulliNB')\n",
        "plt.show()\n"
      ],
      "metadata": {
        "id": "XsWG1uNvAMK2",
        "colab": {
          "base_uri": "https://localhost:8080/",
          "height": 683
        },
        "outputId": "3804b952-3ab8-4d15-b0fa-3cd9bac9f4ba"
      },
      "execution_count": null,
      "outputs": [
        {
          "output_type": "display_data",
          "data": {
            "text/plain": [
              "<Figure size 1440x720 with 0 Axes>"
            ]
          },
          "metadata": {}
        },
        {
          "output_type": "display_data",
          "data": {
            "text/plain": [
              "<Figure size 1440x720 with 12 Axes>"
            ],
            "image/png": "[encoded data removed]"
          },
          "metadata": {}
        }
      ]
    },
    {
      "cell_type": "code",
      "source": [],
      "metadata": {
        "id": "PbEFXXu7AMHt"
      },
      "execution_count": null,
      "outputs": []
    },
    {
      "cell_type": "code",
      "source": [],
      "metadata": {
        "id": "1DFR1qGQAL8m"
      },
      "execution_count": null,
      "outputs": []
    },
    {
      "cell_type": "markdown",
      "metadata": {
        "id": "1j1twKP1gjQo"
      },
      "source": [
        "# randomized search cv"
      ]
    },
    {
      "cell_type": "code",
      "source": [
        "from sklearn.model_selection import RandomizedSearchCV"
      ],
      "metadata": {
        "id": "nAe5vpQja_n6"
      },
      "execution_count": null,
      "outputs": []
    },
    {
      "cell_type": "code",
      "execution_count": null,
      "metadata": {
        "id": "v4dEgHfFxzko"
      },
      "outputs": [],
      "source": [
        "\n",
        "#for RF\n",
        "n_estimators =[1855]\n",
        "max_features=[None]\n",
        "max_depth = [x for x in range(950,1050)]\n",
        "\n",
        "\n",
        "random_grid ={\n",
        "    'n_estimators':n_estimators,\n",
        "    'max_features':max_features,\n",
        "    'max_depth':max_depth,\n",
        "\n",
        "    # # 'criterion':['gini','entropy'],\n",
        "    # 'bootstrap':['False']\n",
        "    \n",
        "}\n"
      ]
    },
    {
      "cell_type": "code",
      "execution_count": null,
      "metadata": {
        "id": "t_yE41ZAjGs3"
      },
      "outputs": [],
      "source": [
        "rf=RandomForestClassifier()\n",
        "rf_randomcv=RandomizedSearchCV(estimator=rf,param_distributions=random_grid,cv=10,verbose=2, random_state=32,n_jobs=-1)"
      ]
    },
    {
      "cell_type": "code",
      "execution_count": null,
      "metadata": {
        "id": "goCzjSlskJFa",
        "colab": {
          "base_uri": "https://localhost:8080/"
        },
        "outputId": "75357f9c-2275-4504-f312-46f5b9e115b1"
      },
      "outputs": [
        {
          "output_type": "stream",
          "name": "stdout",
          "text": [
            "Fitting 10 folds for each of 10 candidates, totalling 100 fits\n"
          ]
        },
        {
          "output_type": "execute_result",
          "data": {
            "text/plain": [
              "RandomizedSearchCV(cv=10, estimator=RandomForestClassifier(), n_jobs=-1,\n",
              "                   param_distributions={'max_depth': [950, 951, 952, 953, 954,\n",
              "                                                      955, 956, 957, 958, 959,\n",
              "                                                      960, 961, 962, 963, 964,\n",
              "                                                      965, 966, 967, 968, 969,\n",
              "                                                      970, 971, 972, 973, 974,\n",
              "                                                      975, 976, 977, 978, 979, ...],\n",
              "                                        'max_features': [None],\n",
              "                                        'n_estimators': [1855]},\n",
              "                   random_state=32, verbose=2)"
            ]
          },
          "metadata": {},
          "execution_count": 62
        }
      ],
      "source": [
        "rf_randomcv.fit(xotrain,yotrain)"
      ]
    },
    {
      "cell_type": "code",
      "execution_count": null,
      "metadata": {
        "id": "dTanQx2ymRPB",
        "colab": {
          "base_uri": "https://localhost:8080/"
        },
        "outputId": "8c312d10-a6af-4e5d-8dc0-afa229f22a50"
      },
      "outputs": [
        {
          "output_type": "execute_result",
          "data": {
            "text/plain": [
              "{'n_estimators': 1855, 'max_features': None, 'max_depth': 972}"
            ]
          },
          "metadata": {},
          "execution_count": 63
        }
      ],
      "source": [
        "rf_randomcv.best_params_"
      ]
    },
    {
      "cell_type": "code",
      "execution_count": null,
      "metadata": {
        "id": "8FL1KfGUOV3F",
        "colab": {
          "base_uri": "https://localhost:8080/"
        },
        "outputId": "56046c93-92e6-4fec-abd7-f46fbfadccf9"
      },
      "outputs": [
        {
          "output_type": "execute_result",
          "data": {
            "text/plain": [
              "RandomForestClassifier(max_depth=972, max_features=None, n_estimators=1855)"
            ]
          },
          "metadata": {},
          "execution_count": 64
        }
      ],
      "source": [
        "rf_randomcv.best_estimator_"
      ]
    },
    {
      "cell_type": "code",
      "execution_count": null,
      "metadata": {
        "id": "N2-5Y28VnO95"
      },
      "outputs": [],
      "source": [
        "rf_best_randomgrid=rf_randomcv.best_estimator_"
      ]
    },
    {
      "cell_type": "code",
      "execution_count": null,
      "metadata": {
        "id": "x1MlxC48nZ58",
        "colab": {
          "base_uri": "https://localhost:8080/"
        },
        "outputId": "d9b65b41-a1d7-4ae6-c2d2-84e324cb58ba"
      },
      "outputs": [
        {
          "output_type": "stream",
          "name": "stdout",
          "text": [
            "test accuracy: 0.96\n",
            "train accuracy:1.00\n",
            "precision:0.99 \n",
            " recall:0.90 \n",
            " f10.94\n"
          ]
        },
        {
          "output_type": "execute_result",
          "data": {
            "text/plain": [
              "{'test': 0.9563106796116505,\n",
              " 'train': 1.0,\n",
              " 'p': 0.9864864864864865,\n",
              " 'r': 0.9012345679012346,\n",
              " 'f1': 0.9419354838709678,\n",
              " 'confusionM': array([[124,   1],\n",
              "        [  8,  73]])}"
            ]
          },
          "metadata": {},
          "execution_count": 66
        }
      ],
      "source": [
        "acuracyTest(rf_randomcv.best_estimator_,xotest,yotest,xotrain,yotrain)"
      ]
    },
    {
      "cell_type": "markdown",
      "metadata": {
        "id": "x3s_iqaLN5tm"
      },
      "source": [
        "### grid search cv for the randomforest"
      ]
    },
    {
      "cell_type": "code",
      "source": [
        "from sklearn.model_selection import GridSearchCV"
      ],
      "metadata": {
        "id": "1dtc_5GKbRzQ"
      },
      "execution_count": null,
      "outputs": []
    },
    {
      "cell_type": "code",
      "execution_count": null,
      "metadata": {
        "id": "uIVkxk9KN5bm"
      },
      "outputs": [],
      "source": [
        "\n",
        "n_estimators =[1855]\n",
        "max_features=[None]\n",
        "max_depth = [x for x in range(950,1050)]\n",
        "\n",
        "\n",
        "random_grid ={\n",
        "    'n_estimators':n_estimators,\n",
        "    'max_features':max_features,\n",
        "    'max_depth':max_depth,\n",
        "\n",
        "    # # 'criterion':['gini','entropy'],\n",
        "    # 'bootstrap':['False']\n",
        "    \n",
        "}\n",
        "rf_gridcv=GridSearchCV(estimator=RandomForestClassifier(),param_grid=random_grid,cv=3,verbose=2,n_jobs=-1)"
      ]
    },
    {
      "cell_type": "code",
      "execution_count": null,
      "metadata": {
        "id": "kw81dNpQPmBf",
        "colab": {
          "base_uri": "https://localhost:8080/"
        },
        "outputId": "1464a921-6bb7-49ee-ba7f-1c9d0dcf10eb"
      },
      "outputs": [
        {
          "output_type": "stream",
          "name": "stdout",
          "text": [
            "Fitting 3 folds for each of 100 candidates, totalling 300 fits\n"
          ]
        },
        {
          "output_type": "execute_result",
          "data": {
            "text/plain": [
              "GridSearchCV(cv=3, estimator=RandomForestClassifier(), n_jobs=-1,\n",
              "             param_grid={'max_depth': [950, 951, 952, 953, 954, 955, 956, 957,\n",
              "                                       958, 959, 960, 961, 962, 963, 964, 965,\n",
              "                                       966, 967, 968, 969, 970, 971, 972, 973,\n",
              "                                       974, 975, 976, 977, 978, 979, ...],\n",
              "                         'max_features': [None], 'n_estimators': [1855]},\n",
              "             verbose=2)"
            ]
          },
          "metadata": {},
          "execution_count": 69
        }
      ],
      "source": [
        "rf_gridcv.fit(xotrain,yotrain)"
      ]
    },
    {
      "cell_type": "code",
      "execution_count": null,
      "metadata": {
        "id": "POt_J4lvPlwn",
        "colab": {
          "base_uri": "https://localhost:8080/"
        },
        "outputId": "896f24d6-cad8-4547-8263-c65bc1789140"
      },
      "outputs": [
        {
          "output_type": "execute_result",
          "data": {
            "text/plain": [
              "{'max_depth': 951, 'max_features': None, 'n_estimators': 1855}"
            ]
          },
          "metadata": {},
          "execution_count": 70
        }
      ],
      "source": [
        "rf_gridcv.best_params_"
      ]
    },
    {
      "cell_type": "code",
      "execution_count": null,
      "metadata": {
        "id": "XqhhnW5kPlnA",
        "colab": {
          "base_uri": "https://localhost:8080/"
        },
        "outputId": "61271087-7768-4790-82c7-579b197c147d"
      },
      "outputs": [
        {
          "output_type": "execute_result",
          "data": {
            "text/plain": [
              "RandomForestClassifier(max_depth=951, max_features=None, n_estimators=1855)"
            ]
          },
          "metadata": {},
          "execution_count": 71
        }
      ],
      "source": [
        "rf_gridcv.best_estimator_"
      ]
    },
    {
      "cell_type": "code",
      "execution_count": null,
      "metadata": {
        "id": "lK4DQWsZP-fk",
        "colab": {
          "base_uri": "https://localhost:8080/"
        },
        "outputId": "1829b1ef-4d7a-4d28-9a1b-e2c049471697"
      },
      "outputs": [
        {
          "output_type": "stream",
          "name": "stdout",
          "text": [
            "test accuracy: 0.96\n",
            "train accuracy:1.00\n",
            "precision:0.99 \n",
            " recall:0.90 \n",
            " f10.94\n"
          ]
        },
        {
          "output_type": "execute_result",
          "data": {
            "text/plain": [
              "{'test': 0.9563106796116505,\n",
              " 'train': 1.0,\n",
              " 'p': 0.9864864864864865,\n",
              " 'r': 0.9012345679012346,\n",
              " 'f1': 0.9419354838709678,\n",
              " 'confusionM': array([[124,   1],\n",
              "        [  8,  73]])}"
            ]
          },
          "metadata": {},
          "execution_count": 72
        }
      ],
      "source": [
        "acuracyTest(rf_gridcv.best_estimator_,xotest,yotest,xotrain,yotrain)"
      ]
    },
    {
      "cell_type": "code",
      "execution_count": null,
      "metadata": {
        "id": "g6349WLinZ2d",
        "colab": {
          "base_uri": "https://localhost:8080/"
        },
        "outputId": "88528ba8-c498-47f0-ac6b-e42b07e17ef8"
      },
      "outputs": [
        {
          "output_type": "execute_result",
          "data": {
            "text/plain": [
              "(1, 0.1, 0.01, 0.001, 0.0001)"
            ]
          },
          "metadata": {},
          "execution_count": 73
        }
      ],
      "source": [
        "1,.1,.01,.001,.0001"
      ]
    },
    {
      "cell_type": "code",
      "execution_count": null,
      "metadata": {
        "id": "FeodDMXOnZsJ",
        "colab": {
          "base_uri": "https://localhost:8080/"
        },
        "outputId": "c4c266a4-06ab-4056-c5c4-127a76c1eef3"
      },
      "outputs": [
        {
          "output_type": "stream",
          "name": "stdout",
          "text": [
            "1.0\n",
            "0.1\n",
            "0.01\n",
            "0.001\n",
            "0.0001\n"
          ]
        }
      ],
      "source": [
        "for i in range(1,6):\n",
        "  print(10/10**i)"
      ]
    },
    {
      "cell_type": "markdown",
      "metadata": {
        "id": "CptQ4DRCrkUW"
      },
      "source": [
        "## for ada boost\n",
        " Randomized search"
      ]
    },
    {
      "cell_type": "code",
      "execution_count": null,
      "metadata": {
        "id": "8MiRoj9PkOF8",
        "colab": {
          "base_uri": "https://localhost:8080/"
        },
        "outputId": "5b5a3af1-645e-4310-dedc-764444f017ed"
      },
      "outputs": [
        {
          "output_type": "stream",
          "name": "stderr",
          "text": [
            "/usr/local/lib/python3.7/dist-packages/sklearn/model_selection/_search.py:296: UserWarning: The total space of parameters 2 is smaller than n_iter=10. Running 2 iterations. For exhaustive searches, use GridSearchCV.\n",
            "  UserWarning,\n"
          ]
        },
        {
          "output_type": "execute_result",
          "data": {
            "text/plain": [
              "RandomizedSearchCV(cv=10, estimator=AdaBoostClassifier(), n_jobs=-1,\n",
              "                   param_distributions={'base_estimator': [RandomForestClassifier(),\n",
              "                                                           GradientBoostingClassifier()],\n",
              "                                        'learning_rate': [0.1],\n",
              "                                        'n_estimators': [80]},\n",
              "                   scoring='accuracy')"
            ]
          },
          "metadata": {},
          "execution_count": 75
        }
      ],
      "source": [
        "#for the adaboost\n",
        "\n",
        "from sklearn.model_selection import RandomizedSearchCV\n",
        "\n",
        "RF=RandomForestClassifier()\n",
        "gcb=GradientBoostingClassifier()\n",
        "\n",
        "grid={\n",
        "   \n",
        "    'n_estimators':[80],\n",
        "    'learning_rate':[.1],\n",
        "    'base_estimator':[ RF,gcb]\n",
        "    # 'random_state':[1,2,3,4,5,6,7,8,9,10],\n",
        "    \n",
        "}\n",
        "ada_rso=RandomizedSearchCV(estimator=AdaBoostClassifier(),param_distributions=grid,n_jobs=-1,cv=10,scoring='accuracy')\n",
        "ada_rso.fit(xotrain,yotrain)"
      ]
    },
    {
      "cell_type": "code",
      "execution_count": null,
      "metadata": {
        "id": "owqFkdDqlNJd",
        "colab": {
          "base_uri": "https://localhost:8080/"
        },
        "outputId": "2be99b87-03b1-4b53-b408-a7c892f49001"
      },
      "outputs": [
        {
          "output_type": "execute_result",
          "data": {
            "text/plain": [
              "{'n_estimators': 80,\n",
              " 'learning_rate': 0.1,\n",
              " 'base_estimator': GradientBoostingClassifier()}"
            ]
          },
          "metadata": {},
          "execution_count": 76
        }
      ],
      "source": [
        "\n",
        "ada_rso.best_params_"
      ]
    },
    {
      "cell_type": "code",
      "execution_count": null,
      "metadata": {
        "id": "VojLqgfclwE3",
        "colab": {
          "base_uri": "https://localhost:8080/"
        },
        "outputId": "66faf093-78a3-4ce2-c52b-00c65198315d"
      },
      "outputs": [
        {
          "output_type": "execute_result",
          "data": {
            "text/plain": [
              "AdaBoostClassifier(base_estimator=GradientBoostingClassifier(),\n",
              "                   learning_rate=0.1, n_estimators=80)"
            ]
          },
          "metadata": {},
          "execution_count": 77
        }
      ],
      "source": [
        "ada_rso.best_estimator_"
      ]
    },
    {
      "cell_type": "code",
      "execution_count": null,
      "metadata": {
        "id": "JMm7BMjD17zX"
      },
      "outputs": [],
      "source": []
    },
    {
      "cell_type": "code",
      "execution_count": null,
      "metadata": {
        "id": "ZtZ33C8DuNkc",
        "colab": {
          "base_uri": "https://localhost:8080/"
        },
        "outputId": "b3d48c9b-c10c-42e1-914c-55cabeffde25"
      },
      "outputs": [
        {
          "output_type": "stream",
          "name": "stdout",
          "text": [
            "test accuracy: 0.98\n",
            "train accuracy:1.00\n",
            "precision:0.97 \n",
            " recall:0.96 \n",
            " f10.97\n"
          ]
        },
        {
          "output_type": "execute_result",
          "data": {
            "text/plain": [
              "{'test': 0.9757281553398058,\n",
              " 'train': 0.997907949790795,\n",
              " 'p': 0.975,\n",
              " 'r': 0.9629629629629629,\n",
              " 'f1': 0.9689440993788819,\n",
              " 'confusionM': array([[123,   2],\n",
              "        [  3,  78]])}"
            ]
          },
          "metadata": {},
          "execution_count": 78
        }
      ],
      "source": [
        "acuracyTest(ada_rso.best_estimator_,xotest,yotest,xotrain,yotrain)"
      ]
    },
    {
      "cell_type": "markdown",
      "metadata": {
        "id": "3-kC0ESm19z5"
      },
      "source": [
        "## Adaboost grid search"
      ]
    },
    {
      "cell_type": "code",
      "execution_count": null,
      "metadata": {
        "id": "I7g2pasA19gp",
        "colab": {
          "base_uri": "https://localhost:8080/"
        },
        "outputId": "769d0280-f62a-466b-cf44-52c5947df613"
      },
      "outputs": [
        {
          "output_type": "execute_result",
          "data": {
            "text/plain": [
              "GridSearchCV(cv=10, estimator=AdaBoostClassifier(), n_jobs=-1,\n",
              "             param_grid={'base_estimator': [GradientBoostingClassifier()]},\n",
              "             scoring='accuracy')"
            ]
          },
          "metadata": {},
          "execution_count": 79
        }
      ],
      "source": [
        "#for the adaboost\n",
        "\n",
        "DT=DecisionTreeClassifier()\n",
        "\n",
        "\n",
        "pgrid={\n",
        "    # 'n_estimators':[10,100,400,500,600,800,1000,1500],\n",
        "    # 'learning_rate':[1,.1,.2,.3,.4,.5,.6,.7,.8,.9,.01,.001,.0001],\n",
        "    # 'algorithm':['SAMME','SAMME.R'],\n",
        "    'base_estimator':[gcb]}\n",
        "ada_gsCV=GridSearchCV(estimator=AdaBoostClassifier(),param_grid=pgrid,n_jobs=-1,cv=10,scoring='accuracy')\n",
        "ada_gsCV.fit(xotrain,yotrain)"
      ]
    },
    {
      "cell_type": "code",
      "execution_count": null,
      "metadata": {
        "id": "VXswnVtr_VZ-",
        "colab": {
          "base_uri": "https://localhost:8080/"
        },
        "outputId": "d9efb150-b6cc-4f28-8487-719df8f82441"
      },
      "outputs": [
        {
          "output_type": "execute_result",
          "data": {
            "text/plain": [
              "{'base_estimator': GradientBoostingClassifier()}"
            ]
          },
          "metadata": {},
          "execution_count": 80
        }
      ],
      "source": [
        "ada_gsCV.best_params_"
      ]
    },
    {
      "cell_type": "code",
      "execution_count": null,
      "metadata": {
        "id": "h5Ham5J7_e7S",
        "colab": {
          "base_uri": "https://localhost:8080/"
        },
        "outputId": "4281c9a3-c738-40d9-8d54-5dda029f143b"
      },
      "outputs": [
        {
          "output_type": "execute_result",
          "data": {
            "text/plain": [
              "AdaBoostClassifier(base_estimator=GradientBoostingClassifier())"
            ]
          },
          "metadata": {},
          "execution_count": 81
        }
      ],
      "source": [
        "ada_gsCV.best_estimator_"
      ]
    },
    {
      "cell_type": "code",
      "execution_count": null,
      "metadata": {
        "id": "NCg2PDq1_e5A",
        "colab": {
          "base_uri": "https://localhost:8080/"
        },
        "outputId": "62b9d5f7-50e8-406a-c7c6-e6f38787d1b8"
      },
      "outputs": [
        {
          "output_type": "stream",
          "name": "stdout",
          "text": [
            "test accuracy: 0.97\n",
            "train accuracy:1.00\n",
            "precision:0.96 \n",
            " recall:0.96 \n",
            " f10.96\n"
          ]
        },
        {
          "output_type": "execute_result",
          "data": {
            "text/plain": [
              "{'test': 0.970873786407767,\n",
              " 'train': 1.0,\n",
              " 'p': 0.9629629629629629,\n",
              " 'r': 0.9629629629629629,\n",
              " 'f1': 0.9629629629629629,\n",
              " 'confusionM': array([[122,   3],\n",
              "        [  3,  78]])}"
            ]
          },
          "metadata": {},
          "execution_count": 82
        }
      ],
      "source": [
        "acuracyTest(ada_gsCV.best_estimator_,xotest,yotest,xotrain,yotrain)"
      ]
    },
    {
      "cell_type": "markdown",
      "metadata": {
        "id": "L4zNKh7q10Z9"
      },
      "source": [
        "GCB optimization"
      ]
    },
    {
      "cell_type": "code",
      "execution_count": null,
      "metadata": {
        "id": "qgKXAXexl6Xd"
      },
      "outputs": [],
      "source": []
    },
    {
      "cell_type": "code",
      "execution_count": null,
      "metadata": {
        "id": "WEiru_B1sysC"
      },
      "outputs": [],
      "source": []
    },
    {
      "cell_type": "code",
      "execution_count": null,
      "metadata": {
        "id": "QWZpaUXxuyDV"
      },
      "outputs": [],
      "source": []
    },
    {
      "cell_type": "code",
      "execution_count": null,
      "metadata": {
        "id": "9IhoEfkcs8lA"
      },
      "outputs": [],
      "source": []
    },
    {
      "cell_type": "markdown",
      "source": [
        "# CV for GBClassifier"
      ],
      "metadata": {
        "id": "xY9iOu4ebiBK"
      }
    },
    {
      "cell_type": "markdown",
      "source": [
        "## for randomization search "
      ],
      "metadata": {
        "id": "vSOlJvQ5cAsg"
      }
    },
    {
      "cell_type": "code",
      "execution_count": null,
      "metadata": {
        "id": "wP978b-BuhwE"
      },
      "outputs": [],
      "source": [
        "param_grid={\n",
        "    # 'loss':['log_loss','deviance','exponential'],\n",
        "    'learning_rate':[.1],\n",
        "    'n_estimators':[400,410,420,430,440,450,460,470,480,490,500],\n",
        "    'criterion':['friedman_mse','squared_error','mse'],\n",
        "    'min_samples_split':[5],\n",
        "    'min_samples_leaf':[1,2,3,5,8,10,15,17,20,25],\n",
        "    'max_depth':[5],\n",
        "    'max_features':['auto', 'sqrt', 'log2']\n",
        "\n",
        "\n",
        "}"
      ]
    },
    {
      "cell_type": "code",
      "execution_count": null,
      "metadata": {
        "id": "7dYhtVLKvG75"
      },
      "outputs": [],
      "source": [
        "gbc_rcv=RandomizedSearchCV(estimator=GradientBoostingClassifier(),param_distributions=param_grid,cv=10,n_jobs=-1,random_state=42)"
      ]
    },
    {
      "cell_type": "code",
      "source": [
        "# gbc_rcv.fit(xotrain,yotrain)"
      ],
      "metadata": {
        "id": "CZJxEI83be8v"
      },
      "execution_count": null,
      "outputs": []
    },
    {
      "cell_type": "code",
      "source": [
        "# gbc_rcv.best_params_"
      ],
      "metadata": {
        "id": "87nYvnUZk0Gs"
      },
      "execution_count": null,
      "outputs": []
    },
    {
      "cell_type": "code",
      "source": [
        "# gbc_rcv.best_estimator_"
      ],
      "metadata": {
        "id": "cFFnFQtflh4w"
      },
      "execution_count": null,
      "outputs": []
    },
    {
      "cell_type": "code",
      "source": [
        "# gbc=gbc_rcv.best_estimator_"
      ],
      "metadata": {
        "id": "rKxfc7-almom"
      },
      "execution_count": null,
      "outputs": []
    },
    {
      "cell_type": "code",
      "source": [
        "# acuracyTest(gbc,xotest,yotest,xotrain,yotrain)"
      ],
      "metadata": {
        "id": "CJmgJvMGlvwi"
      },
      "execution_count": null,
      "outputs": []
    },
    {
      "cell_type": "markdown",
      "source": [
        "## Grid Search CV"
      ],
      "metadata": {
        "id": "cBSmmotOs98n"
      }
    },
    {
      "cell_type": "code",
      "source": [
        "param_grid={\n",
        "    \n",
        "    'learning_rate':[.1,1,.01],\n",
        "    'n_estimators':[100,300,400,500],\n",
        "    \n",
        "    # 'min_samples_split':[1,2,5,8,10],\n",
        "    # 'min_samples_leaf':[1,2,3,5,8],\n",
        "    # 'max_depth':[1,5,8,10],\n",
        "    # 'max_features':['auto', 'sqrt', 'log2']\n",
        "\n",
        "\n",
        "}"
      ],
      "metadata": {
        "id": "3fem6uSX3Mna"
      },
      "execution_count": null,
      "outputs": []
    },
    {
      "cell_type": "code",
      "source": [
        "gbc_gcv=GridSearchCV(estimator=GradientBoostingClassifier(),param_grid=param_grid,cv=3,n_jobs=-1)"
      ],
      "metadata": {
        "id": "F879tSyylvti"
      },
      "execution_count": null,
      "outputs": []
    },
    {
      "cell_type": "code",
      "source": [
        "# gbc_gcv.fit(xotrain,yotrain)"
      ],
      "metadata": {
        "id": "81L53SUdlvn2"
      },
      "execution_count": null,
      "outputs": []
    },
    {
      "cell_type": "code",
      "source": [
        "# gbc_gcv.best_params_"
      ],
      "metadata": {
        "id": "suke5yuSlvjb"
      },
      "execution_count": null,
      "outputs": []
    },
    {
      "cell_type": "code",
      "source": [
        "# gbc_gcv.best_estimator_"
      ],
      "metadata": {
        "id": "gSqudzcKt1n6"
      },
      "execution_count": null,
      "outputs": []
    },
    {
      "cell_type": "code",
      "source": [
        "# acuracyTest(gbc_gcv,xotest,yotest,xotrain,yotrain)"
      ],
      "metadata": {
        "id": "ViBfVVdDt1cU"
      },
      "execution_count": null,
      "outputs": []
    },
    {
      "cell_type": "markdown",
      "source": [
        "# Extra tree \n"
      ],
      "metadata": {
        "id": "2H7m7kkZipJb"
      }
    },
    {
      "cell_type": "markdown",
      "source": [
        "## randomizad search cv"
      ],
      "metadata": {
        "id": "4CgK6mH9iuSj"
      }
    },
    {
      "cell_type": "code",
      "source": [
        "param_grid={\n",
        "    # 'loss':['log_loss','deviance','exponential'],\n",
        "    \n",
        "    'n_estimators':[100,500,800,900,1100,1200,1000,1500],\n",
        "    'criterion':['gini', 'entropy'],\n",
        "    'min_samples_split':[1,2,5,8,10],\n",
        "    'min_samples_leaf':[1,2,3,5,8,10,15,17],\n",
        "    'max_depth':[1,5,10,20,30,50],\n",
        "    'max_features':['None', 'sqrt', 'log2']\n",
        "\n",
        "\n",
        "}"
      ],
      "metadata": {
        "id": "2W6nz0WiizwY"
      },
      "execution_count": null,
      "outputs": []
    },
    {
      "cell_type": "code",
      "source": [
        "ex_rcv=RandomizedSearchCV(estimator=ExtraTreesClassifier(),param_distributions=param_grid,n_iter=10,cv=10,n_jobs=-1)"
      ],
      "metadata": {
        "id": "Q_CdXavH3s4B"
      },
      "execution_count": null,
      "outputs": []
    },
    {
      "cell_type": "code",
      "source": [
        "# ex_rcv.fit(xotrain,yotrain)"
      ],
      "metadata": {
        "id": "vuFjyHuO_u0D"
      },
      "execution_count": null,
      "outputs": []
    },
    {
      "cell_type": "code",
      "source": [
        "# ex_rcv.best_params_"
      ],
      "metadata": {
        "id": "4ZFzViWI5upo"
      },
      "execution_count": null,
      "outputs": []
    },
    {
      "cell_type": "code",
      "source": [
        "# ex_rcv.best_estimator_"
      ],
      "metadata": {
        "id": "Io6VlWOE3smx"
      },
      "execution_count": null,
      "outputs": []
    },
    {
      "cell_type": "code",
      "source": [
        "# acuracyTest(ex_rcv.best_estimator_,xotest,yotest,xotrain,yotrain)"
      ],
      "metadata": {
        "id": "YRz6U-GR54ok"
      },
      "execution_count": null,
      "outputs": []
    },
    {
      "cell_type": "markdown",
      "source": [
        "## Grid Search Cv"
      ],
      "metadata": {
        "id": "z2FSnSIvi0jB"
      }
    },
    {
      "cell_type": "code",
      "source": [
        "param_grid={\n",
        "    # 'loss':['log_loss','deviance','exponential'],\n",
        "    \n",
        "    'n_estimators':[1,100,500,1000,1500],\n",
        "    # # 'criterion':['gini', 'entropy', 'log_loss'],\n",
        "    # # 'min_samples_split':[1,2,5,8,10],\n",
        "    # # 'min_samples_leaf':[1,2,3,5,8],\n",
        "    'max_depth':[1,5,10]\n",
        "    # 'max_features':['None', 'sqrt', 'log2']\n",
        "\n",
        "\n",
        "}\n",
        "ex_gcv=GridSearchCV(estimator=ExtraTreesClassifier(),param_grid=param_grid,cv=3,n_jobs=-1)"
      ],
      "metadata": {
        "id": "FoBhvq-Li3zZ"
      },
      "execution_count": null,
      "outputs": []
    },
    {
      "cell_type": "code",
      "source": [
        "# ex_gcv.fit(xotrain,yotrain)"
      ],
      "metadata": {
        "id": "2sDCwdCnCA3N"
      },
      "execution_count": null,
      "outputs": []
    },
    {
      "cell_type": "code",
      "source": [
        "# ex_gcv.best_params_"
      ],
      "metadata": {
        "id": "3xETiUfa64pN"
      },
      "execution_count": null,
      "outputs": []
    },
    {
      "cell_type": "code",
      "source": [
        "# ex_gcv.best_estimator_"
      ],
      "metadata": {
        "id": "p39_5f3H66km"
      },
      "execution_count": null,
      "outputs": []
    },
    {
      "cell_type": "code",
      "source": [
        "# acuracyTest(ex_gcv.best_estimator_,xotest,yotest,xotrain,yotrain)"
      ],
      "metadata": {
        "id": "Qp5VyQup66e7"
      },
      "execution_count": null,
      "outputs": []
    },
    {
      "cell_type": "markdown",
      "source": [
        "# Decision Tree test"
      ],
      "metadata": {
        "id": "6-DuGcN37FpX"
      }
    },
    {
      "cell_type": "markdown",
      "source": [
        "## randomized search cv"
      ],
      "metadata": {
        "id": "OUwgQ1_u7RqG"
      }
    },
    {
      "cell_type": "code",
      "source": [
        "param_grid={\n",
        "    # 'criterion':['gini'],\n",
        "    # 'splitter':['best'],\n",
        "    \n",
        "    'min_samples_split':[2,1,3,5,8,9],\n",
        "    # 'min_samples_leaf':[1],\n",
        "    # 'max_features':['auto', 'sqrt', 'log2']\n",
        "    'max_leaf_nodes':[x for x in range(800,900)]\n",
        "\n",
        "\n",
        "}\n",
        "dt_rcv=RandomizedSearchCV(estimator=DecisionTreeClassifier(),param_distributions=param_grid,cv=10,n_jobs=-1)"
      ],
      "metadata": {
        "id": "D44lxsdv66bF"
      },
      "execution_count": null,
      "outputs": []
    },
    {
      "cell_type": "code",
      "source": [
        "# dt_rcv.fit(xotrain,yotrain)"
      ],
      "metadata": {
        "id": "5d-LFgzAGiCt"
      },
      "execution_count": null,
      "outputs": []
    },
    {
      "cell_type": "code",
      "source": [
        "# dt_rcv.best_params_"
      ],
      "metadata": {
        "id": "iMZmJH9rGh-s"
      },
      "execution_count": null,
      "outputs": []
    },
    {
      "cell_type": "code",
      "source": [
        "# dt_rcv.best_estimator_"
      ],
      "metadata": {
        "id": "e-nCmLx6Gh63"
      },
      "execution_count": null,
      "outputs": []
    },
    {
      "cell_type": "code",
      "source": [
        "# acuracyTest(dt_rcv.best_estimator_,xotest,yotest,xotrain,yotrain)"
      ],
      "metadata": {
        "id": "MLOkJcwHGhvB"
      },
      "execution_count": null,
      "outputs": []
    },
    {
      "cell_type": "markdown",
      "source": [
        "## grid search cv"
      ],
      "metadata": {
        "id": "JmneCvdT7YT2"
      }
    },
    {
      "cell_type": "code",
      "source": [
        "param_grid={\n",
        "    'criterion':['gini','entropy'],\n",
        "    'splitter':['best','random'],\n",
        "    \n",
        "    'min_samples_split':[15],\n",
        "    'min_samples_leaf':[3],\n",
        "   \n",
        "    'max_leaf_nodes':[x for x in range(1,1000)]\n",
        "\n",
        "\n",
        "}\n",
        "dt_gcv=GridSearchCV(estimator=DecisionTreeClassifier(),param_grid=param_grid,cv=10,n_jobs=-1)"
      ],
      "metadata": {
        "id": "QExoOvdF7XHe"
      },
      "execution_count": null,
      "outputs": []
    },
    {
      "cell_type": "code",
      "source": [
        "dt_gcv.fit(xotrain,yotrain)"
      ],
      "metadata": {
        "id": "fWN7mSz066Em",
        "colab": {
          "base_uri": "https://localhost:8080/"
        },
        "outputId": "af3478fd-c9e6-4f4e-ece5-3f046bbc7d61"
      },
      "execution_count": null,
      "outputs": [
        {
          "output_type": "stream",
          "name": "stderr",
          "text": [
            "/usr/local/lib/python3.7/dist-packages/sklearn/model_selection/_validation.py:372: FitFailedWarning: \n",
            "40 fits failed out of a total of 39960.\n",
            "The score on these train-test partitions for these parameters will be set to nan.\n",
            "If these failures are not expected, you can try to debug them by setting error_score='raise'.\n",
            "\n",
            "Below are more details about the failures:\n",
            "--------------------------------------------------------------------------------\n",
            "40 fits failed with the following error:\n",
            "Traceback (most recent call last):\n",
            "  File \"/usr/local/lib/python3.7/dist-packages/sklearn/model_selection/_validation.py\", line 680, in _fit_and_score\n",
            "    estimator.fit(X_train, y_train, **fit_params)\n",
            "  File \"/usr/local/lib/python3.7/dist-packages/sklearn/tree/_classes.py\", line 942, in fit\n",
            "    X_idx_sorted=X_idx_sorted,\n",
            "  File \"/usr/local/lib/python3.7/dist-packages/sklearn/tree/_classes.py\", line 316, in fit\n",
            "    max_leaf_nodes\n",
            "ValueError: max_leaf_nodes 1 must be either None or larger than 1\n",
            "\n",
            "  warnings.warn(some_fits_failed_message, FitFailedWarning)\n",
            "/usr/local/lib/python3.7/dist-packages/sklearn/model_selection/_search.py:972: UserWarning: One or more of the test scores are non-finite: [       nan        nan 0.67349291 ... 0.82211879 0.93931738 0.88696809]\n",
            "  category=UserWarning,\n"
          ]
        },
        {
          "output_type": "execute_result",
          "data": {
            "text/plain": [
              "GridSearchCV(cv=10, estimator=DecisionTreeClassifier(), n_jobs=-1,\n",
              "             param_grid={'criterion': ['gini', 'entropy'],\n",
              "                         'max_leaf_nodes': [1, 2, 3, 4, 5, 6, 7, 8, 9, 10, 11,\n",
              "                                            12, 13, 14, 15, 16, 17, 18, 19, 20,\n",
              "                                            21, 22, 23, 24, 25, 26, 27, 28, 29,\n",
              "                                            30, ...],\n",
              "                         'min_samples_leaf': [3], 'min_samples_split': [15],\n",
              "                         'splitter': ['best', 'random']})"
            ]
          },
          "metadata": {},
          "execution_count": 113
        }
      ]
    },
    {
      "cell_type": "code",
      "source": [
        "dt_gcv.best_params_"
      ],
      "metadata": {
        "id": "I2pIk1knEUm8",
        "colab": {
          "base_uri": "https://localhost:8080/"
        },
        "outputId": "f3eaae3d-9cc8-4d26-a536-f7c9832cb569"
      },
      "execution_count": null,
      "outputs": [
        {
          "output_type": "execute_result",
          "data": {
            "text/plain": [
              "{'criterion': 'gini',\n",
              " 'max_leaf_nodes': 10,\n",
              " 'min_samples_leaf': 3,\n",
              " 'min_samples_split': 15,\n",
              " 'splitter': 'best'}"
            ]
          },
          "metadata": {},
          "execution_count": 114
        }
      ]
    },
    {
      "cell_type": "code",
      "source": [
        "dt_gcv.best_estimator_"
      ],
      "metadata": {
        "id": "CqejP0fLEYcV",
        "colab": {
          "base_uri": "https://localhost:8080/"
        },
        "outputId": "f450d742-7771-4146-f007-d8db35a539c9"
      },
      "execution_count": null,
      "outputs": [
        {
          "output_type": "execute_result",
          "data": {
            "text/plain": [
              "DecisionTreeClassifier(max_leaf_nodes=10, min_samples_leaf=3,\n",
              "                       min_samples_split=15)"
            ]
          },
          "metadata": {},
          "execution_count": 115
        }
      ]
    },
    {
      "cell_type": "code",
      "source": [
        "acuracyTest(dt_gcv.best_estimator_,xotest,yotest,xotrain,yotrain)"
      ],
      "metadata": {
        "id": "jNAK-Yp1EcKP",
        "colab": {
          "base_uri": "https://localhost:8080/"
        },
        "outputId": "fed98bf3-f8f4-4edc-a222-a9d3560692c2"
      },
      "execution_count": null,
      "outputs": [
        {
          "output_type": "stream",
          "name": "stdout",
          "text": [
            "test accuracy: 0.93\n",
            "train accuracy:0.96\n",
            "precision:0.99 \n",
            " recall:0.84 \n",
            " f10.91\n"
          ]
        },
        {
          "output_type": "execute_result",
          "data": {
            "text/plain": [
              "{'test': 0.9320388349514563,\n",
              " 'train': 0.9581589958158996,\n",
              " 'p': 0.9855072463768116,\n",
              " 'r': 0.8395061728395061,\n",
              " 'f1': 0.9066666666666666,\n",
              " 'confusionM': array([[124,   1],\n",
              "        [ 13,  68]])}"
            ]
          },
          "metadata": {},
          "execution_count": 116
        }
      ]
    },
    {
      "cell_type": "markdown",
      "source": [
        "# BernoulliNB"
      ],
      "metadata": {
        "id": "r6dAV9Y6HE-Z"
      }
    },
    {
      "cell_type": "markdown",
      "source": [
        "## randomized search"
      ],
      "metadata": {
        "id": "HgntQouEHOg1"
      }
    },
    {
      "cell_type": "code",
      "source": [
        "param={\n",
        " 'alpha':[1.1,1.2,1.3,1.4,1.5,1.6,1.7,1.8,1.9,2.0],   \n",
        " 'binarize':[.1],\n",
        " 'fit_prior':[True,False],\n",
        " \n",
        "}\n",
        "bnb_rcv=RandomizedSearchCV(estimator=BernoulliNB(),param_distributions=param,cv=15,n_jobs=-1)"
      ],
      "metadata": {
        "id": "6nX7ic1jHEnJ"
      },
      "execution_count": null,
      "outputs": []
    },
    {
      "cell_type": "code",
      "source": [
        "bnb_rcv.fit(xotrain,yotrain)"
      ],
      "metadata": {
        "id": "8LiXHfzaEnw6",
        "colab": {
          "base_uri": "https://localhost:8080/"
        },
        "outputId": "10c7c85a-4125-4b48-8649-d75a56da9e29"
      },
      "execution_count": null,
      "outputs": [
        {
          "output_type": "execute_result",
          "data": {
            "text/plain": [
              "RandomizedSearchCV(cv=15, estimator=BernoulliNB(), n_jobs=-1,\n",
              "                   param_distributions={'alpha': [1.1, 1.2, 1.3, 1.4, 1.5, 1.6,\n",
              "                                                  1.7, 1.8, 1.9, 2.0],\n",
              "                                        'binarize': [0.1],\n",
              "                                        'fit_prior': [True, False]})"
            ]
          },
          "metadata": {},
          "execution_count": 118
        }
      ]
    },
    {
      "cell_type": "code",
      "source": [
        "bnb_rcv.best_params_"
      ],
      "metadata": {
        "id": "pn7t5fYOL5mc",
        "colab": {
          "base_uri": "https://localhost:8080/"
        },
        "outputId": "96ea13f8-0709-4b53-e98e-703f36e20a59"
      },
      "execution_count": null,
      "outputs": [
        {
          "output_type": "execute_result",
          "data": {
            "text/plain": [
              "{'fit_prior': True, 'binarize': 0.1, 'alpha': 1.8}"
            ]
          },
          "metadata": {},
          "execution_count": 119
        }
      ]
    },
    {
      "cell_type": "markdown",
      "source": [],
      "metadata": {
        "id": "Lnfx51NBiJz4"
      }
    },
    {
      "cell_type": "code",
      "source": [
        "bnb_rcv.best_estimator_"
      ],
      "metadata": {
        "id": "ERm0OdSXL98-",
        "colab": {
          "base_uri": "https://localhost:8080/"
        },
        "outputId": "c8cfac63-499a-486a-8d12-b339b822bd68"
      },
      "execution_count": null,
      "outputs": [
        {
          "output_type": "execute_result",
          "data": {
            "text/plain": [
              "BernoulliNB(alpha=1.8, binarize=0.1)"
            ]
          },
          "metadata": {},
          "execution_count": 120
        }
      ]
    },
    {
      "cell_type": "code",
      "source": [
        "acuracyTest(bnb_rcv,xotest,yotest,xotrain,yotrain)"
      ],
      "metadata": {
        "id": "bmR5KE8TMC7z",
        "colab": {
          "base_uri": "https://localhost:8080/"
        },
        "outputId": "326820ef-356e-4ec7-b92d-e75189bd88f2"
      },
      "execution_count": null,
      "outputs": [
        {
          "output_type": "stream",
          "name": "stdout",
          "text": [
            "test accuracy: 0.76\n",
            "train accuracy:0.70\n",
            "precision:0.71 \n",
            " recall:0.65 \n",
            " f10.68\n"
          ]
        },
        {
          "output_type": "execute_result",
          "data": {
            "text/plain": [
              "{'test': 0.7572815533980582,\n",
              " 'train': 0.700836820083682,\n",
              " 'p': 0.7066666666666667,\n",
              " 'r': 0.654320987654321,\n",
              " 'f1': 0.6794871794871794,\n",
              " 'confusionM': array([[103,  22],\n",
              "        [ 28,  53]])}"
            ]
          },
          "metadata": {},
          "execution_count": 121
        }
      ]
    },
    {
      "cell_type": "markdown",
      "source": [
        "## Grid search cv"
      ],
      "metadata": {
        "id": "GPO5MIGZHSkw"
      }
    },
    {
      "cell_type": "code",
      "source": [
        "param={\n",
        " 'alpha':[1,1.2,1.3,1.4,1.5,1.6,1.7,1.8,1.1,1],   \n",
        " 'binarize':[.01,1,.1,1.2,1.3,1.4,1.5,1.6,1.7,2.0,2.1,.001,.0001],\n",
        " 'fit_prior':[True,False],\n",
        " \n",
        "}\n",
        "bnb_gcv=GridSearchCV(estimator=BernoulliNB(),param_grid=param,cv=15,n_jobs=-1)"
      ],
      "metadata": {
        "id": "g5Z-_DRFHUwV"
      },
      "execution_count": null,
      "outputs": []
    },
    {
      "cell_type": "code",
      "source": [
        "bnb_gcv.fit(xotrain,yotrain)"
      ],
      "metadata": {
        "id": "B7OMeihwRoeI",
        "colab": {
          "base_uri": "https://localhost:8080/"
        },
        "outputId": "f345d149-efff-4adb-d5d6-0ba0eb41dfed"
      },
      "execution_count": null,
      "outputs": [
        {
          "output_type": "execute_result",
          "data": {
            "text/plain": [
              "GridSearchCV(cv=15, estimator=BernoulliNB(), n_jobs=-1,\n",
              "             param_grid={'alpha': [1, 1.2, 1.3, 1.4, 1.5, 1.6, 1.7, 1.8, 1.1,\n",
              "                                   1],\n",
              "                         'binarize': [0.01, 1, 0.1, 1.2, 1.3, 1.4, 1.5, 1.6,\n",
              "                                      1.7, 2.0, 2.1, 0.001, 0.0001],\n",
              "                         'fit_prior': [True, False]})"
            ]
          },
          "metadata": {},
          "execution_count": 123
        }
      ]
    },
    {
      "cell_type": "code",
      "source": [
        "bnb_gcv.best_params_"
      ],
      "metadata": {
        "id": "-tt51u4oV-4c",
        "colab": {
          "base_uri": "https://localhost:8080/"
        },
        "outputId": "2d2cdc01-5604-459a-e904-6ce964c703ea"
      },
      "execution_count": null,
      "outputs": [
        {
          "output_type": "execute_result",
          "data": {
            "text/plain": [
              "{'alpha': 1.8, 'binarize': 0.01, 'fit_prior': True}"
            ]
          },
          "metadata": {},
          "execution_count": 124
        }
      ]
    },
    {
      "cell_type": "code",
      "source": [
        "bnb_gcv.best_estimator_"
      ],
      "metadata": {
        "id": "Vxy3WHZBWDh2",
        "colab": {
          "base_uri": "https://localhost:8080/"
        },
        "outputId": "7cd14f70-6541-421e-cdcd-33885e543b37"
      },
      "execution_count": null,
      "outputs": [
        {
          "output_type": "execute_result",
          "data": {
            "text/plain": [
              "BernoulliNB(alpha=1.8, binarize=0.01)"
            ]
          },
          "metadata": {},
          "execution_count": 125
        }
      ]
    },
    {
      "cell_type": "code",
      "source": [
        "acuracyTest(bnb_gcv.best_estimator_,xotest,yotest,xotrain,yotrain)"
      ],
      "metadata": {
        "id": "TuouXrgWWIEg",
        "colab": {
          "base_uri": "https://localhost:8080/"
        },
        "outputId": "294ade14-5690-4124-a0c8-be3b2a005eca"
      },
      "execution_count": null,
      "outputs": [
        {
          "output_type": "stream",
          "name": "stdout",
          "text": [
            "test accuracy: 0.76\n",
            "train accuracy:0.70\n",
            "precision:0.71 \n",
            " recall:0.65 \n",
            " f10.68\n"
          ]
        },
        {
          "output_type": "execute_result",
          "data": {
            "text/plain": [
              "{'test': 0.7572815533980582,\n",
              " 'train': 0.700836820083682,\n",
              " 'p': 0.7066666666666667,\n",
              " 'r': 0.654320987654321,\n",
              " 'f1': 0.6794871794871794,\n",
              " 'confusionM': array([[103,  22],\n",
              "        [ 28,  53]])}"
            ]
          },
          "metadata": {},
          "execution_count": 126
        }
      ]
    },
    {
      "cell_type": "code",
      "source": [],
      "metadata": {
        "id": "OzmYAlMCWO7j"
      },
      "execution_count": null,
      "outputs": []
    }
  ],
  "metadata": {
    "colab": {
      "provenance": [],
      "include_colab_link": true
    },
    "kernelspec": {
      "display_name": "Python 3",
      "name": "python3"
    },
    "language_info": {
      "name": "python"
    },
    "gpuClass": "standard"
  },
  "nbformat": 4,
  "nbformat_minor": 0
}